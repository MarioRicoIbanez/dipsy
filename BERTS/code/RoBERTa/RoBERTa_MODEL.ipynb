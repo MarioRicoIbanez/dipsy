{
 "cells": [
  {
   "cell_type": "markdown",
   "id": "08336b94",
   "metadata": {},
   "source": [
    "# Modelo RoBERTa (Robust BERT)"
   ]
  },
  {
   "cell_type": "markdown",
   "id": "52a4086c",
   "metadata": {},
   "source": [
    "## Importando librerías necesarias y estableciendo parámetros globales"
   ]
  },
  {
   "cell_type": "code",
   "execution_count": 11,
   "id": "148639a4",
   "metadata": {},
   "outputs": [
    {
     "data": {
      "text/plain": [
       "ERROR: Failed to launch TensorBoard (exited with 2).\n",
       "Contents of stderr:\n",
       "2023-11-22 18:07:44.726242: E external/local_xla/xla/stream_executor/cuda/cuda_dnn.cc:9261] Unable to register cuDNN factory: Attempting to register factory for plugin cuDNN when one has already been registered\n",
       "2023-11-22 18:07:44.726359: E external/local_xla/xla/stream_executor/cuda/cuda_fft.cc:607] Unable to register cuFFT factory: Attempting to register factory for plugin cuFFT when one has already been registered\n",
       "2023-11-22 18:07:44.727629: E external/local_xla/xla/stream_executor/cuda/cuda_blas.cc:1515] Unable to register cuBLAS factory: Attempting to register factory for plugin cuBLAS when one has already been registered\n",
       "usage: tensorboard [-h] [--helpfull] [--logdir PATH] [--logdir_spec PATH_SPEC]\n",
       "                   [--host ADDR] [--bind_all] [--port PORT]\n",
       "                   [--reuse_port BOOL] [--load_fast {false,auto,true}]\n",
       "                   [--extra_data_server_flags EXTRA_DATA_SERVER_FLAGS]\n",
       "                   [--grpc_creds_type {local,ssl,ssl_dev}]\n",
       "                   [--grpc_data_provider PORT] [--purge_orphaned_data BOOL]\n",
       "                   [--db URI] [--db_import] [--inspect] [--version_tb]\n",
       "                   [--tag TAG] [--event_file PATH] [--path_prefix PATH]\n",
       "                   [--window_title TEXT] [--max_reload_threads COUNT]\n",
       "                   [--reload_interval SECONDS] [--reload_task TYPE]\n",
       "                   [--reload_multifile BOOL]\n",
       "                   [--reload_multifile_inactive_secs SECONDS]\n",
       "                   [--generic_data TYPE]\n",
       "                   [--samples_per_plugin SAMPLES_PER_PLUGIN]\n",
       "                   [--detect_file_replacement BOOL]\n",
       "                   [--whatif-use-unsafe-custom-prediction YOUR_CUSTOM_PREDICT_FUNCTION.py]\n",
       "                   [--whatif-data-dir PATH]\n",
       "                   {serve,dev} ...\n",
       "tensorboard: error: argument {serve,dev}: invalid choice: '-' (choose from 'serve', 'dev')"
      ]
     },
     "metadata": {},
     "output_type": "display_data"
    }
   ],
   "source": [
    "import re\n",
    "import warnings\n",
    "import os\n",
    "import asyncio\n",
    "import traceback\n",
    "from utils import *\n",
    "from transformers import AutoTokenizer, RobertaModel, get_linear_schedule_with_warmup\n",
    "from sklearn.model_selection import train_test_split\n",
    "from sklearn.preprocessing import OneHotEncoder\n",
    "\n",
    "# Añadiendo las librerías necesarias para el encoding de los datos.\n",
    "\n",
    "\n",
    "os.environ['TOKENIZERS_PARALLELISM'] = 'false'\n",
    "os.environ['TF_CPP_MIN_LOG_LEVEL'] = '2'\n",
    "\n",
    "\"\"\"GLOBAL PARAMS\"\"\"\n",
    "MAX_LEN = 240\n",
    "TEST_SIZE = 0.2\n",
    "RANDOM_STATE = 42\n",
    "EPOCHS_KFOLD_FROZEN = 100\n",
    "LEARNING_RATE_KFOLD_FROZEN = 3e-4\n",
    "K_FOLDS_FROZEN = 2\n",
    "BATCH_SIZE = 16\n",
    "LOSS_FUNCTION = nn.CrossEntropyLoss()\n",
    "\n",
    "\"DIRECTORIES\"\n",
    "SAVE_DIRECTORY_FROZEN = \"./MODELS/RoBERTa_entrenado_kfold\"\n",
    "SAVE_DIRECTORY_UNFROZEN = \"./MODELS/RoBERTa_entrenado_kfold_unfrozen_last_layer\"\n",
    "\n",
    "TYPED_STORAGE_WARNING = re.compile(\".TypedStorage is deprecated.\")\n",
    "FALLBACK_KERNEL_WARNING = re.compile(\".Using FallbackKernel: aten.cumsum.\")\n",
    "TRITON_RANDOM_WARNING = re.compile(\n",
    "    \".using triton random, expect difference from eager.\")       \n",
    "\n",
    "\n",
    "def warning_filter(message, category, filename, lineno, file=None, line=None):\n",
    "    if category == UserWarning and (TYPED_STORAGE_WARNING.match(str(message)) or FALLBACK_KERNEL_WARNING.match(str(message)) or TRITON_RANDOM_WARNING.match(str(message))):\n",
    "        return False  \n",
    "    return True\n",
    "\n",
    "\n",
    "warnings.showwarning = warning_filter\n",
    "warnings.filterwarnings(\"ignore\", category=UserWarning,\n",
    "                        module=\"torch._inductor.ir\")\n",
    "\n",
    "\n",
    "# Establecer la semilla para PyTorch en las operaciones CPU\n",
    "torch.manual_seed(42)\n",
    "\n",
    "# Establecer la semilla para PyTorch en las operaciones en GPU\n",
    "torch.cuda.manual_seed(42)\n",
    "torch.backends.cudnn.deterministic = True\n",
    "torch.backends.cudnn.benchmark = False\n",
    "\n",
    "np.random.seed(42)\n",
    "%matplotlib inline\n",
    "%load_ext tensorboard\n",
    "%tensorboard - -logdir = ./runs - -host localhost - -port 6006"
   ]
  },
  {
   "cell_type": "markdown",
   "id": "4129389b",
   "metadata": {},
   "source": [
    "## Inicio entrenamiento\n",
    "Primero comprobamos que la gráfica se encuentra disponible para poder usarla"
   ]
  },
  {
   "cell_type": "code",
   "execution_count": 12,
   "id": "c17ad6c2",
   "metadata": {},
   "outputs": [
    {
     "name": "stdout",
     "output_type": "stream",
     "text": [
      "cuda\n"
     ]
    }
   ],
   "source": [
    "device = torch.device(\"cuda\" if torch.cuda.is_available() else \"cpu\")\n",
    "print(device)"
   ]
  },
  {
   "cell_type": "markdown",
   "id": "187f83ac",
   "metadata": {},
   "source": [
    "Descargamos y procesamos los datos"
   ]
  },
  {
   "cell_type": "code",
   "execution_count": 13,
   "id": "90d4a779",
   "metadata": {},
   "outputs": [],
   "source": [
    "if not os.path.exists('../../data/ISEAR.csv'):\n",
    "    os.system(\n",
    "        'wget https://raw.githubusercontent.com/PoorvaRane/Emotion-Detector/master/ISEAR.csv -P ../../data')\n",
    "\n",
    "# Load and preprocess the dataset\n",
    "df = load_and_preprocess_data('/workspace/code/BERTS/data/ISEAR.csv')\n",
    "df['Emotion'] = df['Emotion'].replace('guit', 'guilt')"
   ]
  },
  {
   "cell_type": "code",
   "execution_count": 14,
   "id": "c16bf7a0",
   "metadata": {},
   "outputs": [
    {
     "data": {
      "text/html": [
       "<div>\n",
       "<style scoped>\n",
       "    .dataframe tbody tr th:only-of-type {\n",
       "        vertical-align: middle;\n",
       "    }\n",
       "\n",
       "    .dataframe tbody tr th {\n",
       "        vertical-align: top;\n",
       "    }\n",
       "\n",
       "    .dataframe thead th {\n",
       "        text-align: right;\n",
       "    }\n",
       "</style>\n",
       "<table border=\"1\" class=\"dataframe\">\n",
       "  <thead>\n",
       "    <tr style=\"text-align: right;\">\n",
       "      <th></th>\n",
       "      <th>Emotion</th>\n",
       "      <th>Text</th>\n",
       "      <th>Text_processed</th>\n",
       "    </tr>\n",
       "  </thead>\n",
       "  <tbody>\n",
       "    <tr>\n",
       "      <th>0</th>\n",
       "      <td>joy</td>\n",
       "      <td>On days when I feel close to my partner and ot...</td>\n",
       "      <td>on days when i feel close to my partner and ot...</td>\n",
       "    </tr>\n",
       "    <tr>\n",
       "      <th>1</th>\n",
       "      <td>fear</td>\n",
       "      <td>Every time I imagine that someone I love or I ...</td>\n",
       "      <td>every time i imagine that someone i love or i ...</td>\n",
       "    </tr>\n",
       "    <tr>\n",
       "      <th>2</th>\n",
       "      <td>anger</td>\n",
       "      <td>When I had been obviously unjustly treated and...</td>\n",
       "      <td>when i had been obviously unjustly treated and...</td>\n",
       "    </tr>\n",
       "    <tr>\n",
       "      <th>3</th>\n",
       "      <td>sadness</td>\n",
       "      <td>When I think about the short time that we live...</td>\n",
       "      <td>when i think about the short time that we live...</td>\n",
       "    </tr>\n",
       "    <tr>\n",
       "      <th>4</th>\n",
       "      <td>disgust</td>\n",
       "      <td>At a gathering I found myself involuntarily si...</td>\n",
       "      <td>at a gathering i found myself involuntarily si...</td>\n",
       "    </tr>\n",
       "  </tbody>\n",
       "</table>\n",
       "</div>"
      ],
      "text/plain": [
       "   Emotion                                               Text  \\\n",
       "0      joy  On days when I feel close to my partner and ot...   \n",
       "1     fear  Every time I imagine that someone I love or I ...   \n",
       "2    anger  When I had been obviously unjustly treated and...   \n",
       "3  sadness  When I think about the short time that we live...   \n",
       "4  disgust  At a gathering I found myself involuntarily si...   \n",
       "\n",
       "                                      Text_processed  \n",
       "0  on days when i feel close to my partner and ot...  \n",
       "1  every time i imagine that someone i love or i ...  \n",
       "2  when i had been obviously unjustly treated and...  \n",
       "3  when i think about the short time that we live...  \n",
       "4  at a gathering i found myself involuntarily si...  "
      ]
     },
     "execution_count": 14,
     "metadata": {},
     "output_type": "execute_result"
    }
   ],
   "source": [
    "df.head()"
   ]
  },
  {
   "cell_type": "markdown",
   "id": "61b05df2",
   "metadata": {},
   "source": [
    "Cargamos el tokenizador para pasar las frases a tokens (unidad entendible por el modelo que vamos a estudiar)"
   ]
  },
  {
   "cell_type": "code",
   "execution_count": 15,
   "id": "9ae58e00",
   "metadata": {},
   "outputs": [],
   "source": [
    " tokenizer = AutoTokenizer.from_pretrained('roberta-base')\n",
    "\n",
    "# Tokenize and encode the input data\n",
    "tokenized_features = tokenizer.batch_encode_plus(\n",
    "    df['Text_processed'].values.tolist(),\n",
    "    add_special_tokens=True,\n",
    "    padding='max_length',\n",
    "    truncation=True,\n",
    "    max_length=MAX_LEN,\n",
    "    return_attention_mask=True,\n",
    "    return_tensors='pt'\n",
    ")"
   ]
  },
  {
   "cell_type": "code",
   "execution_count": 16,
   "id": "79cfa0ef",
   "metadata": {},
   "outputs": [
    {
     "name": "stdout",
     "output_type": "stream",
     "text": [
      "torch.Size([7516, 240])\n",
      "torch.Size([7516, 240])\n"
     ]
    }
   ],
   "source": [
    "print(tokenized_features.input_ids.shape)\n",
    "print(tokenized_features.attention_mask.shape)"
   ]
  },
  {
   "cell_type": "markdown",
   "id": "2fa2face",
   "metadata": {},
   "source": [
    "Observamos el diccionario en el que se encuentran los input_ids, es decir la codificación de cada palabra y la máscara de atención tan importante en los modelos basados en transformers.\n",
    "\n",
    "Ahora hacemos one hot encoding de cada input_ids"
   ]
  },
  {
   "cell_type": "code",
   "execution_count": 17,
   "id": "8df4645c",
   "metadata": {},
   "outputs": [],
   "source": [
    "one_hot_encoder = OneHotEncoder()\n",
    "target_one_hot = one_hot_encoder.fit_transform(\n",
    "    df['Emotion'].values.reshape(-1, 1)).toarray()"
   ]
  },
  {
   "cell_type": "code",
   "execution_count": 18,
   "id": "68f33bfb",
   "metadata": {},
   "outputs": [
    {
     "data": {
      "text/plain": [
       "(7516, 7)"
      ]
     },
     "execution_count": 18,
     "metadata": {},
     "output_type": "execute_result"
    }
   ],
   "source": [
    "target_one_hot.shape"
   ]
  },
  {
   "cell_type": "code",
   "execution_count": 25,
   "id": "5a30b1c1",
   "metadata": {},
   "outputs": [],
   "source": [
    "train_inputs, test_inputs, train_labels, test_labels, train_masks, test_masks = train_test_split(\n",
    "    tokenized_features[\"input_ids\"],\n",
    "    target_one_hot,\n",
    "    tokenized_features[\"attention_mask\"],\n",
    "    test_size=TEST_SIZE,\n",
    "    random_state=RANDOM_STATE,\n",
    "    stratify=target_one_hot,\n",
    ")"
   ]
  },
  {
   "cell_type": "code",
   "execution_count": 26,
   "id": "e057168d",
   "metadata": {},
   "outputs": [
    {
     "name": "stdout",
     "output_type": "stream",
     "text": [
      "torch.Size([6012, 240]) torch.Size([6012, 240]) (6012, 7)\n",
      "torch.Size([1504, 240]) torch.Size([1504, 240]) (1504, 7)\n"
     ]
    }
   ],
   "source": [
    "print(train_inputs.shape, train_masks.shape, train_labels.shape)\n",
    "print(test_inputs.shape, test_masks.shape, test_labels.shape)"
   ]
  },
  {
   "cell_type": "markdown",
   "id": "450ee921",
   "metadata": {},
   "source": [
    "Cargamos el modelo que vamos a usar"
   ]
  },
  {
   "cell_type": "code",
   "execution_count": 27,
   "id": "3a068915",
   "metadata": {},
   "outputs": [
    {
     "name": "stderr",
     "output_type": "stream",
     "text": [
      "Some weights of RobertaModel were not initialized from the model checkpoint at roberta-base and are newly initialized: ['roberta.pooler.dense.weight', 'roberta.pooler.dense.bias']\n",
      "You should probably TRAIN this model on a down-stream task to be able to use it for predictions and inference.\n"
     ]
    }
   ],
   "source": [
    "base_model = RobertaModel.from_pretrained(\"roberta-base\")"
   ]
  },
  {
   "cell_type": "markdown",
   "id": "1936487c",
   "metadata": {},
   "source": [
    "Ahora congelamos las capas ya que primero vamos a hacer un entrenamiento en el que el modelo estará congelado y actuará como extractor de características. Y añadiremos una última capa de neuronas en las que si que estaremos clasificando aprovechando el token de salida."
   ]
  },
  {
   "cell_type": "code",
   "execution_count": 28,
   "id": "2a1d67fb",
   "metadata": {},
   "outputs": [],
   "source": [
    "for param in base_model.parameters():\n",
    "    param.requires_grad = False\n",
    "\n",
    "    # Initialize the custom RoBERTa model\n",
    "model = CustomRoBERTa(base_model.to(\n",
    "    device), num_classes=len(set(df['Emotion'])))"
   ]
  },
  {
   "cell_type": "code",
   "execution_count": 29,
   "id": "0aefd2c6",
   "metadata": {},
   "outputs": [
    {
     "name": "stdout",
     "output_type": "stream",
     "text": [
      "Wed Nov 22 18:10:55 2023       \n",
      "+-----------------------------------------------------------------------------+\n",
      "| NVIDIA-SMI 525.125.06   Driver Version: 525.125.06   CUDA Version: 12.2     |\n",
      "|-------------------------------+----------------------+----------------------+\n",
      "| GPU  Name        Persistence-M| Bus-Id        Disp.A | Volatile Uncorr. ECC |\n",
      "| Fan  Temp  Perf  Pwr:Usage/Cap|         Memory-Usage | GPU-Util  Compute M. |\n",
      "|                               |                      |               MIG M. |\n",
      "|===============================+======================+======================|\n",
      "|   0  NVIDIA A100-SXM...  On   | 00000000:B7:00.0 Off |                    0 |\n",
      "| N/A   29C    P0    56W / 400W |    947MiB / 40960MiB |     12%      Default |\n",
      "|                               |                      |             Disabled |\n",
      "+-------------------------------+----------------------+----------------------+\n",
      "                                                                               \n",
      "+-----------------------------------------------------------------------------+\n",
      "| Processes:                                                                  |\n",
      "|  GPU   GI   CI        PID   Type   Process name                  GPU Memory |\n",
      "|        ID   ID                                                   Usage      |\n",
      "|=============================================================================|\n",
      "+-----------------------------------------------------------------------------+\n"
     ]
    }
   ],
   "source": [
    "!nvidia-smi"
   ]
  },
  {
   "cell_type": "markdown",
   "id": "94a00c5e",
   "metadata": {},
   "source": [
    "Aprovechamos las ventajas que nos da el torch 2.0, que tiene mejoras en entrenamientos de transformers usando la función compile "
   ]
  },
  {
   "cell_type": "code",
   "execution_count": 30,
   "id": "1bab3194",
   "metadata": {},
   "outputs": [],
   "source": [
    "compiled_model = torch.compile(model)"
   ]
  },
  {
   "cell_type": "raw",
   "id": "cde34c6e",
   "metadata": {},
   "source": [
    "Selección del optimizer"
   ]
  },
  {
   "cell_type": "code",
   "execution_count": 31,
   "id": "9a6657db",
   "metadata": {},
   "outputs": [],
   "source": [
    "optimizer = torch.optim.AdamW(\n",
    "    compiled_model.parameters(), LEARNING_RATE_KFOLD_FROZEN)"
   ]
  },
  {
   "cell_type": "markdown",
   "id": "599ab2dc",
   "metadata": {},
   "source": [
    "Ahora vamos a utilizar el warmup, Esta función se utiliza para crear un programador de velocidad de aprendizaje lineal con fase de calentamiento (warm-up) para el entrenamiento del modelo."
   ]
  },
  {
   "cell_type": "code",
   "execution_count": 32,
   "id": "cde3b2bc",
   "metadata": {},
   "outputs": [],
   "source": [
    "total_steps = len(train_inputs) * EPOCHS_KFOLD_FROZEN\n",
    "scheduler = get_linear_schedule_with_warmup(optimizer, num_warmup_steps=0.1 * total_steps,\n",
    "                                            num_training_steps=total_steps)"
   ]
  },
  {
   "cell_type": "markdown",
   "id": "98626ba2",
   "metadata": {},
   "source": [
    "Procedemos a realizar el entrenamiento kfold, técnica utilizada con el fin de comprobar que nuestro modelo funciona bien ante diferentes separaciones de datos. "
   ]
  },
  {
   "cell_type": "code",
   "execution_count": 27,
   "id": "6d0d3944",
   "metadata": {},
   "outputs": [
    {
     "name": "stdout",
     "output_type": "stream",
     "text": [
      "Fold 1\n",
      "Training epoch 1\n"
     ]
    },
    {
     "name": "stderr",
     "output_type": "stream",
     "text": [
      "Iteration: 100%|█████████████████████████████████████████████████████████████████████████████████████████████████████████████████████████████████████████████████████████████████████████████████████████████████████████████████████████████████████████████| 188/188 [00:48<00:00,  3.91it/s]\n"
     ]
    },
    {
     "name": "stdout",
     "output_type": "stream",
     "text": [
      "Epoch 1 - Average training loss: 1.96, Average training accuracy: 0.14\n",
      "Epoch 1 - Average validation loss: 1.95, Average validation accuracy: 0.15\n",
      "Training epoch 2\n"
     ]
    },
    {
     "name": "stderr",
     "output_type": "stream",
     "text": [
      "Iteration: 100%|█████████████████████████████████████████████████████████████████████████████████████████████████████████████████████████████████████████████████████████████████████████████████████████████████████████████████████████████████████████████| 188/188 [00:02<00:00, 67.32it/s]\n"
     ]
    },
    {
     "name": "stdout",
     "output_type": "stream",
     "text": [
      "Epoch 2 - Average training loss: 1.95, Average training accuracy: 0.15\n",
      "Epoch 2 - Average validation loss: 1.95, Average validation accuracy: 0.17\n",
      "Training epoch 3\n"
     ]
    },
    {
     "name": "stderr",
     "output_type": "stream",
     "text": [
      "Iteration: 100%|█████████████████████████████████████████████████████████████████████████████████████████████████████████████████████████████████████████████████████████████████████████████████████████████████████████████████████████████████████████████| 188/188 [00:02<00:00, 67.71it/s]\n"
     ]
    },
    {
     "name": "stdout",
     "output_type": "stream",
     "text": [
      "Epoch 3 - Average training loss: 1.95, Average training accuracy: 0.17\n",
      "Epoch 3 - Average validation loss: 1.94, Average validation accuracy: 0.14\n",
      "Training epoch 4\n"
     ]
    },
    {
     "name": "stderr",
     "output_type": "stream",
     "text": [
      "Iteration: 100%|█████████████████████████████████████████████████████████████████████████████████████████████████████████████████████████████████████████████████████████████████████████████████████████████████████████████████████████████████████████████| 188/188 [00:02<00:00, 68.34it/s]\n"
     ]
    },
    {
     "name": "stdout",
     "output_type": "stream",
     "text": [
      "Epoch 4 - Average training loss: 1.94, Average training accuracy: 0.17\n",
      "Epoch 4 - Average validation loss: 1.94, Average validation accuracy: 0.15\n",
      "Training epoch 5\n"
     ]
    },
    {
     "name": "stderr",
     "output_type": "stream",
     "text": [
      "Iteration: 100%|█████████████████████████████████████████████████████████████████████████████████████████████████████████████████████████████████████████████████████████████████████████████████████████████████████████████████████████████████████████████| 188/188 [00:02<00:00, 68.21it/s]\n"
     ]
    },
    {
     "name": "stdout",
     "output_type": "stream",
     "text": [
      "Epoch 5 - Average training loss: 1.93, Average training accuracy: 0.20\n",
      "Epoch 5 - Average validation loss: 1.93, Average validation accuracy: 0.14\n",
      "Training epoch 6\n"
     ]
    },
    {
     "name": "stderr",
     "output_type": "stream",
     "text": [
      "Iteration: 100%|█████████████████████████████████████████████████████████████████████████████████████████████████████████████████████████████████████████████████████████████████████████████████████████████████████████████████████████████████████████████| 188/188 [00:02<00:00, 68.39it/s]\n"
     ]
    },
    {
     "name": "stdout",
     "output_type": "stream",
     "text": [
      "Epoch 6 - Average training loss: 1.93, Average training accuracy: 0.23\n",
      "Epoch 6 - Average validation loss: 1.93, Average validation accuracy: 0.30\n",
      "Training epoch 7\n"
     ]
    },
    {
     "name": "stderr",
     "output_type": "stream",
     "text": [
      "Iteration: 100%|█████████████████████████████████████████████████████████████████████████████████████████████████████████████████████████████████████████████████████████████████████████████████████████████████████████████████████████████████████████████| 188/188 [00:02<00:00, 68.39it/s]\n"
     ]
    },
    {
     "name": "stdout",
     "output_type": "stream",
     "text": [
      "Epoch 7 - Average training loss: 1.92, Average training accuracy: 0.27\n",
      "Epoch 7 - Average validation loss: 1.92, Average validation accuracy: 0.31\n",
      "Training epoch 8\n"
     ]
    },
    {
     "name": "stderr",
     "output_type": "stream",
     "text": [
      "Iteration: 100%|█████████████████████████████████████████████████████████████████████████████████████████████████████████████████████████████████████████████████████████████████████████████████████████████████████████████████████████████████████████████| 188/188 [00:02<00:00, 68.31it/s]\n"
     ]
    },
    {
     "name": "stdout",
     "output_type": "stream",
     "text": [
      "Epoch 8 - Average training loss: 1.91, Average training accuracy: 0.28\n",
      "Epoch 8 - Average validation loss: 1.91, Average validation accuracy: 0.23\n",
      "Training epoch 9\n"
     ]
    },
    {
     "name": "stderr",
     "output_type": "stream",
     "text": [
      "Iteration: 100%|█████████████████████████████████████████████████████████████████████████████████████████████████████████████████████████████████████████████████████████████████████████████████████████████████████████████████████████████████████████████| 188/188 [00:02<00:00, 68.30it/s]\n"
     ]
    },
    {
     "name": "stdout",
     "output_type": "stream",
     "text": [
      "Epoch 9 - Average training loss: 1.91, Average training accuracy: 0.29\n",
      "Epoch 9 - Average validation loss: 1.90, Average validation accuracy: 0.31\n",
      "Training epoch 10\n"
     ]
    },
    {
     "name": "stderr",
     "output_type": "stream",
     "text": [
      "Iteration: 100%|█████████████████████████████████████████████████████████████████████████████████████████████████████████████████████████████████████████████████████████████████████████████████████████████████████████████████████████████████████████████| 188/188 [00:02<00:00, 68.35it/s]\n"
     ]
    },
    {
     "name": "stdout",
     "output_type": "stream",
     "text": [
      "Epoch 10 - Average training loss: 1.90, Average training accuracy: 0.31\n",
      "Epoch 10 - Average validation loss: 1.89, Average validation accuracy: 0.35\n",
      "Training epoch 11\n"
     ]
    },
    {
     "name": "stderr",
     "output_type": "stream",
     "text": [
      "Iteration: 100%|█████████████████████████████████████████████████████████████████████████████████████████████████████████████████████████████████████████████████████████████████████████████████████████████████████████████████████████████████████████████| 188/188 [00:02<00:00, 68.36it/s]\n"
     ]
    },
    {
     "name": "stdout",
     "output_type": "stream",
     "text": [
      "Epoch 11 - Average training loss: 1.89, Average training accuracy: 0.32\n",
      "Epoch 11 - Average validation loss: 1.88, Average validation accuracy: 0.34\n",
      "Training epoch 12\n"
     ]
    },
    {
     "name": "stderr",
     "output_type": "stream",
     "text": [
      "Iteration: 100%|█████████████████████████████████████████████████████████████████████████████████████████████████████████████████████████████████████████████████████████████████████████████████████████████████████████████████████████████████████████████| 188/188 [00:02<00:00, 68.41it/s]\n"
     ]
    },
    {
     "name": "stdout",
     "output_type": "stream",
     "text": [
      "Epoch 12 - Average training loss: 1.87, Average training accuracy: 0.36\n",
      "Epoch 12 - Average validation loss: 1.88, Average validation accuracy: 0.36\n",
      "Training epoch 13\n"
     ]
    },
    {
     "name": "stderr",
     "output_type": "stream",
     "text": [
      "Iteration: 100%|█████████████████████████████████████████████████████████████████████████████████████████████████████████████████████████████████████████████████████████████████████████████████████████████████████████████████████████████████████████████| 188/188 [00:02<00:00, 68.45it/s]\n"
     ]
    },
    {
     "name": "stdout",
     "output_type": "stream",
     "text": [
      "Epoch 13 - Average training loss: 1.87, Average training accuracy: 0.36\n",
      "Epoch 13 - Average validation loss: 1.87, Average validation accuracy: 0.37\n",
      "Training epoch 14\n"
     ]
    },
    {
     "name": "stderr",
     "output_type": "stream",
     "text": [
      "Iteration: 100%|█████████████████████████████████████████████████████████████████████████████████████████████████████████████████████████████████████████████████████████████████████████████████████████████████████████████████████████████████████████████| 188/188 [00:02<00:00, 68.30it/s]\n"
     ]
    },
    {
     "name": "stdout",
     "output_type": "stream",
     "text": [
      "Epoch 14 - Average training loss: 1.86, Average training accuracy: 0.38\n",
      "Epoch 14 - Average validation loss: 1.86, Average validation accuracy: 0.42\n",
      "Training epoch 15\n"
     ]
    },
    {
     "name": "stderr",
     "output_type": "stream",
     "text": [
      "Iteration: 100%|█████████████████████████████████████████████████████████████████████████████████████████████████████████████████████████████████████████████████████████████████████████████████████████████████████████████████████████████████████████████| 188/188 [00:02<00:00, 68.07it/s]\n"
     ]
    },
    {
     "name": "stdout",
     "output_type": "stream",
     "text": [
      "Epoch 15 - Average training loss: 1.85, Average training accuracy: 0.38\n",
      "Epoch 15 - Average validation loss: 1.85, Average validation accuracy: 0.39\n",
      "Training epoch 16\n"
     ]
    },
    {
     "name": "stderr",
     "output_type": "stream",
     "text": [
      "Iteration: 100%|█████████████████████████████████████████████████████████████████████████████████████████████████████████████████████████████████████████████████████████████████████████████████████████████████████████████████████████████████████████████| 188/188 [00:02<00:00, 67.72it/s]\n"
     ]
    },
    {
     "name": "stdout",
     "output_type": "stream",
     "text": [
      "Epoch 16 - Average training loss: 1.84, Average training accuracy: 0.39\n",
      "Epoch 16 - Average validation loss: 1.84, Average validation accuracy: 0.39\n",
      "Training epoch 17\n"
     ]
    },
    {
     "name": "stderr",
     "output_type": "stream",
     "text": [
      "Iteration: 100%|█████████████████████████████████████████████████████████████████████████████████████████████████████████████████████████████████████████████████████████████████████████████████████████████████████████████████████████████████████████████| 188/188 [00:02<00:00, 67.38it/s]\n"
     ]
    },
    {
     "name": "stdout",
     "output_type": "stream",
     "text": [
      "Epoch 17 - Average training loss: 1.83, Average training accuracy: 0.40\n",
      "Epoch 17 - Average validation loss: 1.83, Average validation accuracy: 0.42\n",
      "Training epoch 18\n"
     ]
    },
    {
     "name": "stderr",
     "output_type": "stream",
     "text": [
      "Iteration: 100%|█████████████████████████████████████████████████████████████████████████████████████████████████████████████████████████████████████████████████████████████████████████████████████████████████████████████████████████████████████████████| 188/188 [00:02<00:00, 67.86it/s]\n"
     ]
    },
    {
     "name": "stdout",
     "output_type": "stream",
     "text": [
      "Epoch 18 - Average training loss: 1.83, Average training accuracy: 0.40\n",
      "Epoch 18 - Average validation loss: 1.83, Average validation accuracy: 0.43\n",
      "Training epoch 19\n"
     ]
    },
    {
     "name": "stderr",
     "output_type": "stream",
     "text": [
      "Iteration: 100%|█████████████████████████████████████████████████████████████████████████████████████████████████████████████████████████████████████████████████████████████████████████████████████████████████████████████████████████████████████████████| 188/188 [00:02<00:00, 67.84it/s]\n"
     ]
    },
    {
     "name": "stdout",
     "output_type": "stream",
     "text": [
      "Epoch 19 - Average training loss: 1.81, Average training accuracy: 0.41\n",
      "Epoch 19 - Average validation loss: 1.82, Average validation accuracy: 0.43\n",
      "Training epoch 20\n"
     ]
    },
    {
     "name": "stderr",
     "output_type": "stream",
     "text": [
      "Iteration: 100%|█████████████████████████████████████████████████████████████████████████████████████████████████████████████████████████████████████████████████████████████████████████████████████████████████████████████████████████████████████████████| 188/188 [00:02<00:00, 67.83it/s]\n"
     ]
    },
    {
     "name": "stdout",
     "output_type": "stream",
     "text": [
      "Epoch 20 - Average training loss: 1.81, Average training accuracy: 0.42\n",
      "Epoch 20 - Average validation loss: 1.81, Average validation accuracy: 0.43\n",
      "Training epoch 21\n"
     ]
    },
    {
     "name": "stderr",
     "output_type": "stream",
     "text": [
      "Iteration: 100%|█████████████████████████████████████████████████████████████████████████████████████████████████████████████████████████████████████████████████████████████████████████████████████████████████████████████████████████████████████████████| 188/188 [00:02<00:00, 67.82it/s]\n"
     ]
    },
    {
     "name": "stdout",
     "output_type": "stream",
     "text": [
      "Epoch 21 - Average training loss: 1.80, Average training accuracy: 0.42\n",
      "Epoch 21 - Average validation loss: 1.81, Average validation accuracy: 0.43\n",
      "Training epoch 22\n"
     ]
    },
    {
     "name": "stderr",
     "output_type": "stream",
     "text": [
      "Iteration: 100%|█████████████████████████████████████████████████████████████████████████████████████████████████████████████████████████████████████████████████████████████████████████████████████████████████████████████████████████████████████████████| 188/188 [00:02<00:00, 67.55it/s]\n"
     ]
    },
    {
     "name": "stdout",
     "output_type": "stream",
     "text": [
      "Epoch 22 - Average training loss: 1.79, Average training accuracy: 0.43\n",
      "Epoch 22 - Average validation loss: 1.80, Average validation accuracy: 0.44\n",
      "Training epoch 23\n"
     ]
    },
    {
     "name": "stderr",
     "output_type": "stream",
     "text": [
      "Iteration: 100%|█████████████████████████████████████████████████████████████████████████████████████████████████████████████████████████████████████████████████████████████████████████████████████████████████████████████████████████████████████████████| 188/188 [00:02<00:00, 68.24it/s]\n"
     ]
    },
    {
     "name": "stdout",
     "output_type": "stream",
     "text": [
      "Epoch 23 - Average training loss: 1.79, Average training accuracy: 0.43\n",
      "Epoch 23 - Average validation loss: 1.79, Average validation accuracy: 0.44\n",
      "Training epoch 24\n"
     ]
    },
    {
     "name": "stderr",
     "output_type": "stream",
     "text": [
      "Iteration: 100%|█████████████████████████████████████████████████████████████████████████████████████████████████████████████████████████████████████████████████████████████████████████████████████████████████████████████████████████████████████████████| 188/188 [00:02<00:00, 68.32it/s]\n"
     ]
    },
    {
     "name": "stdout",
     "output_type": "stream",
     "text": [
      "Epoch 24 - Average training loss: 1.78, Average training accuracy: 0.43\n",
      "Epoch 24 - Average validation loss: 1.79, Average validation accuracy: 0.45\n",
      "Training epoch 25\n"
     ]
    },
    {
     "name": "stderr",
     "output_type": "stream",
     "text": [
      "Iteration: 100%|█████████████████████████████████████████████████████████████████████████████████████████████████████████████████████████████████████████████████████████████████████████████████████████████████████████████████████████████████████████████| 188/188 [00:02<00:00, 68.39it/s]\n"
     ]
    },
    {
     "name": "stdout",
     "output_type": "stream",
     "text": [
      "Epoch 25 - Average training loss: 1.78, Average training accuracy: 0.44\n",
      "Epoch 25 - Average validation loss: 1.78, Average validation accuracy: 0.45\n",
      "Training epoch 26\n"
     ]
    },
    {
     "name": "stderr",
     "output_type": "stream",
     "text": [
      "Iteration: 100%|█████████████████████████████████████████████████████████████████████████████████████████████████████████████████████████████████████████████████████████████████████████████████████████████████████████████████████████████████████████████| 188/188 [00:02<00:00, 68.42it/s]\n"
     ]
    },
    {
     "name": "stdout",
     "output_type": "stream",
     "text": [
      "Epoch 26 - Average training loss: 1.77, Average training accuracy: 0.45\n",
      "Epoch 26 - Average validation loss: 1.78, Average validation accuracy: 0.45\n",
      "Training epoch 27\n"
     ]
    },
    {
     "name": "stderr",
     "output_type": "stream",
     "text": [
      "Iteration: 100%|█████████████████████████████████████████████████████████████████████████████████████████████████████████████████████████████████████████████████████████████████████████████████████████████████████████████████████████████████████████████| 188/188 [00:02<00:00, 68.35it/s]\n"
     ]
    },
    {
     "name": "stdout",
     "output_type": "stream",
     "text": [
      "Epoch 27 - Average training loss: 1.77, Average training accuracy: 0.43\n",
      "Epoch 27 - Average validation loss: 1.77, Average validation accuracy: 0.46\n",
      "Training epoch 28\n"
     ]
    },
    {
     "name": "stderr",
     "output_type": "stream",
     "text": [
      "Iteration: 100%|█████████████████████████████████████████████████████████████████████████████████████████████████████████████████████████████████████████████████████████████████████████████████████████████████████████████████████████████████████████████| 188/188 [00:02<00:00, 67.71it/s]\n"
     ]
    },
    {
     "name": "stdout",
     "output_type": "stream",
     "text": [
      "Epoch 28 - Average training loss: 1.76, Average training accuracy: 0.45\n",
      "Epoch 28 - Average validation loss: 1.76, Average validation accuracy: 0.46\n",
      "Training epoch 29\n"
     ]
    },
    {
     "name": "stderr",
     "output_type": "stream",
     "text": [
      "Iteration: 100%|█████████████████████████████████████████████████████████████████████████████████████████████████████████████████████████████████████████████████████████████████████████████████████████████████████████████████████████████████████████████| 188/188 [00:02<00:00, 68.38it/s]\n"
     ]
    },
    {
     "name": "stdout",
     "output_type": "stream",
     "text": [
      "Epoch 29 - Average training loss: 1.75, Average training accuracy: 0.45\n",
      "Epoch 29 - Average validation loss: 1.76, Average validation accuracy: 0.46\n",
      "Training epoch 30\n"
     ]
    },
    {
     "name": "stderr",
     "output_type": "stream",
     "text": [
      "Iteration: 100%|█████████████████████████████████████████████████████████████████████████████████████████████████████████████████████████████████████████████████████████████████████████████████████████████████████████████████████████████████████████████| 188/188 [00:02<00:00, 68.40it/s]\n"
     ]
    },
    {
     "name": "stdout",
     "output_type": "stream",
     "text": [
      "Epoch 30 - Average training loss: 1.75, Average training accuracy: 0.46\n",
      "Epoch 30 - Average validation loss: 1.75, Average validation accuracy: 0.47\n",
      "Training epoch 31\n"
     ]
    },
    {
     "name": "stderr",
     "output_type": "stream",
     "text": [
      "Iteration: 100%|█████████████████████████████████████████████████████████████████████████████████████████████████████████████████████████████████████████████████████████████████████████████████████████████████████████████████████████████████████████████| 188/188 [00:02<00:00, 68.40it/s]\n"
     ]
    },
    {
     "name": "stdout",
     "output_type": "stream",
     "text": [
      "Epoch 31 - Average training loss: 1.75, Average training accuracy: 0.45\n",
      "Epoch 31 - Average validation loss: 1.75, Average validation accuracy: 0.47\n",
      "Training epoch 32\n"
     ]
    },
    {
     "name": "stderr",
     "output_type": "stream",
     "text": [
      "Iteration: 100%|█████████████████████████████████████████████████████████████████████████████████████████████████████████████████████████████████████████████████████████████████████████████████████████████████████████████████████████████████████████████| 188/188 [00:02<00:00, 68.51it/s]\n"
     ]
    },
    {
     "name": "stdout",
     "output_type": "stream",
     "text": [
      "Epoch 32 - Average training loss: 1.74, Average training accuracy: 0.45\n",
      "Epoch 32 - Average validation loss: 1.74, Average validation accuracy: 0.46\n",
      "Training epoch 33\n"
     ]
    },
    {
     "name": "stderr",
     "output_type": "stream",
     "text": [
      "Iteration: 100%|█████████████████████████████████████████████████████████████████████████████████████████████████████████████████████████████████████████████████████████████████████████████████████████████████████████████████████████████████████████████| 188/188 [00:02<00:00, 68.44it/s]\n"
     ]
    },
    {
     "name": "stdout",
     "output_type": "stream",
     "text": [
      "Epoch 33 - Average training loss: 1.73, Average training accuracy: 0.45\n",
      "Epoch 33 - Average validation loss: 1.74, Average validation accuracy: 0.47\n",
      "Training epoch 34\n"
     ]
    },
    {
     "name": "stderr",
     "output_type": "stream",
     "text": [
      "Iteration: 100%|█████████████████████████████████████████████████████████████████████████████████████████████████████████████████████████████████████████████████████████████████████████████████████████████████████████████████████████████████████████████| 188/188 [00:02<00:00, 68.53it/s]\n"
     ]
    },
    {
     "name": "stdout",
     "output_type": "stream",
     "text": [
      "Epoch 34 - Average training loss: 1.73, Average training accuracy: 0.45\n",
      "Epoch 34 - Average validation loss: 1.74, Average validation accuracy: 0.47\n",
      "Training epoch 35\n"
     ]
    },
    {
     "name": "stderr",
     "output_type": "stream",
     "text": [
      "Iteration: 100%|█████████████████████████████████████████████████████████████████████████████████████████████████████████████████████████████████████████████████████████████████████████████████████████████████████████████████████████████████████████████| 188/188 [00:02<00:00, 68.35it/s]\n"
     ]
    },
    {
     "name": "stdout",
     "output_type": "stream",
     "text": [
      "Epoch 35 - Average training loss: 1.73, Average training accuracy: 0.46\n",
      "Epoch 35 - Average validation loss: 1.73, Average validation accuracy: 0.47\n",
      "Training epoch 36\n"
     ]
    },
    {
     "name": "stderr",
     "output_type": "stream",
     "text": [
      "Iteration: 100%|█████████████████████████████████████████████████████████████████████████████████████████████████████████████████████████████████████████████████████████████████████████████████████████████████████████████████████████████████████████████| 188/188 [00:02<00:00, 68.35it/s]\n"
     ]
    },
    {
     "name": "stdout",
     "output_type": "stream",
     "text": [
      "Epoch 36 - Average training loss: 1.72, Average training accuracy: 0.46\n",
      "Epoch 36 - Average validation loss: 1.73, Average validation accuracy: 0.46\n",
      "Training epoch 37\n"
     ]
    },
    {
     "name": "stderr",
     "output_type": "stream",
     "text": [
      "Iteration: 100%|█████████████████████████████████████████████████████████████████████████████████████████████████████████████████████████████████████████████████████████████████████████████████████████████████████████████████████████████████████████████| 188/188 [00:02<00:00, 68.33it/s]\n"
     ]
    },
    {
     "name": "stdout",
     "output_type": "stream",
     "text": [
      "Epoch 37 - Average training loss: 1.71, Average training accuracy: 0.46\n",
      "Epoch 37 - Average validation loss: 1.72, Average validation accuracy: 0.48\n",
      "Training epoch 38\n"
     ]
    },
    {
     "name": "stderr",
     "output_type": "stream",
     "text": [
      "Iteration: 100%|█████████████████████████████████████████████████████████████████████████████████████████████████████████████████████████████████████████████████████████████████████████████████████████████████████████████████████████████████████████████| 188/188 [00:02<00:00, 68.22it/s]\n"
     ]
    },
    {
     "name": "stdout",
     "output_type": "stream",
     "text": [
      "Epoch 38 - Average training loss: 1.71, Average training accuracy: 0.47\n",
      "Epoch 38 - Average validation loss: 1.72, Average validation accuracy: 0.48\n",
      "Training epoch 39\n"
     ]
    },
    {
     "name": "stderr",
     "output_type": "stream",
     "text": [
      "Iteration: 100%|█████████████████████████████████████████████████████████████████████████████████████████████████████████████████████████████████████████████████████████████████████████████████████████████████████████████████████████████████████████████| 188/188 [00:02<00:00, 68.26it/s]\n"
     ]
    },
    {
     "name": "stdout",
     "output_type": "stream",
     "text": [
      "Epoch 39 - Average training loss: 1.71, Average training accuracy: 0.47\n",
      "Epoch 39 - Average validation loss: 1.71, Average validation accuracy: 0.49\n",
      "Training epoch 40\n"
     ]
    },
    {
     "name": "stderr",
     "output_type": "stream",
     "text": [
      "Iteration: 100%|█████████████████████████████████████████████████████████████████████████████████████████████████████████████████████████████████████████████████████████████████████████████████████████████████████████████████████████████████████████████| 188/188 [00:02<00:00, 68.09it/s]\n"
     ]
    },
    {
     "name": "stdout",
     "output_type": "stream",
     "text": [
      "Epoch 40 - Average training loss: 1.70, Average training accuracy: 0.47\n",
      "Epoch 40 - Average validation loss: 1.71, Average validation accuracy: 0.49\n",
      "Training epoch 41\n"
     ]
    },
    {
     "name": "stderr",
     "output_type": "stream",
     "text": [
      "Iteration: 100%|█████████████████████████████████████████████████████████████████████████████████████████████████████████████████████████████████████████████████████████████████████████████████████████████████████████████████████████████████████████████| 188/188 [00:02<00:00, 68.25it/s]\n"
     ]
    },
    {
     "name": "stdout",
     "output_type": "stream",
     "text": [
      "Epoch 41 - Average training loss: 1.71, Average training accuracy: 0.45\n",
      "Epoch 41 - Average validation loss: 1.71, Average validation accuracy: 0.49\n",
      "Training epoch 42\n"
     ]
    },
    {
     "name": "stderr",
     "output_type": "stream",
     "text": [
      "Iteration: 100%|█████████████████████████████████████████████████████████████████████████████████████████████████████████████████████████████████████████████████████████████████████████████████████████████████████████████████████████████████████████████| 188/188 [00:02<00:00, 68.19it/s]\n"
     ]
    },
    {
     "name": "stdout",
     "output_type": "stream",
     "text": [
      "Epoch 42 - Average training loss: 1.70, Average training accuracy: 0.46\n",
      "Epoch 42 - Average validation loss: 1.70, Average validation accuracy: 0.49\n",
      "Training epoch 43\n"
     ]
    },
    {
     "name": "stderr",
     "output_type": "stream",
     "text": [
      "Iteration: 100%|█████████████████████████████████████████████████████████████████████████████████████████████████████████████████████████████████████████████████████████████████████████████████████████████████████████████████████████████████████████████| 188/188 [00:02<00:00, 67.98it/s]\n"
     ]
    },
    {
     "name": "stdout",
     "output_type": "stream",
     "text": [
      "Epoch 43 - Average training loss: 1.70, Average training accuracy: 0.47\n",
      "Epoch 43 - Average validation loss: 1.70, Average validation accuracy: 0.49\n",
      "Training epoch 44\n"
     ]
    },
    {
     "name": "stderr",
     "output_type": "stream",
     "text": [
      "Iteration: 100%|█████████████████████████████████████████████████████████████████████████████████████████████████████████████████████████████████████████████████████████████████████████████████████████████████████████████████████████████████████████████| 188/188 [00:02<00:00, 68.03it/s]\n"
     ]
    },
    {
     "name": "stdout",
     "output_type": "stream",
     "text": [
      "Epoch 44 - Average training loss: 1.69, Average training accuracy: 0.47\n",
      "Epoch 44 - Average validation loss: 1.70, Average validation accuracy: 0.49\n",
      "Training epoch 45\n"
     ]
    },
    {
     "name": "stderr",
     "output_type": "stream",
     "text": [
      "Iteration: 100%|█████████████████████████████████████████████████████████████████████████████████████████████████████████████████████████████████████████████████████████████████████████████████████████████████████████████████████████████████████████████| 188/188 [00:02<00:00, 67.75it/s]\n"
     ]
    },
    {
     "name": "stdout",
     "output_type": "stream",
     "text": [
      "Epoch 45 - Average training loss: 1.69, Average training accuracy: 0.47\n",
      "Epoch 45 - Average validation loss: 1.69, Average validation accuracy: 0.49\n",
      "Training epoch 46\n"
     ]
    },
    {
     "name": "stderr",
     "output_type": "stream",
     "text": [
      "Iteration: 100%|█████████████████████████████████████████████████████████████████████████████████████████████████████████████████████████████████████████████████████████████████████████████████████████████████████████████████████████████████████████████| 188/188 [00:02<00:00, 67.83it/s]\n"
     ]
    },
    {
     "name": "stdout",
     "output_type": "stream",
     "text": [
      "Epoch 46 - Average training loss: 1.69, Average training accuracy: 0.48\n",
      "Epoch 46 - Average validation loss: 1.69, Average validation accuracy: 0.49\n",
      "Training epoch 47\n"
     ]
    },
    {
     "name": "stderr",
     "output_type": "stream",
     "text": [
      "Iteration: 100%|█████████████████████████████████████████████████████████████████████████████████████████████████████████████████████████████████████████████████████████████████████████████████████████████████████████████████████████████████████████████| 188/188 [00:02<00:00, 68.15it/s]\n"
     ]
    },
    {
     "name": "stdout",
     "output_type": "stream",
     "text": [
      "Epoch 47 - Average training loss: 1.68, Average training accuracy: 0.48\n",
      "Epoch 47 - Average validation loss: 1.68, Average validation accuracy: 0.50\n",
      "Training epoch 48\n"
     ]
    },
    {
     "name": "stderr",
     "output_type": "stream",
     "text": [
      "Iteration: 100%|█████████████████████████████████████████████████████████████████████████████████████████████████████████████████████████████████████████████████████████████████████████████████████████████████████████████████████████████████████████████| 188/188 [00:02<00:00, 68.36it/s]\n"
     ]
    },
    {
     "name": "stdout",
     "output_type": "stream",
     "text": [
      "Epoch 48 - Average training loss: 1.68, Average training accuracy: 0.48\n",
      "Epoch 48 - Average validation loss: 1.68, Average validation accuracy: 0.50\n",
      "Training epoch 49\n"
     ]
    },
    {
     "name": "stderr",
     "output_type": "stream",
     "text": [
      "Iteration: 100%|█████████████████████████████████████████████████████████████████████████████████████████████████████████████████████████████████████████████████████████████████████████████████████████████████████████████████████████████████████████████| 188/188 [00:02<00:00, 68.23it/s]\n"
     ]
    },
    {
     "name": "stdout",
     "output_type": "stream",
     "text": [
      "Epoch 49 - Average training loss: 1.67, Average training accuracy: 0.48\n",
      "Epoch 49 - Average validation loss: 1.68, Average validation accuracy: 0.50\n",
      "Training epoch 50\n"
     ]
    },
    {
     "name": "stderr",
     "output_type": "stream",
     "text": [
      "Iteration: 100%|█████████████████████████████████████████████████████████████████████████████████████████████████████████████████████████████████████████████████████████████████████████████████████████████████████████████████████████████████████████████| 188/188 [00:02<00:00, 68.35it/s]\n"
     ]
    },
    {
     "name": "stdout",
     "output_type": "stream",
     "text": [
      "Epoch 50 - Average training loss: 1.68, Average training accuracy: 0.48\n",
      "Epoch 50 - Average validation loss: 1.68, Average validation accuracy: 0.50\n",
      "Training epoch 51\n"
     ]
    },
    {
     "name": "stderr",
     "output_type": "stream",
     "text": [
      "Iteration: 100%|█████████████████████████████████████████████████████████████████████████████████████████████████████████████████████████████████████████████████████████████████████████████████████████████████████████████████████████████████████████████| 188/188 [00:02<00:00, 67.96it/s]\n"
     ]
    },
    {
     "name": "stdout",
     "output_type": "stream",
     "text": [
      "Epoch 51 - Average training loss: 1.67, Average training accuracy: 0.48\n",
      "Epoch 51 - Average validation loss: 1.67, Average validation accuracy: 0.50\n",
      "Training epoch 52\n"
     ]
    },
    {
     "name": "stderr",
     "output_type": "stream",
     "text": [
      "Iteration: 100%|█████████████████████████████████████████████████████████████████████████████████████████████████████████████████████████████████████████████████████████████████████████████████████████████████████████████████████████████████████████████| 188/188 [00:02<00:00, 68.16it/s]\n"
     ]
    },
    {
     "name": "stdout",
     "output_type": "stream",
     "text": [
      "Epoch 52 - Average training loss: 1.66, Average training accuracy: 0.49\n",
      "Epoch 52 - Average validation loss: 1.67, Average validation accuracy: 0.50\n",
      "Training epoch 53\n"
     ]
    },
    {
     "name": "stderr",
     "output_type": "stream",
     "text": [
      "Iteration: 100%|█████████████████████████████████████████████████████████████████████████████████████████████████████████████████████████████████████████████████████████████████████████████████████████████████████████████████████████████████████████████| 188/188 [00:02<00:00, 68.06it/s]\n"
     ]
    },
    {
     "name": "stdout",
     "output_type": "stream",
     "text": [
      "Epoch 53 - Average training loss: 1.67, Average training accuracy: 0.47\n",
      "Epoch 53 - Average validation loss: 1.67, Average validation accuracy: 0.50\n",
      "Training epoch 54\n"
     ]
    },
    {
     "name": "stderr",
     "output_type": "stream",
     "text": [
      "Iteration: 100%|█████████████████████████████████████████████████████████████████████████████████████████████████████████████████████████████████████████████████████████████████████████████████████████████████████████████████████████████████████████████| 188/188 [00:02<00:00, 68.14it/s]\n"
     ]
    },
    {
     "name": "stdout",
     "output_type": "stream",
     "text": [
      "Epoch 54 - Average training loss: 1.66, Average training accuracy: 0.48\n",
      "Epoch 54 - Average validation loss: 1.66, Average validation accuracy: 0.51\n",
      "Training epoch 55\n"
     ]
    },
    {
     "name": "stderr",
     "output_type": "stream",
     "text": [
      "Iteration: 100%|█████████████████████████████████████████████████████████████████████████████████████████████████████████████████████████████████████████████████████████████████████████████████████████████████████████████████████████████████████████████| 188/188 [00:02<00:00, 68.19it/s]\n"
     ]
    },
    {
     "name": "stdout",
     "output_type": "stream",
     "text": [
      "Epoch 55 - Average training loss: 1.66, Average training accuracy: 0.48\n",
      "Epoch 55 - Average validation loss: 1.66, Average validation accuracy: 0.51\n",
      "Training epoch 56\n"
     ]
    },
    {
     "name": "stderr",
     "output_type": "stream",
     "text": [
      "Iteration: 100%|█████████████████████████████████████████████████████████████████████████████████████████████████████████████████████████████████████████████████████████████████████████████████████████████████████████████████████████████████████████████| 188/188 [00:02<00:00, 68.33it/s]\n"
     ]
    },
    {
     "name": "stdout",
     "output_type": "stream",
     "text": [
      "Epoch 56 - Average training loss: 1.65, Average training accuracy: 0.48\n",
      "Epoch 56 - Average validation loss: 1.66, Average validation accuracy: 0.51\n",
      "Training epoch 57\n"
     ]
    },
    {
     "name": "stderr",
     "output_type": "stream",
     "text": [
      "Iteration: 100%|█████████████████████████████████████████████████████████████████████████████████████████████████████████████████████████████████████████████████████████████████████████████████████████████████████████████████████████████████████████████| 188/188 [00:02<00:00, 68.30it/s]\n"
     ]
    },
    {
     "name": "stdout",
     "output_type": "stream",
     "text": [
      "Epoch 57 - Average training loss: 1.65, Average training accuracy: 0.49\n",
      "Epoch 57 - Average validation loss: 1.66, Average validation accuracy: 0.50\n",
      "Training epoch 58\n"
     ]
    },
    {
     "name": "stderr",
     "output_type": "stream",
     "text": [
      "Iteration: 100%|█████████████████████████████████████████████████████████████████████████████████████████████████████████████████████████████████████████████████████████████████████████████████████████████████████████████████████████████████████████████| 188/188 [00:02<00:00, 68.37it/s]\n"
     ]
    },
    {
     "name": "stdout",
     "output_type": "stream",
     "text": [
      "Epoch 58 - Average training loss: 1.64, Average training accuracy: 0.48\n",
      "Epoch 58 - Average validation loss: 1.66, Average validation accuracy: 0.50\n",
      "Training epoch 59\n"
     ]
    },
    {
     "name": "stderr",
     "output_type": "stream",
     "text": [
      "Iteration: 100%|█████████████████████████████████████████████████████████████████████████████████████████████████████████████████████████████████████████████████████████████████████████████████████████████████████████████████████████████████████████████| 188/188 [00:02<00:00, 68.40it/s]\n"
     ]
    },
    {
     "name": "stdout",
     "output_type": "stream",
     "text": [
      "Epoch 59 - Average training loss: 1.66, Average training accuracy: 0.48\n",
      "Epoch 59 - Average validation loss: 1.65, Average validation accuracy: 0.51\n",
      "Training epoch 60\n"
     ]
    },
    {
     "name": "stderr",
     "output_type": "stream",
     "text": [
      "Iteration: 100%|█████████████████████████████████████████████████████████████████████████████████████████████████████████████████████████████████████████████████████████████████████████████████████████████████████████████████████████████████████████████| 188/188 [00:02<00:00, 68.30it/s]\n"
     ]
    },
    {
     "name": "stdout",
     "output_type": "stream",
     "text": [
      "Epoch 60 - Average training loss: 1.65, Average training accuracy: 0.49\n",
      "Epoch 60 - Average validation loss: 1.65, Average validation accuracy: 0.51\n",
      "Training epoch 61\n"
     ]
    },
    {
     "name": "stderr",
     "output_type": "stream",
     "text": [
      "Iteration: 100%|█████████████████████████████████████████████████████████████████████████████████████████████████████████████████████████████████████████████████████████████████████████████████████████████████████████████████████████████████████████████| 188/188 [00:02<00:00, 68.14it/s]\n"
     ]
    },
    {
     "name": "stdout",
     "output_type": "stream",
     "text": [
      "Epoch 61 - Average training loss: 1.64, Average training accuracy: 0.48\n",
      "Epoch 61 - Average validation loss: 1.65, Average validation accuracy: 0.51\n",
      "Training epoch 62\n"
     ]
    },
    {
     "name": "stderr",
     "output_type": "stream",
     "text": [
      "Iteration: 100%|█████████████████████████████████████████████████████████████████████████████████████████████████████████████████████████████████████████████████████████████████████████████████████████████████████████████████████████████████████████████| 188/188 [00:02<00:00, 68.22it/s]\n"
     ]
    },
    {
     "name": "stdout",
     "output_type": "stream",
     "text": [
      "Epoch 62 - Average training loss: 1.64, Average training accuracy: 0.49\n",
      "Epoch 62 - Average validation loss: 1.65, Average validation accuracy: 0.51\n",
      "Training epoch 63\n"
     ]
    },
    {
     "name": "stderr",
     "output_type": "stream",
     "text": [
      "Iteration: 100%|█████████████████████████████████████████████████████████████████████████████████████████████████████████████████████████████████████████████████████████████████████████████████████████████████████████████████████████████████████████████| 188/188 [00:02<00:00, 68.05it/s]\n"
     ]
    },
    {
     "name": "stdout",
     "output_type": "stream",
     "text": [
      "Epoch 63 - Average training loss: 1.64, Average training accuracy: 0.48\n",
      "Epoch 63 - Average validation loss: 1.65, Average validation accuracy: 0.50\n",
      "Training epoch 64\n"
     ]
    },
    {
     "name": "stderr",
     "output_type": "stream",
     "text": [
      "Iteration: 100%|█████████████████████████████████████████████████████████████████████████████████████████████████████████████████████████████████████████████████████████████████████████████████████████████████████████████████████████████████████████████| 188/188 [00:02<00:00, 68.38it/s]\n"
     ]
    },
    {
     "name": "stdout",
     "output_type": "stream",
     "text": [
      "Epoch 64 - Average training loss: 1.64, Average training accuracy: 0.48\n",
      "Epoch 64 - Average validation loss: 1.64, Average validation accuracy: 0.51\n",
      "Training epoch 65\n"
     ]
    },
    {
     "name": "stderr",
     "output_type": "stream",
     "text": [
      "Iteration: 100%|█████████████████████████████████████████████████████████████████████████████████████████████████████████████████████████████████████████████████████████████████████████████████████████████████████████████████████████████████████████████| 188/188 [00:02<00:00, 68.39it/s]\n"
     ]
    },
    {
     "name": "stdout",
     "output_type": "stream",
     "text": [
      "Epoch 65 - Average training loss: 1.64, Average training accuracy: 0.48\n",
      "Epoch 65 - Average validation loss: 1.64, Average validation accuracy: 0.51\n",
      "Training epoch 66\n"
     ]
    },
    {
     "name": "stderr",
     "output_type": "stream",
     "text": [
      "Iteration: 100%|█████████████████████████████████████████████████████████████████████████████████████████████████████████████████████████████████████████████████████████████████████████████████████████████████████████████████████████████████████████████| 188/188 [00:02<00:00, 68.43it/s]\n"
     ]
    },
    {
     "name": "stdout",
     "output_type": "stream",
     "text": [
      "Epoch 66 - Average training loss: 1.64, Average training accuracy: 0.50\n",
      "Epoch 66 - Average validation loss: 1.64, Average validation accuracy: 0.51\n",
      "Training epoch 67\n"
     ]
    },
    {
     "name": "stderr",
     "output_type": "stream",
     "text": [
      "Iteration: 100%|█████████████████████████████████████████████████████████████████████████████████████████████████████████████████████████████████████████████████████████████████████████████████████████████████████████████████████████████████████████████| 188/188 [00:02<00:00, 68.39it/s]\n"
     ]
    },
    {
     "name": "stdout",
     "output_type": "stream",
     "text": [
      "Epoch 67 - Average training loss: 1.64, Average training accuracy: 0.48\n",
      "Epoch 67 - Average validation loss: 1.64, Average validation accuracy: 0.51\n",
      "Training epoch 68\n"
     ]
    },
    {
     "name": "stderr",
     "output_type": "stream",
     "text": [
      "Iteration: 100%|█████████████████████████████████████████████████████████████████████████████████████████████████████████████████████████████████████████████████████████████████████████████████████████████████████████████████████████████████████████████| 188/188 [00:02<00:00, 68.26it/s]\n"
     ]
    },
    {
     "name": "stdout",
     "output_type": "stream",
     "text": [
      "Epoch 68 - Average training loss: 1.63, Average training accuracy: 0.49\n",
      "Epoch 68 - Average validation loss: 1.64, Average validation accuracy: 0.51\n",
      "Training epoch 69\n"
     ]
    },
    {
     "name": "stderr",
     "output_type": "stream",
     "text": [
      "Iteration: 100%|█████████████████████████████████████████████████████████████████████████████████████████████████████████████████████████████████████████████████████████████████████████████████████████████████████████████████████████████████████████████| 188/188 [00:02<00:00, 68.44it/s]\n"
     ]
    },
    {
     "name": "stdout",
     "output_type": "stream",
     "text": [
      "Epoch 69 - Average training loss: 1.64, Average training accuracy: 0.48\n",
      "Epoch 69 - Average validation loss: 1.63, Average validation accuracy: 0.52\n",
      "Training epoch 70\n"
     ]
    },
    {
     "name": "stderr",
     "output_type": "stream",
     "text": [
      "Iteration: 100%|█████████████████████████████████████████████████████████████████████████████████████████████████████████████████████████████████████████████████████████████████████████████████████████████████████████████████████████████████████████████| 188/188 [00:02<00:00, 68.51it/s]\n"
     ]
    },
    {
     "name": "stdout",
     "output_type": "stream",
     "text": [
      "Epoch 70 - Average training loss: 1.63, Average training accuracy: 0.49\n",
      "Epoch 70 - Average validation loss: 1.63, Average validation accuracy: 0.51\n",
      "Training epoch 71\n"
     ]
    },
    {
     "name": "stderr",
     "output_type": "stream",
     "text": [
      "Iteration: 100%|█████████████████████████████████████████████████████████████████████████████████████████████████████████████████████████████████████████████████████████████████████████████████████████████████████████████████████████████████████████████| 188/188 [00:02<00:00, 68.44it/s]\n"
     ]
    },
    {
     "name": "stdout",
     "output_type": "stream",
     "text": [
      "Epoch 71 - Average training loss: 1.63, Average training accuracy: 0.49\n",
      "Epoch 71 - Average validation loss: 1.63, Average validation accuracy: 0.51\n",
      "Training epoch 72\n"
     ]
    },
    {
     "name": "stderr",
     "output_type": "stream",
     "text": [
      "Iteration: 100%|█████████████████████████████████████████████████████████████████████████████████████████████████████████████████████████████████████████████████████████████████████████████████████████████████████████████████████████████████████████████| 188/188 [00:02<00:00, 68.34it/s]\n"
     ]
    },
    {
     "name": "stdout",
     "output_type": "stream",
     "text": [
      "Epoch 72 - Average training loss: 1.63, Average training accuracy: 0.50\n",
      "Epoch 72 - Average validation loss: 1.63, Average validation accuracy: 0.51\n",
      "Training epoch 73\n"
     ]
    },
    {
     "name": "stderr",
     "output_type": "stream",
     "text": [
      "Iteration: 100%|█████████████████████████████████████████████████████████████████████████████████████████████████████████████████████████████████████████████████████████████████████████████████████████████████████████████████████████████████████████████| 188/188 [00:02<00:00, 68.30it/s]\n"
     ]
    },
    {
     "name": "stdout",
     "output_type": "stream",
     "text": [
      "Epoch 73 - Average training loss: 1.63, Average training accuracy: 0.48\n",
      "Epoch 73 - Average validation loss: 1.63, Average validation accuracy: 0.51\n",
      "Training epoch 74\n"
     ]
    },
    {
     "name": "stderr",
     "output_type": "stream",
     "text": [
      "Iteration: 100%|█████████████████████████████████████████████████████████████████████████████████████████████████████████████████████████████████████████████████████████████████████████████████████████████████████████████████████████████████████████████| 188/188 [00:02<00:00, 68.27it/s]\n"
     ]
    },
    {
     "name": "stdout",
     "output_type": "stream",
     "text": [
      "Epoch 74 - Average training loss: 1.63, Average training accuracy: 0.48\n",
      "Epoch 74 - Average validation loss: 1.63, Average validation accuracy: 0.51\n",
      "Training epoch 75\n"
     ]
    },
    {
     "name": "stderr",
     "output_type": "stream",
     "text": [
      "Iteration: 100%|█████████████████████████████████████████████████████████████████████████████████████████████████████████████████████████████████████████████████████████████████████████████████████████████████████████████████████████████████████████████| 188/188 [00:02<00:00, 68.28it/s]\n"
     ]
    },
    {
     "name": "stdout",
     "output_type": "stream",
     "text": [
      "Epoch 75 - Average training loss: 1.63, Average training accuracy: 0.49\n",
      "Epoch 75 - Average validation loss: 1.63, Average validation accuracy: 0.52\n",
      "Training epoch 76\n"
     ]
    },
    {
     "name": "stderr",
     "output_type": "stream",
     "text": [
      "Iteration: 100%|█████████████████████████████████████████████████████████████████████████████████████████████████████████████████████████████████████████████████████████████████████████████████████████████████████████████████████████████████████████████| 188/188 [00:02<00:00, 68.30it/s]\n"
     ]
    },
    {
     "name": "stdout",
     "output_type": "stream",
     "text": [
      "Epoch 76 - Average training loss: 1.62, Average training accuracy: 0.49\n",
      "Epoch 76 - Average validation loss: 1.62, Average validation accuracy: 0.51\n",
      "Training epoch 77\n"
     ]
    },
    {
     "name": "stderr",
     "output_type": "stream",
     "text": [
      "Iteration: 100%|█████████████████████████████████████████████████████████████████████████████████████████████████████████████████████████████████████████████████████████████████████████████████████████████████████████████████████████████████████████████| 188/188 [00:02<00:00, 68.35it/s]\n"
     ]
    },
    {
     "name": "stdout",
     "output_type": "stream",
     "text": [
      "Epoch 77 - Average training loss: 1.63, Average training accuracy: 0.49\n",
      "Epoch 77 - Average validation loss: 1.62, Average validation accuracy: 0.51\n",
      "Training epoch 78\n"
     ]
    },
    {
     "name": "stderr",
     "output_type": "stream",
     "text": [
      "Iteration: 100%|█████████████████████████████████████████████████████████████████████████████████████████████████████████████████████████████████████████████████████████████████████████████████████████████████████████████████████████████████████████████| 188/188 [00:02<00:00, 68.41it/s]\n"
     ]
    },
    {
     "name": "stdout",
     "output_type": "stream",
     "text": [
      "Epoch 78 - Average training loss: 1.63, Average training accuracy: 0.49\n",
      "Epoch 78 - Average validation loss: 1.62, Average validation accuracy: 0.52\n",
      "Training epoch 79\n"
     ]
    },
    {
     "name": "stderr",
     "output_type": "stream",
     "text": [
      "Iteration: 100%|█████████████████████████████████████████████████████████████████████████████████████████████████████████████████████████████████████████████████████████████████████████████████████████████████████████████████████████████████████████████| 188/188 [00:02<00:00, 68.48it/s]\n"
     ]
    },
    {
     "name": "stdout",
     "output_type": "stream",
     "text": [
      "Epoch 79 - Average training loss: 1.62, Average training accuracy: 0.49\n",
      "Epoch 79 - Average validation loss: 1.62, Average validation accuracy: 0.52\n",
      "Training epoch 80\n"
     ]
    },
    {
     "name": "stderr",
     "output_type": "stream",
     "text": [
      "Iteration: 100%|█████████████████████████████████████████████████████████████████████████████████████████████████████████████████████████████████████████████████████████████████████████████████████████████████████████████████████████████████████████████| 188/188 [00:02<00:00, 68.42it/s]\n"
     ]
    },
    {
     "name": "stdout",
     "output_type": "stream",
     "text": [
      "Epoch 80 - Average training loss: 1.62, Average training accuracy: 0.48\n",
      "Epoch 80 - Average validation loss: 1.62, Average validation accuracy: 0.52\n",
      "Training epoch 81\n"
     ]
    },
    {
     "name": "stderr",
     "output_type": "stream",
     "text": [
      "Iteration: 100%|█████████████████████████████████████████████████████████████████████████████████████████████████████████████████████████████████████████████████████████████████████████████████████████████████████████████████████████████████████████████| 188/188 [00:02<00:00, 68.41it/s]\n"
     ]
    },
    {
     "name": "stdout",
     "output_type": "stream",
     "text": [
      "Epoch 81 - Average training loss: 1.62, Average training accuracy: 0.50\n",
      "Epoch 81 - Average validation loss: 1.62, Average validation accuracy: 0.52\n",
      "Training epoch 82\n"
     ]
    },
    {
     "name": "stderr",
     "output_type": "stream",
     "text": [
      "Iteration: 100%|█████████████████████████████████████████████████████████████████████████████████████████████████████████████████████████████████████████████████████████████████████████████████████████████████████████████████████████████████████████████| 188/188 [00:02<00:00, 68.41it/s]\n"
     ]
    },
    {
     "name": "stdout",
     "output_type": "stream",
     "text": [
      "Epoch 82 - Average training loss: 1.62, Average training accuracy: 0.49\n",
      "Epoch 82 - Average validation loss: 1.62, Average validation accuracy: 0.52\n",
      "Training epoch 83\n"
     ]
    },
    {
     "name": "stderr",
     "output_type": "stream",
     "text": [
      "Iteration: 100%|█████████████████████████████████████████████████████████████████████████████████████████████████████████████████████████████████████████████████████████████████████████████████████████████████████████████████████████████████████████████| 188/188 [00:02<00:00, 68.42it/s]\n"
     ]
    },
    {
     "name": "stdout",
     "output_type": "stream",
     "text": [
      "Epoch 83 - Average training loss: 1.61, Average training accuracy: 0.49\n",
      "Epoch 83 - Average validation loss: 1.62, Average validation accuracy: 0.52\n",
      "Training epoch 84\n"
     ]
    },
    {
     "name": "stderr",
     "output_type": "stream",
     "text": [
      "Iteration: 100%|█████████████████████████████████████████████████████████████████████████████████████████████████████████████████████████████████████████████████████████████████████████████████████████████████████████████████████████████████████████████| 188/188 [00:02<00:00, 68.43it/s]\n"
     ]
    },
    {
     "name": "stdout",
     "output_type": "stream",
     "text": [
      "Epoch 84 - Average training loss: 1.62, Average training accuracy: 0.50\n",
      "Epoch 84 - Average validation loss: 1.62, Average validation accuracy: 0.52\n",
      "Training epoch 85\n"
     ]
    },
    {
     "name": "stderr",
     "output_type": "stream",
     "text": [
      "Iteration: 100%|█████████████████████████████████████████████████████████████████████████████████████████████████████████████████████████████████████████████████████████████████████████████████████████████████████████████████████████████████████████████| 188/188 [00:02<00:00, 68.23it/s]\n"
     ]
    },
    {
     "name": "stdout",
     "output_type": "stream",
     "text": [
      "Epoch 85 - Average training loss: 1.62, Average training accuracy: 0.49\n",
      "Epoch 85 - Average validation loss: 1.62, Average validation accuracy: 0.52\n",
      "Training epoch 86\n"
     ]
    },
    {
     "name": "stderr",
     "output_type": "stream",
     "text": [
      "Iteration: 100%|█████████████████████████████████████████████████████████████████████████████████████████████████████████████████████████████████████████████████████████████████████████████████████████████████████████████████████████████████████████████| 188/188 [00:02<00:00, 68.46it/s]\n"
     ]
    },
    {
     "name": "stdout",
     "output_type": "stream",
     "text": [
      "Epoch 86 - Average training loss: 1.61, Average training accuracy: 0.49\n",
      "Epoch 86 - Average validation loss: 1.62, Average validation accuracy: 0.52\n",
      "Training epoch 87\n"
     ]
    },
    {
     "name": "stderr",
     "output_type": "stream",
     "text": [
      "Iteration: 100%|█████████████████████████████████████████████████████████████████████████████████████████████████████████████████████████████████████████████████████████████████████████████████████████████████████████████████████████████████████████████| 188/188 [00:02<00:00, 68.50it/s]\n"
     ]
    },
    {
     "name": "stdout",
     "output_type": "stream",
     "text": [
      "Epoch 87 - Average training loss: 1.62, Average training accuracy: 0.49\n",
      "Epoch 87 - Average validation loss: 1.61, Average validation accuracy: 0.52\n",
      "Training epoch 88\n"
     ]
    },
    {
     "name": "stderr",
     "output_type": "stream",
     "text": [
      "Iteration: 100%|█████████████████████████████████████████████████████████████████████████████████████████████████████████████████████████████████████████████████████████████████████████████████████████████████████████████████████████████████████████████| 188/188 [00:02<00:00, 68.36it/s]\n"
     ]
    },
    {
     "name": "stdout",
     "output_type": "stream",
     "text": [
      "Epoch 88 - Average training loss: 1.62, Average training accuracy: 0.49\n",
      "Epoch 88 - Average validation loss: 1.61, Average validation accuracy: 0.52\n",
      "Training epoch 89\n"
     ]
    },
    {
     "name": "stderr",
     "output_type": "stream",
     "text": [
      "Iteration: 100%|█████████████████████████████████████████████████████████████████████████████████████████████████████████████████████████████████████████████████████████████████████████████████████████████████████████████████████████████████████████████| 188/188 [00:02<00:00, 68.44it/s]\n"
     ]
    },
    {
     "name": "stdout",
     "output_type": "stream",
     "text": [
      "Epoch 89 - Average training loss: 1.61, Average training accuracy: 0.50\n",
      "Epoch 89 - Average validation loss: 1.61, Average validation accuracy: 0.52\n",
      "Training epoch 90\n"
     ]
    },
    {
     "name": "stderr",
     "output_type": "stream",
     "text": [
      "Iteration: 100%|█████████████████████████████████████████████████████████████████████████████████████████████████████████████████████████████████████████████████████████████████████████████████████████████████████████████████████████████████████████████| 188/188 [00:02<00:00, 68.45it/s]\n"
     ]
    },
    {
     "name": "stdout",
     "output_type": "stream",
     "text": [
      "Epoch 90 - Average training loss: 1.61, Average training accuracy: 0.49\n",
      "Epoch 90 - Average validation loss: 1.61, Average validation accuracy: 0.52\n",
      "Training epoch 91\n"
     ]
    },
    {
     "name": "stderr",
     "output_type": "stream",
     "text": [
      "Iteration: 100%|█████████████████████████████████████████████████████████████████████████████████████████████████████████████████████████████████████████████████████████████████████████████████████████████████████████████████████████████████████████████| 188/188 [00:02<00:00, 68.44it/s]\n"
     ]
    },
    {
     "name": "stdout",
     "output_type": "stream",
     "text": [
      "Epoch 91 - Average training loss: 1.61, Average training accuracy: 0.49\n",
      "Epoch 91 - Average validation loss: 1.61, Average validation accuracy: 0.52\n",
      "Training epoch 92\n"
     ]
    },
    {
     "name": "stderr",
     "output_type": "stream",
     "text": [
      "Iteration: 100%|█████████████████████████████████████████████████████████████████████████████████████████████████████████████████████████████████████████████████████████████████████████████████████████████████████████████████████████████████████████████| 188/188 [00:02<00:00, 68.45it/s]\n"
     ]
    },
    {
     "name": "stdout",
     "output_type": "stream",
     "text": [
      "Epoch 92 - Average training loss: 1.61, Average training accuracy: 0.50\n",
      "Epoch 92 - Average validation loss: 1.61, Average validation accuracy: 0.52\n",
      "Training epoch 93\n"
     ]
    },
    {
     "name": "stderr",
     "output_type": "stream",
     "text": [
      "Iteration: 100%|█████████████████████████████████████████████████████████████████████████████████████████████████████████████████████████████████████████████████████████████████████████████████████████████████████████████████████████████████████████████| 188/188 [00:02<00:00, 68.41it/s]\n"
     ]
    },
    {
     "name": "stdout",
     "output_type": "stream",
     "text": [
      "Epoch 93 - Average training loss: 1.61, Average training accuracy: 0.50\n",
      "Epoch 93 - Average validation loss: 1.61, Average validation accuracy: 0.52\n",
      "Training epoch 94\n"
     ]
    },
    {
     "name": "stderr",
     "output_type": "stream",
     "text": [
      "Iteration: 100%|█████████████████████████████████████████████████████████████████████████████████████████████████████████████████████████████████████████████████████████████████████████████████████████████████████████████████████████████████████████████| 188/188 [00:02<00:00, 68.46it/s]\n"
     ]
    },
    {
     "name": "stdout",
     "output_type": "stream",
     "text": [
      "Epoch 94 - Average training loss: 1.61, Average training accuracy: 0.51\n",
      "Epoch 94 - Average validation loss: 1.61, Average validation accuracy: 0.52\n",
      "Training epoch 95\n"
     ]
    },
    {
     "name": "stderr",
     "output_type": "stream",
     "text": [
      "Iteration: 100%|█████████████████████████████████████████████████████████████████████████████████████████████████████████████████████████████████████████████████████████████████████████████████████████████████████████████████████████████████████████████| 188/188 [00:02<00:00, 68.36it/s]\n"
     ]
    },
    {
     "name": "stdout",
     "output_type": "stream",
     "text": [
      "Epoch 95 - Average training loss: 1.61, Average training accuracy: 0.49\n",
      "Epoch 95 - Average validation loss: 1.61, Average validation accuracy: 0.52\n",
      "Training epoch 96\n"
     ]
    },
    {
     "name": "stderr",
     "output_type": "stream",
     "text": [
      "Iteration: 100%|█████████████████████████████████████████████████████████████████████████████████████████████████████████████████████████████████████████████████████████████████████████████████████████████████████████████████████████████████████████████| 188/188 [00:02<00:00, 67.88it/s]\n"
     ]
    },
    {
     "name": "stdout",
     "output_type": "stream",
     "text": [
      "Epoch 96 - Average training loss: 1.61, Average training accuracy: 0.49\n",
      "Epoch 96 - Average validation loss: 1.61, Average validation accuracy: 0.52\n",
      "Training epoch 97\n"
     ]
    },
    {
     "name": "stderr",
     "output_type": "stream",
     "text": [
      "Iteration: 100%|█████████████████████████████████████████████████████████████████████████████████████████████████████████████████████████████████████████████████████████████████████████████████████████████████████████████████████████████████████████████| 188/188 [00:02<00:00, 68.24it/s]\n"
     ]
    },
    {
     "name": "stdout",
     "output_type": "stream",
     "text": [
      "Epoch 97 - Average training loss: 1.61, Average training accuracy: 0.49\n",
      "Epoch 97 - Average validation loss: 1.61, Average validation accuracy: 0.52\n",
      "Training epoch 98\n"
     ]
    },
    {
     "name": "stderr",
     "output_type": "stream",
     "text": [
      "Iteration: 100%|█████████████████████████████████████████████████████████████████████████████████████████████████████████████████████████████████████████████████████████████████████████████████████████████████████████████████████████████████████████████| 188/188 [00:02<00:00, 68.37it/s]\n"
     ]
    },
    {
     "name": "stdout",
     "output_type": "stream",
     "text": [
      "Epoch 98 - Average training loss: 1.61, Average training accuracy: 0.49\n",
      "Epoch 98 - Average validation loss: 1.61, Average validation accuracy: 0.52\n",
      "Training epoch 99\n"
     ]
    },
    {
     "name": "stderr",
     "output_type": "stream",
     "text": [
      "Iteration: 100%|█████████████████████████████████████████████████████████████████████████████████████████████████████████████████████████████████████████████████████████████████████████████████████████████████████████████████████████████████████████████| 188/188 [00:02<00:00, 68.40it/s]\n"
     ]
    },
    {
     "name": "stdout",
     "output_type": "stream",
     "text": [
      "Epoch 99 - Average training loss: 1.62, Average training accuracy: 0.50\n",
      "Epoch 99 - Average validation loss: 1.61, Average validation accuracy: 0.52\n",
      "Training epoch 100\n"
     ]
    },
    {
     "name": "stderr",
     "output_type": "stream",
     "text": [
      "Iteration: 100%|█████████████████████████████████████████████████████████████████████████████████████████████████████████████████████████████████████████████████████████████████████████████████████████████████████████████████████████████████████████████| 188/188 [00:02<00:00, 68.44it/s]\n"
     ]
    },
    {
     "name": "stdout",
     "output_type": "stream",
     "text": [
      "Epoch 100 - Average training loss: 1.60, Average training accuracy: 0.50\n",
      "Epoch 100 - Average validation loss: 1.61, Average validation accuracy: 0.52\n",
      "Fold 2\n",
      "Training epoch 1\n"
     ]
    },
    {
     "name": "stderr",
     "output_type": "stream",
     "text": [
      "Iteration: 100%|█████████████████████████████████████████████████████████████████████████████████████████████████████████████████████████████████████████████████████████████████████████████████████████████████████████████████████████████████████████████| 188/188 [00:23<00:00,  7.98it/s]\n"
     ]
    },
    {
     "name": "stdout",
     "output_type": "stream",
     "text": [
      "Epoch 1 - Average training loss: 1.96, Average training accuracy: 0.15\n",
      "Epoch 1 - Average validation loss: 1.95, Average validation accuracy: 0.14\n",
      "Training epoch 2\n"
     ]
    },
    {
     "name": "stderr",
     "output_type": "stream",
     "text": [
      "Iteration: 100%|█████████████████████████████████████████████████████████████████████████████████████████████████████████████████████████████████████████████████████████████████████████████████████████████████████████████████████████████████████████████| 188/188 [00:02<00:00, 68.15it/s]\n"
     ]
    },
    {
     "name": "stdout",
     "output_type": "stream",
     "text": [
      "Epoch 2 - Average training loss: 1.95, Average training accuracy: 0.16\n",
      "Epoch 2 - Average validation loss: 1.94, Average validation accuracy: 0.14\n",
      "Training epoch 3\n"
     ]
    },
    {
     "name": "stderr",
     "output_type": "stream",
     "text": [
      "Iteration: 100%|█████████████████████████████████████████████████████████████████████████████████████████████████████████████████████████████████████████████████████████████████████████████████████████████████████████████████████████████████████████████| 188/188 [00:02<00:00, 68.19it/s]\n"
     ]
    },
    {
     "name": "stdout",
     "output_type": "stream",
     "text": [
      "Epoch 3 - Average training loss: 1.94, Average training accuracy: 0.16\n",
      "Epoch 3 - Average validation loss: 1.94, Average validation accuracy: 0.16\n",
      "Training epoch 4\n"
     ]
    },
    {
     "name": "stderr",
     "output_type": "stream",
     "text": [
      "Iteration: 100%|█████████████████████████████████████████████████████████████████████████████████████████████████████████████████████████████████████████████████████████████████████████████████████████████████████████████████████████████████████████████| 188/188 [00:02<00:00, 68.22it/s]\n"
     ]
    },
    {
     "name": "stdout",
     "output_type": "stream",
     "text": [
      "Epoch 4 - Average training loss: 1.94, Average training accuracy: 0.17\n",
      "Epoch 4 - Average validation loss: 1.94, Average validation accuracy: 0.21\n",
      "Training epoch 5\n"
     ]
    },
    {
     "name": "stderr",
     "output_type": "stream",
     "text": [
      "Iteration: 100%|█████████████████████████████████████████████████████████████████████████████████████████████████████████████████████████████████████████████████████████████████████████████████████████████████████████████████████████████████████████████| 188/188 [00:02<00:00, 68.16it/s]\n"
     ]
    },
    {
     "name": "stdout",
     "output_type": "stream",
     "text": [
      "Epoch 5 - Average training loss: 1.93, Average training accuracy: 0.22\n",
      "Epoch 5 - Average validation loss: 1.93, Average validation accuracy: 0.24\n",
      "Training epoch 6\n"
     ]
    },
    {
     "name": "stderr",
     "output_type": "stream",
     "text": [
      "Iteration: 100%|█████████████████████████████████████████████████████████████████████████████████████████████████████████████████████████████████████████████████████████████████████████████████████████████████████████████████████████████████████████████| 188/188 [00:02<00:00, 68.04it/s]\n"
     ]
    },
    {
     "name": "stdout",
     "output_type": "stream",
     "text": [
      "Epoch 6 - Average training loss: 1.93, Average training accuracy: 0.24\n",
      "Epoch 6 - Average validation loss: 1.93, Average validation accuracy: 0.29\n",
      "Training epoch 7\n"
     ]
    },
    {
     "name": "stderr",
     "output_type": "stream",
     "text": [
      "Iteration: 100%|█████████████████████████████████████████████████████████████████████████████████████████████████████████████████████████████████████████████████████████████████████████████████████████████████████████████████████████████████████████████| 188/188 [00:02<00:00, 68.10it/s]\n"
     ]
    },
    {
     "name": "stdout",
     "output_type": "stream",
     "text": [
      "Epoch 7 - Average training loss: 1.92, Average training accuracy: 0.28\n",
      "Epoch 7 - Average validation loss: 1.92, Average validation accuracy: 0.29\n",
      "Training epoch 8\n"
     ]
    },
    {
     "name": "stderr",
     "output_type": "stream",
     "text": [
      "Iteration: 100%|█████████████████████████████████████████████████████████████████████████████████████████████████████████████████████████████████████████████████████████████████████████████████████████████████████████████████████████████████████████████| 188/188 [00:02<00:00, 68.08it/s]\n"
     ]
    },
    {
     "name": "stdout",
     "output_type": "stream",
     "text": [
      "Epoch 8 - Average training loss: 1.91, Average training accuracy: 0.32\n",
      "Epoch 8 - Average validation loss: 1.91, Average validation accuracy: 0.35\n",
      "Training epoch 9\n"
     ]
    },
    {
     "name": "stderr",
     "output_type": "stream",
     "text": [
      "Iteration: 100%|█████████████████████████████████████████████████████████████████████████████████████████████████████████████████████████████████████████████████████████████████████████████████████████████████████████████████████████████████████████████| 188/188 [00:02<00:00, 68.10it/s]\n"
     ]
    },
    {
     "name": "stdout",
     "output_type": "stream",
     "text": [
      "Epoch 9 - Average training loss: 1.90, Average training accuracy: 0.34\n",
      "Epoch 9 - Average validation loss: 1.90, Average validation accuracy: 0.36\n",
      "Training epoch 10\n"
     ]
    },
    {
     "name": "stderr",
     "output_type": "stream",
     "text": [
      "Iteration: 100%|█████████████████████████████████████████████████████████████████████████████████████████████████████████████████████████████████████████████████████████████████████████████████████████████████████████████████████████████████████████████| 188/188 [00:02<00:00, 68.00it/s]\n"
     ]
    },
    {
     "name": "stdout",
     "output_type": "stream",
     "text": [
      "Epoch 10 - Average training loss: 1.89, Average training accuracy: 0.36\n",
      "Epoch 10 - Average validation loss: 1.89, Average validation accuracy: 0.36\n",
      "Training epoch 11\n"
     ]
    },
    {
     "name": "stderr",
     "output_type": "stream",
     "text": [
      "Iteration: 100%|█████████████████████████████████████████████████████████████████████████████████████████████████████████████████████████████████████████████████████████████████████████████████████████████████████████████████████████████████████████████| 188/188 [00:02<00:00, 67.94it/s]\n"
     ]
    },
    {
     "name": "stdout",
     "output_type": "stream",
     "text": [
      "Epoch 11 - Average training loss: 1.88, Average training accuracy: 0.38\n",
      "Epoch 11 - Average validation loss: 1.88, Average validation accuracy: 0.39\n",
      "Training epoch 12\n"
     ]
    },
    {
     "name": "stderr",
     "output_type": "stream",
     "text": [
      "Iteration: 100%|█████████████████████████████████████████████████████████████████████████████████████████████████████████████████████████████████████████████████████████████████████████████████████████████████████████████████████████████████████████████| 188/188 [00:02<00:00, 68.04it/s]\n"
     ]
    },
    {
     "name": "stdout",
     "output_type": "stream",
     "text": [
      "Epoch 12 - Average training loss: 1.87, Average training accuracy: 0.38\n",
      "Epoch 12 - Average validation loss: 1.88, Average validation accuracy: 0.39\n",
      "Training epoch 13\n"
     ]
    },
    {
     "name": "stderr",
     "output_type": "stream",
     "text": [
      "Iteration: 100%|█████████████████████████████████████████████████████████████████████████████████████████████████████████████████████████████████████████████████████████████████████████████████████████████████████████████████████████████████████████████| 188/188 [00:02<00:00, 68.10it/s]\n"
     ]
    },
    {
     "name": "stdout",
     "output_type": "stream",
     "text": [
      "Epoch 13 - Average training loss: 1.86, Average training accuracy: 0.40\n",
      "Epoch 13 - Average validation loss: 1.87, Average validation accuracy: 0.44\n",
      "Training epoch 14\n"
     ]
    },
    {
     "name": "stderr",
     "output_type": "stream",
     "text": [
      "Iteration: 100%|█████████████████████████████████████████████████████████████████████████████████████████████████████████████████████████████████████████████████████████████████████████████████████████████████████████████████████████████████████████████| 188/188 [00:02<00:00, 68.12it/s]\n"
     ]
    },
    {
     "name": "stdout",
     "output_type": "stream",
     "text": [
      "Epoch 14 - Average training loss: 1.85, Average training accuracy: 0.41\n",
      "Epoch 14 - Average validation loss: 1.86, Average validation accuracy: 0.44\n",
      "Training epoch 15\n"
     ]
    },
    {
     "name": "stderr",
     "output_type": "stream",
     "text": [
      "Iteration: 100%|█████████████████████████████████████████████████████████████████████████████████████████████████████████████████████████████████████████████████████████████████████████████████████████████████████████████████████████████████████████████| 188/188 [00:02<00:00, 68.12it/s]\n"
     ]
    },
    {
     "name": "stdout",
     "output_type": "stream",
     "text": [
      "Epoch 15 - Average training loss: 1.84, Average training accuracy: 0.40\n",
      "Epoch 15 - Average validation loss: 1.85, Average validation accuracy: 0.43\n",
      "Training epoch 16\n"
     ]
    },
    {
     "name": "stderr",
     "output_type": "stream",
     "text": [
      "Iteration: 100%|█████████████████████████████████████████████████████████████████████████████████████████████████████████████████████████████████████████████████████████████████████████████████████████████████████████████████████████████████████████████| 188/188 [00:02<00:00, 68.15it/s]\n"
     ]
    },
    {
     "name": "stdout",
     "output_type": "stream",
     "text": [
      "Epoch 16 - Average training loss: 1.83, Average training accuracy: 0.42\n",
      "Epoch 16 - Average validation loss: 1.84, Average validation accuracy: 0.46\n",
      "Training epoch 17\n"
     ]
    },
    {
     "name": "stderr",
     "output_type": "stream",
     "text": [
      "Iteration: 100%|█████████████████████████████████████████████████████████████████████████████████████████████████████████████████████████████████████████████████████████████████████████████████████████████████████████████████████████████████████████████| 188/188 [00:02<00:00, 68.10it/s]\n"
     ]
    },
    {
     "name": "stdout",
     "output_type": "stream",
     "text": [
      "Epoch 17 - Average training loss: 1.82, Average training accuracy: 0.43\n",
      "Epoch 17 - Average validation loss: 1.83, Average validation accuracy: 0.45\n",
      "Training epoch 18\n"
     ]
    },
    {
     "name": "stderr",
     "output_type": "stream",
     "text": [
      "Iteration: 100%|█████████████████████████████████████████████████████████████████████████████████████████████████████████████████████████████████████████████████████████████████████████████████████████████████████████████████████████████████████████████| 188/188 [00:02<00:00, 68.14it/s]\n"
     ]
    },
    {
     "name": "stdout",
     "output_type": "stream",
     "text": [
      "Epoch 18 - Average training loss: 1.82, Average training accuracy: 0.43\n",
      "Epoch 18 - Average validation loss: 1.83, Average validation accuracy: 0.47\n",
      "Training epoch 19\n"
     ]
    },
    {
     "name": "stderr",
     "output_type": "stream",
     "text": [
      "Iteration: 100%|█████████████████████████████████████████████████████████████████████████████████████████████████████████████████████████████████████████████████████████████████████████████████████████████████████████████████████████████████████████████| 188/188 [00:02<00:00, 68.18it/s]\n"
     ]
    },
    {
     "name": "stdout",
     "output_type": "stream",
     "text": [
      "Epoch 19 - Average training loss: 1.80, Average training accuracy: 0.45\n",
      "Epoch 19 - Average validation loss: 1.82, Average validation accuracy: 0.46\n",
      "Training epoch 20\n"
     ]
    },
    {
     "name": "stderr",
     "output_type": "stream",
     "text": [
      "Iteration: 100%|█████████████████████████████████████████████████████████████████████████████████████████████████████████████████████████████████████████████████████████████████████████████████████████████████████████████████████████████████████████████| 188/188 [00:02<00:00, 68.25it/s]\n"
     ]
    },
    {
     "name": "stdout",
     "output_type": "stream",
     "text": [
      "Epoch 20 - Average training loss: 1.80, Average training accuracy: 0.45\n",
      "Epoch 20 - Average validation loss: 1.81, Average validation accuracy: 0.47\n",
      "Training epoch 21\n"
     ]
    },
    {
     "name": "stderr",
     "output_type": "stream",
     "text": [
      "Iteration: 100%|█████████████████████████████████████████████████████████████████████████████████████████████████████████████████████████████████████████████████████████████████████████████████████████████████████████████████████████████████████████████| 188/188 [00:02<00:00, 68.18it/s]\n"
     ]
    },
    {
     "name": "stdout",
     "output_type": "stream",
     "text": [
      "Epoch 21 - Average training loss: 1.79, Average training accuracy: 0.44\n",
      "Epoch 21 - Average validation loss: 1.81, Average validation accuracy: 0.46\n",
      "Training epoch 22\n"
     ]
    },
    {
     "name": "stderr",
     "output_type": "stream",
     "text": [
      "Iteration: 100%|█████████████████████████████████████████████████████████████████████████████████████████████████████████████████████████████████████████████████████████████████████████████████████████████████████████████████████████████████████████████| 188/188 [00:02<00:00, 68.12it/s]\n"
     ]
    },
    {
     "name": "stdout",
     "output_type": "stream",
     "text": [
      "Epoch 22 - Average training loss: 1.78, Average training accuracy: 0.45\n",
      "Epoch 22 - Average validation loss: 1.80, Average validation accuracy: 0.47\n",
      "Training epoch 23\n"
     ]
    },
    {
     "name": "stderr",
     "output_type": "stream",
     "text": [
      "Iteration: 100%|█████████████████████████████████████████████████████████████████████████████████████████████████████████████████████████████████████████████████████████████████████████████████████████████████████████████████████████████████████████████| 188/188 [00:02<00:00, 68.23it/s]\n"
     ]
    },
    {
     "name": "stdout",
     "output_type": "stream",
     "text": [
      "Epoch 23 - Average training loss: 1.77, Average training accuracy: 0.46\n",
      "Epoch 23 - Average validation loss: 1.79, Average validation accuracy: 0.47\n",
      "Training epoch 24\n"
     ]
    },
    {
     "name": "stderr",
     "output_type": "stream",
     "text": [
      "Iteration: 100%|█████████████████████████████████████████████████████████████████████████████████████████████████████████████████████████████████████████████████████████████████████████████████████████████████████████████████████████████████████████████| 188/188 [00:02<00:00, 68.19it/s]\n"
     ]
    },
    {
     "name": "stdout",
     "output_type": "stream",
     "text": [
      "Epoch 24 - Average training loss: 1.77, Average training accuracy: 0.46\n",
      "Epoch 24 - Average validation loss: 1.79, Average validation accuracy: 0.48\n",
      "Training epoch 25\n"
     ]
    },
    {
     "name": "stderr",
     "output_type": "stream",
     "text": [
      "Iteration: 100%|█████████████████████████████████████████████████████████████████████████████████████████████████████████████████████████████████████████████████████████████████████████████████████████████████████████████████████████████████████████████| 188/188 [00:02<00:00, 68.23it/s]\n"
     ]
    },
    {
     "name": "stdout",
     "output_type": "stream",
     "text": [
      "Epoch 25 - Average training loss: 1.76, Average training accuracy: 0.45\n",
      "Epoch 25 - Average validation loss: 1.78, Average validation accuracy: 0.48\n",
      "Training epoch 26\n"
     ]
    },
    {
     "name": "stderr",
     "output_type": "stream",
     "text": [
      "Iteration: 100%|█████████████████████████████████████████████████████████████████████████████████████████████████████████████████████████████████████████████████████████████████████████████████████████████████████████████████████████████████████████████| 188/188 [00:02<00:00, 68.24it/s]\n"
     ]
    },
    {
     "name": "stdout",
     "output_type": "stream",
     "text": [
      "Epoch 26 - Average training loss: 1.76, Average training accuracy: 0.45\n",
      "Epoch 26 - Average validation loss: 1.77, Average validation accuracy: 0.48\n",
      "Training epoch 27\n"
     ]
    },
    {
     "name": "stderr",
     "output_type": "stream",
     "text": [
      "Iteration: 100%|█████████████████████████████████████████████████████████████████████████████████████████████████████████████████████████████████████████████████████████████████████████████████████████████████████████████████████████████████████████████| 188/188 [00:02<00:00, 68.23it/s]\n"
     ]
    },
    {
     "name": "stdout",
     "output_type": "stream",
     "text": [
      "Epoch 27 - Average training loss: 1.74, Average training accuracy: 0.46\n",
      "Epoch 27 - Average validation loss: 1.77, Average validation accuracy: 0.48\n",
      "Training epoch 28\n"
     ]
    },
    {
     "name": "stderr",
     "output_type": "stream",
     "text": [
      "Iteration: 100%|█████████████████████████████████████████████████████████████████████████████████████████████████████████████████████████████████████████████████████████████████████████████████████████████████████████████████████████████████████████████| 188/188 [00:02<00:00, 68.21it/s]\n"
     ]
    },
    {
     "name": "stdout",
     "output_type": "stream",
     "text": [
      "Epoch 28 - Average training loss: 1.74, Average training accuracy: 0.46\n",
      "Epoch 28 - Average validation loss: 1.76, Average validation accuracy: 0.49\n",
      "Training epoch 29\n"
     ]
    },
    {
     "name": "stderr",
     "output_type": "stream",
     "text": [
      "Iteration: 100%|█████████████████████████████████████████████████████████████████████████████████████████████████████████████████████████████████████████████████████████████████████████████████████████████████████████████████████████████████████████████| 188/188 [00:02<00:00, 68.22it/s]\n"
     ]
    },
    {
     "name": "stdout",
     "output_type": "stream",
     "text": [
      "Epoch 29 - Average training loss: 1.74, Average training accuracy: 0.46\n",
      "Epoch 29 - Average validation loss: 1.76, Average validation accuracy: 0.49\n",
      "Training epoch 30\n"
     ]
    },
    {
     "name": "stderr",
     "output_type": "stream",
     "text": [
      "Iteration: 100%|█████████████████████████████████████████████████████████████████████████████████████████████████████████████████████████████████████████████████████████████████████████████████████████████████████████████████████████████████████████████| 188/188 [00:02<00:00, 68.17it/s]\n"
     ]
    },
    {
     "name": "stdout",
     "output_type": "stream",
     "text": [
      "Epoch 30 - Average training loss: 1.73, Average training accuracy: 0.47\n",
      "Epoch 30 - Average validation loss: 1.75, Average validation accuracy: 0.49\n",
      "Training epoch 31\n"
     ]
    },
    {
     "name": "stderr",
     "output_type": "stream",
     "text": [
      "Iteration: 100%|█████████████████████████████████████████████████████████████████████████████████████████████████████████████████████████████████████████████████████████████████████████████████████████████████████████████████████████████████████████████| 188/188 [00:02<00:00, 68.12it/s]\n"
     ]
    },
    {
     "name": "stdout",
     "output_type": "stream",
     "text": [
      "Epoch 31 - Average training loss: 1.73, Average training accuracy: 0.47\n",
      "Epoch 31 - Average validation loss: 1.75, Average validation accuracy: 0.49\n",
      "Training epoch 32\n"
     ]
    },
    {
     "name": "stderr",
     "output_type": "stream",
     "text": [
      "Iteration: 100%|█████████████████████████████████████████████████████████████████████████████████████████████████████████████████████████████████████████████████████████████████████████████████████████████████████████████████████████████████████████████| 188/188 [00:02<00:00, 67.99it/s]\n"
     ]
    },
    {
     "name": "stdout",
     "output_type": "stream",
     "text": [
      "Epoch 32 - Average training loss: 1.72, Average training accuracy: 0.47\n",
      "Epoch 32 - Average validation loss: 1.74, Average validation accuracy: 0.49\n",
      "Training epoch 33\n"
     ]
    },
    {
     "name": "stderr",
     "output_type": "stream",
     "text": [
      "Iteration: 100%|█████████████████████████████████████████████████████████████████████████████████████████████████████████████████████████████████████████████████████████████████████████████████████████████████████████████████████████████████████████████| 188/188 [00:02<00:00, 68.08it/s]\n"
     ]
    },
    {
     "name": "stdout",
     "output_type": "stream",
     "text": [
      "Epoch 33 - Average training loss: 1.72, Average training accuracy: 0.48\n",
      "Epoch 33 - Average validation loss: 1.74, Average validation accuracy: 0.49\n",
      "Training epoch 34\n"
     ]
    },
    {
     "name": "stderr",
     "output_type": "stream",
     "text": [
      "Iteration: 100%|█████████████████████████████████████████████████████████████████████████████████████████████████████████████████████████████████████████████████████████████████████████████████████████████████████████████████████████████████████████████| 188/188 [00:02<00:00, 67.92it/s]\n"
     ]
    },
    {
     "name": "stdout",
     "output_type": "stream",
     "text": [
      "Epoch 34 - Average training loss: 1.71, Average training accuracy: 0.47\n",
      "Epoch 34 - Average validation loss: 1.73, Average validation accuracy: 0.49\n",
      "Training epoch 35\n"
     ]
    },
    {
     "name": "stderr",
     "output_type": "stream",
     "text": [
      "Iteration: 100%|█████████████████████████████████████████████████████████████████████████████████████████████████████████████████████████████████████████████████████████████████████████████████████████████████████████████████████████████████████████████| 188/188 [00:02<00:00, 68.11it/s]\n"
     ]
    },
    {
     "name": "stdout",
     "output_type": "stream",
     "text": [
      "Epoch 35 - Average training loss: 1.70, Average training accuracy: 0.48\n",
      "Epoch 35 - Average validation loss: 1.73, Average validation accuracy: 0.50\n",
      "Training epoch 36\n"
     ]
    },
    {
     "name": "stderr",
     "output_type": "stream",
     "text": [
      "Iteration: 100%|█████████████████████████████████████████████████████████████████████████████████████████████████████████████████████████████████████████████████████████████████████████████████████████████████████████████████████████████████████████████| 188/188 [00:02<00:00, 67.71it/s]\n"
     ]
    },
    {
     "name": "stdout",
     "output_type": "stream",
     "text": [
      "Epoch 36 - Average training loss: 1.70, Average training accuracy: 0.48\n",
      "Epoch 36 - Average validation loss: 1.73, Average validation accuracy: 0.51\n",
      "Training epoch 37\n"
     ]
    },
    {
     "name": "stderr",
     "output_type": "stream",
     "text": [
      "Iteration: 100%|█████████████████████████████████████████████████████████████████████████████████████████████████████████████████████████████████████████████████████████████████████████████████████████████████████████████████████████████████████████████| 188/188 [00:02<00:00, 67.73it/s]\n"
     ]
    },
    {
     "name": "stdout",
     "output_type": "stream",
     "text": [
      "Epoch 37 - Average training loss: 1.70, Average training accuracy: 0.47\n",
      "Epoch 37 - Average validation loss: 1.72, Average validation accuracy: 0.51\n",
      "Training epoch 38\n"
     ]
    },
    {
     "name": "stderr",
     "output_type": "stream",
     "text": [
      "Iteration: 100%|█████████████████████████████████████████████████████████████████████████████████████████████████████████████████████████████████████████████████████████████████████████████████████████████████████████████████████████████████████████████| 188/188 [00:02<00:00, 68.14it/s]\n"
     ]
    },
    {
     "name": "stdout",
     "output_type": "stream",
     "text": [
      "Epoch 38 - Average training loss: 1.69, Average training accuracy: 0.48\n",
      "Epoch 38 - Average validation loss: 1.72, Average validation accuracy: 0.51\n",
      "Training epoch 39\n"
     ]
    },
    {
     "name": "stderr",
     "output_type": "stream",
     "text": [
      "Iteration: 100%|█████████████████████████████████████████████████████████████████████████████████████████████████████████████████████████████████████████████████████████████████████████████████████████████████████████████████████████████████████████████| 188/188 [00:02<00:00, 68.26it/s]\n"
     ]
    },
    {
     "name": "stdout",
     "output_type": "stream",
     "text": [
      "Epoch 39 - Average training loss: 1.69, Average training accuracy: 0.48\n",
      "Epoch 39 - Average validation loss: 1.71, Average validation accuracy: 0.51\n",
      "Training epoch 40\n"
     ]
    },
    {
     "name": "stderr",
     "output_type": "stream",
     "text": [
      "Iteration: 100%|█████████████████████████████████████████████████████████████████████████████████████████████████████████████████████████████████████████████████████████████████████████████████████████████████████████████████████████████████████████████| 188/188 [00:02<00:00, 68.33it/s]\n"
     ]
    },
    {
     "name": "stdout",
     "output_type": "stream",
     "text": [
      "Epoch 40 - Average training loss: 1.68, Average training accuracy: 0.49\n",
      "Epoch 40 - Average validation loss: 1.71, Average validation accuracy: 0.51\n",
      "Training epoch 41\n"
     ]
    },
    {
     "name": "stderr",
     "output_type": "stream",
     "text": [
      "Iteration: 100%|█████████████████████████████████████████████████████████████████████████████████████████████████████████████████████████████████████████████████████████████████████████████████████████████████████████████████████████████████████████████| 188/188 [00:02<00:00, 68.28it/s]\n"
     ]
    },
    {
     "name": "stdout",
     "output_type": "stream",
     "text": [
      "Epoch 41 - Average training loss: 1.68, Average training accuracy: 0.48\n",
      "Epoch 41 - Average validation loss: 1.71, Average validation accuracy: 0.51\n",
      "Training epoch 42\n"
     ]
    },
    {
     "name": "stderr",
     "output_type": "stream",
     "text": [
      "Iteration: 100%|█████████████████████████████████████████████████████████████████████████████████████████████████████████████████████████████████████████████████████████████████████████████████████████████████████████████████████████████████████████████| 188/188 [00:02<00:00, 68.28it/s]\n"
     ]
    },
    {
     "name": "stdout",
     "output_type": "stream",
     "text": [
      "Epoch 42 - Average training loss: 1.68, Average training accuracy: 0.48\n",
      "Epoch 42 - Average validation loss: 1.70, Average validation accuracy: 0.51\n",
      "Training epoch 43\n"
     ]
    },
    {
     "name": "stderr",
     "output_type": "stream",
     "text": [
      "Iteration: 100%|█████████████████████████████████████████████████████████████████████████████████████████████████████████████████████████████████████████████████████████████████████████████████████████████████████████████████████████████████████████████| 188/188 [00:02<00:00, 68.20it/s]\n"
     ]
    },
    {
     "name": "stdout",
     "output_type": "stream",
     "text": [
      "Epoch 43 - Average training loss: 1.68, Average training accuracy: 0.50\n",
      "Epoch 43 - Average validation loss: 1.70, Average validation accuracy: 0.51\n",
      "Training epoch 44\n"
     ]
    },
    {
     "name": "stderr",
     "output_type": "stream",
     "text": [
      "Iteration: 100%|█████████████████████████████████████████████████████████████████████████████████████████████████████████████████████████████████████████████████████████████████████████████████████████████████████████████████████████████████████████████| 188/188 [00:02<00:00, 68.28it/s]\n"
     ]
    },
    {
     "name": "stdout",
     "output_type": "stream",
     "text": [
      "Epoch 44 - Average training loss: 1.68, Average training accuracy: 0.48\n",
      "Epoch 44 - Average validation loss: 1.70, Average validation accuracy: 0.51\n",
      "Training epoch 45\n"
     ]
    },
    {
     "name": "stderr",
     "output_type": "stream",
     "text": [
      "Iteration: 100%|█████████████████████████████████████████████████████████████████████████████████████████████████████████████████████████████████████████████████████████████████████████████████████████████████████████████████████████████████████████████| 188/188 [00:02<00:00, 68.22it/s]\n"
     ]
    },
    {
     "name": "stdout",
     "output_type": "stream",
     "text": [
      "Epoch 45 - Average training loss: 1.67, Average training accuracy: 0.48\n",
      "Epoch 45 - Average validation loss: 1.69, Average validation accuracy: 0.51\n",
      "Training epoch 46\n"
     ]
    },
    {
     "name": "stderr",
     "output_type": "stream",
     "text": [
      "Iteration: 100%|█████████████████████████████████████████████████████████████████████████████████████████████████████████████████████████████████████████████████████████████████████████████████████████████████████████████████████████████████████████████| 188/188 [00:02<00:00, 68.19it/s]\n"
     ]
    },
    {
     "name": "stdout",
     "output_type": "stream",
     "text": [
      "Epoch 46 - Average training loss: 1.66, Average training accuracy: 0.49\n",
      "Epoch 46 - Average validation loss: 1.69, Average validation accuracy: 0.52\n",
      "Training epoch 47\n"
     ]
    },
    {
     "name": "stderr",
     "output_type": "stream",
     "text": [
      "Iteration: 100%|█████████████████████████████████████████████████████████████████████████████████████████████████████████████████████████████████████████████████████████████████████████████████████████████████████████████████████████████████████████████| 188/188 [00:02<00:00, 68.25it/s]\n"
     ]
    },
    {
     "name": "stdout",
     "output_type": "stream",
     "text": [
      "Epoch 47 - Average training loss: 1.67, Average training accuracy: 0.48\n",
      "Epoch 47 - Average validation loss: 1.69, Average validation accuracy: 0.52\n",
      "Training epoch 48\n"
     ]
    },
    {
     "name": "stderr",
     "output_type": "stream",
     "text": [
      "Iteration: 100%|█████████████████████████████████████████████████████████████████████████████████████████████████████████████████████████████████████████████████████████████████████████████████████████████████████████████████████████████████████████████| 188/188 [00:02<00:00, 68.17it/s]\n"
     ]
    },
    {
     "name": "stdout",
     "output_type": "stream",
     "text": [
      "Epoch 48 - Average training loss: 1.66, Average training accuracy: 0.49\n",
      "Epoch 48 - Average validation loss: 1.68, Average validation accuracy: 0.51\n",
      "Training epoch 49\n"
     ]
    },
    {
     "name": "stderr",
     "output_type": "stream",
     "text": [
      "Iteration: 100%|█████████████████████████████████████████████████████████████████████████████████████████████████████████████████████████████████████████████████████████████████████████████████████████████████████████████████████████████████████████████| 188/188 [00:02<00:00, 68.27it/s]\n"
     ]
    },
    {
     "name": "stdout",
     "output_type": "stream",
     "text": [
      "Epoch 49 - Average training loss: 1.66, Average training accuracy: 0.48\n",
      "Epoch 49 - Average validation loss: 1.68, Average validation accuracy: 0.51\n",
      "Training epoch 50\n"
     ]
    },
    {
     "name": "stderr",
     "output_type": "stream",
     "text": [
      "Iteration: 100%|█████████████████████████████████████████████████████████████████████████████████████████████████████████████████████████████████████████████████████████████████████████████████████████████████████████████████████████████████████████████| 188/188 [00:02<00:00, 68.18it/s]\n"
     ]
    },
    {
     "name": "stdout",
     "output_type": "stream",
     "text": [
      "Epoch 50 - Average training loss: 1.66, Average training accuracy: 0.49\n",
      "Epoch 50 - Average validation loss: 1.68, Average validation accuracy: 0.51\n",
      "Training epoch 51\n"
     ]
    },
    {
     "name": "stderr",
     "output_type": "stream",
     "text": [
      "Iteration: 100%|█████████████████████████████████████████████████████████████████████████████████████████████████████████████████████████████████████████████████████████████████████████████████████████████████████████████████████████████████████████████| 188/188 [00:02<00:00, 68.27it/s]\n"
     ]
    },
    {
     "name": "stdout",
     "output_type": "stream",
     "text": [
      "Epoch 51 - Average training loss: 1.64, Average training accuracy: 0.50\n",
      "Epoch 51 - Average validation loss: 1.67, Average validation accuracy: 0.52\n",
      "Training epoch 52\n"
     ]
    },
    {
     "name": "stderr",
     "output_type": "stream",
     "text": [
      "Iteration: 100%|█████████████████████████████████████████████████████████████████████████████████████████████████████████████████████████████████████████████████████████████████████████████████████████████████████████████████████████████████████████████| 188/188 [00:02<00:00, 68.24it/s]\n"
     ]
    },
    {
     "name": "stdout",
     "output_type": "stream",
     "text": [
      "Epoch 52 - Average training loss: 1.64, Average training accuracy: 0.49\n",
      "Epoch 52 - Average validation loss: 1.67, Average validation accuracy: 0.51\n",
      "Training epoch 53\n"
     ]
    },
    {
     "name": "stderr",
     "output_type": "stream",
     "text": [
      "Iteration: 100%|█████████████████████████████████████████████████████████████████████████████████████████████████████████████████████████████████████████████████████████████████████████████████████████████████████████████████████████████████████████████| 188/188 [00:02<00:00, 68.23it/s]\n"
     ]
    },
    {
     "name": "stdout",
     "output_type": "stream",
     "text": [
      "Epoch 53 - Average training loss: 1.64, Average training accuracy: 0.49\n",
      "Epoch 53 - Average validation loss: 1.67, Average validation accuracy: 0.52\n",
      "Training epoch 54\n"
     ]
    },
    {
     "name": "stderr",
     "output_type": "stream",
     "text": [
      "Iteration: 100%|█████████████████████████████████████████████████████████████████████████████████████████████████████████████████████████████████████████████████████████████████████████████████████████████████████████████████████████████████████████████| 188/188 [00:02<00:00, 68.23it/s]\n"
     ]
    },
    {
     "name": "stdout",
     "output_type": "stream",
     "text": [
      "Epoch 54 - Average training loss: 1.64, Average training accuracy: 0.49\n",
      "Epoch 54 - Average validation loss: 1.67, Average validation accuracy: 0.51\n",
      "Training epoch 55\n"
     ]
    },
    {
     "name": "stderr",
     "output_type": "stream",
     "text": [
      "Iteration: 100%|█████████████████████████████████████████████████████████████████████████████████████████████████████████████████████████████████████████████████████████████████████████████████████████████████████████████████████████████████████████████| 188/188 [00:02<00:00, 68.19it/s]\n"
     ]
    },
    {
     "name": "stdout",
     "output_type": "stream",
     "text": [
      "Epoch 55 - Average training loss: 1.64, Average training accuracy: 0.49\n",
      "Epoch 55 - Average validation loss: 1.66, Average validation accuracy: 0.51\n",
      "Training epoch 56\n"
     ]
    },
    {
     "name": "stderr",
     "output_type": "stream",
     "text": [
      "Iteration: 100%|█████████████████████████████████████████████████████████████████████████████████████████████████████████████████████████████████████████████████████████████████████████████████████████████████████████████████████████████████████████████| 188/188 [00:02<00:00, 68.16it/s]\n"
     ]
    },
    {
     "name": "stdout",
     "output_type": "stream",
     "text": [
      "Epoch 56 - Average training loss: 1.64, Average training accuracy: 0.50\n",
      "Epoch 56 - Average validation loss: 1.66, Average validation accuracy: 0.52\n",
      "Training epoch 57\n"
     ]
    },
    {
     "name": "stderr",
     "output_type": "stream",
     "text": [
      "Iteration: 100%|█████████████████████████████████████████████████████████████████████████████████████████████████████████████████████████████████████████████████████████████████████████████████████████████████████████████████████████████████████████████| 188/188 [00:02<00:00, 68.21it/s]\n"
     ]
    },
    {
     "name": "stdout",
     "output_type": "stream",
     "text": [
      "Epoch 57 - Average training loss: 1.64, Average training accuracy: 0.49\n",
      "Epoch 57 - Average validation loss: 1.66, Average validation accuracy: 0.52\n",
      "Training epoch 58\n"
     ]
    },
    {
     "name": "stderr",
     "output_type": "stream",
     "text": [
      "Iteration: 100%|█████████████████████████████████████████████████████████████████████████████████████████████████████████████████████████████████████████████████████████████████████████████████████████████████████████████████████████████████████████████| 188/188 [00:02<00:00, 68.04it/s]\n"
     ]
    },
    {
     "name": "stdout",
     "output_type": "stream",
     "text": [
      "Epoch 58 - Average training loss: 1.63, Average training accuracy: 0.50\n",
      "Epoch 58 - Average validation loss: 1.66, Average validation accuracy: 0.52\n",
      "Training epoch 59\n"
     ]
    },
    {
     "name": "stderr",
     "output_type": "stream",
     "text": [
      "Iteration: 100%|█████████████████████████████████████████████████████████████████████████████████████████████████████████████████████████████████████████████████████████████████████████████████████████████████████████████████████████████████████████████| 188/188 [00:02<00:00, 68.08it/s]\n"
     ]
    },
    {
     "name": "stdout",
     "output_type": "stream",
     "text": [
      "Epoch 59 - Average training loss: 1.62, Average training accuracy: 0.50\n",
      "Epoch 59 - Average validation loss: 1.65, Average validation accuracy: 0.52\n",
      "Training epoch 60\n"
     ]
    },
    {
     "name": "stderr",
     "output_type": "stream",
     "text": [
      "Iteration: 100%|█████████████████████████████████████████████████████████████████████████████████████████████████████████████████████████████████████████████████████████████████████████████████████████████████████████████████████████████████████████████| 188/188 [00:02<00:00, 67.51it/s]\n"
     ]
    },
    {
     "name": "stdout",
     "output_type": "stream",
     "text": [
      "Epoch 60 - Average training loss: 1.63, Average training accuracy: 0.49\n",
      "Epoch 60 - Average validation loss: 1.65, Average validation accuracy: 0.52\n",
      "Training epoch 61\n"
     ]
    },
    {
     "name": "stderr",
     "output_type": "stream",
     "text": [
      "Iteration: 100%|█████████████████████████████████████████████████████████████████████████████████████████████████████████████████████████████████████████████████████████████████████████████████████████████████████████████████████████████████████████████| 188/188 [00:02<00:00, 68.03it/s]\n"
     ]
    },
    {
     "name": "stdout",
     "output_type": "stream",
     "text": [
      "Epoch 61 - Average training loss: 1.63, Average training accuracy: 0.49\n",
      "Epoch 61 - Average validation loss: 1.65, Average validation accuracy: 0.52\n",
      "Training epoch 62\n"
     ]
    },
    {
     "name": "stderr",
     "output_type": "stream",
     "text": [
      "Iteration: 100%|█████████████████████████████████████████████████████████████████████████████████████████████████████████████████████████████████████████████████████████████████████████████████████████████████████████████████████████████████████████████| 188/188 [00:02<00:00, 68.05it/s]\n"
     ]
    },
    {
     "name": "stdout",
     "output_type": "stream",
     "text": [
      "Epoch 62 - Average training loss: 1.62, Average training accuracy: 0.50\n",
      "Epoch 62 - Average validation loss: 1.65, Average validation accuracy: 0.52\n",
      "Training epoch 63\n"
     ]
    },
    {
     "name": "stderr",
     "output_type": "stream",
     "text": [
      "Iteration: 100%|█████████████████████████████████████████████████████████████████████████████████████████████████████████████████████████████████████████████████████████████████████████████████████████████████████████████████████████████████████████████| 188/188 [00:02<00:00, 68.13it/s]\n"
     ]
    },
    {
     "name": "stdout",
     "output_type": "stream",
     "text": [
      "Epoch 63 - Average training loss: 1.62, Average training accuracy: 0.50\n",
      "Epoch 63 - Average validation loss: 1.65, Average validation accuracy: 0.52\n",
      "Training epoch 64\n"
     ]
    },
    {
     "name": "stderr",
     "output_type": "stream",
     "text": [
      "Iteration: 100%|█████████████████████████████████████████████████████████████████████████████████████████████████████████████████████████████████████████████████████████████████████████████████████████████████████████████████████████████████████████████| 188/188 [00:02<00:00, 68.04it/s]\n"
     ]
    },
    {
     "name": "stdout",
     "output_type": "stream",
     "text": [
      "Epoch 64 - Average training loss: 1.63, Average training accuracy: 0.49\n",
      "Epoch 64 - Average validation loss: 1.64, Average validation accuracy: 0.52\n",
      "Training epoch 65\n"
     ]
    },
    {
     "name": "stderr",
     "output_type": "stream",
     "text": [
      "Iteration: 100%|█████████████████████████████████████████████████████████████████████████████████████████████████████████████████████████████████████████████████████████████████████████████████████████████████████████████████████████████████████████████| 188/188 [00:02<00:00, 68.02it/s]\n"
     ]
    },
    {
     "name": "stdout",
     "output_type": "stream",
     "text": [
      "Epoch 65 - Average training loss: 1.62, Average training accuracy: 0.50\n",
      "Epoch 65 - Average validation loss: 1.64, Average validation accuracy: 0.52\n",
      "Training epoch 66\n"
     ]
    },
    {
     "name": "stderr",
     "output_type": "stream",
     "text": [
      "Iteration: 100%|█████████████████████████████████████████████████████████████████████████████████████████████████████████████████████████████████████████████████████████████████████████████████████████████████████████████████████████████████████████████| 188/188 [00:02<00:00, 67.99it/s]\n"
     ]
    },
    {
     "name": "stdout",
     "output_type": "stream",
     "text": [
      "Epoch 66 - Average training loss: 1.62, Average training accuracy: 0.50\n",
      "Epoch 66 - Average validation loss: 1.64, Average validation accuracy: 0.53\n",
      "Training epoch 67\n"
     ]
    },
    {
     "name": "stderr",
     "output_type": "stream",
     "text": [
      "Iteration: 100%|█████████████████████████████████████████████████████████████████████████████████████████████████████████████████████████████████████████████████████████████████████████████████████████████████████████████████████████████████████████████| 188/188 [00:02<00:00, 68.02it/s]\n"
     ]
    },
    {
     "name": "stdout",
     "output_type": "stream",
     "text": [
      "Epoch 67 - Average training loss: 1.61, Average training accuracy: 0.50\n",
      "Epoch 67 - Average validation loss: 1.64, Average validation accuracy: 0.53\n",
      "Training epoch 68\n"
     ]
    },
    {
     "name": "stderr",
     "output_type": "stream",
     "text": [
      "Iteration: 100%|█████████████████████████████████████████████████████████████████████████████████████████████████████████████████████████████████████████████████████████████████████████████████████████████████████████████████████████████████████████████| 188/188 [00:02<00:00, 68.06it/s]\n"
     ]
    },
    {
     "name": "stdout",
     "output_type": "stream",
     "text": [
      "Epoch 68 - Average training loss: 1.61, Average training accuracy: 0.51\n",
      "Epoch 68 - Average validation loss: 1.64, Average validation accuracy: 0.53\n",
      "Training epoch 69\n"
     ]
    },
    {
     "name": "stderr",
     "output_type": "stream",
     "text": [
      "Iteration: 100%|█████████████████████████████████████████████████████████████████████████████████████████████████████████████████████████████████████████████████████████████████████████████████████████████████████████████████████████████████████████████| 188/188 [00:02<00:00, 68.01it/s]\n"
     ]
    },
    {
     "name": "stdout",
     "output_type": "stream",
     "text": [
      "Epoch 69 - Average training loss: 1.61, Average training accuracy: 0.50\n",
      "Epoch 69 - Average validation loss: 1.64, Average validation accuracy: 0.52\n",
      "Training epoch 70\n"
     ]
    },
    {
     "name": "stderr",
     "output_type": "stream",
     "text": [
      "Iteration: 100%|█████████████████████████████████████████████████████████████████████████████████████████████████████████████████████████████████████████████████████████████████████████████████████████████████████████████████████████████████████████████| 188/188 [00:02<00:00, 68.05it/s]\n"
     ]
    },
    {
     "name": "stdout",
     "output_type": "stream",
     "text": [
      "Epoch 70 - Average training loss: 1.60, Average training accuracy: 0.51\n",
      "Epoch 70 - Average validation loss: 1.63, Average validation accuracy: 0.53\n",
      "Training epoch 71\n"
     ]
    },
    {
     "name": "stderr",
     "output_type": "stream",
     "text": [
      "Iteration: 100%|█████████████████████████████████████████████████████████████████████████████████████████████████████████████████████████████████████████████████████████████████████████████████████████████████████████████████████████████████████████████| 188/188 [00:02<00:00, 67.97it/s]\n"
     ]
    },
    {
     "name": "stdout",
     "output_type": "stream",
     "text": [
      "Epoch 71 - Average training loss: 1.61, Average training accuracy: 0.49\n",
      "Epoch 71 - Average validation loss: 1.63, Average validation accuracy: 0.53\n",
      "Training epoch 72\n"
     ]
    },
    {
     "name": "stderr",
     "output_type": "stream",
     "text": [
      "Iteration: 100%|█████████████████████████████████████████████████████████████████████████████████████████████████████████████████████████████████████████████████████████████████████████████████████████████████████████████████████████████████████████████| 188/188 [00:02<00:00, 68.04it/s]\n"
     ]
    },
    {
     "name": "stdout",
     "output_type": "stream",
     "text": [
      "Epoch 72 - Average training loss: 1.61, Average training accuracy: 0.50\n",
      "Epoch 72 - Average validation loss: 1.63, Average validation accuracy: 0.53\n",
      "Training epoch 73\n"
     ]
    },
    {
     "name": "stderr",
     "output_type": "stream",
     "text": [
      "Iteration: 100%|█████████████████████████████████████████████████████████████████████████████████████████████████████████████████████████████████████████████████████████████████████████████████████████████████████████████████████████████████████████████| 188/188 [00:02<00:00, 67.97it/s]\n"
     ]
    },
    {
     "name": "stdout",
     "output_type": "stream",
     "text": [
      "Epoch 73 - Average training loss: 1.61, Average training accuracy: 0.49\n",
      "Epoch 73 - Average validation loss: 1.63, Average validation accuracy: 0.53\n",
      "Training epoch 74\n"
     ]
    },
    {
     "name": "stderr",
     "output_type": "stream",
     "text": [
      "Iteration: 100%|█████████████████████████████████████████████████████████████████████████████████████████████████████████████████████████████████████████████████████████████████████████████████████████████████████████████████████████████████████████████| 188/188 [00:02<00:00, 68.00it/s]\n"
     ]
    },
    {
     "name": "stdout",
     "output_type": "stream",
     "text": [
      "Epoch 74 - Average training loss: 1.60, Average training accuracy: 0.50\n",
      "Epoch 74 - Average validation loss: 1.63, Average validation accuracy: 0.53\n",
      "Training epoch 75\n"
     ]
    },
    {
     "name": "stderr",
     "output_type": "stream",
     "text": [
      "Iteration: 100%|█████████████████████████████████████████████████████████████████████████████████████████████████████████████████████████████████████████████████████████████████████████████████████████████████████████████████████████████████████████████| 188/188 [00:02<00:00, 67.93it/s]\n"
     ]
    },
    {
     "name": "stdout",
     "output_type": "stream",
     "text": [
      "Epoch 75 - Average training loss: 1.60, Average training accuracy: 0.51\n",
      "Epoch 75 - Average validation loss: 1.63, Average validation accuracy: 0.53\n",
      "Training epoch 76\n"
     ]
    },
    {
     "name": "stderr",
     "output_type": "stream",
     "text": [
      "Iteration: 100%|█████████████████████████████████████████████████████████████████████████████████████████████████████████████████████████████████████████████████████████████████████████████████████████████████████████████████████████████████████████████| 188/188 [00:02<00:00, 67.93it/s]\n"
     ]
    },
    {
     "name": "stdout",
     "output_type": "stream",
     "text": [
      "Epoch 76 - Average training loss: 1.61, Average training accuracy: 0.50\n",
      "Epoch 76 - Average validation loss: 1.63, Average validation accuracy: 0.53\n",
      "Training epoch 77\n"
     ]
    },
    {
     "name": "stderr",
     "output_type": "stream",
     "text": [
      "Iteration: 100%|█████████████████████████████████████████████████████████████████████████████████████████████████████████████████████████████████████████████████████████████████████████████████████████████████████████████████████████████████████████████| 188/188 [00:02<00:00, 67.89it/s]\n"
     ]
    },
    {
     "name": "stdout",
     "output_type": "stream",
     "text": [
      "Epoch 77 - Average training loss: 1.60, Average training accuracy: 0.51\n",
      "Epoch 77 - Average validation loss: 1.63, Average validation accuracy: 0.53\n",
      "Training epoch 78\n"
     ]
    },
    {
     "name": "stderr",
     "output_type": "stream",
     "text": [
      "Iteration: 100%|█████████████████████████████████████████████████████████████████████████████████████████████████████████████████████████████████████████████████████████████████████████████████████████████████████████████████████████████████████████████| 188/188 [00:02<00:00, 67.88it/s]\n"
     ]
    },
    {
     "name": "stdout",
     "output_type": "stream",
     "text": [
      "Epoch 78 - Average training loss: 1.60, Average training accuracy: 0.50\n",
      "Epoch 78 - Average validation loss: 1.63, Average validation accuracy: 0.53\n",
      "Training epoch 79\n"
     ]
    },
    {
     "name": "stderr",
     "output_type": "stream",
     "text": [
      "Iteration: 100%|█████████████████████████████████████████████████████████████████████████████████████████████████████████████████████████████████████████████████████████████████████████████████████████████████████████████████████████████████████████████| 188/188 [00:02<00:00, 67.96it/s]\n"
     ]
    },
    {
     "name": "stdout",
     "output_type": "stream",
     "text": [
      "Epoch 79 - Average training loss: 1.60, Average training accuracy: 0.50\n",
      "Epoch 79 - Average validation loss: 1.62, Average validation accuracy: 0.53\n",
      "Training epoch 80\n"
     ]
    },
    {
     "name": "stderr",
     "output_type": "stream",
     "text": [
      "Iteration: 100%|█████████████████████████████████████████████████████████████████████████████████████████████████████████████████████████████████████████████████████████████████████████████████████████████████████████████████████████████████████████████| 188/188 [00:02<00:00, 68.00it/s]\n"
     ]
    },
    {
     "name": "stdout",
     "output_type": "stream",
     "text": [
      "Epoch 80 - Average training loss: 1.60, Average training accuracy: 0.49\n",
      "Epoch 80 - Average validation loss: 1.62, Average validation accuracy: 0.53\n",
      "Training epoch 81\n"
     ]
    },
    {
     "name": "stderr",
     "output_type": "stream",
     "text": [
      "Iteration: 100%|█████████████████████████████████████████████████████████████████████████████████████████████████████████████████████████████████████████████████████████████████████████████████████████████████████████████████████████████████████████████| 188/188 [00:02<00:00, 67.86it/s]\n"
     ]
    },
    {
     "name": "stdout",
     "output_type": "stream",
     "text": [
      "Epoch 81 - Average training loss: 1.61, Average training accuracy: 0.51\n",
      "Epoch 81 - Average validation loss: 1.62, Average validation accuracy: 0.53\n",
      "Training epoch 82\n"
     ]
    },
    {
     "name": "stderr",
     "output_type": "stream",
     "text": [
      "Iteration: 100%|█████████████████████████████████████████████████████████████████████████████████████████████████████████████████████████████████████████████████████████████████████████████████████████████████████████████████████████████████████████████| 188/188 [00:02<00:00, 68.04it/s]\n"
     ]
    },
    {
     "name": "stdout",
     "output_type": "stream",
     "text": [
      "Epoch 82 - Average training loss: 1.60, Average training accuracy: 0.50\n",
      "Epoch 82 - Average validation loss: 1.62, Average validation accuracy: 0.53\n",
      "Training epoch 83\n"
     ]
    },
    {
     "name": "stderr",
     "output_type": "stream",
     "text": [
      "Iteration: 100%|█████████████████████████████████████████████████████████████████████████████████████████████████████████████████████████████████████████████████████████████████████████████████████████████████████████████████████████████████████████████| 188/188 [00:02<00:00, 67.91it/s]\n"
     ]
    },
    {
     "name": "stdout",
     "output_type": "stream",
     "text": [
      "Epoch 83 - Average training loss: 1.59, Average training accuracy: 0.51\n",
      "Epoch 83 - Average validation loss: 1.62, Average validation accuracy: 0.53\n",
      "Training epoch 84\n"
     ]
    },
    {
     "name": "stderr",
     "output_type": "stream",
     "text": [
      "Iteration: 100%|█████████████████████████████████████████████████████████████████████████████████████████████████████████████████████████████████████████████████████████████████████████████████████████████████████████████████████████████████████████████| 188/188 [00:02<00:00, 67.93it/s]\n"
     ]
    },
    {
     "name": "stdout",
     "output_type": "stream",
     "text": [
      "Epoch 84 - Average training loss: 1.60, Average training accuracy: 0.51\n",
      "Epoch 84 - Average validation loss: 1.62, Average validation accuracy: 0.53\n",
      "Training epoch 85\n"
     ]
    },
    {
     "name": "stderr",
     "output_type": "stream",
     "text": [
      "Iteration: 100%|█████████████████████████████████████████████████████████████████████████████████████████████████████████████████████████████████████████████████████████████████████████████████████████████████████████████████████████████████████████████| 188/188 [00:02<00:00, 67.95it/s]\n"
     ]
    },
    {
     "name": "stdout",
     "output_type": "stream",
     "text": [
      "Epoch 85 - Average training loss: 1.60, Average training accuracy: 0.50\n",
      "Epoch 85 - Average validation loss: 1.62, Average validation accuracy: 0.53\n",
      "Training epoch 86\n"
     ]
    },
    {
     "name": "stderr",
     "output_type": "stream",
     "text": [
      "Iteration: 100%|█████████████████████████████████████████████████████████████████████████████████████████████████████████████████████████████████████████████████████████████████████████████████████████████████████████████████████████████████████████████| 188/188 [00:02<00:00, 67.93it/s]\n"
     ]
    },
    {
     "name": "stdout",
     "output_type": "stream",
     "text": [
      "Epoch 86 - Average training loss: 1.60, Average training accuracy: 0.51\n",
      "Epoch 86 - Average validation loss: 1.62, Average validation accuracy: 0.53\n",
      "Training epoch 87\n"
     ]
    },
    {
     "name": "stderr",
     "output_type": "stream",
     "text": [
      "Iteration: 100%|█████████████████████████████████████████████████████████████████████████████████████████████████████████████████████████████████████████████████████████████████████████████████████████████████████████████████████████████████████████████| 188/188 [00:02<00:00, 67.91it/s]\n"
     ]
    },
    {
     "name": "stdout",
     "output_type": "stream",
     "text": [
      "Epoch 87 - Average training loss: 1.59, Average training accuracy: 0.50\n",
      "Epoch 87 - Average validation loss: 1.62, Average validation accuracy: 0.53\n",
      "Training epoch 88\n"
     ]
    },
    {
     "name": "stderr",
     "output_type": "stream",
     "text": [
      "Iteration: 100%|█████████████████████████████████████████████████████████████████████████████████████████████████████████████████████████████████████████████████████████████████████████████████████████████████████████████████████████████████████████████| 188/188 [00:02<00:00, 67.94it/s]\n"
     ]
    },
    {
     "name": "stdout",
     "output_type": "stream",
     "text": [
      "Epoch 88 - Average training loss: 1.59, Average training accuracy: 0.51\n",
      "Epoch 88 - Average validation loss: 1.62, Average validation accuracy: 0.53\n",
      "Training epoch 89\n"
     ]
    },
    {
     "name": "stderr",
     "output_type": "stream",
     "text": [
      "Iteration: 100%|█████████████████████████████████████████████████████████████████████████████████████████████████████████████████████████████████████████████████████████████████████████████████████████████████████████████████████████████████████████████| 188/188 [00:02<00:00, 67.92it/s]\n"
     ]
    },
    {
     "name": "stdout",
     "output_type": "stream",
     "text": [
      "Epoch 89 - Average training loss: 1.59, Average training accuracy: 0.50\n",
      "Epoch 89 - Average validation loss: 1.62, Average validation accuracy: 0.53\n",
      "Training epoch 90\n"
     ]
    },
    {
     "name": "stderr",
     "output_type": "stream",
     "text": [
      "Iteration: 100%|█████████████████████████████████████████████████████████████████████████████████████████████████████████████████████████████████████████████████████████████████████████████████████████████████████████████████████████████████████████████| 188/188 [00:02<00:00, 67.94it/s]\n"
     ]
    },
    {
     "name": "stdout",
     "output_type": "stream",
     "text": [
      "Epoch 90 - Average training loss: 1.59, Average training accuracy: 0.50\n",
      "Epoch 90 - Average validation loss: 1.62, Average validation accuracy: 0.53\n",
      "Training epoch 91\n"
     ]
    },
    {
     "name": "stderr",
     "output_type": "stream",
     "text": [
      "Iteration: 100%|█████████████████████████████████████████████████████████████████████████████████████████████████████████████████████████████████████████████████████████████████████████████████████████████████████████████████████████████████████████████| 188/188 [00:02<00:00, 68.03it/s]\n"
     ]
    },
    {
     "name": "stdout",
     "output_type": "stream",
     "text": [
      "Epoch 91 - Average training loss: 1.60, Average training accuracy: 0.50\n",
      "Epoch 91 - Average validation loss: 1.62, Average validation accuracy: 0.53\n",
      "Training epoch 92\n"
     ]
    },
    {
     "name": "stderr",
     "output_type": "stream",
     "text": [
      "Iteration: 100%|█████████████████████████████████████████████████████████████████████████████████████████████████████████████████████████████████████████████████████████████████████████████████████████████████████████████████████████████████████████████| 188/188 [00:02<00:00, 67.59it/s]\n"
     ]
    },
    {
     "name": "stdout",
     "output_type": "stream",
     "text": [
      "Epoch 92 - Average training loss: 1.58, Average training accuracy: 0.50\n",
      "Epoch 92 - Average validation loss: 1.62, Average validation accuracy: 0.53\n",
      "Training epoch 93\n"
     ]
    },
    {
     "name": "stderr",
     "output_type": "stream",
     "text": [
      "Iteration: 100%|█████████████████████████████████████████████████████████████████████████████████████████████████████████████████████████████████████████████████████████████████████████████████████████████████████████████████████████████████████████████| 188/188 [00:02<00:00, 68.13it/s]\n"
     ]
    },
    {
     "name": "stdout",
     "output_type": "stream",
     "text": [
      "Epoch 93 - Average training loss: 1.58, Average training accuracy: 0.51\n",
      "Epoch 93 - Average validation loss: 1.62, Average validation accuracy: 0.53\n",
      "Training epoch 94\n"
     ]
    },
    {
     "name": "stderr",
     "output_type": "stream",
     "text": [
      "Iteration: 100%|█████████████████████████████████████████████████████████████████████████████████████████████████████████████████████████████████████████████████████████████████████████████████████████████████████████████████████████████████████████████| 188/188 [00:02<00:00, 68.17it/s]\n"
     ]
    },
    {
     "name": "stdout",
     "output_type": "stream",
     "text": [
      "Epoch 94 - Average training loss: 1.59, Average training accuracy: 0.51\n",
      "Epoch 94 - Average validation loss: 1.61, Average validation accuracy: 0.53\n",
      "Training epoch 95\n"
     ]
    },
    {
     "name": "stderr",
     "output_type": "stream",
     "text": [
      "Iteration: 100%|█████████████████████████████████████████████████████████████████████████████████████████████████████████████████████████████████████████████████████████████████████████████████████████████████████████████████████████████████████████████| 188/188 [00:02<00:00, 68.21it/s]\n"
     ]
    },
    {
     "name": "stdout",
     "output_type": "stream",
     "text": [
      "Epoch 95 - Average training loss: 1.59, Average training accuracy: 0.50\n",
      "Epoch 95 - Average validation loss: 1.61, Average validation accuracy: 0.53\n",
      "Training epoch 96\n"
     ]
    },
    {
     "name": "stderr",
     "output_type": "stream",
     "text": [
      "Iteration: 100%|█████████████████████████████████████████████████████████████████████████████████████████████████████████████████████████████████████████████████████████████████████████████████████████████████████████████████████████████████████████████| 188/188 [00:02<00:00, 68.18it/s]\n"
     ]
    },
    {
     "name": "stdout",
     "output_type": "stream",
     "text": [
      "Epoch 96 - Average training loss: 1.58, Average training accuracy: 0.51\n",
      "Epoch 96 - Average validation loss: 1.61, Average validation accuracy: 0.53\n",
      "Training epoch 97\n"
     ]
    },
    {
     "name": "stderr",
     "output_type": "stream",
     "text": [
      "Iteration: 100%|█████████████████████████████████████████████████████████████████████████████████████████████████████████████████████████████████████████████████████████████████████████████████████████████████████████████████████████████████████████████| 188/188 [00:02<00:00, 68.16it/s]\n"
     ]
    },
    {
     "name": "stdout",
     "output_type": "stream",
     "text": [
      "Epoch 97 - Average training loss: 1.59, Average training accuracy: 0.51\n",
      "Epoch 97 - Average validation loss: 1.61, Average validation accuracy: 0.53\n",
      "Training epoch 98\n"
     ]
    },
    {
     "name": "stderr",
     "output_type": "stream",
     "text": [
      "Iteration: 100%|█████████████████████████████████████████████████████████████████████████████████████████████████████████████████████████████████████████████████████████████████████████████████████████████████████████████████████████████████████████████| 188/188 [00:02<00:00, 68.22it/s]\n"
     ]
    },
    {
     "name": "stdout",
     "output_type": "stream",
     "text": [
      "Epoch 98 - Average training loss: 1.59, Average training accuracy: 0.51\n",
      "Epoch 98 - Average validation loss: 1.61, Average validation accuracy: 0.53\n",
      "Training epoch 99\n"
     ]
    },
    {
     "name": "stderr",
     "output_type": "stream",
     "text": [
      "Iteration: 100%|█████████████████████████████████████████████████████████████████████████████████████████████████████████████████████████████████████████████████████████████████████████████████████████████████████████████████████████████████████████████| 188/188 [00:02<00:00, 68.21it/s]\n"
     ]
    },
    {
     "name": "stdout",
     "output_type": "stream",
     "text": [
      "Epoch 99 - Average training loss: 1.59, Average training accuracy: 0.50\n",
      "Epoch 99 - Average validation loss: 1.61, Average validation accuracy: 0.53\n",
      "Training epoch 100\n"
     ]
    },
    {
     "name": "stderr",
     "output_type": "stream",
     "text": [
      "Iteration: 100%|█████████████████████████████████████████████████████████████████████████████████████████████████████████████████████████████████████████████████████████████████████████████████████████████████████████████████████████████████████████████| 188/188 [00:02<00:00, 68.22it/s]\n"
     ]
    },
    {
     "name": "stdout",
     "output_type": "stream",
     "text": [
      "Epoch 100 - Average training loss: 1.59, Average training accuracy: 0.51\n",
      "Epoch 100 - Average validation loss: 1.61, Average validation accuracy: 0.53\n",
      "Final Training with all data\n",
      "Training epoch 1\n"
     ]
    },
    {
     "name": "stderr",
     "output_type": "stream",
     "text": [
      "Iteration: 100%|█████████████████████████████████████████████████████████████████████████████████████████████████████████████████████████████████████████████████████████████████████████████████████████████████████████████████████████████████████████████| 376/376 [00:25<00:00, 14.59it/s]\n"
     ]
    },
    {
     "name": "stdout",
     "output_type": "stream",
     "text": [
      "Epoch 1 - Average training loss: 1.96, Average training accuracy: 0.15\n",
      "Training epoch 2\n"
     ]
    },
    {
     "name": "stderr",
     "output_type": "stream",
     "text": [
      "Iteration: 100%|█████████████████████████████████████████████████████████████████████████████████████████████████████████████████████████████████████████████████████████████████████████████████████████████████████████████████████████████████████████████| 376/376 [00:05<00:00, 68.35it/s]\n"
     ]
    },
    {
     "name": "stdout",
     "output_type": "stream",
     "text": [
      "Epoch 2 - Average training loss: 1.96, Average training accuracy: 0.15\n",
      "Training epoch 3\n"
     ]
    },
    {
     "name": "stderr",
     "output_type": "stream",
     "text": [
      "Iteration: 100%|█████████████████████████████████████████████████████████████████████████████████████████████████████████████████████████████████████████████████████████████████████████████████████████████████████████████████████████████████████████████| 376/376 [00:05<00:00, 68.34it/s]\n"
     ]
    },
    {
     "name": "stdout",
     "output_type": "stream",
     "text": [
      "Epoch 3 - Average training loss: 1.96, Average training accuracy: 0.15\n",
      "Training epoch 4\n"
     ]
    },
    {
     "name": "stderr",
     "output_type": "stream",
     "text": [
      "Iteration: 100%|█████████████████████████████████████████████████████████████████████████████████████████████████████████████████████████████████████████████████████████████████████████████████████████████████████████████████████████████████████████████| 376/376 [00:05<00:00, 68.35it/s]\n"
     ]
    },
    {
     "name": "stdout",
     "output_type": "stream",
     "text": [
      "Epoch 4 - Average training loss: 1.95, Average training accuracy: 0.15\n",
      "Training epoch 5\n"
     ]
    },
    {
     "name": "stderr",
     "output_type": "stream",
     "text": [
      "Iteration: 100%|█████████████████████████████████████████████████████████████████████████████████████████████████████████████████████████████████████████████████████████████████████████████████████████████████████████████████████████████████████████████| 376/376 [00:05<00:00, 68.46it/s]\n"
     ]
    },
    {
     "name": "stdout",
     "output_type": "stream",
     "text": [
      "Epoch 5 - Average training loss: 1.95, Average training accuracy: 0.15\n",
      "Training epoch 6\n"
     ]
    },
    {
     "name": "stderr",
     "output_type": "stream",
     "text": [
      "Iteration: 100%|█████████████████████████████████████████████████████████████████████████████████████████████████████████████████████████████████████████████████████████████████████████████████████████████████████████████████████████████████████████████| 376/376 [00:05<00:00, 68.47it/s]\n"
     ]
    },
    {
     "name": "stdout",
     "output_type": "stream",
     "text": [
      "Epoch 6 - Average training loss: 1.95, Average training accuracy: 0.16\n",
      "Training epoch 7\n"
     ]
    },
    {
     "name": "stderr",
     "output_type": "stream",
     "text": [
      "Iteration: 100%|█████████████████████████████████████████████████████████████████████████████████████████████████████████████████████████████████████████████████████████████████████████████████████████████████████████████████████████████████████████████| 376/376 [00:05<00:00, 68.44it/s]\n"
     ]
    },
    {
     "name": "stdout",
     "output_type": "stream",
     "text": [
      "Epoch 7 - Average training loss: 1.94, Average training accuracy: 0.17\n",
      "Training epoch 8\n"
     ]
    },
    {
     "name": "stderr",
     "output_type": "stream",
     "text": [
      "Iteration: 100%|█████████████████████████████████████████████████████████████████████████████████████████████████████████████████████████████████████████████████████████████████████████████████████████████████████████████████████████████████████████████| 376/376 [00:05<00:00, 68.42it/s]\n"
     ]
    },
    {
     "name": "stdout",
     "output_type": "stream",
     "text": [
      "Epoch 8 - Average training loss: 1.94, Average training accuracy: 0.18\n",
      "Training epoch 9\n"
     ]
    },
    {
     "name": "stderr",
     "output_type": "stream",
     "text": [
      "Iteration: 100%|█████████████████████████████████████████████████████████████████████████████████████████████████████████████████████████████████████████████████████████████████████████████████████████████████████████████████████████████████████████████| 376/376 [00:05<00:00, 68.21it/s]\n"
     ]
    },
    {
     "name": "stdout",
     "output_type": "stream",
     "text": [
      "Epoch 9 - Average training loss: 1.94, Average training accuracy: 0.19\n",
      "Training epoch 10\n"
     ]
    },
    {
     "name": "stderr",
     "output_type": "stream",
     "text": [
      "Iteration: 100%|█████████████████████████████████████████████████████████████████████████████████████████████████████████████████████████████████████████████████████████████████████████████████████████████████████████████████████████████████████████████| 376/376 [00:05<00:00, 68.44it/s]\n"
     ]
    },
    {
     "name": "stdout",
     "output_type": "stream",
     "text": [
      "Epoch 10 - Average training loss: 1.94, Average training accuracy: 0.20\n",
      "Training epoch 11\n"
     ]
    },
    {
     "name": "stderr",
     "output_type": "stream",
     "text": [
      "Iteration: 100%|█████████████████████████████████████████████████████████████████████████████████████████████████████████████████████████████████████████████████████████████████████████████████████████████████████████████████████████████████████████████| 376/376 [00:05<00:00, 68.39it/s]\n"
     ]
    },
    {
     "name": "stdout",
     "output_type": "stream",
     "text": [
      "Epoch 11 - Average training loss: 1.94, Average training accuracy: 0.21\n",
      "Training epoch 12\n"
     ]
    },
    {
     "name": "stderr",
     "output_type": "stream",
     "text": [
      "Iteration: 100%|█████████████████████████████████████████████████████████████████████████████████████████████████████████████████████████████████████████████████████████████████████████████████████████████████████████████████████████████████████████████| 376/376 [00:05<00:00, 68.38it/s]\n"
     ]
    },
    {
     "name": "stdout",
     "output_type": "stream",
     "text": [
      "Epoch 12 - Average training loss: 1.93, Average training accuracy: 0.23\n",
      "Training epoch 13\n"
     ]
    },
    {
     "name": "stderr",
     "output_type": "stream",
     "text": [
      "Iteration: 100%|█████████████████████████████████████████████████████████████████████████████████████████████████████████████████████████████████████████████████████████████████████████████████████████████████████████████████████████████████████████████| 376/376 [00:05<00:00, 68.27it/s]\n"
     ]
    },
    {
     "name": "stdout",
     "output_type": "stream",
     "text": [
      "Epoch 13 - Average training loss: 1.93, Average training accuracy: 0.24\n",
      "Training epoch 14\n"
     ]
    },
    {
     "name": "stderr",
     "output_type": "stream",
     "text": [
      "Iteration: 100%|█████████████████████████████████████████████████████████████████████████████████████████████████████████████████████████████████████████████████████████████████████████████████████████████████████████████████████████████████████████████| 376/376 [00:05<00:00, 68.06it/s]\n"
     ]
    },
    {
     "name": "stdout",
     "output_type": "stream",
     "text": [
      "Epoch 14 - Average training loss: 1.93, Average training accuracy: 0.26\n",
      "Training epoch 15\n"
     ]
    },
    {
     "name": "stderr",
     "output_type": "stream",
     "text": [
      "Iteration: 100%|█████████████████████████████████████████████████████████████████████████████████████████████████████████████████████████████████████████████████████████████████████████████████████████████████████████████████████████████████████████████| 376/376 [00:05<00:00, 68.28it/s]\n"
     ]
    },
    {
     "name": "stdout",
     "output_type": "stream",
     "text": [
      "Epoch 15 - Average training loss: 1.93, Average training accuracy: 0.27\n",
      "Training epoch 16\n"
     ]
    },
    {
     "name": "stderr",
     "output_type": "stream",
     "text": [
      "Iteration: 100%|█████████████████████████████████████████████████████████████████████████████████████████████████████████████████████████████████████████████████████████████████████████████████████████████████████████████████████████████████████████████| 376/376 [00:05<00:00, 68.31it/s]\n"
     ]
    },
    {
     "name": "stdout",
     "output_type": "stream",
     "text": [
      "Epoch 16 - Average training loss: 1.93, Average training accuracy: 0.27\n",
      "Training epoch 17\n"
     ]
    },
    {
     "name": "stderr",
     "output_type": "stream",
     "text": [
      "Iteration: 100%|█████████████████████████████████████████████████████████████████████████████████████████████████████████████████████████████████████████████████████████████████████████████████████████████████████████████████████████████████████████████| 376/376 [00:05<00:00, 68.24it/s]\n"
     ]
    },
    {
     "name": "stdout",
     "output_type": "stream",
     "text": [
      "Epoch 17 - Average training loss: 1.93, Average training accuracy: 0.28\n",
      "Training epoch 18\n"
     ]
    },
    {
     "name": "stderr",
     "output_type": "stream",
     "text": [
      "Iteration: 100%|█████████████████████████████████████████████████████████████████████████████████████████████████████████████████████████████████████████████████████████████████████████████████████████████████████████████████████████████████████████████| 376/376 [00:05<00:00, 68.35it/s]\n"
     ]
    },
    {
     "name": "stdout",
     "output_type": "stream",
     "text": [
      "Epoch 18 - Average training loss: 1.93, Average training accuracy: 0.29\n",
      "Training epoch 19\n"
     ]
    },
    {
     "name": "stderr",
     "output_type": "stream",
     "text": [
      "Iteration: 100%|█████████████████████████████████████████████████████████████████████████████████████████████████████████████████████████████████████████████████████████████████████████████████████████████████████████████████████████████████████████████| 376/376 [00:05<00:00, 67.99it/s]\n"
     ]
    },
    {
     "name": "stdout",
     "output_type": "stream",
     "text": [
      "Epoch 19 - Average training loss: 1.92, Average training accuracy: 0.30\n",
      "Training epoch 20\n"
     ]
    },
    {
     "name": "stderr",
     "output_type": "stream",
     "text": [
      "Iteration: 100%|█████████████████████████████████████████████████████████████████████████████████████████████████████████████████████████████████████████████████████████████████████████████████████████████████████████████████████████████████████████████| 376/376 [00:05<00:00, 67.79it/s]\n"
     ]
    },
    {
     "name": "stdout",
     "output_type": "stream",
     "text": [
      "Epoch 20 - Average training loss: 1.92, Average training accuracy: 0.30\n",
      "Training epoch 21\n"
     ]
    },
    {
     "name": "stderr",
     "output_type": "stream",
     "text": [
      "Iteration: 100%|█████████████████████████████████████████████████████████████████████████████████████████████████████████████████████████████████████████████████████████████████████████████████████████████████████████████████████████████████████████████| 376/376 [00:05<00:00, 67.72it/s]\n"
     ]
    },
    {
     "name": "stdout",
     "output_type": "stream",
     "text": [
      "Epoch 21 - Average training loss: 1.92, Average training accuracy: 0.31\n",
      "Training epoch 22\n"
     ]
    },
    {
     "name": "stderr",
     "output_type": "stream",
     "text": [
      "Iteration: 100%|█████████████████████████████████████████████████████████████████████████████████████████████████████████████████████████████████████████████████████████████████████████████████████████████████████████████████████████████████████████████| 376/376 [00:05<00:00, 68.09it/s]\n"
     ]
    },
    {
     "name": "stdout",
     "output_type": "stream",
     "text": [
      "Epoch 22 - Average training loss: 1.92, Average training accuracy: 0.32\n",
      "Training epoch 23\n"
     ]
    },
    {
     "name": "stderr",
     "output_type": "stream",
     "text": [
      "Iteration: 100%|█████████████████████████████████████████████████████████████████████████████████████████████████████████████████████████████████████████████████████████████████████████████████████████████████████████████████████████████████████████████| 376/376 [00:05<00:00, 68.12it/s]\n"
     ]
    },
    {
     "name": "stdout",
     "output_type": "stream",
     "text": [
      "Epoch 23 - Average training loss: 1.92, Average training accuracy: 0.32\n",
      "Training epoch 24\n"
     ]
    },
    {
     "name": "stderr",
     "output_type": "stream",
     "text": [
      "Iteration: 100%|█████████████████████████████████████████████████████████████████████████████████████████████████████████████████████████████████████████████████████████████████████████████████████████████████████████████████████████████████████████████| 376/376 [00:05<00:00, 68.34it/s]\n"
     ]
    },
    {
     "name": "stdout",
     "output_type": "stream",
     "text": [
      "Epoch 24 - Average training loss: 1.92, Average training accuracy: 0.33\n",
      "Training epoch 25\n"
     ]
    },
    {
     "name": "stderr",
     "output_type": "stream",
     "text": [
      "Iteration: 100%|█████████████████████████████████████████████████████████████████████████████████████████████████████████████████████████████████████████████████████████████████████████████████████████████████████████████████████████████████████████████| 376/376 [00:05<00:00, 68.32it/s]\n"
     ]
    },
    {
     "name": "stdout",
     "output_type": "stream",
     "text": [
      "Epoch 25 - Average training loss: 1.92, Average training accuracy: 0.32\n",
      "Training epoch 26\n"
     ]
    },
    {
     "name": "stderr",
     "output_type": "stream",
     "text": [
      "Iteration: 100%|█████████████████████████████████████████████████████████████████████████████████████████████████████████████████████████████████████████████████████████████████████████████████████████████████████████████████████████████████████████████| 376/376 [00:05<00:00, 68.22it/s]\n"
     ]
    },
    {
     "name": "stdout",
     "output_type": "stream",
     "text": [
      "Epoch 26 - Average training loss: 1.91, Average training accuracy: 0.33\n",
      "Training epoch 27\n"
     ]
    },
    {
     "name": "stderr",
     "output_type": "stream",
     "text": [
      "Iteration: 100%|█████████████████████████████████████████████████████████████████████████████████████████████████████████████████████████████████████████████████████████████████████████████████████████████████████████████████████████████████████████████| 376/376 [00:05<00:00, 67.62it/s]\n"
     ]
    },
    {
     "name": "stdout",
     "output_type": "stream",
     "text": [
      "Epoch 27 - Average training loss: 1.91, Average training accuracy: 0.34\n",
      "Training epoch 28\n"
     ]
    },
    {
     "name": "stderr",
     "output_type": "stream",
     "text": [
      "Iteration: 100%|█████████████████████████████████████████████████████████████████████████████████████████████████████████████████████████████████████████████████████████████████████████████████████████████████████████████████████████████████████████████| 376/376 [00:05<00:00, 68.27it/s]\n"
     ]
    },
    {
     "name": "stdout",
     "output_type": "stream",
     "text": [
      "Epoch 28 - Average training loss: 1.91, Average training accuracy: 0.33\n",
      "Training epoch 29\n"
     ]
    },
    {
     "name": "stderr",
     "output_type": "stream",
     "text": [
      "Iteration: 100%|█████████████████████████████████████████████████████████████████████████████████████████████████████████████████████████████████████████████████████████████████████████████████████████████████████████████████████████████████████████████| 376/376 [00:05<00:00, 68.26it/s]\n"
     ]
    },
    {
     "name": "stdout",
     "output_type": "stream",
     "text": [
      "Epoch 29 - Average training loss: 1.91, Average training accuracy: 0.34\n",
      "Training epoch 30\n"
     ]
    },
    {
     "name": "stderr",
     "output_type": "stream",
     "text": [
      "Iteration: 100%|█████████████████████████████████████████████████████████████████████████████████████████████████████████████████████████████████████████████████████████████████████████████████████████████████████████████████████████████████████████████| 376/376 [00:05<00:00, 68.36it/s]\n"
     ]
    },
    {
     "name": "stdout",
     "output_type": "stream",
     "text": [
      "Epoch 30 - Average training loss: 1.91, Average training accuracy: 0.36\n",
      "Training epoch 31\n"
     ]
    },
    {
     "name": "stderr",
     "output_type": "stream",
     "text": [
      "Iteration: 100%|█████████████████████████████████████████████████████████████████████████████████████████████████████████████████████████████████████████████████████████████████████████████████████████████████████████████████████████████████████████████| 376/376 [00:05<00:00, 68.38it/s]\n"
     ]
    },
    {
     "name": "stdout",
     "output_type": "stream",
     "text": [
      "Epoch 31 - Average training loss: 1.91, Average training accuracy: 0.34\n",
      "Training epoch 32\n"
     ]
    },
    {
     "name": "stderr",
     "output_type": "stream",
     "text": [
      "Iteration: 100%|█████████████████████████████████████████████████████████████████████████████████████████████████████████████████████████████████████████████████████████████████████████████████████████████████████████████████████████████████████████████| 376/376 [00:05<00:00, 68.31it/s]\n"
     ]
    },
    {
     "name": "stdout",
     "output_type": "stream",
     "text": [
      "Epoch 32 - Average training loss: 1.91, Average training accuracy: 0.37\n",
      "Training epoch 33\n"
     ]
    },
    {
     "name": "stderr",
     "output_type": "stream",
     "text": [
      "Iteration: 100%|█████████████████████████████████████████████████████████████████████████████████████████████████████████████████████████████████████████████████████████████████████████████████████████████████████████████████████████████████████████████| 376/376 [00:05<00:00, 68.43it/s]\n"
     ]
    },
    {
     "name": "stdout",
     "output_type": "stream",
     "text": [
      "Epoch 33 - Average training loss: 1.90, Average training accuracy: 0.36\n",
      "Training epoch 34\n"
     ]
    },
    {
     "name": "stderr",
     "output_type": "stream",
     "text": [
      "Iteration: 100%|█████████████████████████████████████████████████████████████████████████████████████████████████████████████████████████████████████████████████████████████████████████████████████████████████████████████████████████████████████████████| 376/376 [00:05<00:00, 68.38it/s]\n"
     ]
    },
    {
     "name": "stdout",
     "output_type": "stream",
     "text": [
      "Epoch 34 - Average training loss: 1.90, Average training accuracy: 0.37\n",
      "Training epoch 35\n"
     ]
    },
    {
     "name": "stderr",
     "output_type": "stream",
     "text": [
      "Iteration: 100%|█████████████████████████████████████████████████████████████████████████████████████████████████████████████████████████████████████████████████████████████████████████████████████████████████████████████████████████████████████████████| 376/376 [00:05<00:00, 68.34it/s]\n"
     ]
    },
    {
     "name": "stdout",
     "output_type": "stream",
     "text": [
      "Epoch 35 - Average training loss: 1.90, Average training accuracy: 0.36\n",
      "Training epoch 36\n"
     ]
    },
    {
     "name": "stderr",
     "output_type": "stream",
     "text": [
      "Iteration: 100%|█████████████████████████████████████████████████████████████████████████████████████████████████████████████████████████████████████████████████████████████████████████████████████████████████████████████████████████████████████████████| 376/376 [00:05<00:00, 68.20it/s]\n"
     ]
    },
    {
     "name": "stdout",
     "output_type": "stream",
     "text": [
      "Epoch 36 - Average training loss: 1.90, Average training accuracy: 0.37\n",
      "Training epoch 37\n"
     ]
    },
    {
     "name": "stderr",
     "output_type": "stream",
     "text": [
      "Iteration: 100%|█████████████████████████████████████████████████████████████████████████████████████████████████████████████████████████████████████████████████████████████████████████████████████████████████████████████████████████████████████████████| 376/376 [00:05<00:00, 68.30it/s]\n"
     ]
    },
    {
     "name": "stdout",
     "output_type": "stream",
     "text": [
      "Epoch 37 - Average training loss: 1.90, Average training accuracy: 0.37\n",
      "Training epoch 38\n"
     ]
    },
    {
     "name": "stderr",
     "output_type": "stream",
     "text": [
      "Iteration: 100%|█████████████████████████████████████████████████████████████████████████████████████████████████████████████████████████████████████████████████████████████████████████████████████████████████████████████████████████████████████████████| 376/376 [00:05<00:00, 68.24it/s]\n"
     ]
    },
    {
     "name": "stdout",
     "output_type": "stream",
     "text": [
      "Epoch 38 - Average training loss: 1.90, Average training accuracy: 0.37\n",
      "Training epoch 39\n"
     ]
    },
    {
     "name": "stderr",
     "output_type": "stream",
     "text": [
      "Iteration: 100%|█████████████████████████████████████████████████████████████████████████████████████████████████████████████████████████████████████████████████████████████████████████████████████████████████████████████████████████████████████████████| 376/376 [00:05<00:00, 68.06it/s]\n"
     ]
    },
    {
     "name": "stdout",
     "output_type": "stream",
     "text": [
      "Epoch 39 - Average training loss: 1.90, Average training accuracy: 0.38\n",
      "Training epoch 40\n"
     ]
    },
    {
     "name": "stderr",
     "output_type": "stream",
     "text": [
      "Iteration: 100%|█████████████████████████████████████████████████████████████████████████████████████████████████████████████████████████████████████████████████████████████████████████████████████████████████████████████████████████████████████████████| 376/376 [00:05<00:00, 68.23it/s]\n"
     ]
    },
    {
     "name": "stdout",
     "output_type": "stream",
     "text": [
      "Epoch 40 - Average training loss: 1.90, Average training accuracy: 0.38\n",
      "Training epoch 41\n"
     ]
    },
    {
     "name": "stderr",
     "output_type": "stream",
     "text": [
      "Iteration: 100%|█████████████████████████████████████████████████████████████████████████████████████████████████████████████████████████████████████████████████████████████████████████████████████████████████████████████████████████████████████████████| 376/376 [00:05<00:00, 68.23it/s]\n"
     ]
    },
    {
     "name": "stdout",
     "output_type": "stream",
     "text": [
      "Epoch 41 - Average training loss: 1.90, Average training accuracy: 0.37\n",
      "Training epoch 42\n"
     ]
    },
    {
     "name": "stderr",
     "output_type": "stream",
     "text": [
      "Iteration: 100%|█████████████████████████████████████████████████████████████████████████████████████████████████████████████████████████████████████████████████████████████████████████████████████████████████████████████████████████████████████████████| 376/376 [00:05<00:00, 68.22it/s]\n"
     ]
    },
    {
     "name": "stdout",
     "output_type": "stream",
     "text": [
      "Epoch 42 - Average training loss: 1.90, Average training accuracy: 0.38\n",
      "Training epoch 43\n"
     ]
    },
    {
     "name": "stderr",
     "output_type": "stream",
     "text": [
      "Iteration: 100%|█████████████████████████████████████████████████████████████████████████████████████████████████████████████████████████████████████████████████████████████████████████████████████████████████████████████████████████████████████████████| 376/376 [00:05<00:00, 67.74it/s]\n"
     ]
    },
    {
     "name": "stdout",
     "output_type": "stream",
     "text": [
      "Epoch 43 - Average training loss: 1.90, Average training accuracy: 0.38\n",
      "Training epoch 44\n"
     ]
    },
    {
     "name": "stderr",
     "output_type": "stream",
     "text": [
      "Iteration: 100%|█████████████████████████████████████████████████████████████████████████████████████████████████████████████████████████████████████████████████████████████████████████████████████████████████████████████████████████████████████████████| 376/376 [00:05<00:00, 67.70it/s]\n"
     ]
    },
    {
     "name": "stdout",
     "output_type": "stream",
     "text": [
      "Epoch 44 - Average training loss: 1.90, Average training accuracy: 0.38\n",
      "Training epoch 45\n"
     ]
    },
    {
     "name": "stderr",
     "output_type": "stream",
     "text": [
      "Iteration: 100%|█████████████████████████████████████████████████████████████████████████████████████████████████████████████████████████████████████████████████████████████████████████████████████████████████████████████████████████████████████████████| 376/376 [00:05<00:00, 67.56it/s]\n"
     ]
    },
    {
     "name": "stdout",
     "output_type": "stream",
     "text": [
      "Epoch 45 - Average training loss: 1.90, Average training accuracy: 0.38\n",
      "Training epoch 46\n"
     ]
    },
    {
     "name": "stderr",
     "output_type": "stream",
     "text": [
      "Iteration: 100%|█████████████████████████████████████████████████████████████████████████████████████████████████████████████████████████████████████████████████████████████████████████████████████████████████████████████████████████████████████████████| 376/376 [00:05<00:00, 67.70it/s]\n"
     ]
    },
    {
     "name": "stdout",
     "output_type": "stream",
     "text": [
      "Epoch 46 - Average training loss: 1.89, Average training accuracy: 0.39\n",
      "Training epoch 47\n"
     ]
    },
    {
     "name": "stderr",
     "output_type": "stream",
     "text": [
      "Iteration: 100%|█████████████████████████████████████████████████████████████████████████████████████████████████████████████████████████████████████████████████████████████████████████████████████████████████████████████████████████████████████████████| 376/376 [00:05<00:00, 68.26it/s]\n"
     ]
    },
    {
     "name": "stdout",
     "output_type": "stream",
     "text": [
      "Epoch 47 - Average training loss: 1.89, Average training accuracy: 0.38\n",
      "Training epoch 48\n"
     ]
    },
    {
     "name": "stderr",
     "output_type": "stream",
     "text": [
      "Iteration: 100%|█████████████████████████████████████████████████████████████████████████████████████████████████████████████████████████████████████████████████████████████████████████████████████████████████████████████████████████████████████████████| 376/376 [00:05<00:00, 68.12it/s]\n"
     ]
    },
    {
     "name": "stdout",
     "output_type": "stream",
     "text": [
      "Epoch 48 - Average training loss: 1.89, Average training accuracy: 0.39\n",
      "Training epoch 49\n"
     ]
    },
    {
     "name": "stderr",
     "output_type": "stream",
     "text": [
      "Iteration: 100%|█████████████████████████████████████████████████████████████████████████████████████████████████████████████████████████████████████████████████████████████████████████████████████████████████████████████████████████████████████████████| 376/376 [00:05<00:00, 68.00it/s]\n"
     ]
    },
    {
     "name": "stdout",
     "output_type": "stream",
     "text": [
      "Epoch 49 - Average training loss: 1.89, Average training accuracy: 0.38\n",
      "Training epoch 50\n"
     ]
    },
    {
     "name": "stderr",
     "output_type": "stream",
     "text": [
      "Iteration: 100%|█████████████████████████████████████████████████████████████████████████████████████████████████████████████████████████████████████████████████████████████████████████████████████████████████████████████████████████████████████████████| 376/376 [00:05<00:00, 67.93it/s]\n"
     ]
    },
    {
     "name": "stdout",
     "output_type": "stream",
     "text": [
      "Epoch 50 - Average training loss: 1.89, Average training accuracy: 0.39\n",
      "Training epoch 51\n"
     ]
    },
    {
     "name": "stderr",
     "output_type": "stream",
     "text": [
      "Iteration: 100%|█████████████████████████████████████████████████████████████████████████████████████████████████████████████████████████████████████████████████████████████████████████████████████████████████████████████████████████████████████████████| 376/376 [00:05<00:00, 68.07it/s]\n"
     ]
    },
    {
     "name": "stdout",
     "output_type": "stream",
     "text": [
      "Epoch 51 - Average training loss: 1.89, Average training accuracy: 0.38\n",
      "Training epoch 52\n"
     ]
    },
    {
     "name": "stderr",
     "output_type": "stream",
     "text": [
      "Iteration: 100%|█████████████████████████████████████████████████████████████████████████████████████████████████████████████████████████████████████████████████████████████████████████████████████████████████████████████████████████████████████████████| 376/376 [00:05<00:00, 68.06it/s]\n"
     ]
    },
    {
     "name": "stdout",
     "output_type": "stream",
     "text": [
      "Epoch 52 - Average training loss: 1.89, Average training accuracy: 0.38\n",
      "Training epoch 53\n"
     ]
    },
    {
     "name": "stderr",
     "output_type": "stream",
     "text": [
      "Iteration: 100%|█████████████████████████████████████████████████████████████████████████████████████████████████████████████████████████████████████████████████████████████████████████████████████████████████████████████████████████████████████████████| 376/376 [00:05<00:00, 68.09it/s]\n"
     ]
    },
    {
     "name": "stdout",
     "output_type": "stream",
     "text": [
      "Epoch 53 - Average training loss: 1.89, Average training accuracy: 0.39\n",
      "Training epoch 54\n"
     ]
    },
    {
     "name": "stderr",
     "output_type": "stream",
     "text": [
      "Iteration: 100%|█████████████████████████████████████████████████████████████████████████████████████████████████████████████████████████████████████████████████████████████████████████████████████████████████████████████████████████████████████████████| 376/376 [00:05<00:00, 67.91it/s]\n"
     ]
    },
    {
     "name": "stdout",
     "output_type": "stream",
     "text": [
      "Epoch 54 - Average training loss: 1.89, Average training accuracy: 0.39\n",
      "Training epoch 55\n"
     ]
    },
    {
     "name": "stderr",
     "output_type": "stream",
     "text": [
      "Iteration: 100%|█████████████████████████████████████████████████████████████████████████████████████████████████████████████████████████████████████████████████████████████████████████████████████████████████████████████████████████████████████████████| 376/376 [00:05<00:00, 67.98it/s]\n"
     ]
    },
    {
     "name": "stdout",
     "output_type": "stream",
     "text": [
      "Epoch 55 - Average training loss: 1.88, Average training accuracy: 0.39\n",
      "Training epoch 56\n"
     ]
    },
    {
     "name": "stderr",
     "output_type": "stream",
     "text": [
      "Iteration: 100%|█████████████████████████████████████████████████████████████████████████████████████████████████████████████████████████████████████████████████████████████████████████████████████████████████████████████████████████████████████████████| 376/376 [00:05<00:00, 68.00it/s]\n"
     ]
    },
    {
     "name": "stdout",
     "output_type": "stream",
     "text": [
      "Epoch 56 - Average training loss: 1.89, Average training accuracy: 0.39\n",
      "Training epoch 57\n"
     ]
    },
    {
     "name": "stderr",
     "output_type": "stream",
     "text": [
      "Iteration: 100%|█████████████████████████████████████████████████████████████████████████████████████████████████████████████████████████████████████████████████████████████████████████████████████████████████████████████████████████████████████████████| 376/376 [00:05<00:00, 68.01it/s]\n"
     ]
    },
    {
     "name": "stdout",
     "output_type": "stream",
     "text": [
      "Epoch 57 - Average training loss: 1.89, Average training accuracy: 0.39\n",
      "Training epoch 58\n"
     ]
    },
    {
     "name": "stderr",
     "output_type": "stream",
     "text": [
      "Iteration: 100%|█████████████████████████████████████████████████████████████████████████████████████████████████████████████████████████████████████████████████████████████████████████████████████████████████████████████████████████████████████████████| 376/376 [00:05<00:00, 67.89it/s]\n"
     ]
    },
    {
     "name": "stdout",
     "output_type": "stream",
     "text": [
      "Epoch 58 - Average training loss: 1.88, Average training accuracy: 0.39\n",
      "Training epoch 59\n"
     ]
    },
    {
     "name": "stderr",
     "output_type": "stream",
     "text": [
      "Iteration: 100%|█████████████████████████████████████████████████████████████████████████████████████████████████████████████████████████████████████████████████████████████████████████████████████████████████████████████████████████████████████████████| 376/376 [00:05<00:00, 68.00it/s]\n"
     ]
    },
    {
     "name": "stdout",
     "output_type": "stream",
     "text": [
      "Epoch 59 - Average training loss: 1.88, Average training accuracy: 0.40\n",
      "Training epoch 60\n"
     ]
    },
    {
     "name": "stderr",
     "output_type": "stream",
     "text": [
      "Iteration: 100%|█████████████████████████████████████████████████████████████████████████████████████████████████████████████████████████████████████████████████████████████████████████████████████████████████████████████████████████████████████████████| 376/376 [00:05<00:00, 68.21it/s]\n"
     ]
    },
    {
     "name": "stdout",
     "output_type": "stream",
     "text": [
      "Epoch 60 - Average training loss: 1.88, Average training accuracy: 0.40\n",
      "Training epoch 61\n"
     ]
    },
    {
     "name": "stderr",
     "output_type": "stream",
     "text": [
      "Iteration: 100%|█████████████████████████████████████████████████████████████████████████████████████████████████████████████████████████████████████████████████████████████████████████████████████████████████████████████████████████████████████████████| 376/376 [00:05<00:00, 68.38it/s]\n"
     ]
    },
    {
     "name": "stdout",
     "output_type": "stream",
     "text": [
      "Epoch 61 - Average training loss: 1.88, Average training accuracy: 0.40\n",
      "Training epoch 62\n"
     ]
    },
    {
     "name": "stderr",
     "output_type": "stream",
     "text": [
      "Iteration: 100%|█████████████████████████████████████████████████████████████████████████████████████████████████████████████████████████████████████████████████████████████████████████████████████████████████████████████████████████████████████████████| 376/376 [00:05<00:00, 68.38it/s]\n"
     ]
    },
    {
     "name": "stdout",
     "output_type": "stream",
     "text": [
      "Epoch 62 - Average training loss: 1.88, Average training accuracy: 0.40\n",
      "Training epoch 63\n"
     ]
    },
    {
     "name": "stderr",
     "output_type": "stream",
     "text": [
      "Iteration: 100%|█████████████████████████████████████████████████████████████████████████████████████████████████████████████████████████████████████████████████████████████████████████████████████████████████████████████████████████████████████████████| 376/376 [00:05<00:00, 68.30it/s]\n"
     ]
    },
    {
     "name": "stdout",
     "output_type": "stream",
     "text": [
      "Epoch 63 - Average training loss: 1.88, Average training accuracy: 0.40\n",
      "Training epoch 64\n"
     ]
    },
    {
     "name": "stderr",
     "output_type": "stream",
     "text": [
      "Iteration: 100%|█████████████████████████████████████████████████████████████████████████████████████████████████████████████████████████████████████████████████████████████████████████████████████████████████████████████████████████████████████████████| 376/376 [00:05<00:00, 68.42it/s]\n"
     ]
    },
    {
     "name": "stdout",
     "output_type": "stream",
     "text": [
      "Epoch 64 - Average training loss: 1.88, Average training accuracy: 0.40\n",
      "Training epoch 65\n"
     ]
    },
    {
     "name": "stderr",
     "output_type": "stream",
     "text": [
      "Iteration: 100%|█████████████████████████████████████████████████████████████████████████████████████████████████████████████████████████████████████████████████████████████████████████████████████████████████████████████████████████████████████████████| 376/376 [00:05<00:00, 68.40it/s]\n"
     ]
    },
    {
     "name": "stdout",
     "output_type": "stream",
     "text": [
      "Epoch 65 - Average training loss: 1.88, Average training accuracy: 0.39\n",
      "Training epoch 66\n"
     ]
    },
    {
     "name": "stderr",
     "output_type": "stream",
     "text": [
      "Iteration: 100%|█████████████████████████████████████████████████████████████████████████████████████████████████████████████████████████████████████████████████████████████████████████████████████████████████████████████████████████████████████████████| 376/376 [00:05<00:00, 68.37it/s]\n"
     ]
    },
    {
     "name": "stdout",
     "output_type": "stream",
     "text": [
      "Epoch 66 - Average training loss: 1.88, Average training accuracy: 0.40\n",
      "Training epoch 67\n"
     ]
    },
    {
     "name": "stderr",
     "output_type": "stream",
     "text": [
      "Iteration: 100%|█████████████████████████████████████████████████████████████████████████████████████████████████████████████████████████████████████████████████████████████████████████████████████████████████████████████████████████████████████████████| 376/376 [00:05<00:00, 68.31it/s]\n"
     ]
    },
    {
     "name": "stdout",
     "output_type": "stream",
     "text": [
      "Epoch 67 - Average training loss: 1.88, Average training accuracy: 0.39\n",
      "Training epoch 68\n"
     ]
    },
    {
     "name": "stderr",
     "output_type": "stream",
     "text": [
      "Iteration: 100%|█████████████████████████████████████████████████████████████████████████████████████████████████████████████████████████████████████████████████████████████████████████████████████████████████████████████████████████████████████████████| 376/376 [00:05<00:00, 68.32it/s]\n"
     ]
    },
    {
     "name": "stdout",
     "output_type": "stream",
     "text": [
      "Epoch 68 - Average training loss: 1.88, Average training accuracy: 0.40\n",
      "Training epoch 69\n"
     ]
    },
    {
     "name": "stderr",
     "output_type": "stream",
     "text": [
      "Iteration: 100%|█████████████████████████████████████████████████████████████████████████████████████████████████████████████████████████████████████████████████████████████████████████████████████████████████████████████████████████████████████████████| 376/376 [00:05<00:00, 68.37it/s]\n"
     ]
    },
    {
     "name": "stdout",
     "output_type": "stream",
     "text": [
      "Epoch 69 - Average training loss: 1.88, Average training accuracy: 0.40\n",
      "Training epoch 70\n"
     ]
    },
    {
     "name": "stderr",
     "output_type": "stream",
     "text": [
      "Iteration: 100%|█████████████████████████████████████████████████████████████████████████████████████████████████████████████████████████████████████████████████████████████████████████████████████████████████████████████████████████████████████████████| 376/376 [00:05<00:00, 68.36it/s]\n"
     ]
    },
    {
     "name": "stdout",
     "output_type": "stream",
     "text": [
      "Epoch 70 - Average training loss: 1.88, Average training accuracy: 0.40\n",
      "Training epoch 71\n"
     ]
    },
    {
     "name": "stderr",
     "output_type": "stream",
     "text": [
      "Iteration: 100%|█████████████████████████████████████████████████████████████████████████████████████████████████████████████████████████████████████████████████████████████████████████████████████████████████████████████████████████████████████████████| 376/376 [00:05<00:00, 68.34it/s]\n"
     ]
    },
    {
     "name": "stdout",
     "output_type": "stream",
     "text": [
      "Epoch 71 - Average training loss: 1.88, Average training accuracy: 0.40\n",
      "Training epoch 72\n"
     ]
    },
    {
     "name": "stderr",
     "output_type": "stream",
     "text": [
      "Iteration: 100%|█████████████████████████████████████████████████████████████████████████████████████████████████████████████████████████████████████████████████████████████████████████████████████████████████████████████████████████████████████████████| 376/376 [00:05<00:00, 68.21it/s]\n"
     ]
    },
    {
     "name": "stdout",
     "output_type": "stream",
     "text": [
      "Epoch 72 - Average training loss: 1.88, Average training accuracy: 0.40\n",
      "Training epoch 73\n"
     ]
    },
    {
     "name": "stderr",
     "output_type": "stream",
     "text": [
      "Iteration: 100%|█████████████████████████████████████████████████████████████████████████████████████████████████████████████████████████████████████████████████████████████████████████████████████████████████████████████████████████████████████████████| 376/376 [00:05<00:00, 68.20it/s]\n"
     ]
    },
    {
     "name": "stdout",
     "output_type": "stream",
     "text": [
      "Epoch 73 - Average training loss: 1.88, Average training accuracy: 0.40\n",
      "Training epoch 74\n"
     ]
    },
    {
     "name": "stderr",
     "output_type": "stream",
     "text": [
      "Iteration: 100%|█████████████████████████████████████████████████████████████████████████████████████████████████████████████████████████████████████████████████████████████████████████████████████████████████████████████████████████████████████████████| 376/376 [00:05<00:00, 68.25it/s]\n"
     ]
    },
    {
     "name": "stdout",
     "output_type": "stream",
     "text": [
      "Epoch 74 - Average training loss: 1.87, Average training accuracy: 0.40\n",
      "Training epoch 75\n"
     ]
    },
    {
     "name": "stderr",
     "output_type": "stream",
     "text": [
      "Iteration: 100%|█████████████████████████████████████████████████████████████████████████████████████████████████████████████████████████████████████████████████████████████████████████████████████████████████████████████████████████████████████████████| 376/376 [00:05<00:00, 68.31it/s]\n"
     ]
    },
    {
     "name": "stdout",
     "output_type": "stream",
     "text": [
      "Epoch 75 - Average training loss: 1.87, Average training accuracy: 0.40\n",
      "Training epoch 76\n"
     ]
    },
    {
     "name": "stderr",
     "output_type": "stream",
     "text": [
      "Iteration: 100%|█████████████████████████████████████████████████████████████████████████████████████████████████████████████████████████████████████████████████████████████████████████████████████████████████████████████████████████████████████████████| 376/376 [00:05<00:00, 68.31it/s]\n"
     ]
    },
    {
     "name": "stdout",
     "output_type": "stream",
     "text": [
      "Epoch 76 - Average training loss: 1.87, Average training accuracy: 0.40\n",
      "Training epoch 77\n"
     ]
    },
    {
     "name": "stderr",
     "output_type": "stream",
     "text": [
      "Iteration: 100%|█████████████████████████████████████████████████████████████████████████████████████████████████████████████████████████████████████████████████████████████████████████████████████████████████████████████████████████████████████████████| 376/376 [00:05<00:00, 68.19it/s]\n"
     ]
    },
    {
     "name": "stdout",
     "output_type": "stream",
     "text": [
      "Epoch 77 - Average training loss: 1.87, Average training accuracy: 0.40\n",
      "Training epoch 78\n"
     ]
    },
    {
     "name": "stderr",
     "output_type": "stream",
     "text": [
      "Iteration: 100%|█████████████████████████████████████████████████████████████████████████████████████████████████████████████████████████████████████████████████████████████████████████████████████████████████████████████████████████████████████████████| 376/376 [00:05<00:00, 68.08it/s]\n"
     ]
    },
    {
     "name": "stdout",
     "output_type": "stream",
     "text": [
      "Epoch 78 - Average training loss: 1.87, Average training accuracy: 0.40\n",
      "Training epoch 79\n"
     ]
    },
    {
     "name": "stderr",
     "output_type": "stream",
     "text": [
      "Iteration: 100%|█████████████████████████████████████████████████████████████████████████████████████████████████████████████████████████████████████████████████████████████████████████████████████████████████████████████████████████████████████████████| 376/376 [00:05<00:00, 68.29it/s]\n"
     ]
    },
    {
     "name": "stdout",
     "output_type": "stream",
     "text": [
      "Epoch 79 - Average training loss: 1.87, Average training accuracy: 0.40\n",
      "Training epoch 80\n"
     ]
    },
    {
     "name": "stderr",
     "output_type": "stream",
     "text": [
      "Iteration: 100%|█████████████████████████████████████████████████████████████████████████████████████████████████████████████████████████████████████████████████████████████████████████████████████████████████████████████████████████████████████████████| 376/376 [00:05<00:00, 68.24it/s]\n"
     ]
    },
    {
     "name": "stdout",
     "output_type": "stream",
     "text": [
      "Epoch 80 - Average training loss: 1.87, Average training accuracy: 0.40\n",
      "Training epoch 81\n"
     ]
    },
    {
     "name": "stderr",
     "output_type": "stream",
     "text": [
      "Iteration: 100%|█████████████████████████████████████████████████████████████████████████████████████████████████████████████████████████████████████████████████████████████████████████████████████████████████████████████████████████████████████████████| 376/376 [00:05<00:00, 68.27it/s]\n"
     ]
    },
    {
     "name": "stdout",
     "output_type": "stream",
     "text": [
      "Epoch 81 - Average training loss: 1.87, Average training accuracy: 0.41\n",
      "Training epoch 82\n"
     ]
    },
    {
     "name": "stderr",
     "output_type": "stream",
     "text": [
      "Iteration: 100%|█████████████████████████████████████████████████████████████████████████████████████████████████████████████████████████████████████████████████████████████████████████████████████████████████████████████████████████████████████████████| 376/376 [00:05<00:00, 68.14it/s]\n"
     ]
    },
    {
     "name": "stdout",
     "output_type": "stream",
     "text": [
      "Epoch 82 - Average training loss: 1.87, Average training accuracy: 0.39\n",
      "Training epoch 83\n"
     ]
    },
    {
     "name": "stderr",
     "output_type": "stream",
     "text": [
      "Iteration: 100%|█████████████████████████████████████████████████████████████████████████████████████████████████████████████████████████████████████████████████████████████████████████████████████████████████████████████████████████████████████████████| 376/376 [00:05<00:00, 68.17it/s]\n"
     ]
    },
    {
     "name": "stdout",
     "output_type": "stream",
     "text": [
      "Epoch 83 - Average training loss: 1.87, Average training accuracy: 0.41\n",
      "Training epoch 84\n"
     ]
    },
    {
     "name": "stderr",
     "output_type": "stream",
     "text": [
      "Iteration: 100%|█████████████████████████████████████████████████████████████████████████████████████████████████████████████████████████████████████████████████████████████████████████████████████████████████████████████████████████████████████████████| 376/376 [00:05<00:00, 68.20it/s]\n"
     ]
    },
    {
     "name": "stdout",
     "output_type": "stream",
     "text": [
      "Epoch 84 - Average training loss: 1.87, Average training accuracy: 0.41\n",
      "Training epoch 85\n"
     ]
    },
    {
     "name": "stderr",
     "output_type": "stream",
     "text": [
      "Iteration: 100%|█████████████████████████████████████████████████████████████████████████████████████████████████████████████████████████████████████████████████████████████████████████████████████████████████████████████████████████████████████████████| 376/376 [00:05<00:00, 68.25it/s]\n"
     ]
    },
    {
     "name": "stdout",
     "output_type": "stream",
     "text": [
      "Epoch 85 - Average training loss: 1.87, Average training accuracy: 0.40\n",
      "Training epoch 86\n"
     ]
    },
    {
     "name": "stderr",
     "output_type": "stream",
     "text": [
      "Iteration: 100%|█████████████████████████████████████████████████████████████████████████████████████████████████████████████████████████████████████████████████████████████████████████████████████████████████████████████████████████████████████████████| 376/376 [00:05<00:00, 68.33it/s]\n"
     ]
    },
    {
     "name": "stdout",
     "output_type": "stream",
     "text": [
      "Epoch 86 - Average training loss: 1.87, Average training accuracy: 0.40\n",
      "Training epoch 87\n"
     ]
    },
    {
     "name": "stderr",
     "output_type": "stream",
     "text": [
      "Iteration: 100%|█████████████████████████████████████████████████████████████████████████████████████████████████████████████████████████████████████████████████████████████████████████████████████████████████████████████████████████████████████████████| 376/376 [00:05<00:00, 68.35it/s]\n"
     ]
    },
    {
     "name": "stdout",
     "output_type": "stream",
     "text": [
      "Epoch 87 - Average training loss: 1.87, Average training accuracy: 0.40\n",
      "Training epoch 88\n"
     ]
    },
    {
     "name": "stderr",
     "output_type": "stream",
     "text": [
      "Iteration: 100%|█████████████████████████████████████████████████████████████████████████████████████████████████████████████████████████████████████████████████████████████████████████████████████████████████████████████████████████████████████████████| 376/376 [00:05<00:00, 68.29it/s]\n"
     ]
    },
    {
     "name": "stdout",
     "output_type": "stream",
     "text": [
      "Epoch 88 - Average training loss: 1.87, Average training accuracy: 0.40\n",
      "Training epoch 89\n"
     ]
    },
    {
     "name": "stderr",
     "output_type": "stream",
     "text": [
      "Iteration: 100%|█████████████████████████████████████████████████████████████████████████████████████████████████████████████████████████████████████████████████████████████████████████████████████████████████████████████████████████████████████████████| 376/376 [00:05<00:00, 68.02it/s]\n"
     ]
    },
    {
     "name": "stdout",
     "output_type": "stream",
     "text": [
      "Epoch 89 - Average training loss: 1.87, Average training accuracy: 0.41\n",
      "Training epoch 90\n"
     ]
    },
    {
     "name": "stderr",
     "output_type": "stream",
     "text": [
      "Iteration: 100%|█████████████████████████████████████████████████████████████████████████████████████████████████████████████████████████████████████████████████████████████████████████████████████████████████████████████████████████████████████████████| 376/376 [00:05<00:00, 68.27it/s]\n"
     ]
    },
    {
     "name": "stdout",
     "output_type": "stream",
     "text": [
      "Epoch 90 - Average training loss: 1.87, Average training accuracy: 0.41\n",
      "Training epoch 91\n"
     ]
    },
    {
     "name": "stderr",
     "output_type": "stream",
     "text": [
      "Iteration: 100%|█████████████████████████████████████████████████████████████████████████████████████████████████████████████████████████████████████████████████████████████████████████████████████████████████████████████████████████████████████████████| 376/376 [00:05<00:00, 68.31it/s]\n"
     ]
    },
    {
     "name": "stdout",
     "output_type": "stream",
     "text": [
      "Epoch 91 - Average training loss: 1.87, Average training accuracy: 0.40\n",
      "Training epoch 92\n"
     ]
    },
    {
     "name": "stderr",
     "output_type": "stream",
     "text": [
      "Iteration: 100%|█████████████████████████████████████████████████████████████████████████████████████████████████████████████████████████████████████████████████████████████████████████████████████████████████████████████████████████████████████████████| 376/376 [00:05<00:00, 68.28it/s]\n"
     ]
    },
    {
     "name": "stdout",
     "output_type": "stream",
     "text": [
      "Epoch 92 - Average training loss: 1.87, Average training accuracy: 0.41\n",
      "Training epoch 93\n"
     ]
    },
    {
     "name": "stderr",
     "output_type": "stream",
     "text": [
      "Iteration: 100%|█████████████████████████████████████████████████████████████████████████████████████████████████████████████████████████████████████████████████████████████████████████████████████████████████████████████████████████████████████████████| 376/376 [00:05<00:00, 68.14it/s]\n"
     ]
    },
    {
     "name": "stdout",
     "output_type": "stream",
     "text": [
      "Epoch 93 - Average training loss: 1.87, Average training accuracy: 0.41\n",
      "Training epoch 94\n"
     ]
    },
    {
     "name": "stderr",
     "output_type": "stream",
     "text": [
      "Iteration: 100%|█████████████████████████████████████████████████████████████████████████████████████████████████████████████████████████████████████████████████████████████████████████████████████████████████████████████████████████████████████████████| 376/376 [00:05<00:00, 68.10it/s]\n"
     ]
    },
    {
     "name": "stdout",
     "output_type": "stream",
     "text": [
      "Epoch 94 - Average training loss: 1.87, Average training accuracy: 0.40\n",
      "Training epoch 95\n"
     ]
    },
    {
     "name": "stderr",
     "output_type": "stream",
     "text": [
      "Iteration: 100%|█████████████████████████████████████████████████████████████████████████████████████████████████████████████████████████████████████████████████████████████████████████████████████████████████████████████████████████████████████████████| 376/376 [00:05<00:00, 68.26it/s]\n"
     ]
    },
    {
     "name": "stdout",
     "output_type": "stream",
     "text": [
      "Epoch 95 - Average training loss: 1.87, Average training accuracy: 0.40\n",
      "Training epoch 96\n"
     ]
    },
    {
     "name": "stderr",
     "output_type": "stream",
     "text": [
      "Iteration: 100%|█████████████████████████████████████████████████████████████████████████████████████████████████████████████████████████████████████████████████████████████████████████████████████████████████████████████████████████████████████████████| 376/376 [00:05<00:00, 68.27it/s]\n"
     ]
    },
    {
     "name": "stdout",
     "output_type": "stream",
     "text": [
      "Epoch 96 - Average training loss: 1.87, Average training accuracy: 0.41\n",
      "Training epoch 97\n"
     ]
    },
    {
     "name": "stderr",
     "output_type": "stream",
     "text": [
      "Iteration: 100%|█████████████████████████████████████████████████████████████████████████████████████████████████████████████████████████████████████████████████████████████████████████████████████████████████████████████████████████████████████████████| 376/376 [00:05<00:00, 68.22it/s]\n"
     ]
    },
    {
     "name": "stdout",
     "output_type": "stream",
     "text": [
      "Epoch 97 - Average training loss: 1.87, Average training accuracy: 0.41\n",
      "Training epoch 98\n"
     ]
    },
    {
     "name": "stderr",
     "output_type": "stream",
     "text": [
      "Iteration: 100%|█████████████████████████████████████████████████████████████████████████████████████████████████████████████████████████████████████████████████████████████████████████████████████████████████████████████████████████████████████████████| 376/376 [00:05<00:00, 68.16it/s]\n"
     ]
    },
    {
     "name": "stdout",
     "output_type": "stream",
     "text": [
      "Epoch 98 - Average training loss: 1.87, Average training accuracy: 0.41\n",
      "Training epoch 99\n"
     ]
    },
    {
     "name": "stderr",
     "output_type": "stream",
     "text": [
      "Iteration: 100%|█████████████████████████████████████████████████████████████████████████████████████████████████████████████████████████████████████████████████████████████████████████████████████████████████████████████████████████████████████████████| 376/376 [00:05<00:00, 67.97it/s]\n"
     ]
    },
    {
     "name": "stdout",
     "output_type": "stream",
     "text": [
      "Epoch 99 - Average training loss: 1.87, Average training accuracy: 0.41\n",
      "Training epoch 100\n"
     ]
    },
    {
     "name": "stderr",
     "output_type": "stream",
     "text": [
      "Iteration: 100%|█████████████████████████████████████████████████████████████████████████████████████████████████████████████████████████████████████████████████████████████████████████████████████████████████████████████████████████████████████████████| 376/376 [00:05<00:00, 68.23it/s]"
     ]
    },
    {
     "name": "stdout",
     "output_type": "stream",
     "text": [
      "Epoch 100 - Average training loss: 1.87, Average training accuracy: 0.40\n"
     ]
    },
    {
     "name": "stderr",
     "output_type": "stream",
     "text": [
      "\n"
     ]
    }
   ],
   "source": [
    "kfold_results, model_frozen = kfold_cross_validation(train_inputs, train_labels, train_masks, compiled_model, device, EPOCHS_KFOLD_FROZEN, lr=LEARNING_RATE_KFOLD_FROZEN,\n",
    "                                                     k_folds=K_FOLDS_FROZEN,\n",
    "                                                     batch_size=BATCH_SIZE)"
   ]
  },
  {
   "cell_type": "code",
   "execution_count": 28,
   "id": "693adc94",
   "metadata": {},
   "outputs": [
    {
     "name": "stdout",
     "output_type": "stream",
     "text": [
      "Fold 2 results (frozen model):\n",
      "Accuracy: 0.5289\n",
      "Loss: 1.6139\n"
     ]
    }
   ],
   "source": [
    "for i, fold_result in enumerate(kfold_results[:-1]):\n",
    "        message = f\"Fold {i + 1} results (frozen model):\\nAccuracy: {fold_result['validation_accuracies'][-1]:.4f}\\nLoss: {fold_result['validation_losses'][-1]:.4f}\"\n",
    "print(message)       \n"
   ]
  },
  {
   "cell_type": "code",
   "execution_count": 29,
   "id": "38b95762",
   "metadata": {},
   "outputs": [],
   "source": [
    "all_training_losses_frozen = []\n",
    "all_training_accuracies_frozen = []\n",
    "all_validation_losses_frozen = []\n",
    "all_validation_accuracies_frozen = []\n",
    "\n",
    "# Iterate through the results of each fold\n",
    "for fold_result in kfold_results:\n",
    "    all_training_losses_frozen.append(fold_result['training_losses'])\n",
    "    all_training_accuracies_frozen.append(fold_result['training_accuracies'])\n",
    "    all_validation_losses_frozen.append(fold_result['validation_losses'])\n",
    "    all_validation_accuracies_frozen.append(\n",
    "        fold_result['validation_accuracies'])"
   ]
  },
  {
   "cell_type": "code",
   "execution_count": 30,
   "id": "3bf90502",
   "metadata": {},
   "outputs": [],
   "source": [
    "def plot_results(training_losses, validation_losses, loss_or_accuracy, title):\n",
    "    import matplotlib.pyplot as plt\n",
    "\n",
    "    for i, (t_loss, v_loss) in enumerate(zip(training_losses, validation_losses)):\n",
    "        plt.plot(t_loss, label=f'Fold {i + 1} - Training ' + loss_or_accuracy)\n",
    "        if v_loss is not None:\n",
    "            plt.plot(\n",
    "                v_loss, label=f'Fold {i + 1} - Validation ' + loss_or_accuracy)\n",
    "\n",
    "    plt.xlabel('Epochs')\n",
    "    plt.ylabel(loss_or_accuracy)\n",
    "    plt.legend()\n",
    "    plt.title(title)"
   ]
  },
  {
   "cell_type": "code",
   "execution_count": 31,
   "id": "19730a91",
   "metadata": {},
   "outputs": [
    {
     "data": {
      "image/png": "[encoded data removed]",
      "text/plain": [
       "<Figure size 640x480 with 1 Axes>"
      ]
     },
     "metadata": {},
     "output_type": "display_data"
    }
   ],
   "source": [
    "plot_results(all_training_losses_frozen, all_validation_losses_frozen,\n",
    "             'Loss', 'Trainning and Validation Losses for each fold')"
   ]
  },
  {
   "cell_type": "code",
   "execution_count": 32,
   "id": "a52b9dc1",
   "metadata": {},
   "outputs": [
    {
     "data": {
      "image/png": "[encoded data removed]",
      "text/plain": [
       "<Figure size 640x480 with 1 Axes>"
      ]
     },
     "metadata": {},
     "output_type": "display_data"
    }
   ],
   "source": [
    "plot_results(all_training_accuracies_frozen, all_validation_accuracies_frozen,\n",
    "             'Accuracy', 'Trainning and Validation Accuracies for each fold')"
   ]
  },
  {
   "cell_type": "code",
   "execution_count": null,
   "id": "15d9e7ef",
   "metadata": {},
   "outputs": [],
   "source": []
  },
  {
   "cell_type": "markdown",
   "id": "940eb385",
   "metadata": {},
   "source": [
    "Guardamos el modelo para posteriormente hacer un entrenamiento en el que tengamos la última capa del mismo descongelado"
   ]
  },
  {
   "cell_type": "code",
   "execution_count": 33,
   "id": "ded34102",
   "metadata": {},
   "outputs": [],
   "source": [
    "model_frozen.base_model.save_pretrained(SAVE_DIRECTORY_FROZEN)"
   ]
  },
  {
   "cell_type": "code",
   "execution_count": 34,
   "id": "6dbf3836",
   "metadata": {},
   "outputs": [],
   "source": [
    "classifier_state_dict_path = os.path.join(\n",
    "    SAVE_DIRECTORY_FROZEN, \"classifier_state_dict.pt\")\n",
    "torch.save(model_frozen.classifier.state_dict(), classifier_state_dict_path)"
   ]
  },
  {
   "cell_type": "markdown",
   "id": "a512e91d",
   "metadata": {},
   "source": [
    "Comprobamos los datos con el dataset de test para verificar divergencias"
   ]
  },
  {
   "cell_type": "code",
   "execution_count": 35,
   "id": "97fd3c57",
   "metadata": {},
   "outputs": [],
   "source": [
    "test_dataloader = create_dataloader(torch.tensor(test_inputs), torch.tensor(test_masks), torch.tensor(test_labels),\n",
    "                                    BATCH_SIZE, device)"
   ]
  },
  {
   "cell_type": "code",
   "execution_count": 36,
   "id": "9cca716f",
   "metadata": {},
   "outputs": [
    {
     "name": "stdout",
     "output_type": "stream",
     "text": [
      "Average test loss: 1.88, Average test accuracy: 0.42\n"
     ]
    }
   ],
   "source": [
    "test_losses_frozen, test_accuracy_frozen, _, _ = test_model(\n",
    "    model_frozen, test_dataloader, LOSS_FUNCTION)"
   ]
  },
  {
   "cell_type": "markdown",
   "id": "156cc6b0",
   "metadata": {},
   "source": [
    "## Ahora realizamos el entrenamiento descongelando etapas del modelo RoBERTa "
   ]
  },
  {
   "cell_type": "code",
   "execution_count": 41,
   "id": "7125fb41",
   "metadata": {},
   "outputs": [],
   "source": [
    "EPOCHS_KFOLD_UNFROZEN = 5\n",
    "LEARNING_RATE_KFOLD_UNFROZEN = 5e-5\n",
    "K_FOLDS_UNFROZEN = 2\n",
    "LAYERS_TO_UNFREEZE = -2"
   ]
  },
  {
   "cell_type": "code",
   "execution_count": 42,
   "id": "934c63ae",
   "metadata": {},
   "outputs": [
    {
     "name": "stderr",
     "output_type": "stream",
     "text": [
      "Some weights of RobertaModel were not initialized from the model checkpoint at roberta-base and are newly initialized: ['roberta.pooler.dense.bias', 'roberta.pooler.dense.weight']\n",
      "You should probably TRAIN this model on a down-stream task to be able to use it for predictions and inference.\n"
     ]
    }
   ],
   "source": [
    "classifier_state_dict_path = os.path.join(\n",
    "    SAVE_DIRECTORY_FROZEN, \"classifier_state_dict.pt\")\n",
    "classifier_state_dict = torch.load(classifier_state_dict_path)\n",
    "\n",
    "base_model = RobertaModel.from_pretrained(\"roberta-base\")\n",
    "for param in base_model.encoder.layer[:LAYERS_TO_UNFREEZE].parameters():\n",
    "    param.requires_grad = True"
   ]
  },
  {
   "cell_type": "code",
   "execution_count": 43,
   "id": "2635ac6f",
   "metadata": {},
   "outputs": [
    {
     "name": "stdout",
     "output_type": "stream",
     "text": [
      "Fold 1\n",
      "Training epoch 1\n"
     ]
    },
    {
     "name": "stderr",
     "output_type": "stream",
     "text": [
      "Iteration: 100%|█████████████████████████████████████████████████████████████████████████████████████████████████████████████████████████████████████████████████████████████████████████████████████████████████████████████████████████████████████████████| 188/188 [00:53<00:00,  3.54it/s]\n"
     ]
    },
    {
     "name": "stdout",
     "output_type": "stream",
     "text": [
      "Epoch 1 - Average training loss: 1.22, Average training accuracy: 0.59\n",
      "Epoch 1 - Average validation loss: 0.91, Average validation accuracy: 0.69\n",
      "Training epoch 2\n"
     ]
    },
    {
     "name": "stderr",
     "output_type": "stream",
     "text": [
      "Iteration: 100%|█████████████████████████████████████████████████████████████████████████████████████████████████████████████████████████████████████████████████████████████████████████████████████████████████████████████████████████████████████████████| 188/188 [00:08<00:00, 21.82it/s]\n"
     ]
    },
    {
     "name": "stdout",
     "output_type": "stream",
     "text": [
      "Epoch 2 - Average training loss: 0.75, Average training accuracy: 0.73\n",
      "Epoch 2 - Average validation loss: 0.92, Average validation accuracy: 0.72\n",
      "Training epoch 3\n"
     ]
    },
    {
     "name": "stderr",
     "output_type": "stream",
     "text": [
      "Iteration: 100%|█████████████████████████████████████████████████████████████████████████████████████████████████████████████████████████████████████████████████████████████████████████████████████████████████████████████████████████████████████████████| 188/188 [00:08<00:00, 21.82it/s]\n"
     ]
    },
    {
     "name": "stdout",
     "output_type": "stream",
     "text": [
      "Epoch 3 - Average training loss: 0.47, Average training accuracy: 0.84\n",
      "Epoch 3 - Average validation loss: 1.17, Average validation accuracy: 0.70\n",
      "Early stopping triggered, no improvement for 2 consecutive epochs\n",
      "Fold 2\n",
      "Training epoch 1\n"
     ]
    },
    {
     "name": "stderr",
     "output_type": "stream",
     "text": [
      "Iteration: 100%|█████████████████████████████████████████████████████████████████████████████████████████████████████████████████████████████████████████████████████████████████████████████████████████████████████████████████████████████████████████████| 188/188 [00:53<00:00,  3.53it/s]\n"
     ]
    },
    {
     "name": "stdout",
     "output_type": "stream",
     "text": [
      "Epoch 1 - Average training loss: 1.19, Average training accuracy: 0.60\n",
      "Epoch 1 - Average validation loss: 0.93, Average validation accuracy: 0.68\n",
      "Training epoch 2\n"
     ]
    },
    {
     "name": "stderr",
     "output_type": "stream",
     "text": [
      "Iteration: 100%|█████████████████████████████████████████████████████████████████████████████████████████████████████████████████████████████████████████████████████████████████████████████████████████████████████████████████████████████████████████████| 188/188 [00:08<00:00, 21.76it/s]\n"
     ]
    },
    {
     "name": "stdout",
     "output_type": "stream",
     "text": [
      "Epoch 2 - Average training loss: 0.71, Average training accuracy: 0.75\n",
      "Epoch 2 - Average validation loss: 1.16, Average validation accuracy: 0.65\n",
      "Training epoch 3\n"
     ]
    },
    {
     "name": "stderr",
     "output_type": "stream",
     "text": [
      "Iteration: 100%|█████████████████████████████████████████████████████████████████████████████████████████████████████████████████████████████████████████████████████████████████████████████████████████████████████████████████████████████████████████████| 188/188 [00:08<00:00, 21.75it/s]\n"
     ]
    },
    {
     "name": "stdout",
     "output_type": "stream",
     "text": [
      "Epoch 3 - Average training loss: 0.42, Average training accuracy: 0.85\n",
      "Epoch 3 - Average validation loss: 1.26, Average validation accuracy: 0.69\n",
      "Early stopping triggered, no improvement for 2 consecutive epochs\n",
      "Final Training with all data\n",
      "Training epoch 1\n"
     ]
    },
    {
     "name": "stderr",
     "output_type": "stream",
     "text": [
      "Iteration: 100%|█████████████████████████████████████████████████████████████████████████████████████████████████████████████████████████████████████████████████████████████████████████████████████████████████████████████████████████████████████████████| 376/376 [01:02<00:00,  6.01it/s]\n"
     ]
    },
    {
     "name": "stdout",
     "output_type": "stream",
     "text": [
      "Epoch 1 - Average training loss: 1.11, Average training accuracy: 0.62\n",
      "Training epoch 2\n"
     ]
    },
    {
     "name": "stderr",
     "output_type": "stream",
     "text": [
      "Iteration: 100%|█████████████████████████████████████████████████████████████████████████████████████████████████████████████████████████████████████████████████████████████████████████████████████████████████████████████████████████████████████████████| 376/376 [00:17<00:00, 21.47it/s]"
     ]
    },
    {
     "name": "stdout",
     "output_type": "stream",
     "text": [
      "Epoch 2 - Average training loss: 0.69, Average training accuracy: 0.76\n"
     ]
    },
    {
     "name": "stderr",
     "output_type": "stream",
     "text": [
      "\n"
     ]
    }
   ],
   "source": [
    "unfrozen_model = CustomRoBERTa(base_model.to(\n",
    "    device), num_classes=len(set(df['Emotion'])))\n",
    "# Load the frozen classifier state dict into the unfrozen model\n",
    "unfrozen_model.classifier.load_state_dict(classifier_state_dict)\n",
    "# Set the optimizer and scheduler\n",
    "optimizer = torch.optim.AdamW(\n",
    "    unfrozen_model.parameters(), lr=LEARNING_RATE_KFOLD_UNFROZEN)\n",
    "total_steps = len(train_inputs) * EPOCHS_KFOLD_UNFROZEN\n",
    "scheduler = get_linear_schedule_with_warmup(optimizer, num_warmup_steps=0.1 * total_steps,\n",
    "                                            num_training_steps=total_steps)\n",
    "\n",
    "compiled_model = torch.compile(unfrozen_model)\n",
    "# Perform k-fold cross-validation on the unfrozen model\n",
    "kfold_results_unfrozen, model_unfrozen_last_layer = kfold_cross_validation(train_inputs, train_labels, train_masks,\n",
    "                                                                           compiled_model, device,\n",
    "                                                                           EPOCHS_KFOLD_UNFROZEN,\n",
    "                                                                           lr=LEARNING_RATE_KFOLD_UNFROZEN,\n",
    "                                                                           k_folds=K_FOLDS_UNFROZEN,\n",
    "                                                                           batch_size=BATCH_SIZE,\n",
    "                                                                           patience=2)\n",
    "\n",
    "# Clear unused objects and free up memory\n",
    "del unfrozen_model\n",
    "torch.cuda.empty_cache()"
   ]
  },
  {
   "cell_type": "code",
   "execution_count": 44,
   "id": "4e461a46",
   "metadata": {},
   "outputs": [],
   "source": [
    "model_unfrozen_last_layer.base_model.save_pretrained(SAVE_DIRECTORY_UNFROZEN)\n",
    "classifier_state_dict_path = os.path.join(\n",
    "    SAVE_DIRECTORY_UNFROZEN, \"classifier_state_dict.pt\")\n",
    "torch.save(model_unfrozen_last_layer.classifier.state_dict(),\n",
    "           classifier_state_dict_path)"
   ]
  },
  {
   "cell_type": "markdown",
   "id": "7d59677c",
   "metadata": {},
   "source": [
    "### Generación de la matriz de confusión, primero cargamos el modelo necesario vram muy ocupada "
   ]
  },
  {
   "cell_type": "code",
   "execution_count": 16,
   "id": "7ade96d3",
   "metadata": {},
   "outputs": [
    {
     "name": "stderr",
     "output_type": "stream",
     "text": [
      "Some weights of RobertaModel were not initialized from the model checkpoint at roberta-base and are newly initialized: ['roberta.pooler.dense.weight', 'roberta.pooler.dense.bias']\n",
      "You should probably TRAIN this model on a down-stream task to be able to use it for predictions and inference.\n"
     ]
    }
   ],
   "source": [
    "classifier_state_dict_path = os.path.join(\n",
    "    '/workspace/code/BERTS/code/RoBERTa/MODELS/RoBERTa_entrenado_kfold_unfrozen_last_layer', \"classifier_state_dict.pt\")\n",
    "classifier_state_dict = torch.load(classifier_state_dict_path)\n",
    "\n",
    "base_model = RobertaModel.from_pretrained(\"roberta-base\")\n",
    "\n",
    "model_unfrozen_last_layer = CustomRoBERTa(\n",
    "    base_model.to(device), num_classes=len(set(df['Emotion'])))\n",
    "# Load the frozen classifier state dict into the unfrozen model\n",
    "model_unfrozen_last_layer.classifier.load_state_dict(classifier_state_dict)\n",
    "\n",
    "\n",
    "model_unfrozen_last_layer = model_unfrozen_last_layer.to(device)\n",
    "model_unfrozen_last_layer = torch.compile(model_unfrozen_last_layer)"
   ]
  },
  {
   "cell_type": "code",
   "execution_count": 17,
   "id": "578a8660",
   "metadata": {},
   "outputs": [],
   "source": [
    "torch._dynamo.config.suppress_errors = True"
   ]
  },
  {
   "cell_type": "code",
   "execution_count": 18,
   "id": "036b8f88",
   "metadata": {},
   "outputs": [
    {
     "name": "stdout",
     "output_type": "stream",
     "text": [
      "[[ 53  23  23  32  18  42  25]\n",
      " [ 28  88  23  11  16  33  14]\n",
      " [  4  17 129   4  28  32   1]\n",
      " [ 18  11  18  67  22  41  33]\n",
      " [ 10   9  17  13 141  25   4]\n",
      " [ 10   6  20  29  32 113   7]\n",
      " [ 20  22  21  43  43  24  41]]\n"
     ]
    }
   ],
   "source": [
    "from torch.utils.data import TensorDataset, DataLoader\n",
    "\n",
    "# Define el tamaño del batch\n",
    "batch_size = 16\n",
    "\n",
    "# Crea un DataLoader para el conjunto de prueba\n",
    "test_dataloader = create_dataloader(torch.tensor(test_inputs), torch.tensor(test_masks), torch.tensor(test_labels),\n",
    "                                    BATCH_SIZE, device)\n",
    "# Haz predicciones en mini-batches\n",
    "preds = []\n",
    "true_labels = []\n",
    "model_unfrozen_last_layer.eval()\n",
    "for batch in test_dataloader:\n",
    "    b_input_ids, b_input_mask, b_labels = batch\n",
    "\n",
    "    # Mueve los tensores al dispositivo correcto\n",
    "    b_input_ids = b_input_ids\n",
    "    b_input_mask = b_input_mask\n",
    "    b_labels = b_labels\n",
    "\n",
    "    with torch.no_grad():\n",
    "        outputs = model_unfrozen_last_layer(b_input_ids, b_input_mask)\n",
    "        logits = outputs.logits\n",
    "\n",
    "        _, batch_preds = torch.max(logits, dim=1)\n",
    "\n",
    "    preds.extend(batch_preds.cpu().numpy())\n",
    "    true_labels.extend(b_labels.cpu().numpy())\n",
    "\n",
    "\n",
    "# Obtén las categorías de tu objeto OneHotEncoder\n",
    "categories = one_hot_encoder.categories_[0]\n",
    "\n",
    "# Utiliza estas categorías para decodificar tus predicciones\n",
    "preds_labels = categories[preds].reshape(-1, 1)\n",
    "\n",
    "true_labels = one_hot_encoder.inverse_transform(true_labels)\n",
    "\n",
    "conf_matrix = confusion_matrix(true_labels, preds_labels\n",
    "                               )\n",
    "\n",
    "print(conf_matrix)"
   ]
  },
  {
   "cell_type": "code",
   "execution_count": null,
   "id": "d6d3b3d1",
   "metadata": {},
   "outputs": [],
   "source": [
    "\n"
   ]
  },
  {
   "cell_type": "code",
   "execution_count": 19,
   "id": "50d96b3a",
   "metadata": {},
   "outputs": [
    {
     "data": {
      "text/plain": [
       "16.0"
      ]
     },
     "execution_count": 19,
     "metadata": {},
     "output_type": "execute_result"
    }
   ],
   "source": [
    "len(true_labels)/len(test_dataloader)"
   ]
  },
  {
   "cell_type": "code",
   "execution_count": 20,
   "id": "3a57eea3",
   "metadata": {},
   "outputs": [
    {
     "data": {
      "image/png": "[encoded data removed]",
      "text/plain": [
       "<Figure size 1000x800 with 2 Axes>"
      ]
     },
     "metadata": {},
     "output_type": "display_data"
    }
   ],
   "source": [
    "import seaborn as sns\n",
    "import matplotlib.pyplot as plt\n",
    "import pandas as pd\n",
    "\n",
    "# Crear el dataframe para seaborn.\n",
    "confusion_df = pd.DataFrame(conf_matrix, index=categories, columns=categories)\n",
    "\n",
    "plt.figure(figsize=(10, 8))\n",
    "sns.heatmap(confusion_df, annot=True, fmt='d', cmap='Blues')\n",
    "plt.xlabel('Predicted Label')\n",
    "plt.ylabel('True Label')\n",
    "plt.title('Confusion Matrix')\n",
    "plt.show()"
   ]
  },
  {
   "cell_type": "code",
   "execution_count": 21,
   "id": "38442946",
   "metadata": {},
   "outputs": [],
   "source": [
    "def predict_emotion(sequence):\n",
    "    # Tokeniza la secuencia\n",
    "    inputs = tokenizer.encode_plus(\n",
    "        sequence,\n",
    "        add_special_tokens=True,\n",
    "        max_length=MAX_LEN,\n",
    "        return_token_type_ids=False,\n",
    "        pad_to_max_length=True,\n",
    "        return_attention_mask=True,\n",
    "        return_tensors='pt',\n",
    "    )\n",
    "\n",
    "    # Obtiene los tensores de entrada y máscara de atención\n",
    "    input_ids = inputs['input_ids'].to(device)\n",
    "    attention_mask = inputs['attention_mask'].to(device)\n",
    "\n",
    "    # Evalúa la secuencia con el modelo\n",
    "    with torch.no_grad():\n",
    "        outputs = model_unfrozen_last_layer(input_ids, attention_mask)\n",
    "        logits = outputs.logits\n",
    "        _, preds = torch.max(logits, dim=1)\n",
    "\n",
    "    # Decodifica las predicciones\n",
    "    preds_labels = np.array(categories[preds]).reshape(-1, 1)\n",
    "\n",
    "    return preds_labels[0][0]"
   ]
  },
  {
   "cell_type": "code",
   "execution_count": 22,
   "id": "0592ec00",
   "metadata": {},
   "outputs": [
    {
     "name": "stderr",
     "output_type": "stream",
     "text": [
      "Truncation was not explicitly activated but `max_length` is provided a specific value, please use `truncation=True` to explicitly truncate examples to max length. Defaulting to 'longest_first' truncation strategy. If you encode pairs of sequences (GLUE-style) with the tokenizer you can select this strategy more precisely by providing a specific strategy to `truncation`.\n"
     ]
    },
    {
     "name": "stdout",
     "output_type": "stream",
     "text": [
      "The predicted emotion for \"\" is sadness.\n"
     ]
    }
   ],
   "source": [
    "sequence = \"\"\n",
    "emotion = predict_emotion(sequence)\n",
    "print(f'The predicted emotion for \"{sequence}\" is {emotion}.')"
   ]
  },
  {
   "cell_type": "markdown",
   "id": "561eb00b",
   "metadata": {},
   "source": [
    "### Futuras implementaciones\n",
    "Aumento de dataset, entrenamiento con modelos menos científicos para conseguir que funcione de manera más aproximada"
   ]
  },
  {
   "cell_type": "markdown",
   "id": "3b7c695b",
   "metadata": {},
   "source": [
    "# Adaptación para dataset más grande"
   ]
  },
  {
   "cell_type": "code",
   "execution_count": 1,
   "id": "bd1691e2",
   "metadata": {},
   "outputs": [
    {
     "name": "stderr",
     "output_type": "stream",
     "text": [
      "/usr/local/lib/python3.10/dist-packages/tqdm/auto.py:21: TqdmWarning: IProgress not found. Please update jupyter and ipywidgets. See https://ipywidgets.readthedocs.io/en/stable/user_install.html\n",
      "  from .autonotebook import tqdm as notebook_tqdm\n",
      "2023-11-22 22:10:16.638789: E external/local_xla/xla/stream_executor/cuda/cuda_dnn.cc:9261] Unable to register cuDNN factory: Attempting to register factory for plugin cuDNN when one has already been registered\n",
      "2023-11-22 22:10:16.638854: E external/local_xla/xla/stream_executor/cuda/cuda_fft.cc:607] Unable to register cuFFT factory: Attempting to register factory for plugin cuFFT when one has already been registered\n",
      "2023-11-22 22:10:16.639914: E external/local_xla/xla/stream_executor/cuda/cuda_blas.cc:1515] Unable to register cuBLAS factory: Attempting to register factory for plugin cuBLAS when one has already been registered\n",
      "2023-11-22 22:10:16.646912: I tensorflow/core/platform/cpu_feature_guard.cc:182] This TensorFlow binary is optimized to use available CPU instructions in performance-critical operations.\n",
      "To enable the following instructions: AVX2 FMA, in other operations, rebuild TensorFlow with the appropriate compiler flags.\n"
     ]
    },
    {
     "data": {
      "text/plain": [
       "ERROR: Failed to launch TensorBoard (exited with 2).\n",
       "Contents of stderr:\n",
       "2023-11-22 22:10:19.424138: E external/local_xla/xla/stream_executor/cuda/cuda_dnn.cc:9261] Unable to register cuDNN factory: Attempting to register factory for plugin cuDNN when one has already been registered\n",
       "2023-11-22 22:10:19.424275: E external/local_xla/xla/stream_executor/cuda/cuda_fft.cc:607] Unable to register cuFFT factory: Attempting to register factory for plugin cuFFT when one has already been registered\n",
       "2023-11-22 22:10:19.425278: E external/local_xla/xla/stream_executor/cuda/cuda_blas.cc:1515] Unable to register cuBLAS factory: Attempting to register factory for plugin cuBLAS when one has already been registered\n",
       "usage: tensorboard [-h] [--helpfull] [--logdir PATH] [--logdir_spec PATH_SPEC]\n",
       "                   [--host ADDR] [--bind_all] [--port PORT]\n",
       "                   [--reuse_port BOOL] [--load_fast {false,auto,true}]\n",
       "                   [--extra_data_server_flags EXTRA_DATA_SERVER_FLAGS]\n",
       "                   [--grpc_creds_type {local,ssl,ssl_dev}]\n",
       "                   [--grpc_data_provider PORT] [--purge_orphaned_data BOOL]\n",
       "                   [--db URI] [--db_import] [--inspect] [--version_tb]\n",
       "                   [--tag TAG] [--event_file PATH] [--path_prefix PATH]\n",
       "                   [--window_title TEXT] [--max_reload_threads COUNT]\n",
       "                   [--reload_interval SECONDS] [--reload_task TYPE]\n",
       "                   [--reload_multifile BOOL]\n",
       "                   [--reload_multifile_inactive_secs SECONDS]\n",
       "                   [--generic_data TYPE]\n",
       "                   [--samples_per_plugin SAMPLES_PER_PLUGIN]\n",
       "                   [--detect_file_replacement BOOL]\n",
       "                   [--whatif-use-unsafe-custom-prediction YOUR_CUSTOM_PREDICT_FUNCTION.py]\n",
       "                   [--whatif-data-dir PATH]\n",
       "                   {serve,dev} ...\n",
       "tensorboard: error: argument {serve,dev}: invalid choice: '-' (choose from 'serve', 'dev')"
      ]
     },
     "metadata": {},
     "output_type": "display_data"
    }
   ],
   "source": [
    "import re\n",
    "import warnings\n",
    "import os\n",
    "import asyncio\n",
    "import traceback\n",
    "from utils import *\n",
    "from transformers import AutoTokenizer, RobertaModel, get_linear_schedule_with_warmup\n",
    "from sklearn.model_selection import train_test_split\n",
    "from sklearn.preprocessing import OneHotEncoder\n",
    "\n",
    "# Añadiendo las librerías necesarias para el encoding de los datos.\n",
    "\n",
    "\n",
    "os.environ['TOKENIZERS_PARALLELISM'] = 'false'\n",
    "os.environ['TF_CPP_MIN_LOG_LEVEL'] = '2'\n",
    "\n",
    "\"\"\"GLOBAL PARAMS\"\"\"\n",
    "MAX_LEN = 240\n",
    "TEST_SIZE = 0.2\n",
    "RANDOM_STATE = 42\n",
    "EPOCHS_KFOLD_FROZEN = 100\n",
    "LEARNING_RATE_KFOLD_FROZEN = 3e-4\n",
    "K_FOLDS_FROZEN = 2\n",
    "BATCH_SIZE = 16\n",
    "LOSS_FUNCTION = nn.CrossEntropyLoss()\n",
    "\n",
    "\"DIRECTORIES\"\n",
    "SAVE_DIRECTORY_FROZEN = \"./MODELS/RoBERTa_entrenado_kfold\"\n",
    "SAVE_DIRECTORY_UNFROZEN = \"./MODELS/RoBERTa_entrenado_kfold_unfrozen_last_layer\"\n",
    "\n",
    "TYPED_STORAGE_WARNING = re.compile(\".TypedStorage is deprecated.\")\n",
    "FALLBACK_KERNEL_WARNING = re.compile(\".Using FallbackKernel: aten.cumsum.\")\n",
    "TRITON_RANDOM_WARNING = re.compile(\n",
    "    \".using triton random, expect difference from eager.\")\n",
    "\n",
    "\n",
    "def warning_filter(message, category, filename, lineno, file=None, line=None):\n",
    "    if category == UserWarning and (TYPED_STORAGE_WARNING.match(str(message)) or FALLBACK_KERNEL_WARNING.match(str(message)) or TRITON_RANDOM_WARNING.match(str(message))):\n",
    "        return False\n",
    "    return True\n",
    "\n",
    "\n",
    "warnings.showwarning = warning_filter\n",
    "warnings.filterwarnings(\"ignore\", category=UserWarning,\n",
    "                        module=\"torch._inductor.ir\")\n",
    "\n",
    "\n",
    "# Establecer la semilla para PyTorch en las operaciones CPU\n",
    "torch.manual_seed(42)\n",
    "\n",
    "# Establecer la semilla para PyTorch en las operaciones en GPU\n",
    "torch.cuda.manual_seed(42)\n",
    "torch.backends.cudnn.deterministic = True\n",
    "torch.backends.cudnn.benchmark = False\n",
    "\n",
    "np.random.seed(42)\n",
    "%matplotlib inline\n",
    "%load_ext tensorboard\n",
    "%tensorboard - -logdir = ./runs - -host localhost - -port 6006"
   ]
  },
  {
   "cell_type": "code",
   "execution_count": 2,
   "id": "956249e7",
   "metadata": {},
   "outputs": [
    {
     "name": "stdout",
     "output_type": "stream",
     "text": [
      "cuda\n"
     ]
    }
   ],
   "source": [
    "device = torch.device(\"cuda\" if torch.cuda.is_available() else \"cpu\")\n",
    "print(device)"
   ]
  },
  {
   "cell_type": "code",
   "execution_count": 3,
   "id": "8d82db77",
   "metadata": {},
   "outputs": [],
   "source": [
    "from datasets import load_dataset\n",
    "\n",
    "dataset_name = \"RikoteMaster/Emotion_Recognition_4_llama2_chat\"\n",
    "\n",
    "ds = load_dataset(dataset_name, split=\"train\")"
   ]
  },
  {
   "cell_type": "code",
   "execution_count": 4,
   "id": "73eb32ba",
   "metadata": {},
   "outputs": [],
   "source": [
    "print(ds)"
   ]
  },
  {
   "cell_type": "code",
   "execution_count": 5,
   "id": "1d6cb47b",
   "metadata": {},
   "outputs": [
    {
     "data": {
      "text/plain": [
       "['when i was on holiday with my former boyfriend he hit me and  behaved in a very evil and ugly manner in front of the hotel  personnel',\n",
       " 'news of a neighbors girl going missing accompanied by the collective search efforts and the involvement of the police sparked an undeniable sense of concern and unease indicating that something untoward had likely occurred',\n",
       " 'i experienced this feeling when the doctors found a nodule in one  of my mothers breasts it turned out to be an occlusion  resulting from continious sucking but for a few days i was not in my  reason',\n",
       " 'i experienced a strong surge of displeasure towards someone a feeling that stirred within me a deep sense of frustration and disappointment',\n",
       " 'when the realization dawned upon me that i was unable to establish effective communication with my dearest friend a profound sense of melancholy settled within me',\n",
       " 'i was made a very sharp remark at a rehearsal',\n",
       " 'a truck big one nearly mowed me off the road i was driving a  small lazer',\n",
       " 'mired in the depths of despondency my spirits plummeted as my team suffered a defeat in a championship leaving me overcome by a profound sense of sorrow',\n",
       " 'coping with the loss of a close friend filled me with a deep sense of grief',\n",
       " 'witnessing individuals heavily intoxicated and behaving in a foolish manner elicits a feeling of disapproval',\n",
       " 'one of my flatmates and i came back to the flat monday morning  to find a real mess left by the guy we share with',\n",
       " 'during my childhood my uncle paid us a visit for some inexplicable reason i impulsively spat at him and hastily fled the scene my father pursued me urging me to apologize for my actions',\n",
       " 'i had made a promise to someone close to me acknowledging the importance of fulfilling a task for them however when the time came i regrettably failed to deliver resulting in a strong sense of disappointment and selfreproach',\n",
       " 'i passed an exam that i was absolutely certain that i had failed',\n",
       " 'my cat died painfully and slowly',\n",
       " 'the recurring pattern of disagreement with my younger sister triggers a cascade of emotions leaving me frustrated at both her and myself for engaging in trivial arguments over matters that hold little significance',\n",
       " 'during a holiday in eastgermany i got aquainted with a boy who  lived there we started writing but i only wrote once i felt  ashamed because i probably was one of his sparse contacts with  western europe',\n",
       " 'i was walking home late at night from lectures and someone  deliberately started following me it was dark and i was scared',\n",
       " 'while trying to get my little brother over a ditch he fell on  his head and started crying  i was scared of having caused him  permanent injury',\n",
       " 'i could not meet my love after having waited for a month due to  illness',\n",
       " 'i eagerly awaited a friends call at an agreedupon time but it failed to materialize leaving me in a state of frustration',\n",
       " 'during a rehearsal i was subjected to a cutting remark that left me deeply unsettled',\n",
       " ' meeting some new unpleasant people or some new demanding  situation',\n",
       " 'my heart danced with delight as my beloved offered a proposal that would forever intertwine our lives',\n",
       " 'a grenade blew out next to me',\n",
       " 'witnessing a man receiving treatment for a heart attack filled me with apprehension as thoughts of my own father possibly being in a similar situation raced through my mind',\n",
       " 'some people were sitting outside and saying things which were not  really true',\n",
       " 'discussing with a certain person about a job i was getting and  that perosn was negative and pessimistic',\n",
       " 'upon accepting a lunch invitation from a former male friend i found myself grappling with a subtle sense of unease and selfdoubt questioning the intentions and implications of our reunion',\n",
       " 'the distressing images of faminestricken individuals in ethiopia broadcasted on television elicit an overwhelming feeling of anguish and empathy as the magnitude of their suffering becomes agonizingly apparent',\n",
       " 'alone in the house late  i heard noises sounded like someone  was trying to get in our back door',\n",
       " 'in an exam when i answered the questions with very little  assurance due to insufficiet preparation',\n",
       " 'i had a small argument with a relative and some other people got  implicated  it resulted in a proper row',\n",
       " 'experiencing remorse after indulging in excessive consumption of chocolate resulting in discomfort and a feeling of sickness particularly considering my weight',\n",
       " 'a pang of selfconsciousness washed over me when a professor seized the moment of my inattentiveness catching me unaware and detached from his discourse',\n",
       " 'during my summer job my superior engaged in deceptive practices often exploiting customers to the fullest extent on one occasion he placed me in an uncomfortable position that led to a strong aversion and disdain towards him',\n",
       " 'this particular sentiment is not one i frequently experience however i distinctly remember a time when someone stole one of my belongings provoking a surge of frustration',\n",
       " 'engaging in conversations about others behind their backs left me with a lingering unease as i confronted the ethical implications of such behavior',\n",
       " 'when i was an exploration with my friends and almost got lost in  an unfamiliar environment  it was getting dark and we did not  know how to get back home',\n",
       " 'the surge of frustration that overcame me when i discovered that a friend whom i had confided in had divulged my secret to someone with whom i shared a strained relationship',\n",
       " 'i made an appointment to pick up someone however i arrived  too late and she had to wait a quarter of an hour',\n",
       " 'unexpectedly a dear friend paid me a visit igniting a surge of happiness that enveloped me in warmth and contentment',\n",
       " 'after engaging in a disagreement with a close friend a lingering feeling of remorse weighed heavily upon me prompting me to reflect on my actions',\n",
       " 'failing to dedicate sufficient time to study as exams drew near cast a shadow of selfreproach and regret',\n",
       " 'accidentally damaging the lefthand indicator box by misjudging the proximity to a structure instilled a sense of responsibility and the need to rectify the situation promptly',\n",
       " 'i remember when i was a little boy i broke a swiss dinner set  quite involuntarily',\n",
       " 'spontaneous picnic with sister and friend and children  great',\n",
       " 'the loss of my beloved canine companion whom i had nurtured for nearly three years weighed heavily upon me it had been ailing for several days exhibiting a complete loss of appetite one fateful morning i discovered its lifeless form plunging me into a profound state of sorrow',\n",
       " 'my little cat which i had raised all by myself hanged itself when  playing in the garden',\n",
       " 'when my cousin passed away unexpectedly and tragically a  murder',\n",
       " 'no further comments or response provided',\n",
       " 'when i got very low marks in one of the assignments',\n",
       " 'absorbing accounts of executions and massacres during world war ii an intense aversion arises towards those responsible for such atrocities',\n",
       " 'i had to take care of a neighbours child i did not look after  it all the time and the child fell down and was hurt i felt  guilty',\n",
       " 'overwhelmed by a profound sense of discomfort i found myself engaged in a heated argument with my girlfriend at a local luncheonette attracting the attention of onlookers and ultimately compelling me to hastily depart',\n",
       " 'when confronted with a situation where i have clearly been treated unfairly with no avenue to rectify the injustice a complex blend of frustration and disappointment wells up within me',\n",
       " 'returning home late from a party last night a sense of unease enveloped me as i contemplated my fathers potential reaction',\n",
       " 'every weekend as i embark on a fivekilometer bike ride through desolate and dimly lit polders my mind becomes consumed by haunting imaginations',\n",
       " 'disturbed and bewildered by the unfounded claims of my cousins wife who falsely declared herself as my girlfriend leading to an unsettling situation for all involved',\n",
       " 'confronted with personal criticisms early in the morning it stirred a sense of irritation within me',\n",
       " 'the moment an old school friend reached out to me to reminisce about our shared memories after eight long years was filled with a bittersweet nostalgia reflecting on the passage of time and the experiences we had both missed',\n",
       " 'i am sad because some relations to friends are not very good',\n",
       " 'i had set my heart on getting admitted to puc and when the initial list was released i was devastated to find my name missing however to my surprise my name appeared in the second list when i had almost given up hope overwhelmed with emotion i fought back tears on the bus forever marking  as a pivotal moment in my life']"
      ]
     },
     "execution_count": 5,
     "metadata": {},
     "output_type": "execute_result"
    }
   ],
   "source": [
    "ds['Text_processed']"
   ]
  },
  {
   "cell_type": "code",
   "execution_count": 6,
   "id": "e480b6ac",
   "metadata": {},
   "outputs": [],
   "source": [
    "tokenizer = AutoTokenizer.from_pretrained('roberta-base')\n",
    "\n",
    "# Tokenize and encode the input data\n",
    "tokenized_features = tokenizer.batch_encode_plus(ds['Text_processed'], add_special_tokens=True,\n",
    "                                                 padding='max_length', truncation=True,\n",
    "                                                 max_length=MAX_LEN, return_attention_mask=True,\n",
    "                                                 return_tensors='pt'\n",
    "                                                 )"
   ]
  },
  {
   "cell_type": "code",
   "execution_count": 7,
   "id": "93bb66bf",
   "metadata": {},
   "outputs": [],
   "source": [
    "one_hot_encoder = OneHotEncoder()\n",
    "target_one_hot = one_hot_encoder.fit_transform(\n",
    "    np.array(ds['Emotion']).reshape(-1, 1)).toarray()"
   ]
  },
  {
   "cell_type": "code",
   "execution_count": 8,
   "id": "8b93cab0",
   "metadata": {},
   "outputs": [
    {
     "data": {
      "text/plain": [
       "(63, 7)"
      ]
     },
     "execution_count": 8,
     "metadata": {},
     "output_type": "execute_result"
    }
   ],
   "source": [
    "print(target_one_hot.shape)"
   ]
  },
  {
   "cell_type": "code",
   "execution_count": 9,
   "id": "2114ebdc",
   "metadata": {},
   "outputs": [
    {
     "data": {
      "text/plain": [
       "dict_keys(['input_ids', 'attention_mask'])"
      ]
     },
     "execution_count": 9,
     "metadata": {},
     "output_type": "execute_result"
    }
   ],
   "source": [
    "print(tokenized_features.keys())"
   ]
  },
  {
   "cell_type": "code",
   "execution_count": 10,
   "id": "c810beea",
   "metadata": {},
   "outputs": [],
   "source": [
    "train_inputs = tokenized_features['input_ids']\n",
    "train_masks = tokenized_features['attention_mask']\n",
    "train_labels = target_one_hot"
   ]
  },
  {
   "cell_type": "code",
   "execution_count": 11,
   "id": "e88d846f",
   "metadata": {},
   "outputs": [
    {
     "name": "stdout",
     "output_type": "stream",
     "text": [
      "torch.Size([63, 240]) torch.Size([63, 240]) (63, 7)\n"
     ]
    }
   ],
   "source": [
    "print(train_inputs.shape, train_masks.shape, train_labels.shape)"
   ]
  },
  {
   "cell_type": "code",
   "execution_count": 12,
   "id": "75987e77",
   "metadata": {},
   "outputs": [
    {
     "name": "stderr",
     "output_type": "stream",
     "text": [
      "Some weights of RobertaModel were not initialized from the model checkpoint at roberta-base and are newly initialized: ['roberta.pooler.dense.bias', 'roberta.pooler.dense.weight']\n",
      "You should probably TRAIN this model on a down-stream task to be able to use it for predictions and inference.\n"
     ]
    }
   ],
   "source": [
    "base_model = RobertaModel.from_pretrained(\"roberta-base\")"
   ]
  },
  {
   "cell_type": "code",
   "execution_count": 13,
   "id": "62ed2380",
   "metadata": {},
   "outputs": [],
   "source": [
    "for param in base_model.parameters():\n",
    "    param.requires_grad = False\n",
    "\n",
    "    # Initialize the custom RoBERTa model\n",
    "model = CustomRoBERTa(base_model.to(device), num_classes=len(set(ds['Emotion'])))"
   ]
  },
  {
   "cell_type": "code",
   "execution_count": 14,
   "id": "0be102dc",
   "metadata": {},
   "outputs": [],
   "source": [
    "compiled_model = torch.compile(model)"
   ]
  },
  {
   "cell_type": "code",
   "execution_count": 15,
   "id": "28931302",
   "metadata": {},
   "outputs": [],
   "source": [
    "optimizer = torch.optim.AdamW(compiled_model.parameters(), LEARNING_RATE_KFOLD_FROZEN)"
   ]
  },
  {
   "cell_type": "code",
   "execution_count": 16,
   "id": "bb78cd97",
   "metadata": {},
   "outputs": [],
   "source": [
    "total_steps = len(train_inputs) * EPOCHS_KFOLD_FROZEN\n",
    "scheduler = get_linear_schedule_with_warmup(optimizer, num_warmup_steps=0.1 * total_steps,\n",
    "                                            num_training_steps=total_steps)"
   ]
  },
  {
   "cell_type": "code",
   "execution_count": 17,
   "id": "a5a091f6",
   "metadata": {},
   "outputs": [
    {
     "name": "stdout",
     "output_type": "stream",
     "text": [
      "Using 80% of dataset for trainning and 20% for validation\n",
      "tensor([[    0,   118,    56,  ...,     1,     1,     1],\n",
      "        [    0, 22466,   983,  ...,     1,     1,     1],\n",
      "        [    0,   102,   181,  ...,     1,     1,     1],\n",
      "        ...,\n",
      "        [    0,   118,  2145,  ...,     1,     1,     1],\n",
      "        [    0,  4783,  1144,  ...,     1,     1,     1],\n",
      "        [    0,   118,  2984,  ...,     1,     1,     1]], device='cuda:0') tensor([[0., 0., 0., 1., 0., 0., 0.],\n",
      "        [0., 0., 1., 0., 0., 0., 0.],\n",
      "        [0., 0., 0., 0., 0., 0., 1.],\n",
      "        [1., 0., 0., 0., 0., 0., 0.],\n",
      "        [0., 1., 0., 0., 0., 0., 0.],\n",
      "        [0., 1., 0., 0., 0., 0., 0.],\n",
      "        [0., 0., 0., 1., 0., 0., 0.],\n",
      "        [1., 0., 0., 0., 0., 0., 0.],\n",
      "        [0., 0., 0., 0., 0., 1., 0.],\n",
      "        [0., 0., 0., 0., 0., 0., 1.],\n",
      "        [0., 0., 0., 0., 1., 0., 0.],\n",
      "        [0., 0., 1., 0., 0., 0., 0.],\n",
      "        [0., 0., 0., 0., 0., 1., 0.],\n",
      "        [0., 0., 0., 1., 0., 0., 0.],\n",
      "        [0., 0., 0., 1., 0., 0., 0.],\n",
      "        [0., 0., 0., 0., 0., 0., 1.],\n",
      "        [0., 0., 1., 0., 0., 0., 0.],\n",
      "        [0., 0., 1., 0., 0., 0., 0.],\n",
      "        [0., 0., 0., 0., 0., 1., 0.],\n",
      "        [0., 0., 0., 1., 0., 0., 0.],\n",
      "        [0., 0., 0., 1., 0., 0., 0.],\n",
      "        [0., 0., 0., 1., 0., 0., 0.],\n",
      "        [0., 0., 0., 1., 0., 0., 0.],\n",
      "        [1., 0., 0., 0., 0., 0., 0.],\n",
      "        [1., 0., 0., 0., 0., 0., 0.],\n",
      "        [0., 0., 0., 0., 0., 1., 0.],\n",
      "        [0., 0., 0., 0., 1., 0., 0.],\n",
      "        [0., 1., 0., 0., 0., 0., 0.],\n",
      "        [0., 0., 1., 0., 0., 0., 0.],\n",
      "        [0., 0., 0., 0., 0., 1., 0.],\n",
      "        [0., 0., 1., 0., 0., 0., 0.],\n",
      "        [0., 0., 0., 0., 0., 1., 0.],\n",
      "        [0., 0., 0., 1., 0., 0., 0.],\n",
      "        [0., 0., 0., 0., 1., 0., 0.],\n",
      "        [0., 0., 0., 1., 0., 0., 0.],\n",
      "        [0., 0., 1., 0., 0., 0., 0.],\n",
      "        [0., 0., 0., 0., 0., 0., 1.],\n",
      "        [1., 0., 0., 0., 0., 0., 0.],\n",
      "        [0., 0., 0., 0., 0., 0., 1.],\n",
      "        [0., 0., 1., 0., 0., 0., 0.],\n",
      "        [0., 0., 0., 0., 1., 0., 0.],\n",
      "        [0., 0., 0., 0., 0., 1., 0.],\n",
      "        [0., 0., 1., 0., 0., 0., 0.],\n",
      "        [0., 0., 0., 0., 0., 0., 1.],\n",
      "        [0., 1., 0., 0., 0., 0., 0.],\n",
      "        [0., 0., 0., 0., 0., 0., 1.],\n",
      "        [1., 0., 0., 0., 0., 0., 0.],\n",
      "        [0., 0., 0., 1., 0., 0., 0.],\n",
      "        [0., 0., 0., 0., 1., 0., 0.],\n",
      "        [0., 0., 0., 0., 0., 0., 1.]], device='cuda:0', dtype=torch.float64)\n",
      "Training epoch 1\n"
     ]
    },
    {
     "name": "stderr",
     "output_type": "stream",
     "text": [
      "Iteration: 100%|█████████████████████████████████████████████████████| 4/4 [00:36<00:00,  9.15s/it]\n"
     ]
    },
    {
     "name": "stdout",
     "output_type": "stream",
     "text": [
      "Epoch 1 - Average training loss: 1.88, Average training accuracy: 0.17\n",
      "Epoch 1 - Average validation loss: 1.97, Average validation accuracy: 0.08\n",
      "Training epoch 2\n"
     ]
    },
    {
     "name": "stderr",
     "output_type": "stream",
     "text": [
      "Iteration: 100%|█████████████████████████████████████████████████████| 4/4 [00:00<00:00, 65.89it/s]\n"
     ]
    },
    {
     "name": "stdout",
     "output_type": "stream",
     "text": [
      "Epoch 2 - Average training loss: 1.88, Average training accuracy: 0.19\n",
      "Epoch 2 - Average validation loss: 1.96, Average validation accuracy: 0.08\n",
      "Training epoch 3\n"
     ]
    },
    {
     "name": "stderr",
     "output_type": "stream",
     "text": [
      "Iteration: 100%|█████████████████████████████████████████████████████| 4/4 [00:00<00:00, 66.35it/s]\n"
     ]
    },
    {
     "name": "stdout",
     "output_type": "stream",
     "text": [
      "Epoch 3 - Average training loss: 1.92, Average training accuracy: 0.20\n",
      "Epoch 3 - Average validation loss: 1.96, Average validation accuracy: 0.15\n",
      "Training epoch 4\n"
     ]
    },
    {
     "name": "stderr",
     "output_type": "stream",
     "text": [
      "Iteration: 100%|█████████████████████████████████████████████████████| 4/4 [00:00<00:00, 67.53it/s]\n"
     ]
    },
    {
     "name": "stdout",
     "output_type": "stream",
     "text": [
      "Epoch 4 - Average training loss: 1.92, Average training accuracy: 0.17\n",
      "Epoch 4 - Average validation loss: 1.96, Average validation accuracy: 0.15\n",
      "Training epoch 5\n"
     ]
    },
    {
     "name": "stderr",
     "output_type": "stream",
     "text": [
      "Iteration: 100%|█████████████████████████████████████████████████████| 4/4 [00:00<00:00, 74.15it/s]\n"
     ]
    },
    {
     "name": "stdout",
     "output_type": "stream",
     "text": [
      "Epoch 5 - Average training loss: 1.90, Average training accuracy: 0.25\n",
      "Epoch 5 - Average validation loss: 1.96, Average validation accuracy: 0.15\n",
      "Training epoch 6\n"
     ]
    },
    {
     "name": "stderr",
     "output_type": "stream",
     "text": [
      "Iteration: 100%|█████████████████████████████████████████████████████| 4/4 [00:00<00:00, 78.00it/s]\n"
     ]
    },
    {
     "name": "stdout",
     "output_type": "stream",
     "text": [
      "Epoch 6 - Average training loss: 1.91, Average training accuracy: 0.33\n",
      "Epoch 6 - Average validation loss: 1.96, Average validation accuracy: 0.15\n",
      "Training epoch 7\n"
     ]
    },
    {
     "name": "stderr",
     "output_type": "stream",
     "text": [
      "Iteration: 100%|█████████████████████████████████████████████████████| 4/4 [00:00<00:00, 78.18it/s]\n"
     ]
    },
    {
     "name": "stdout",
     "output_type": "stream",
     "text": [
      "Epoch 7 - Average training loss: 1.90, Average training accuracy: 0.23\n",
      "Epoch 7 - Average validation loss: 1.96, Average validation accuracy: 0.15\n",
      "Training epoch 8\n"
     ]
    },
    {
     "name": "stderr",
     "output_type": "stream",
     "text": [
      "Iteration: 100%|█████████████████████████████████████████████████████| 4/4 [00:00<00:00, 78.24it/s]\n"
     ]
    },
    {
     "name": "stdout",
     "output_type": "stream",
     "text": [
      "Epoch 8 - Average training loss: 1.92, Average training accuracy: 0.36\n",
      "Epoch 8 - Average validation loss: 1.96, Average validation accuracy: 0.15\n",
      "Training epoch 9\n"
     ]
    },
    {
     "name": "stderr",
     "output_type": "stream",
     "text": [
      "Iteration: 100%|█████████████████████████████████████████████████████| 4/4 [00:00<00:00, 77.97it/s]\n"
     ]
    },
    {
     "name": "stdout",
     "output_type": "stream",
     "text": [
      "Epoch 9 - Average training loss: 1.88, Average training accuracy: 0.34\n",
      "Epoch 9 - Average validation loss: 1.96, Average validation accuracy: 0.15\n",
      "Training epoch 10\n"
     ]
    },
    {
     "name": "stderr",
     "output_type": "stream",
     "text": [
      "Iteration: 100%|█████████████████████████████████████████████████████| 4/4 [00:00<00:00, 78.01it/s]\n"
     ]
    },
    {
     "name": "stdout",
     "output_type": "stream",
     "text": [
      "Epoch 10 - Average training loss: 1.91, Average training accuracy: 0.20\n",
      "Epoch 10 - Average validation loss: 1.96, Average validation accuracy: 0.15\n"
     ]
    }
   ],
   "source": [
    "kfold_results, model_frozen = kfold_cross_validation(train_inputs, train_labels, train_masks, compiled_model, device, EPOCHS_KFOLD_FROZEN, lr=LEARNING_RATE_KFOLD_FROZEN,\n",
    "                                                     k_folds=1,\n",
    "                                                     batch_size=BATCH_SIZE)"
   ]
  },
  {
   "cell_type": "code",
   "execution_count": 23,
   "id": "c5fb071c",
   "metadata": {},
   "outputs": [
    {
     "name": "stdout",
     "output_type": "stream",
     "text": [
      "Fold 1 results (frozen model):\n",
      "Accuracy: 0.1538\n",
      "Loss: 1.9576\n"
     ]
    }
   ],
   "source": [
    "for i, fold_result in enumerate(kfold_results):\n",
    "    message = f\"Fold {i + 1} results (frozen model):\\nAccuracy: {fold_result['validation_accuracies'][-1]:.4f}\\nLoss: {fold_result['validation_losses'][-1]:.4f}\"\n",
    "    print(message)"
   ]
  },
  {
   "cell_type": "code",
   "execution_count": 24,
   "id": "2b145fe7",
   "metadata": {},
   "outputs": [],
   "source": [
    "all_training_losses_frozen = []\n",
    "all_training_accuracies_frozen = []\n",
    "all_validation_losses_frozen = []\n",
    "all_validation_accuracies_frozen = []\n",
    "\n",
    "# Iterate through the results of each fold\n",
    "for fold_result in kfold_results:\n",
    "    all_training_losses_frozen.append(fold_result['training_losses'])\n",
    "    all_training_accuracies_frozen.append(fold_result['training_accuracies'])\n",
    "    all_validation_losses_frozen.append(fold_result['validation_losses'])\n",
    "    all_validation_accuracies_frozen.append(\n",
    "        fold_result['validation_accuracies'])"
   ]
  },
  {
   "cell_type": "code",
   "execution_count": 30,
   "id": "49648b62",
   "metadata": {},
   "outputs": [
    {
     "name": "stdout",
     "output_type": "stream",
     "text": [
      "[[1.8833640459924936, 1.8846260029822588, 1.9182456005364656, 1.9162900354713202, 1.9020306002348661, 1.9063410107046366, 1.9041474256664515, 1.918266724795103, 1.8839017879217863, 1.912987869232893]] [[0.171875, 0.1875, 0.203125, 0.171875, 0.25, 0.328125, 0.234375, 0.359375, 0.34375, 0.203125]]\n"
     ]
    }
   ],
   "source": [
    "print(all_training_losses_frozen, all_training_accuracies_frozen)"
   ]
  },
  {
   "cell_type": "code",
   "execution_count": 31,
   "id": "18937f3c",
   "metadata": {},
   "outputs": [],
   "source": [
    "import os\n",
    "import matplotlib.pyplot as plt\n",
    "\n",
    "def plot_and_save_results(training_losses, validation_losses, metric, title, file_name):\n",
    "    # Create the directory ./Results if it does not exist\n",
    "    if not os.path.exists('./Results'):\n",
    "        os.makedirs('./Results')\n",
    "    \n",
    "    # Create a new figure\n",
    "    plt.figure()\n",
    "    \n",
    "    # Check if losses are a list of lists (multiple folds)\n",
    "    if all(isinstance(loss, list) for loss in training_losses):\n",
    "        # Plot the loss or accuracy curve for training for each fold\n",
    "        for i, losses in enumerate(training_losses):\n",
    "            plt.plot(losses, label=f'Training {metric} Fold {i+1}')\n",
    "        # Plot the loss or accuracy curve for validation for each fold\n",
    "        for i, losses in enumerate(validation_losses):\n",
    "            plt.plot(losses, label=f'Validation {metric} Fold {i+1}')\n",
    "    else:\n",
    "        # Plot the loss or accuracy curve for training\n",
    "        plt.plot(training_losses, label=f'Training {metric}')\n",
    "        # Plot the loss or accuracy curve for validation if available\n",
    "        if validation_losses is not None:\n",
    "            plt.plot(validation_losses, label=f'Validation {metric}')\n",
    "\n",
    "    plt.xlabel('Epochs')\n",
    "    plt.ylabel(metric)\n",
    "    plt.legend()\n",
    "    plt.title(title)\n",
    "    \n",
    "    # Save the figure in the directory ./Results with the provided name\n",
    "    plt.savefig(f'./Results/{file_name}.png')\n",
    "    \n",
    "    # Close the figure to free up memory\n",
    "    plt.close()\n",
    "\n",
    "# Example usage of the function\n",
    "plot_and_save_results(\n",
    "    all_training_losses_frozen, \n",
    "    all_validation_losses_frozen,\n",
    "    'Loss', \n",
    "    'Training and Validation Losses', \n",
    "    'training_validation_loss'\n",
    ")\n"
   ]
  },
  {
   "cell_type": "code",
   "execution_count": 22,
   "id": "6076d145",
   "metadata": {},
   "outputs": [
    {
     "data": {
      "text/plain": [
       "[{'training_losses': [1.8833640459924936,\n",
       "   1.8846260029822588,\n",
       "   1.9182456005364656,\n",
       "   1.9162900354713202,\n",
       "   1.9020306002348661,\n",
       "   1.9063410107046366,\n",
       "   1.9041474256664515,\n",
       "   1.918266724795103,\n",
       "   1.8839017879217863,\n",
       "   1.912987869232893],\n",
       "  'training_accuracies': [0.171875,\n",
       "   0.1875,\n",
       "   0.203125,\n",
       "   0.171875,\n",
       "   0.25,\n",
       "   0.328125,\n",
       "   0.234375,\n",
       "   0.359375,\n",
       "   0.34375,\n",
       "   0.203125],\n",
       "  'validation_losses': [1.9710313081741333,\n",
       "   1.964587505047138,\n",
       "   1.9607437482246988,\n",
       "   1.9584508308997521,\n",
       "   1.9575805755761955,\n",
       "   1.9575805755761955,\n",
       "   1.9575805755761955,\n",
       "   1.9575805755761955,\n",
       "   1.9575805755761955,\n",
       "   1.9575805755761955],\n",
       "  'validation_accuracies': [0.07692307692307693,\n",
       "   0.07692307692307693,\n",
       "   0.15384615384615385,\n",
       "   0.15384615384615385,\n",
       "   0.15384615384615385,\n",
       "   0.15384615384615385,\n",
       "   0.15384615384615385,\n",
       "   0.15384615384615385,\n",
       "   0.15384615384615385,\n",
       "   0.15384615384615385]}]"
      ]
     },
     "execution_count": 22,
     "metadata": {},
     "output_type": "execute_result"
    }
   ],
   "source": []
  },
  {
   "cell_type": "code",
   "execution_count": 32,
   "id": "6aa3df00",
   "metadata": {},
   "outputs": [],
   "source": [
    "model_frozen.base_model.save_pretrained(SAVE_DIRECTORY_FROZEN)"
   ]
  },
  {
   "cell_type": "code",
   "execution_count": 33,
   "id": "0fb21e1e",
   "metadata": {},
   "outputs": [],
   "source": [
    "classifier_state_dict_path = os.path.join(\n",
    "    SAVE_DIRECTORY_FROZEN, \"classifier_state_dict.pt\")\n",
    "classifier_state_dict = torch.load(classifier_state_dict_path)\n"
   ]
  },
  {
   "cell_type": "code",
   "execution_count": null,
   "id": "5f58d8e2",
   "metadata": {},
   "outputs": [],
   "source": []
  }
 ],
 "metadata": {
  "kernelspec": {
   "display_name": "Python 3 (ipykernel)",
   "language": "python",
   "name": "python3"
  },
  "language_info": {
   "codemirror_mode": {
    "name": "ipython",
    "version": 3
   },
   "file_extension": ".py",
   "mimetype": "text/x-python",
   "name": "python",
   "nbconvert_exporter": "python",
   "pygments_lexer": "ipython3",
   "version": "3.10.12"
  },
  "toc": {
   "base_numbering": 1,
   "nav_menu": {},
   "number_sections": true,
   "sideBar": true,
   "skip_h1_title": false,
   "title_cell": "Table of Contents",
   "title_sidebar": "Contents",
   "toc_cell": false,
   "toc_position": {
    "height": "calc(100% - 180px)",
    "left": "10px",
    "top": "150px",
    "width": "327.161px"
   },
   "toc_section_display": true,
   "toc_window_display": false
  }
 },
 "nbformat": 4,
 "nbformat_minor": 5
}
