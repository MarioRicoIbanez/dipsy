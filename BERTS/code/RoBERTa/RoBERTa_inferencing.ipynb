{
 "cells": [
  {
   "cell_type": "code",
   "execution_count": null,
   "id": "8893a17e",
   "metadata": {},
   "outputs": [
    {
     "name": "stderr",
     "output_type": "stream",
     "text": [
      "/usr/local/lib/python3.10/dist-packages/tqdm/auto.py:21: TqdmWarning: IProgress not found. Please update jupyter and ipywidgets. See https://ipywidgets.readthedocs.io/en/stable/user_install.html\n",
      "  from .autonotebook import tqdm as notebook_tqdm\n",
      "Some weights of RobertaModel were not initialized from the model checkpoint at roberta-base and are newly initialized: ['roberta.pooler.dense.bias', 'roberta.pooler.dense.weight']\n",
      "You should probably TRAIN this model on a down-stream task to be able to use it for predictions and inference.\n"
     ]
    },
    {
     "name": "stdout",
     "output_type": "stream",
     "text": [
      "Introduce un texto para analizar la emoción (escribe 'salir' para terminar): I hate when you do that\n",
      "La emoción predicha para el texto 'I hate when you do that' es: anger\n",
      "Introduce un texto para analizar la emoción (escribe 'salir' para terminar): I feel happy when we won the lottery\n",
      "La emoción predicha para el texto 'I feel happy when we won the lottery' es: joy\n"
     ]
    }
   ],
   "source": [
    "import torch\n",
    "from transformers import AutoTokenizer, RobertaModel\n",
    "import numpy as np\n",
    "from sklearn.preprocessing import OneHotEncoder\n",
    "from datasets import load_dataset\n",
    "from utils import *\n",
    "\n",
    "# Cargar el conjunto de datos y obtener el mapeo de emociones\n",
    "dataset_name = \"RikoteMaster/Emotion_Recognition_4_llama2_chat\"\n",
    "ds = load_dataset(dataset_name, split=\"train\")\n",
    "unique_emotions = set(ds['Emotion'])\n",
    "one_hot_encoder = OneHotEncoder()\n",
    "one_hot_encoder.fit(np.array(list(unique_emotions)).reshape(-1, 1))\n",
    "emotion_mapping = one_hot_encoder.categories_[0]\n",
    "\n",
    "device = torch.device(\"cuda\" if torch.cuda.is_available() else \"cpu\")\n",
    "\n",
    "# Define the path to the trained model\n",
    "classifier_state_dict_path = \"/workspace/code/MODELS/RoBERTa_entrenado_base_-12/classifier_state_dict.pt\"\n",
    "\n",
    "# Load the trained model\n",
    "classifier_state_dict = torch.load(classifier_state_dict_path)\n",
    "base_model = RobertaModel.from_pretrained(\"roberta-base\")\n",
    "model = CustomRoBERTa(base_model, num_classes=len(unique_emotions))\n",
    "model.classifier.load_state_dict(classifier_state_dict)\n",
    "compiled_model = torch.compile(model).to(device)\n",
    "\n",
    "# Load the tokenizer\n",
    "tokenizer = AutoTokenizer.from_pretrained('roberta-base')\n",
    "\n",
    "# Bucle para procesar inputs del usuario\n",
    "while True:\n",
    "    # Solicitar texto de entrada al usuario\n",
    "    input_text = input(\"Introduce un texto para analizar la emoción (escribe 'salir' para terminar): \")\n",
    "    \n",
    "    # Comprobar si el usuario desea salir\n",
    "    if input_text.lower() == 'salir':\n",
    "        break\n",
    "\n",
    "    # Tokenize y codifica el texto de entrada\n",
    "    encoded_input = tokenizer.encode_plus(\n",
    "        input_text, \n",
    "        add_special_tokens=True,\n",
    "        padding='max_length', \n",
    "        truncation=True,\n",
    "        max_length=340, \n",
    "        return_attention_mask=True,\n",
    "        return_tensors='pt'\n",
    "    )\n",
    "\n",
    "    encoded_input = encoded_input.to(device)\n",
    "\n",
    "    # Pasar el texto codificado a través del modelo\n",
    "    model.eval()\n",
    "    with torch.no_grad():\n",
    "        outputs = model(encoded_input['input_ids'].to(device), attention_mask=encoded_input['attention_mask'].to(device))\n",
    "\n",
    "    # Obtener el índice de la emoción predicha\n",
    "    predicted_emotion_index = np.argmax(outputs.logits.detach().cpu().numpy(), axis=1)[0]\n",
    "\n",
    "    # Traducir el índice predicho a una etiqueta legible\n",
    "    predicted_emotion_label = emotion_mapping[predicted_emotion_index]\n",
    "    print(f\"La emoción predicha para el texto '{input_text}' es: {predicted_emotion_label}\")\n"
   ]
  },
  {
   "cell_type": "code",
   "execution_count": 11,
   "id": "d945d071",
   "metadata": {},
   "outputs": [
    {
     "name": "stdout",
     "output_type": "stream",
     "text": [
      "The predicted emotion for the text 'I hate when you do that but it feels horrible being in love with you' is: [5]\n"
     ]
    }
   ],
   "source": []
  },
  {
   "cell_type": "code",
   "execution_count": null,
   "id": "3eb35257",
   "metadata": {},
   "outputs": [],
   "source": []
  }
 ],
 "metadata": {
  "kernelspec": {
   "display_name": "Python 3 (ipykernel)",
   "language": "python",
   "name": "python3"
  },
  "language_info": {
   "codemirror_mode": {
    "name": "ipython",
    "version": 3
   },
   "file_extension": ".py",
   "mimetype": "text/x-python",
   "name": "python",
   "nbconvert_exporter": "python",
   "pygments_lexer": "ipython3",
   "version": "3.10.12"
  }
 },
 "nbformat": 4,
 "nbformat_minor": 5
}
