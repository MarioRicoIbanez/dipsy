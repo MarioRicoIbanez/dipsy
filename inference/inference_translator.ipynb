{
 "cells": [
  {
   "cell_type": "code",
   "execution_count": 2,
   "id": "44fc0d6e",
   "metadata": {},
   "outputs": [
    {
     "name": "stdout",
     "output_type": "stream",
     "text": [
      "Wed Oct 11 08:56:53 2023       \n",
      "+-----------------------------------------------------------------------------+\n",
      "| NVIDIA-SMI 525.125.06   Driver Version: 525.125.06   CUDA Version: 12.0     |\n",
      "|-------------------------------+----------------------+----------------------+\n",
      "| GPU  Name        Persistence-M| Bus-Id        Disp.A | Volatile Uncorr. ECC |\n",
      "| Fan  Temp  Perf  Pwr:Usage/Cap|         Memory-Usage | GPU-Util  Compute M. |\n",
      "|                               |                      |               MIG M. |\n",
      "|===============================+======================+======================|\n",
      "|   0  NVIDIA A100-SXM...  On   | 00000000:90:00.0 Off |                    0 |\n",
      "| N/A   32C    P0    56W / 400W |  18396MiB / 40960MiB |      0%      Default |\n",
      "|                               |                      |             Disabled |\n",
      "+-------------------------------+----------------------+----------------------+\n",
      "                                                                               \n",
      "+-----------------------------------------------------------------------------+\n",
      "| Processes:                                                                  |\n",
      "|  GPU   GI   CI        PID   Type   Process name                  GPU Memory |\n",
      "|        ID   ID                                                   Usage      |\n",
      "|=============================================================================|\n",
      "+-----------------------------------------------------------------------------+\n"
     ]
    }
   ],
   "source": [
    "!nvidia-smi"
   ]
  },
  {
   "cell_type": "code",
   "execution_count": null,
   "id": "30f7faf6",
   "metadata": {},
   "outputs": [],
   "source": [
    "\n",
    "import os\n",
    "os.system('pip install huggingface_hub accelerate bitsandbytes peft deep_translator')\n",
    "\n",
    "os.system('pip install git+https://github.com/huggingface/transformers.git@19f0b7dd02c7ea7cbf86cc87fe00667470266722')\n",
    "os.system('pip install git+https://github.com/huggingface/peft.git@99f792e8a3be001c55e71d148a7a8d25b931181f')\n",
    "          \n",
    "os.system('huggingface-cli login --token ')"
   ]
  },
  {
   "cell_type": "code",
   "execution_count": 3,
   "id": "905fb0ec",
   "metadata": {},
   "outputs": [
    {
     "name": "stderr",
     "output_type": "stream",
     "text": [
      "/usr/local/lib/python3.8/dist-packages/tqdm/auto.py:22: TqdmWarning: IProgress not found. Please update jupyter and ipywidgets. See https://ipywidgets.readthedocs.io/en/stable/user_install.html\n",
      "  from .autonotebook import tqdm as notebook_tqdm\n",
      "Loading checkpoint shards:   0%|                                                                                                                                                                                                                                                                                                                                | 0/2 [00:00<?, ?it/s]/usr/local/lib/python3.8/dist-packages/torch/storage.py:315: UserWarning: TypedStorage is deprecated. It will be removed in the future and UntypedStorage will be the only storage class. This should only matter to you if you are using storages directly.\n",
      "  warnings.warn(message, UserWarning)\n",
      "Loading checkpoint shards: 100%|████████████████████████████████████████████████████████████████████████████████████████████████████████████████████████████████████████████████████████████████████████████████████████████████████████████████████████████████████████████████████████████████████████████████████████████████████████████████████████| 2/2 [00:02<00:00,  1.38s/it]\n"
     ]
    }
   ],
   "source": [
    "\n",
    "\n",
    "import json\n",
    "import transformers\n",
    "from deep_translator import GoogleTranslator\n",
    "from transformers import AutoModelForCausalLM, AutoTokenizer, pipeline\n",
    "\n",
    "def load_configuration(config_file):\n",
    "    with open(config_file, 'r') as config_file:\n",
    "        return json.load(config_file)\n",
    "\n",
    "def load_model(model_id, peft_model_id, load_in_8bit, device_map):\n",
    "    model = AutoModelForCausalLM.from_pretrained(model_id, device_map=device_map, load_in_8bit=load_in_8bit)\n",
    "    model.load_adapter(peft_model_id)\n",
    "    return model\n",
    "\n",
    "\n",
    "\n",
    "def translate_text(text, model, tokenizer):\n",
    "    prompt = f\"<s> You are going to work as a professional translator, i will provide you the sentence in spanish and you will answer with the translation and after that the word FINISHED. Sentence: {text} [/INST]\"\n",
    "    \n",
    "    text_generation_pipeline = transformers.pipeline(\n",
    "        \"text-generation\",\n",
    "        model=model,\n",
    "        tokenizer=tokenizer\n",
    "    )\n",
    "\n",
    "    sequences = text_generation_pipeline(\n",
    "        prompt,\n",
    "        do_sample=True,\n",
    "        top_k=10,\n",
    "        num_return_sequences=1,\n",
    "        eos_token_id=tokenizer.eos_token_id,\n",
    "        max_length=int(2.25*len(tokenizer.tokenize(prompt)))\n",
    "    )\n",
    "\n",
    "    output = sequences[0]['generated_text']\n",
    "    return output, prompt\n",
    "\n",
    "if __name__ == \"__main__\":\n",
    "    \n",
    "    config = load_configuration('config.json')\n",
    "    model_id = config[\"model_id\"]\n",
    "    peft_model_id = \"RikoteMaster/llama2_translation\"\n",
    "    load_in_8bit = config[\"load_in_8bit\"]\n",
    "    device_map = config[\"device_map\"]\n",
    "    \n",
    "    model = load_model(model_id, peft_model_id, load_in_8bit, device_map)\n",
    "    tokenizer = AutoTokenizer.from_pretrained(model_id)\n",
    "    \n",
    "    \n"
   ]
  },
  {
   "cell_type": "code",
   "execution_count": null,
   "id": "77e2eea5",
   "metadata": {},
   "outputs": [],
   "source": []
  },
  {
   "cell_type": "code",
   "execution_count": null,
   "id": "0fadc853",
   "metadata": {},
   "outputs": [],
   "source": [
    "import time\n",
    "\n",
    "text = \"\"\"Hola buenas, acabo de entrar a este foro porque quiero tener información de lo que me ocurre. Os cuento..Tengo 45 años y desde mi infancia he ido creciendo con ansiedad en la escuela y con inseguridades en la adolescencia que me impedían relacionarme correctamente siempre sintiéndome nervioso y ansioso por todo lo nuevo que me pasaba. No he sabido reconducir eso.Ya en la edad adulta estuve en un trabajo que me estresaba mucho, tenía mucha presión por parte del encargado, iba al trabajo cabreado, no tenía apetito casi, vaya... que estaba muy deprimido. Pasé muchos meses así hasta que un día me dió un ataque de ansiedad bastante grande con muchos espasmos involuntarios en brazos, cuello y cabeza y descontrolados. Me asusté y acudí a Urgencias, me dieron Diazepam y remitió.Ese fue mi primer gran susto.Otro gran susto fue que un día cualquiera comiendo se me quedó una bola de comida en la garganta y no pasaba ni para arriba ni para abajo, tenía los músculos de la garganta agarrotados y estuve unos segundos así hasta que se relajaron pero ya no pude volver a tragar bien.. cosas como sopas, guisos, cosas de cuchara, no he vuelto a ser el mismo que antes, perdí mucho peso estaba en los huesos.Sólo me calmaba el diazepan pero tengo tal preocupación por lo que me pasa y por la incertidumbre que tengo los músculos de la garganta agarrotados y no puedo deglutir bien la comida y claro después de 20 años tomando medicación no he vuelto a ser la misma persona. Me vió un psiquiatra y me mandó paroxetina más Diazepam pero no he ido a terapia.También de las mismas preocupaciones y pensamientos negativos mi cabeza a generado un transtorno obsesivo compulsivo de ir revisando cosas como grifos que estén cerrados, puerta de entrada de casa, etc...Que me está pasando?Será un problema neurológico?Podré llegar a ser una persona normal algún día?Que piensan ustedes?Gracias por leerlo.\"\"\"\n",
    "start_time = time.time()\n",
    "\n",
    "texto, prompt = translate_text(text, model, tokenizer)\n",
    "# Detiene el cronómetro\n",
    "end_time = time.time()\n",
    "\n",
    "# Calcula y muestra la duración\n",
    "duration = end_time - start_time\n",
    "print(f\"El código tardó {duration} segundos en ejecutarse.\")\n",
    "print(texto)\n",
    "\n"
   ]
  },
  {
   "cell_type": "code",
   "execution_count": 2,
   "id": "d8a14460",
   "metadata": {},
   "outputs": [
    {
     "data": {
      "text/plain": [
       "\"<s> You are going to work as a professional translator, i will provide you the sentence in spanish and you will answer with the translation and after that the word FINISHED. Sentence: Hola buenas, acabo de entrar a este foro porque quiero tener información de lo que me ocurre. Os cuento..Tengo 45 años y desde mi infancia he ido creciendo con ansiedad en la escuela y con inseguridades en la adolescencia que me impedían relacionarme correctamente siempre sintiéndome nervioso y ansioso por todo lo nuevo que me pasaba. No he sabido reconducir eso.Ya en la edad adulta estuve en un trabajo que me estresaba mucho, tenía mucha presión por parte del encargado, iba al trabajo cabreado, no tenía apetito casi, vaya... que estaba muy deprimido. Pasé muchos meses así hasta que un día me dió un ataque de ansiedad bastante grande con muchos espasmos involuntarios en brazos, cuello y cabeza y descontrolados. Me asusté y acudí a Urgencias, me dieron Diazepam y remitió.Ese fue mi primer gran susto.Otro gran susto fue que un día cualquiera comiendo se me quedó una bola de comida en la garganta y no pasaba ni para arriba ni para abajo, tenía los músculos de la garganta agarrotados y estuve unos segundos así hasta que se relajaron pero ya no pude volver a tragar bien.. cosas como sopas, guisos, cosas de cuchara, no he vuelto a ser el mismo que antes, perdí mucho peso estaba en los huesos.Sólo me calmaba el diazepan pero tengo tal preocupación por lo que me pasa y por la incertidumbre que tengo los músculos de la garganta agarrotados y no puedo deglutir bien la comida y claro después de 20 años tomando medicación no he vuelto a ser la misma persona. Me vió un psiquiatra y me mandó paroxetina más Diazepam pero no he ido a terapia.También de las mismas preocupaciones y pensamientos negativos mi cabeza a generado un transtorno obsesivo compulsivo de ir revisando cosas como grifos que estén cerrados, puerta de entrada de casa, etc...Que me está pasando?Será un problema neurológico?Podré llegar a ser una persona normal algún día?Que piensan ustedes?Gracias por leerlo. [/INST] Translation: Hello, I just entered this forum because I want to know what's happening to me. I'll tell you... I'm 45 years old, and since I was a kid, I've been growing up with anxiety in school and with insecurity in adolescence that made me feel nervous and anxious about everything new that happened to me. I couldn't handle it. Then, in adulthood, I had a job that stressed me out a lot, and I went to work feeling nervous and depressed. I passed many months like that until one day I had a big anxiety attack with many muscle spasms in my arms, neck, and head, and I was scared, so I went to the emergency room, and they gave me Diazepam. That was my first big scare. Another big scare was when I was eating and a piece of food got stuck in my throat and I couldn't swallow it up or down, and my throat muscles were cramped, and I was like that for a few seconds until they relaxed, but I can't swallow food well anymore. I only calm down with Diazepam, but I'm worried about what's happening to me, and I have muscle spasms in my throat, and I can't swallow food well anymore. I saw a psychiatrist and he prescribed me paroxetine and more Diazepam, but I haven't gone to therapy. And from the same worries and negative thoughts, my head has generated an obsessive-compulsive disorder, where I check things like if the taps are closed, or if the front door is locked... What's happening to me? Is it a neurosis problem? Can I become a normal person again? What do you think? Thank you for reading. FINISHED.  Unterscheidung: 24.\""
      ]
     },
     "execution_count": 2,
     "metadata": {},
     "output_type": "execute_result"
    }
   ],
   "source": [
    "texto"
   ]
  },
  {
   "cell_type": "code",
   "execution_count": null,
   "id": "d04a28c4",
   "metadata": {},
   "outputs": [],
   "source": [
    "    config = load_configuration('config.json')\n",
    "    model_id = config[\"model_id\"]\n",
    "    peft_model_id = config[\"peft_model_id\"]\n",
    "    load_in_8bit = config[\"load_in_8bit\"]\n",
    "    device_map = config[\"device_map\"]\n",
    "\n",
    "    model = load_model(model_id, peft_model_id, load_in_8bit, device_map)\n",
    "    tokenizer = AutoTokenizer.from_pretrained(model_id)\n",
    "\n",
    "    # Leer el JSON con el texto a clasificar\n",
    "    with open('input.json', 'r') as input_file:\n",
    "        input_data = json.load(input_file)\n",
    "        input_text = input_data.get(\"text\", \"\")\n",
    "\n",
    "    \n",
    "\n",
    "    if input_text:\n",
    "        translated_text, prompt, emotion = classify_emotion(input_text, model, tokenizer)\n",
    "\n",
    "\n",
    "    result = {\n",
    "        \"original_text\": input_text,\n",
    "        \"translated_text\": translated_text,\n",
    "        \"prompt_text\": prompt,\n",
    "        \"emotion\": emotion\n",
    "    }\n",
    "\n",
    "    # Guardar el resultado en un archivo JSON de salida\n",
    "    with open('output.json', 'w') as output_file:\n",
    "        json.dump(result, output_file, indent=4)"
   ]
  },
  {
   "cell_type": "markdown",
   "id": "e924c5dd",
   "metadata": {},
   "source": [
    "## TRYING DIFFERENT MODEL TO MAKE TRANSLATION"
   ]
  },
  {
   "cell_type": "code",
   "execution_count": 5,
   "id": "9bebe67e",
   "metadata": {},
   "outputs": [],
   "source": [
    "article = \"\"\"Muy buenas.Estoy bastante desesperada, ni la psiquiatra obtiene respuesta a lo que me ocurre ni encuentro testimonios en internet parecidos a los míos. Parece ser que a casi todas las personas con TDAH alguna medicación le ha hecho efecto en su atención -a bien, me refiero-, aunque tuvieran efectos secundarios.En mi caso, ya he probado Concerta y Elvanse en las dosis más altas registradas y ninguna de las dos medicaciones me han ayudado ni en la atención (soy estudiante y es lo que más necesito) ni en la hiperactividad-impulsividad. Ambas medicaciones me dieron efectos secundarios (como el apetito nulo) y con Concerta además tuve que parar porque me daba efectos depresivos fuertes. Precisamente el día que no tomaba Concerta, no tenía ningún efecto depresivo.En España creo que ya no hay más opciones de medicación. Sufro mucho con el tema de la concentración y la procrastinación de tareas infinita. Mis análisis de sangre y orina también están bien. He leído que si no me hacen efecto quizá es porque también tenga autismo, pero lo dudo bastante. Además a algunas personas autistas también le recetan medicación para TDAH y mejoran. Por favor, ¿alguien sabe por qué no me hacen ningún efecto positivo?Gracias de antemano.\"\"\""
   ]
  },
  {
   "cell_type": "code",
   "execution_count": 6,
   "id": "572f9831",
   "metadata": {},
   "outputs": [
    {
     "name": "stderr",
     "output_type": "stream",
     "text": [
      "/usr/local/lib/python3.8/dist-packages/transformers/models/auto/tokenization_auto.py:655: FutureWarning: The `use_auth_token` argument is deprecated and will be removed in v5 of Transformers.\n",
      "  warnings.warn(\n",
      "/usr/local/lib/python3.8/dist-packages/transformers/models/auto/auto_factory.py:472: FutureWarning: The `use_auth_token` argument is deprecated and will be removed in v5 of Transformers.\n",
      "  warnings.warn(\n",
      "/usr/local/lib/python3.8/dist-packages/torch/storage.py:315: UserWarning: TypedStorage is deprecated. It will be removed in the future and UntypedStorage will be the only storage class. This should only matter to you if you are using storages directly.\n",
      "  warnings.warn(message, UserWarning)\n",
      "/usr/local/lib/python3.8/dist-packages/transformers/utils/hub.py:374: FutureWarning: The `use_auth_token` argument is deprecated and will be removed in v5 of Transformers.\n",
      "  warnings.warn(\n"
     ]
    }
   ],
   "source": [
    "from transformers import AutoModelForSeq2SeqLM, AutoTokenizer\n",
    "\n",
    "tokenizer = AutoTokenizer.from_pretrained(\"facebook/nllb-200-distilled-600M\", use_auth_token=True, src_lang=\"ron_Latn\")\n",
    "model = AutoModelForSeq2SeqLM.from_pretrained(\"facebook/nllb-200-distilled-600M\", use_auth_token=True)\n",
    "\n",
    "inputs = tokenizer(article, return_tensors=\"pt\")"
   ]
  },
  {
   "cell_type": "code",
   "execution_count": 8,
   "id": "4a48bcbe",
   "metadata": {},
   "outputs": [
    {
     "name": "stdout",
     "output_type": "stream",
     "text": [
      "I am quite desperate, and I do not have any answers to what I am experiencing on the internet. It seems that almost all people with ADHD have some medication that has an effect on their attention - well, I mean, even if it has a strong side effect. In my case, I have already experienced a Concerta y Elvanse en las más altas dosis registradas y ninguna de las medicas me han ayudado ni en la atención (I am a student y es lo que más necesito) or en la hiperactividad-impulsividad.\n",
      "La duración de la traducción es de 16.553450107574463\n"
     ]
    }
   ],
   "source": [
    "import time\n",
    "\n",
    "start_time = time.time()\n",
    "\n",
    "translated_tokens = model.generate(\n",
    "     **inputs, forced_bos_token_id=tokenizer.lang_code_to_id[\"eng_Latn\"]\n",
    " )\n",
    "print(tokenizer.batch_decode(translated_tokens, skip_special_tokens=True)[0])\n",
    "\n",
    "end_time = time.time()\n",
    "\n",
    "print(f\"La duración de la traducción es de {-start_time+end_time}\")\n"
   ]
  },
  {
   "cell_type": "code",
   "execution_count": null,
   "id": "340f2696",
   "metadata": {},
   "outputs": [],
   "source": []
  }
 ],
 "metadata": {
  "kernelspec": {
   "display_name": "Python 3 (ipykernel)",
   "language": "python",
   "name": "python3"
  },
  "language_info": {
   "codemirror_mode": {
    "name": "ipython",
    "version": 3
   },
   "file_extension": ".py",
   "mimetype": "text/x-python",
   "name": "python",
   "nbconvert_exporter": "python",
   "pygments_lexer": "ipython3",
   "version": "3.8.10"
  }
 },
 "nbformat": 4,
 "nbformat_minor": 5
}
