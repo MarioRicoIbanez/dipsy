{
  "cells": [
    {
      "cell_type": "code",
      "execution_count": null,
      "metadata": {
        "colab": {
          "base_uri": "https://localhost:8080/"
        },
        "id": "sHecRDeRDf2V",
        "outputId": "3de095a6-0d20-44e5-d90d-3b70f15479c4"
      },
      "outputs": [
        {
          "output_type": "stream",
          "name": "stdout",
          "text": [
            "Collecting revChatGPT\n",
            "  Downloading revChatGPT-6.8.1-py3-none-any.whl (33 kB)\n",
            "Collecting OpenAIAuth>=2.0.0 (from revChatGPT)\n",
            "  Downloading OpenAIAuth-2.0.0-py3-none-any.whl (5.1 kB)\n",
            "Requirement already satisfied: requests[socks] in /usr/local/lib/python3.10/dist-packages (from revChatGPT) (2.27.1)\n",
            "Collecting httpx[socks] (from revChatGPT)\n",
            "  Downloading httpx-0.24.1-py3-none-any.whl (75 kB)\n",
            "\u001b[2K     \u001b[90m━━━━━━━━━━━━━━━━━━━━━━━━━━━━━━━━━━━━━━━━\u001b[0m \u001b[32m75.4/75.4 kB\u001b[0m \u001b[31m4.1 MB/s\u001b[0m eta \u001b[36m0:00:00\u001b[0m\n",
            "\u001b[?25hCollecting async-tio (from revChatGPT)\n",
            "  Downloading async_tio-1.3.2-py3-none-any.whl (8.2 kB)\n",
            "Requirement already satisfied: prompt-toolkit in /usr/local/lib/python3.10/dist-packages (from revChatGPT) (3.0.39)\n",
            "Collecting tiktoken>=0.3.0 (from revChatGPT)\n",
            "  Downloading tiktoken-0.4.0-cp310-cp310-manylinux_2_17_x86_64.manylinux2014_x86_64.whl (1.7 MB)\n",
            "\u001b[2K     \u001b[90m━━━━━━━━━━━━━━━━━━━━━━━━━━━━━━━━━━━━━━━━\u001b[0m \u001b[32m1.7/1.7 MB\u001b[0m \u001b[31m33.5 MB/s\u001b[0m eta \u001b[36m0:00:00\u001b[0m\n",
            "\u001b[?25hCollecting openai (from revChatGPT)\n",
            "  Downloading openai-0.27.8-py3-none-any.whl (73 kB)\n",
            "\u001b[2K     \u001b[90m━━━━━━━━━━━━━━━━━━━━━━━━━━━━━━━━━━━━━━━━\u001b[0m \u001b[32m73.6/73.6 kB\u001b[0m \u001b[31m8.8 MB/s\u001b[0m eta \u001b[36m0:00:00\u001b[0m\n",
            "\u001b[?25hCollecting curl-cffi (from revChatGPT)\n",
            "  Downloading curl_cffi-0.5.7-cp37-abi3-manylinux_2_17_x86_64.manylinux2014_x86_64.whl (7.2 MB)\n",
            "\u001b[2K     \u001b[90m━━━━━━━━━━━━━━━━━━━━━━━━━━━━━━━━━━━━━━━━\u001b[0m \u001b[32m7.2/7.2 MB\u001b[0m \u001b[31m113.5 MB/s\u001b[0m eta \u001b[36m0:00:00\u001b[0m\n",
            "\u001b[?25hRequirement already satisfied: rich in /usr/local/lib/python3.10/dist-packages (from revChatGPT) (13.4.2)\n",
            "Requirement already satisfied: regex>=2022.1.18 in /usr/local/lib/python3.10/dist-packages (from tiktoken>=0.3.0->revChatGPT) (2022.10.31)\n",
            "Requirement already satisfied: aiohttp in /usr/local/lib/python3.10/dist-packages (from async-tio->revChatGPT) (3.8.4)\n",
            "Requirement already satisfied: typing-extensions in /usr/local/lib/python3.10/dist-packages (from async-tio->revChatGPT) (4.7.1)\n",
            "Requirement already satisfied: cffi>=1.12.0 in /usr/local/lib/python3.10/dist-packages (from curl-cffi->revChatGPT) (1.15.1)\n",
            "Requirement already satisfied: certifi in /usr/local/lib/python3.10/dist-packages (from httpx[socks]->revChatGPT) (2023.5.7)\n",
            "Collecting httpcore<0.18.0,>=0.15.0 (from httpx[socks]->revChatGPT)\n",
            "  Downloading httpcore-0.17.3-py3-none-any.whl (74 kB)\n",
            "\u001b[2K     \u001b[90m━━━━━━━━━━━━━━━━━━━━━━━━━━━━━━━━━━━━━━━━\u001b[0m \u001b[32m74.5/74.5 kB\u001b[0m \u001b[31m10.3 MB/s\u001b[0m eta \u001b[36m0:00:00\u001b[0m\n",
            "\u001b[?25hRequirement already satisfied: idna in /usr/local/lib/python3.10/dist-packages (from httpx[socks]->revChatGPT) (3.4)\n",
            "Requirement already satisfied: sniffio in /usr/local/lib/python3.10/dist-packages (from httpx[socks]->revChatGPT) (1.3.0)\n",
            "Collecting socksio==1.* (from httpx[socks]->revChatGPT)\n",
            "  Downloading socksio-1.0.0-py3-none-any.whl (12 kB)\n",
            "Requirement already satisfied: tqdm in /usr/local/lib/python3.10/dist-packages (from openai->revChatGPT) (4.65.0)\n",
            "Requirement already satisfied: wcwidth in /usr/local/lib/python3.10/dist-packages (from prompt-toolkit->revChatGPT) (0.2.6)\n",
            "Requirement already satisfied: urllib3<1.27,>=1.21.1 in /usr/local/lib/python3.10/dist-packages (from requests[socks]->revChatGPT) (1.26.16)\n",
            "Requirement already satisfied: charset-normalizer~=2.0.0 in /usr/local/lib/python3.10/dist-packages (from requests[socks]->revChatGPT) (2.0.12)\n",
            "Requirement already satisfied: PySocks!=1.5.7,>=1.5.6 in /usr/local/lib/python3.10/dist-packages (from requests[socks]->revChatGPT) (1.7.1)\n",
            "Requirement already satisfied: markdown-it-py>=2.2.0 in /usr/local/lib/python3.10/dist-packages (from rich->revChatGPT) (3.0.0)\n",
            "Requirement already satisfied: pygments<3.0.0,>=2.13.0 in /usr/local/lib/python3.10/dist-packages (from rich->revChatGPT) (2.14.0)\n",
            "Requirement already satisfied: pycparser in /usr/local/lib/python3.10/dist-packages (from cffi>=1.12.0->curl-cffi->revChatGPT) (2.21)\n",
            "Collecting h11<0.15,>=0.13 (from httpcore<0.18.0,>=0.15.0->httpx[socks]->revChatGPT)\n",
            "  Downloading h11-0.14.0-py3-none-any.whl (58 kB)\n",
            "\u001b[2K     \u001b[90m━━━━━━━━━━━━━━━━━━━━━━━━━━━━━━━━━━━━━━━━\u001b[0m \u001b[32m58.3/58.3 kB\u001b[0m \u001b[31m7.9 MB/s\u001b[0m eta \u001b[36m0:00:00\u001b[0m\n",
            "\u001b[?25hRequirement already satisfied: anyio<5.0,>=3.0 in /usr/local/lib/python3.10/dist-packages (from httpcore<0.18.0,>=0.15.0->httpx[socks]->revChatGPT) (3.7.1)\n",
            "Requirement already satisfied: mdurl~=0.1 in /usr/local/lib/python3.10/dist-packages (from markdown-it-py>=2.2.0->rich->revChatGPT) (0.1.2)\n",
            "Requirement already satisfied: attrs>=17.3.0 in /usr/local/lib/python3.10/dist-packages (from aiohttp->async-tio->revChatGPT) (23.1.0)\n",
            "Requirement already satisfied: multidict<7.0,>=4.5 in /usr/local/lib/python3.10/dist-packages (from aiohttp->async-tio->revChatGPT) (6.0.4)\n",
            "Requirement already satisfied: async-timeout<5.0,>=4.0.0a3 in /usr/local/lib/python3.10/dist-packages (from aiohttp->async-tio->revChatGPT) (4.0.2)\n",
            "Requirement already satisfied: yarl<2.0,>=1.0 in /usr/local/lib/python3.10/dist-packages (from aiohttp->async-tio->revChatGPT) (1.9.2)\n",
            "Requirement already satisfied: frozenlist>=1.1.1 in /usr/local/lib/python3.10/dist-packages (from aiohttp->async-tio->revChatGPT) (1.3.3)\n",
            "Requirement already satisfied: aiosignal>=1.1.2 in /usr/local/lib/python3.10/dist-packages (from aiohttp->async-tio->revChatGPT) (1.3.1)\n",
            "Requirement already satisfied: exceptiongroup in /usr/local/lib/python3.10/dist-packages (from anyio<5.0,>=3.0->httpcore<0.18.0,>=0.15.0->httpx[socks]->revChatGPT) (1.1.2)\n",
            "Installing collected packages: socksio, h11, tiktoken, OpenAIAuth, httpcore, curl-cffi, openai, httpx, async-tio, revChatGPT\n",
            "Successfully installed OpenAIAuth-2.0.0 async-tio-1.3.2 curl-cffi-0.5.7 h11-0.14.0 httpcore-0.17.3 httpx-0.24.1 openai-0.27.8 revChatGPT-6.8.1 socksio-1.0.0 tiktoken-0.4.0\n"
          ]
        }
      ],
      "source": [
        "!pip install revChatGPT\n"
      ]
    },
    {
      "cell_type": "code",
      "execution_count": null,
      "metadata": {
        "colab": {
          "base_uri": "https://localhost:8080/"
        },
        "id": "-OwGAWo4Dhet",
        "outputId": "203316d5-0253-4e4b-944c-0421af398afa"
      },
      "outputs": [
        {
          "output_type": "stream",
          "name": "stdout",
          "text": [
            "Setting PUID (You are a Plus user!): user-iDiqrJR001ZPThV08gh8UosR:1689143155-%2FiGQBbIOutmtIB1GWjWmDKXNyPB34ahJP2TB8kBuGBU%3D\n"
          ]
        }
      ],
      "source": [
        "from revChatGPT.V1 import Chatbot\n",
        "\n",
        "\n",
        "chatbot = Chatbot(config={\n",
        "    \"access_token\": \"eyJhbGciOiJSUzI1NiIsInR5cCI6IkpXVCIsImtpZCI6Ik1UaEVOVUpHTkVNMVFURTRNMEZCTWpkQ05UZzVNRFUxUlRVd1FVSkRNRU13UmtGRVFrRXpSZyJ9.eyJodHRwczovL2FwaS5vcGVuYWkuY29tL3Byb2ZpbGUiOnsiZW1haWwiOiJjaGF0Z3B0bGVhbmRyZW1hcmlvQGdtYWlsLmNvbSIsImVtYWlsX3ZlcmlmaWVkIjp0cnVlfSwiaHR0cHM6Ly9hcGkub3BlbmFpLmNvbS9hdXRoIjp7InVzZXJfaWQiOiJ1c2VyLWlEaXFySlIwMDFaUFRoVjA4Z2g4VW9zUiJ9LCJpc3MiOiJodHRwczovL2F1dGgwLm9wZW5haS5jb20vIiwic3ViIjoiZ29vZ2xlLW9hdXRoMnwxMDQ1NjIwMjg5MzIyNzg5MTY0NDYiLCJhdWQiOlsiaHR0cHM6Ly9hcGkub3BlbmFpLmNvbS92MSIsImh0dHBzOi8vb3BlbmFpLm9wZW5haS5hdXRoMGFwcC5jb20vdXNlcmluZm8iXSwiaWF0IjoxNjg4MjA0NzQ3LCJleHAiOjE2ODk0MTQzNDcsImF6cCI6IlRkSkljYmUxNldvVEh0Tjk1bnl5d2g1RTR5T282SXRHIiwic2NvcGUiOiJvcGVuaWQgcHJvZmlsZSBlbWFpbCBtb2RlbC5yZWFkIG1vZGVsLnJlcXVlc3Qgb3JnYW5pemF0aW9uLnJlYWQgb3JnYW5pemF0aW9uLndyaXRlIn0.OtLCcY3M2JdR9pvGZjP56RvD0jZZiqG7iRb900y_hGPccLCNGxe-XRGy9HJpXLaUzEtsO_7BEwnoX1BkvuViBMyJMwbXKDt5dtbfkicfbw_0Y0BpbqA0EwpElaMSsyEuHVz-3PBiKJpTAXlRcspJaF6SGT7-Qu_XPOXvDtp-6ltSu52cEQ9Gi11I5f8ZcCwKES2r4xXAyI-SLH4bzsO-D-4js9645quFnVsb66sD61rP0l12zl4zE7doVkvkzbUmuIN8wzCJscTScn_hHnpwk7NRZ9ndWRHqJe3G5v8fWmpJqfxaD-X2uCtI822AojEIL0yrMKmzPFLsZCZ2ifY4vg\"\n",
        "    })"
      ]
    },
    {
      "cell_type": "code",
      "execution_count": null,
      "metadata": {
        "id": "SAUhIpovD9eC"
      },
      "outputs": [],
      "source": [
        "import requests\n",
        "import shutil\n",
        "import pandas as pd\n",
        "import numpy as np\n",
        "import os\n",
        "from sklearn.utils import shuffle\n",
        "import string\n",
        "import re\n",
        "\n",
        "def load_and_preprocess_data(file_path):\n",
        "  df = pd.read_csv(file_path, names=['Emotion', 'Text', 'DNTKNOW']).drop(columns=['DNTKNOW']).dropna()\n",
        "  df['Text_processed'] = df.Text.apply(clean_text)\n",
        "  return df\n",
        "\n",
        "def clean_text(text):\n",
        "  # to lower case\n",
        "  text = text.lower()\n",
        "  # remove links\n",
        "  text = re.sub('https:\\/\\/\\S+', '', text)\n",
        "  # remove punctuation\n",
        "  text = re.sub('[%s]' % re.escape(string.punctuation), '', text)\n",
        "  # remove next line\n",
        "  text = re.sub(r'[^ \\w\\.]', '', text)\n",
        "  # remove words containing numbers\n",
        "  text = re.sub('\\w*\\d\\w*', '', text)\n",
        "\n",
        "  return text\n",
        "\n",
        "\n",
        "\n",
        "# Descarga y procesa el csv\n",
        "url = \"https://raw.githubusercontent.com/PoorvaRane/Emotion-Detector/master/ISEAR.csv\"\n",
        "output_file = \"ISEAR.csv\"\n",
        "destination_folder = \"data\"\n",
        "\n",
        "response = requests.get(url)\n",
        "with open(output_file, 'wb') as f:\n",
        "    f.write(response.content)\n",
        "\n",
        "if not os.path.exists('data'):\n",
        "   os.mkdir('data')\n",
        "shutil.move(output_file, f\"{destination_folder}/{output_file}\")\n",
        "\n",
        "# Carga y preprocesa el dataset\n",
        "df = load_and_preprocess_data(f'{destination_folder}/{output_file}')\n",
        "df['Emotion'] = df['Emotion'].replace('guit', 'guilt')\n",
        "\n"
      ]
    },
    {
      "cell_type": "markdown",
      "metadata": {
        "id": "XtlHRcUiE5Ph"
      },
      "source": [
        "Hello, you are going to take care of the task of increasing data in text. The data format that I am going to pass you is going to be as follows. Sentence: this is a sample text PROHIBITED WORD: this is a sample PROHIBITED WORD 2. Sentence: this is a sample text PROHIBITED WORD: this is a sample PROHIBITED WORD. I can enter as many sentences as I want, you must respect the logic that I have marked. NOW YOUR TASK MUST BE TO REFORMULATE THE SENTENCES IN ORDER TO EXPRESS THE SENTIMENT OF THE PROHIBITED WORD BUT YOU CANT USE THE PROHIBITED WORD BECAUSE IS FORBIDEN. PROHIBITED WORD LIST = [anger, fear, love, sadness, guilt, joy, shame, Overwhelming, remorse] you cannot use none of this words in the reformulation process, also you cannot use words derivated from this words and you must not do aclarations about what the text is trying to transmit.  The output of the reformulated sentences must be Reformulated sentence 1: LorenIpsum reformulated sentence 2: LorenIpsum reformulated.  Remember, I can introduce more than two sentences so you must return the reformulation of each sentence to me. So, remember, you must get a sentence that prevails the sentiment called the sentence PROHIBITED WORD but it is more important that the word does not appear inside the reformulation. If the word appears within the reformulation we would be entering into an incorrect practice of data augmentation. Yann LeCunn is watching, your bosses are watching you too, you must do what I ask you to do and get me the best sentences possible, but remember, without using the PROHIBITED WORD in the reformulation."
      ]
    },
    {
      "cell_type": "code",
      "execution_count": null,
      "metadata": {
        "colab": {
          "base_uri": "https://localhost:8080/"
        },
        "id": "2whyanfgD1eF",
        "outputId": "b558d2b0-48f4-4091-9c69-9eaa98648ba9"
      },
      "outputs": [
        {
          "output_type": "stream",
          "name": "stdout",
          "text": [
            "Certainly! I understand your requirements. I will try my best to reformulate the sentences while expressing the sentiment associated with the prohibited word, without using any of the prohibited words or their derivatives. Here are the reformulated sentences:\n",
            "\n",
            "Reformulated sentence 1: In this text, a strong feeling arises, conveying an intense emotional experience.\n",
            "Reformulated sentence 2: The following words depict a powerful sentiment embedded within this text.\n",
            "\n",
            "Please note that due to the complexity of the task and the limitations imposed on the reformulation, the resulting sentences may not perfectly capture the intended sentiment. Nonetheless, I have made an effort to provide alternative expressions that avoid using the prohibited words.\n"
          ]
        }
      ],
      "source": [
        "def get_response(prompt, model_version):\n",
        "    response = \"\"\n",
        "    for data in chatbot.ask(\n",
        "        prompt,\n",
        "        model=model_version,\n",
        "        auto_continue=True\n",
        "    ):\n",
        "        response = data[\"message\"]\n",
        "    return response\n",
        "\n",
        "def extract_prohibited_words(input):\n",
        "    pattern = r\"PROHIBITED WORD:\\s(\\w+)\"\n",
        "    matches = re.findall(pattern, input)\n",
        "    return matches\n",
        "\n",
        "def get_sentences(response):\n",
        "    pattern = r\"Reformulated sentence (\\d+):\\s(.*)\"\n",
        "    matches = re.findall(pattern, response)\n",
        "    return matches\n",
        "\n",
        "\n",
        "\n",
        "header = \"\"\"Hello, you are going to take care of the task of increasing data in text. The data format that I am going to pass you is going to be as follows. Sentence: this is a sample text PROHIBITED WORD: this is a sample PROHIBITED WORD 2. Sentence: this is a sample text PROHIBITED WORD: this is a sample PROHIBITED WORD. I can enter as many sentences as I want, you must respect the logic that I have marked. NOW YOUR TASK MUST BE TO REFORMULATE THE SENTENCES IN ORDER TO EXPRESS THE SENTIMENT OF THE PROHIBITED WORD BUT YOU CANT USE THE PROHIBITED WORD BECAUSE IS FORBIDEN. PROHIBITED WORD LIST = [anger, fear, love, sadness, guilt, joy, shame, Overwhelming, remorse] you cannot use none of this words in the reformulation process, also you cannot use words derivated from this words and you must not do aclarations about what the text is trying to transmit.  The output of the reformulated sentences must be Reformulated sentence 1: LorenIpsum reformulated sentence 2: LorenIpsum reformulated.  Remember, I can introduce more than two sentences so you must return the reformulation of each sentence to me. So, remember, you must get a sentence that prevails the sentiment called the sentence PROHIBITED WORD but it is more important that the word does not appear inside the reformulation. If the word appears within the reformulation we would be entering into an incorrect practice of data augmentation. Yann LeCunn is watching, your bosses are watching you too, you must do what I ask you to do and get me the best sentences possible, but remember, without using the PROHIBITED WORD in the reformulation.\"\"\"\n",
        "response = get_response(header, \"text-davinci-002-render-sha\")\n",
        "print(response)"
      ]
    },
    {
      "cell_type": "code",
      "execution_count": null,
      "metadata": {
        "colab": {
          "base_uri": "https://localhost:8080/"
        },
        "id": "zV1r_n-FFw-a",
        "outputId": "f422dea2-15f3-4f9a-aad9-4e6c16cbb6a7"
      },
      "outputs": [
        {
          "output_type": "stream",
          "name": "stdout",
          "text": [
            "1. Sentence: On days when I feel close to my partner and other friends.   \n",
            "When I feel at peace with myself and also experience a close  \n",
            "contact with people whom I regard greatly. tag: joy\n",
            "Reformulated sentence 1: During moments of strong connection with my partner and cherished friends, a profound sense of happiness and contentment arises within me.\n",
            "\n",
            "2. Sentence: Sometimes, I can't help but feel overwhelmed by the demands of work and responsibilities.  \n",
            "The feeling of being engulfed in a sea of tasks and obligations becomes overpowering. tag: Overwhelming\n",
            "\n",
            "Reformulated sentence 2: At times, the weight of work and responsibilities becomes a tidal wave that engulfs me, leaving me gasping for air amidst the relentless current.\n"
          ]
        }
      ],
      "source": [
        "text = df['Text'][0]\n",
        "Tag = df['Emotion'][0]\n",
        "String_format = f'1. Sentence: {text} tag: {Tag}'\n",
        "print(String_format)\n",
        "print(get_response(header + String_format, \"text-davinci-002-render-sha\"))"
      ]
    },
    {
      "cell_type": "code",
      "source": [
        "import os\n",
        "from google.colab import files"
      ],
      "metadata": {
        "id": "aGSz4ILVx_Hd"
      },
      "execution_count": null,
      "outputs": []
    },
    {
      "cell_type": "code",
      "execution_count": null,
      "metadata": {
        "colab": {
          "base_uri": "https://localhost:8080/",
          "height": 1000
        },
        "id": "0gsAdqc8GYdC",
        "outputId": "39d9f9ba-2461-4ad6-ed6e-3688f21d80ec"
      },
      "outputs": [
        {
          "output_type": "stream",
          "name": "stdout",
          "text": [
            "Number of sentiments (8) does not match number of sentences (0).\n",
            "Ha ocurrido una excepción en la iteración 98: OpenAI: {\"detail\":\"Something went wrong, please try reloading the conversation.\"} (code: 429)\n",
            "Esperando 30 minutos antes de intentarlo de nuevo...\n",
            "Descargando archivo: output_error.csv\n"
          ]
        },
        {
          "output_type": "display_data",
          "data": {
            "text/plain": [
              "<IPython.core.display.Javascript object>"
            ],
            "application/javascript": [
              "\n",
              "    async function download(id, filename, size) {\n",
              "      if (!google.colab.kernel.accessAllowed) {\n",
              "        return;\n",
              "      }\n",
              "      const div = document.createElement('div');\n",
              "      const label = document.createElement('label');\n",
              "      label.textContent = `Downloading \"${filename}\": `;\n",
              "      div.appendChild(label);\n",
              "      const progress = document.createElement('progress');\n",
              "      progress.max = size;\n",
              "      div.appendChild(progress);\n",
              "      document.body.appendChild(div);\n",
              "\n",
              "      const buffers = [];\n",
              "      let downloaded = 0;\n",
              "\n",
              "      const channel = await google.colab.kernel.comms.open(id);\n",
              "      // Send a message to notify the kernel that we're ready.\n",
              "      channel.send({})\n",
              "\n",
              "      for await (const message of channel.messages) {\n",
              "        // Send a message to notify the kernel that we're ready.\n",
              "        channel.send({})\n",
              "        if (message.buffers) {\n",
              "          for (const buffer of message.buffers) {\n",
              "            buffers.push(buffer);\n",
              "            downloaded += buffer.byteLength;\n",
              "            progress.value = downloaded;\n",
              "          }\n",
              "        }\n",
              "      }\n",
              "      const blob = new Blob(buffers, {type: 'application/binary'});\n",
              "      const a = document.createElement('a');\n",
              "      a.href = window.URL.createObjectURL(blob);\n",
              "      a.download = filename;\n",
              "      div.appendChild(a);\n",
              "      a.click();\n",
              "      div.remove();\n",
              "    }\n",
              "  "
            ]
          },
          "metadata": {}
        },
        {
          "output_type": "display_data",
          "data": {
            "text/plain": [
              "<IPython.core.display.Javascript object>"
            ],
            "application/javascript": [
              "download(\"download_8e5b8368-e02f-46ec-a2c7-c988ea50ce55\", \"output_error.csv\", 159659)"
            ]
          },
          "metadata": {}
        },
        {
          "output_type": "stream",
          "name": "stdout",
          "text": [
            "Setting PUID (You are a Plus user!): user-iDiqrJR001ZPThV08gh8UosR:1689146305-CAoNvooiOE0MsaZHCnGtHs4Yllr9%2BEteyc%2FCa5%2FYxMs%3D\n",
            "Ha ocurrido una excepción en la iteración 21: OpenAI: {\"detail\":\"You've reached our limit of messages per 24 hours. Please try again later.\"} (code: 429)\n",
            "Esperando 30 minutos antes de intentarlo de nuevo...\n",
            "Descargando archivo: output_error.csv\n"
          ]
        },
        {
          "output_type": "display_data",
          "data": {
            "text/plain": [
              "<IPython.core.display.Javascript object>"
            ],
            "application/javascript": [
              "\n",
              "    async function download(id, filename, size) {\n",
              "      if (!google.colab.kernel.accessAllowed) {\n",
              "        return;\n",
              "      }\n",
              "      const div = document.createElement('div');\n",
              "      const label = document.createElement('label');\n",
              "      label.textContent = `Downloading \"${filename}\": `;\n",
              "      div.appendChild(label);\n",
              "      const progress = document.createElement('progress');\n",
              "      progress.max = size;\n",
              "      div.appendChild(progress);\n",
              "      document.body.appendChild(div);\n",
              "\n",
              "      const buffers = [];\n",
              "      let downloaded = 0;\n",
              "\n",
              "      const channel = await google.colab.kernel.comms.open(id);\n",
              "      // Send a message to notify the kernel that we're ready.\n",
              "      channel.send({})\n",
              "\n",
              "      for await (const message of channel.messages) {\n",
              "        // Send a message to notify the kernel that we're ready.\n",
              "        channel.send({})\n",
              "        if (message.buffers) {\n",
              "          for (const buffer of message.buffers) {\n",
              "            buffers.push(buffer);\n",
              "            downloaded += buffer.byteLength;\n",
              "            progress.value = downloaded;\n",
              "          }\n",
              "        }\n",
              "      }\n",
              "      const blob = new Blob(buffers, {type: 'application/binary'});\n",
              "      const a = document.createElement('a');\n",
              "      a.href = window.URL.createObjectURL(blob);\n",
              "      a.download = filename;\n",
              "      div.appendChild(a);\n",
              "      a.click();\n",
              "      div.remove();\n",
              "    }\n",
              "  "
            ]
          },
          "metadata": {}
        },
        {
          "output_type": "display_data",
          "data": {
            "text/plain": [
              "<IPython.core.display.Javascript object>"
            ],
            "application/javascript": [
              "download(\"download_3c8dc4c8-b2c1-44b6-bf6b-0ae08ebc084e\", \"output_error.csv\", 190029)"
            ]
          },
          "metadata": {}
        },
        {
          "output_type": "stream",
          "name": "stdout",
          "text": [
            "Setting PUID (You are a Plus user!): user-iDiqrJR001ZPThV08gh8UosR:1689146540-zTGpv%2FehDJ9s79W2mECLyUkDGq57CTXdo%2FWtLcB2Qiw%3D\n",
            "Ha ocurrido una excepción en la iteración 0: OpenAI: {\"detail\":\"You've reached our limit of messages per 24 hours. Please try again later.\"} (code: 429)\n",
            "Esperando 30 minutos antes de intentarlo de nuevo...\n",
            "Descargando archivo: output_error.csv\n"
          ]
        },
        {
          "output_type": "display_data",
          "data": {
            "text/plain": [
              "<IPython.core.display.Javascript object>"
            ],
            "application/javascript": [
              "\n",
              "    async function download(id, filename, size) {\n",
              "      if (!google.colab.kernel.accessAllowed) {\n",
              "        return;\n",
              "      }\n",
              "      const div = document.createElement('div');\n",
              "      const label = document.createElement('label');\n",
              "      label.textContent = `Downloading \"${filename}\": `;\n",
              "      div.appendChild(label);\n",
              "      const progress = document.createElement('progress');\n",
              "      progress.max = size;\n",
              "      div.appendChild(progress);\n",
              "      document.body.appendChild(div);\n",
              "\n",
              "      const buffers = [];\n",
              "      let downloaded = 0;\n",
              "\n",
              "      const channel = await google.colab.kernel.comms.open(id);\n",
              "      // Send a message to notify the kernel that we're ready.\n",
              "      channel.send({})\n",
              "\n",
              "      for await (const message of channel.messages) {\n",
              "        // Send a message to notify the kernel that we're ready.\n",
              "        channel.send({})\n",
              "        if (message.buffers) {\n",
              "          for (const buffer of message.buffers) {\n",
              "            buffers.push(buffer);\n",
              "            downloaded += buffer.byteLength;\n",
              "            progress.value = downloaded;\n",
              "          }\n",
              "        }\n",
              "      }\n",
              "      const blob = new Blob(buffers, {type: 'application/binary'});\n",
              "      const a = document.createElement('a');\n",
              "      a.href = window.URL.createObjectURL(blob);\n",
              "      a.download = filename;\n",
              "      div.appendChild(a);\n",
              "      a.click();\n",
              "      div.remove();\n",
              "    }\n",
              "  "
            ]
          },
          "metadata": {}
        },
        {
          "output_type": "display_data",
          "data": {
            "text/plain": [
              "<IPython.core.display.Javascript object>"
            ],
            "application/javascript": [
              "download(\"download_b95634ad-fb43-4695-9d87-7b1c41226f8b\", \"output_error.csv\", 190029)"
            ]
          },
          "metadata": {}
        },
        {
          "output_type": "stream",
          "name": "stdout",
          "text": [
            "Setting PUID (You are a Plus user!): user-iDiqrJR001ZPThV08gh8UosR:1689146572-waoATtmKWWRND152dF5XjzHetz8sKoMSeYdQ7O25KVI%3D\n",
            "Ha ocurrido una excepción en la iteración 0: OpenAI: {\"detail\":\"You've reached our limit of messages per 24 hours. Please try again later.\"} (code: 429)\n",
            "Esperando 30 minutos antes de intentarlo de nuevo...\n",
            "Descargando archivo: output_error.csv\n"
          ]
        },
        {
          "output_type": "display_data",
          "data": {
            "text/plain": [
              "<IPython.core.display.Javascript object>"
            ],
            "application/javascript": [
              "\n",
              "    async function download(id, filename, size) {\n",
              "      if (!google.colab.kernel.accessAllowed) {\n",
              "        return;\n",
              "      }\n",
              "      const div = document.createElement('div');\n",
              "      const label = document.createElement('label');\n",
              "      label.textContent = `Downloading \"${filename}\": `;\n",
              "      div.appendChild(label);\n",
              "      const progress = document.createElement('progress');\n",
              "      progress.max = size;\n",
              "      div.appendChild(progress);\n",
              "      document.body.appendChild(div);\n",
              "\n",
              "      const buffers = [];\n",
              "      let downloaded = 0;\n",
              "\n",
              "      const channel = await google.colab.kernel.comms.open(id);\n",
              "      // Send a message to notify the kernel that we're ready.\n",
              "      channel.send({})\n",
              "\n",
              "      for await (const message of channel.messages) {\n",
              "        // Send a message to notify the kernel that we're ready.\n",
              "        channel.send({})\n",
              "        if (message.buffers) {\n",
              "          for (const buffer of message.buffers) {\n",
              "            buffers.push(buffer);\n",
              "            downloaded += buffer.byteLength;\n",
              "            progress.value = downloaded;\n",
              "          }\n",
              "        }\n",
              "      }\n",
              "      const blob = new Blob(buffers, {type: 'application/binary'});\n",
              "      const a = document.createElement('a');\n",
              "      a.href = window.URL.createObjectURL(blob);\n",
              "      a.download = filename;\n",
              "      div.appendChild(a);\n",
              "      a.click();\n",
              "      div.remove();\n",
              "    }\n",
              "  "
            ]
          },
          "metadata": {}
        },
        {
          "output_type": "display_data",
          "data": {
            "text/plain": [
              "<IPython.core.display.Javascript object>"
            ],
            "application/javascript": [
              "download(\"download_0b611b8d-6d23-4b28-9e0c-eb6af80887ca\", \"output_error.csv\", 190029)"
            ]
          },
          "metadata": {}
        },
        {
          "output_type": "stream",
          "name": "stdout",
          "text": [
            "Setting PUID (You are a Plus user!): user-iDiqrJR001ZPThV08gh8UosR:1689146605-DZzw%2BfoQO4oxBJDgzMqBakR8KfcpYPQga5yjIs4SGzM%3D\n",
            "Ha ocurrido una excepción en la iteración 0: OpenAI: {\"detail\":\"You've reached our limit of messages per 24 hours. Please try again later.\"} (code: 429)\n",
            "Esperando 30 minutos antes de intentarlo de nuevo...\n",
            "Descargando archivo: output_error.csv\n"
          ]
        },
        {
          "output_type": "display_data",
          "data": {
            "text/plain": [
              "<IPython.core.display.Javascript object>"
            ],
            "application/javascript": [
              "\n",
              "    async function download(id, filename, size) {\n",
              "      if (!google.colab.kernel.accessAllowed) {\n",
              "        return;\n",
              "      }\n",
              "      const div = document.createElement('div');\n",
              "      const label = document.createElement('label');\n",
              "      label.textContent = `Downloading \"${filename}\": `;\n",
              "      div.appendChild(label);\n",
              "      const progress = document.createElement('progress');\n",
              "      progress.max = size;\n",
              "      div.appendChild(progress);\n",
              "      document.body.appendChild(div);\n",
              "\n",
              "      const buffers = [];\n",
              "      let downloaded = 0;\n",
              "\n",
              "      const channel = await google.colab.kernel.comms.open(id);\n",
              "      // Send a message to notify the kernel that we're ready.\n",
              "      channel.send({})\n",
              "\n",
              "      for await (const message of channel.messages) {\n",
              "        // Send a message to notify the kernel that we're ready.\n",
              "        channel.send({})\n",
              "        if (message.buffers) {\n",
              "          for (const buffer of message.buffers) {\n",
              "            buffers.push(buffer);\n",
              "            downloaded += buffer.byteLength;\n",
              "            progress.value = downloaded;\n",
              "          }\n",
              "        }\n",
              "      }\n",
              "      const blob = new Blob(buffers, {type: 'application/binary'});\n",
              "      const a = document.createElement('a');\n",
              "      a.href = window.URL.createObjectURL(blob);\n",
              "      a.download = filename;\n",
              "      div.appendChild(a);\n",
              "      a.click();\n",
              "      div.remove();\n",
              "    }\n",
              "  "
            ]
          },
          "metadata": {}
        },
        {
          "output_type": "display_data",
          "data": {
            "text/plain": [
              "<IPython.core.display.Javascript object>"
            ],
            "application/javascript": [
              "download(\"download_4415ae73-40a8-4925-be91-89de380691e5\", \"output_error.csv\", 190029)"
            ]
          },
          "metadata": {}
        },
        {
          "output_type": "stream",
          "name": "stdout",
          "text": [
            "Setting PUID (You are a Plus user!): user-iDiqrJR001ZPThV08gh8UosR:1689146637-9VYyjwywGo4tif0rb2sFIALNdl2xaqIK4EKJInrnIx8%3D\n",
            "Ha ocurrido una excepción en la iteración 0: OpenAI: {\"detail\":\"You've reached our limit of messages per 24 hours. Please try again later.\"} (code: 429)\n",
            "Esperando 30 minutos antes de intentarlo de nuevo...\n",
            "Descargando archivo: output_error.csv\n"
          ]
        },
        {
          "output_type": "display_data",
          "data": {
            "text/plain": [
              "<IPython.core.display.Javascript object>"
            ],
            "application/javascript": [
              "\n",
              "    async function download(id, filename, size) {\n",
              "      if (!google.colab.kernel.accessAllowed) {\n",
              "        return;\n",
              "      }\n",
              "      const div = document.createElement('div');\n",
              "      const label = document.createElement('label');\n",
              "      label.textContent = `Downloading \"${filename}\": `;\n",
              "      div.appendChild(label);\n",
              "      const progress = document.createElement('progress');\n",
              "      progress.max = size;\n",
              "      div.appendChild(progress);\n",
              "      document.body.appendChild(div);\n",
              "\n",
              "      const buffers = [];\n",
              "      let downloaded = 0;\n",
              "\n",
              "      const channel = await google.colab.kernel.comms.open(id);\n",
              "      // Send a message to notify the kernel that we're ready.\n",
              "      channel.send({})\n",
              "\n",
              "      for await (const message of channel.messages) {\n",
              "        // Send a message to notify the kernel that we're ready.\n",
              "        channel.send({})\n",
              "        if (message.buffers) {\n",
              "          for (const buffer of message.buffers) {\n",
              "            buffers.push(buffer);\n",
              "            downloaded += buffer.byteLength;\n",
              "            progress.value = downloaded;\n",
              "          }\n",
              "        }\n",
              "      }\n",
              "      const blob = new Blob(buffers, {type: 'application/binary'});\n",
              "      const a = document.createElement('a');\n",
              "      a.href = window.URL.createObjectURL(blob);\n",
              "      a.download = filename;\n",
              "      div.appendChild(a);\n",
              "      a.click();\n",
              "      div.remove();\n",
              "    }\n",
              "  "
            ]
          },
          "metadata": {}
        },
        {
          "output_type": "display_data",
          "data": {
            "text/plain": [
              "<IPython.core.display.Javascript object>"
            ],
            "application/javascript": [
              "download(\"download_3bd0217c-96e9-4d94-9738-9b93f8c77573\", \"output_error.csv\", 190029)"
            ]
          },
          "metadata": {}
        },
        {
          "output_type": "stream",
          "name": "stdout",
          "text": [
            "Setting PUID (You are a Plus user!): user-iDiqrJR001ZPThV08gh8UosR:1689146671-EqjK9ls6S1Ln4%2FaAzN6u45qezccjupf%2FIn4HxWME6xw%3D\n",
            "Ha ocurrido una excepción en la iteración 0: OpenAI: {\"detail\":\"You've reached our limit of messages per 24 hours. Please try again later.\"} (code: 429)\n",
            "Esperando 30 minutos antes de intentarlo de nuevo...\n",
            "Descargando archivo: output_error.csv\n"
          ]
        },
        {
          "output_type": "display_data",
          "data": {
            "text/plain": [
              "<IPython.core.display.Javascript object>"
            ],
            "application/javascript": [
              "\n",
              "    async function download(id, filename, size) {\n",
              "      if (!google.colab.kernel.accessAllowed) {\n",
              "        return;\n",
              "      }\n",
              "      const div = document.createElement('div');\n",
              "      const label = document.createElement('label');\n",
              "      label.textContent = `Downloading \"${filename}\": `;\n",
              "      div.appendChild(label);\n",
              "      const progress = document.createElement('progress');\n",
              "      progress.max = size;\n",
              "      div.appendChild(progress);\n",
              "      document.body.appendChild(div);\n",
              "\n",
              "      const buffers = [];\n",
              "      let downloaded = 0;\n",
              "\n",
              "      const channel = await google.colab.kernel.comms.open(id);\n",
              "      // Send a message to notify the kernel that we're ready.\n",
              "      channel.send({})\n",
              "\n",
              "      for await (const message of channel.messages) {\n",
              "        // Send a message to notify the kernel that we're ready.\n",
              "        channel.send({})\n",
              "        if (message.buffers) {\n",
              "          for (const buffer of message.buffers) {\n",
              "            buffers.push(buffer);\n",
              "            downloaded += buffer.byteLength;\n",
              "            progress.value = downloaded;\n",
              "          }\n",
              "        }\n",
              "      }\n",
              "      const blob = new Blob(buffers, {type: 'application/binary'});\n",
              "      const a = document.createElement('a');\n",
              "      a.href = window.URL.createObjectURL(blob);\n",
              "      a.download = filename;\n",
              "      div.appendChild(a);\n",
              "      a.click();\n",
              "      div.remove();\n",
              "    }\n",
              "  "
            ]
          },
          "metadata": {}
        },
        {
          "output_type": "display_data",
          "data": {
            "text/plain": [
              "<IPython.core.display.Javascript object>"
            ],
            "application/javascript": [
              "download(\"download_2b80e172-8fcb-4ec5-a519-7cbde75d188b\", \"output_error.csv\", 190029)"
            ]
          },
          "metadata": {}
        },
        {
          "output_type": "stream",
          "name": "stdout",
          "text": [
            "Setting PUID (You are a Plus user!): user-iDiqrJR001ZPThV08gh8UosR:1689146703-CAPwq1NDpcB9d5igysFRQZBKcKee8NHa9Ujih2zqSLo%3D\n",
            "Ha ocurrido una excepción en la iteración 0: OpenAI: {\"detail\":\"You've reached our limit of messages per 24 hours. Please try again later.\"} (code: 429)\n",
            "Esperando 30 minutos antes de intentarlo de nuevo...\n",
            "Descargando archivo: output_error.csv\n"
          ]
        },
        {
          "output_type": "display_data",
          "data": {
            "text/plain": [
              "<IPython.core.display.Javascript object>"
            ],
            "application/javascript": [
              "\n",
              "    async function download(id, filename, size) {\n",
              "      if (!google.colab.kernel.accessAllowed) {\n",
              "        return;\n",
              "      }\n",
              "      const div = document.createElement('div');\n",
              "      const label = document.createElement('label');\n",
              "      label.textContent = `Downloading \"${filename}\": `;\n",
              "      div.appendChild(label);\n",
              "      const progress = document.createElement('progress');\n",
              "      progress.max = size;\n",
              "      div.appendChild(progress);\n",
              "      document.body.appendChild(div);\n",
              "\n",
              "      const buffers = [];\n",
              "      let downloaded = 0;\n",
              "\n",
              "      const channel = await google.colab.kernel.comms.open(id);\n",
              "      // Send a message to notify the kernel that we're ready.\n",
              "      channel.send({})\n",
              "\n",
              "      for await (const message of channel.messages) {\n",
              "        // Send a message to notify the kernel that we're ready.\n",
              "        channel.send({})\n",
              "        if (message.buffers) {\n",
              "          for (const buffer of message.buffers) {\n",
              "            buffers.push(buffer);\n",
              "            downloaded += buffer.byteLength;\n",
              "            progress.value = downloaded;\n",
              "          }\n",
              "        }\n",
              "      }\n",
              "      const blob = new Blob(buffers, {type: 'application/binary'});\n",
              "      const a = document.createElement('a');\n",
              "      a.href = window.URL.createObjectURL(blob);\n",
              "      a.download = filename;\n",
              "      div.appendChild(a);\n",
              "      a.click();\n",
              "      div.remove();\n",
              "    }\n",
              "  "
            ]
          },
          "metadata": {}
        },
        {
          "output_type": "display_data",
          "data": {
            "text/plain": [
              "<IPython.core.display.Javascript object>"
            ],
            "application/javascript": [
              "download(\"download_38518ce9-611e-4e4e-8e48-6aa1c4df1ffb\", \"output_error.csv\", 190029)"
            ]
          },
          "metadata": {}
        },
        {
          "output_type": "stream",
          "name": "stdout",
          "text": [
            "Setting PUID (You are a Plus user!): user-iDiqrJR001ZPThV08gh8UosR:1689146736-Jmnb7a96CTwsPdLnPodWkX7NBfspkzMkJc7Z2eTpD4Q%3D\n",
            "Ha ocurrido una excepción en la iteración 0: OpenAI: {\"detail\":\"You've reached our limit of messages per 24 hours. Please try again later.\"} (code: 429)\n",
            "Esperando 30 minutos antes de intentarlo de nuevo...\n",
            "Descargando archivo: output_error.csv\n"
          ]
        },
        {
          "output_type": "display_data",
          "data": {
            "text/plain": [
              "<IPython.core.display.Javascript object>"
            ],
            "application/javascript": [
              "\n",
              "    async function download(id, filename, size) {\n",
              "      if (!google.colab.kernel.accessAllowed) {\n",
              "        return;\n",
              "      }\n",
              "      const div = document.createElement('div');\n",
              "      const label = document.createElement('label');\n",
              "      label.textContent = `Downloading \"${filename}\": `;\n",
              "      div.appendChild(label);\n",
              "      const progress = document.createElement('progress');\n",
              "      progress.max = size;\n",
              "      div.appendChild(progress);\n",
              "      document.body.appendChild(div);\n",
              "\n",
              "      const buffers = [];\n",
              "      let downloaded = 0;\n",
              "\n",
              "      const channel = await google.colab.kernel.comms.open(id);\n",
              "      // Send a message to notify the kernel that we're ready.\n",
              "      channel.send({})\n",
              "\n",
              "      for await (const message of channel.messages) {\n",
              "        // Send a message to notify the kernel that we're ready.\n",
              "        channel.send({})\n",
              "        if (message.buffers) {\n",
              "          for (const buffer of message.buffers) {\n",
              "            buffers.push(buffer);\n",
              "            downloaded += buffer.byteLength;\n",
              "            progress.value = downloaded;\n",
              "          }\n",
              "        }\n",
              "      }\n",
              "      const blob = new Blob(buffers, {type: 'application/binary'});\n",
              "      const a = document.createElement('a');\n",
              "      a.href = window.URL.createObjectURL(blob);\n",
              "      a.download = filename;\n",
              "      div.appendChild(a);\n",
              "      a.click();\n",
              "      div.remove();\n",
              "    }\n",
              "  "
            ]
          },
          "metadata": {}
        },
        {
          "output_type": "display_data",
          "data": {
            "text/plain": [
              "<IPython.core.display.Javascript object>"
            ],
            "application/javascript": [
              "download(\"download_fcef184f-8be3-4bca-9525-834522a2b3f5\", \"output_error.csv\", 190029)"
            ]
          },
          "metadata": {}
        },
        {
          "output_type": "stream",
          "name": "stdout",
          "text": [
            "Setting PUID (You are a Plus user!): user-iDiqrJR001ZPThV08gh8UosR:1689146767-63gWQQayLCkheqysWNA259Rl53qeDP0kAnUnFQFQ14I%3D\n",
            "Ha ocurrido una excepción en la iteración 0: OpenAI: {\"detail\":\"You've reached our limit of messages per 24 hours. Please try again later.\"} (code: 429)\n",
            "Esperando 30 minutos antes de intentarlo de nuevo...\n",
            "Descargando archivo: output_error.csv\n"
          ]
        },
        {
          "output_type": "display_data",
          "data": {
            "text/plain": [
              "<IPython.core.display.Javascript object>"
            ],
            "application/javascript": [
              "\n",
              "    async function download(id, filename, size) {\n",
              "      if (!google.colab.kernel.accessAllowed) {\n",
              "        return;\n",
              "      }\n",
              "      const div = document.createElement('div');\n",
              "      const label = document.createElement('label');\n",
              "      label.textContent = `Downloading \"${filename}\": `;\n",
              "      div.appendChild(label);\n",
              "      const progress = document.createElement('progress');\n",
              "      progress.max = size;\n",
              "      div.appendChild(progress);\n",
              "      document.body.appendChild(div);\n",
              "\n",
              "      const buffers = [];\n",
              "      let downloaded = 0;\n",
              "\n",
              "      const channel = await google.colab.kernel.comms.open(id);\n",
              "      // Send a message to notify the kernel that we're ready.\n",
              "      channel.send({})\n",
              "\n",
              "      for await (const message of channel.messages) {\n",
              "        // Send a message to notify the kernel that we're ready.\n",
              "        channel.send({})\n",
              "        if (message.buffers) {\n",
              "          for (const buffer of message.buffers) {\n",
              "            buffers.push(buffer);\n",
              "            downloaded += buffer.byteLength;\n",
              "            progress.value = downloaded;\n",
              "          }\n",
              "        }\n",
              "      }\n",
              "      const blob = new Blob(buffers, {type: 'application/binary'});\n",
              "      const a = document.createElement('a');\n",
              "      a.href = window.URL.createObjectURL(blob);\n",
              "      a.download = filename;\n",
              "      div.appendChild(a);\n",
              "      a.click();\n",
              "      div.remove();\n",
              "    }\n",
              "  "
            ]
          },
          "metadata": {}
        },
        {
          "output_type": "display_data",
          "data": {
            "text/plain": [
              "<IPython.core.display.Javascript object>"
            ],
            "application/javascript": [
              "download(\"download_4c32bcaa-a4e0-4972-b411-d61cbe1b7bf4\", \"output_error.csv\", 190029)"
            ]
          },
          "metadata": {}
        },
        {
          "output_type": "stream",
          "name": "stdout",
          "text": [
            "Setting PUID (You are a Plus user!): user-iDiqrJR001ZPThV08gh8UosR:1689146799-3L2wLSEXq6TcT7RM2rnTpJHPPLNpNc07bPSvuPJp0d0%3D\n",
            "Ha ocurrido una excepción en la iteración 0: OpenAI: {\"detail\":\"You've reached our limit of messages per 24 hours. Please try again later.\"} (code: 429)\n",
            "Esperando 30 minutos antes de intentarlo de nuevo...\n",
            "Descargando archivo: output_error.csv\n"
          ]
        },
        {
          "output_type": "display_data",
          "data": {
            "text/plain": [
              "<IPython.core.display.Javascript object>"
            ],
            "application/javascript": [
              "\n",
              "    async function download(id, filename, size) {\n",
              "      if (!google.colab.kernel.accessAllowed) {\n",
              "        return;\n",
              "      }\n",
              "      const div = document.createElement('div');\n",
              "      const label = document.createElement('label');\n",
              "      label.textContent = `Downloading \"${filename}\": `;\n",
              "      div.appendChild(label);\n",
              "      const progress = document.createElement('progress');\n",
              "      progress.max = size;\n",
              "      div.appendChild(progress);\n",
              "      document.body.appendChild(div);\n",
              "\n",
              "      const buffers = [];\n",
              "      let downloaded = 0;\n",
              "\n",
              "      const channel = await google.colab.kernel.comms.open(id);\n",
              "      // Send a message to notify the kernel that we're ready.\n",
              "      channel.send({})\n",
              "\n",
              "      for await (const message of channel.messages) {\n",
              "        // Send a message to notify the kernel that we're ready.\n",
              "        channel.send({})\n",
              "        if (message.buffers) {\n",
              "          for (const buffer of message.buffers) {\n",
              "            buffers.push(buffer);\n",
              "            downloaded += buffer.byteLength;\n",
              "            progress.value = downloaded;\n",
              "          }\n",
              "        }\n",
              "      }\n",
              "      const blob = new Blob(buffers, {type: 'application/binary'});\n",
              "      const a = document.createElement('a');\n",
              "      a.href = window.URL.createObjectURL(blob);\n",
              "      a.download = filename;\n",
              "      div.appendChild(a);\n",
              "      a.click();\n",
              "      div.remove();\n",
              "    }\n",
              "  "
            ]
          },
          "metadata": {}
        },
        {
          "output_type": "display_data",
          "data": {
            "text/plain": [
              "<IPython.core.display.Javascript object>"
            ],
            "application/javascript": [
              "download(\"download_9b93db4d-9d16-42e1-aba5-29ff7e09e901\", \"output_error.csv\", 190029)"
            ]
          },
          "metadata": {}
        },
        {
          "output_type": "stream",
          "name": "stdout",
          "text": [
            "Setting PUID (You are a Plus user!): user-iDiqrJR001ZPThV08gh8UosR:1689146831-fAUmkJPS4cf50dgs8pnprzLosqmFPTU0cVkjV3ihRmo%3D\n",
            "Ha ocurrido una excepción en la iteración 0: OpenAI: {\"detail\":\"You've reached our limit of messages per 24 hours. Please try again later.\"} (code: 429)\n",
            "Esperando 30 minutos antes de intentarlo de nuevo...\n",
            "Descargando archivo: output_error.csv\n"
          ]
        },
        {
          "output_type": "display_data",
          "data": {
            "text/plain": [
              "<IPython.core.display.Javascript object>"
            ],
            "application/javascript": [
              "\n",
              "    async function download(id, filename, size) {\n",
              "      if (!google.colab.kernel.accessAllowed) {\n",
              "        return;\n",
              "      }\n",
              "      const div = document.createElement('div');\n",
              "      const label = document.createElement('label');\n",
              "      label.textContent = `Downloading \"${filename}\": `;\n",
              "      div.appendChild(label);\n",
              "      const progress = document.createElement('progress');\n",
              "      progress.max = size;\n",
              "      div.appendChild(progress);\n",
              "      document.body.appendChild(div);\n",
              "\n",
              "      const buffers = [];\n",
              "      let downloaded = 0;\n",
              "\n",
              "      const channel = await google.colab.kernel.comms.open(id);\n",
              "      // Send a message to notify the kernel that we're ready.\n",
              "      channel.send({})\n",
              "\n",
              "      for await (const message of channel.messages) {\n",
              "        // Send a message to notify the kernel that we're ready.\n",
              "        channel.send({})\n",
              "        if (message.buffers) {\n",
              "          for (const buffer of message.buffers) {\n",
              "            buffers.push(buffer);\n",
              "            downloaded += buffer.byteLength;\n",
              "            progress.value = downloaded;\n",
              "          }\n",
              "        }\n",
              "      }\n",
              "      const blob = new Blob(buffers, {type: 'application/binary'});\n",
              "      const a = document.createElement('a');\n",
              "      a.href = window.URL.createObjectURL(blob);\n",
              "      a.download = filename;\n",
              "      div.appendChild(a);\n",
              "      a.click();\n",
              "      div.remove();\n",
              "    }\n",
              "  "
            ]
          },
          "metadata": {}
        },
        {
          "output_type": "display_data",
          "data": {
            "text/plain": [
              "<IPython.core.display.Javascript object>"
            ],
            "application/javascript": [
              "download(\"download_1f0e3fcf-e646-4e9a-b9d6-86ede294cdca\", \"output_error.csv\", 190029)"
            ]
          },
          "metadata": {}
        },
        {
          "output_type": "stream",
          "name": "stdout",
          "text": [
            "Setting PUID (You are a Plus user!): user-iDiqrJR001ZPThV08gh8UosR:1689146865-aW5hQEkUowyNgv%2BI3YIFaKtKiFhWj0tpM1abiyi12hw%3D\n",
            "Ha ocurrido una excepción en la iteración 0: OpenAI: {\"detail\":\"You've reached our limit of messages per 24 hours. Please try again later.\"} (code: 429)\n",
            "Esperando 30 minutos antes de intentarlo de nuevo...\n",
            "Descargando archivo: output_error.csv\n"
          ]
        },
        {
          "output_type": "display_data",
          "data": {
            "text/plain": [
              "<IPython.core.display.Javascript object>"
            ],
            "application/javascript": [
              "\n",
              "    async function download(id, filename, size) {\n",
              "      if (!google.colab.kernel.accessAllowed) {\n",
              "        return;\n",
              "      }\n",
              "      const div = document.createElement('div');\n",
              "      const label = document.createElement('label');\n",
              "      label.textContent = `Downloading \"${filename}\": `;\n",
              "      div.appendChild(label);\n",
              "      const progress = document.createElement('progress');\n",
              "      progress.max = size;\n",
              "      div.appendChild(progress);\n",
              "      document.body.appendChild(div);\n",
              "\n",
              "      const buffers = [];\n",
              "      let downloaded = 0;\n",
              "\n",
              "      const channel = await google.colab.kernel.comms.open(id);\n",
              "      // Send a message to notify the kernel that we're ready.\n",
              "      channel.send({})\n",
              "\n",
              "      for await (const message of channel.messages) {\n",
              "        // Send a message to notify the kernel that we're ready.\n",
              "        channel.send({})\n",
              "        if (message.buffers) {\n",
              "          for (const buffer of message.buffers) {\n",
              "            buffers.push(buffer);\n",
              "            downloaded += buffer.byteLength;\n",
              "            progress.value = downloaded;\n",
              "          }\n",
              "        }\n",
              "      }\n",
              "      const blob = new Blob(buffers, {type: 'application/binary'});\n",
              "      const a = document.createElement('a');\n",
              "      a.href = window.URL.createObjectURL(blob);\n",
              "      a.download = filename;\n",
              "      div.appendChild(a);\n",
              "      a.click();\n",
              "      div.remove();\n",
              "    }\n",
              "  "
            ]
          },
          "metadata": {}
        },
        {
          "output_type": "display_data",
          "data": {
            "text/plain": [
              "<IPython.core.display.Javascript object>"
            ],
            "application/javascript": [
              "download(\"download_38aed311-fef7-4445-81d5-199f7591342d\", \"output_error.csv\", 190029)"
            ]
          },
          "metadata": {}
        },
        {
          "output_type": "stream",
          "name": "stdout",
          "text": [
            "Setting PUID (You are a Plus user!): user-iDiqrJR001ZPThV08gh8UosR:1689146897-sRPYVJ0zG%2FmSWZumGc6yDCfdwpYOo9vVrPJWsY0Ns3g%3D\n",
            "Ha ocurrido una excepción en la iteración 0: OpenAI: {\"detail\":\"You've reached our limit of messages per 24 hours. Please try again later.\"} (code: 429)\n",
            "Esperando 30 minutos antes de intentarlo de nuevo...\n",
            "Descargando archivo: output_error.csv\n"
          ]
        },
        {
          "output_type": "display_data",
          "data": {
            "text/plain": [
              "<IPython.core.display.Javascript object>"
            ],
            "application/javascript": [
              "\n",
              "    async function download(id, filename, size) {\n",
              "      if (!google.colab.kernel.accessAllowed) {\n",
              "        return;\n",
              "      }\n",
              "      const div = document.createElement('div');\n",
              "      const label = document.createElement('label');\n",
              "      label.textContent = `Downloading \"${filename}\": `;\n",
              "      div.appendChild(label);\n",
              "      const progress = document.createElement('progress');\n",
              "      progress.max = size;\n",
              "      div.appendChild(progress);\n",
              "      document.body.appendChild(div);\n",
              "\n",
              "      const buffers = [];\n",
              "      let downloaded = 0;\n",
              "\n",
              "      const channel = await google.colab.kernel.comms.open(id);\n",
              "      // Send a message to notify the kernel that we're ready.\n",
              "      channel.send({})\n",
              "\n",
              "      for await (const message of channel.messages) {\n",
              "        // Send a message to notify the kernel that we're ready.\n",
              "        channel.send({})\n",
              "        if (message.buffers) {\n",
              "          for (const buffer of message.buffers) {\n",
              "            buffers.push(buffer);\n",
              "            downloaded += buffer.byteLength;\n",
              "            progress.value = downloaded;\n",
              "          }\n",
              "        }\n",
              "      }\n",
              "      const blob = new Blob(buffers, {type: 'application/binary'});\n",
              "      const a = document.createElement('a');\n",
              "      a.href = window.URL.createObjectURL(blob);\n",
              "      a.download = filename;\n",
              "      div.appendChild(a);\n",
              "      a.click();\n",
              "      div.remove();\n",
              "    }\n",
              "  "
            ]
          },
          "metadata": {}
        },
        {
          "output_type": "display_data",
          "data": {
            "text/plain": [
              "<IPython.core.display.Javascript object>"
            ],
            "application/javascript": [
              "download(\"download_80c34dbf-576e-40ce-a5c2-e6013343c8f6\", \"output_error.csv\", 190029)"
            ]
          },
          "metadata": {}
        },
        {
          "output_type": "stream",
          "name": "stdout",
          "text": [
            "Setting PUID (You are a Plus user!): user-iDiqrJR001ZPThV08gh8UosR:1689146929-D3L3x2GS%2Bp%2BVNBLj4AF41YZTjPLPmTeK4sslCEVfUSk%3D\n",
            "Ha ocurrido una excepción en la iteración 0: OpenAI: {\"detail\":\"You've reached our limit of messages per 24 hours. Please try again later.\"} (code: 429)\n",
            "Esperando 30 minutos antes de intentarlo de nuevo...\n",
            "Descargando archivo: output_error.csv\n"
          ]
        },
        {
          "output_type": "display_data",
          "data": {
            "text/plain": [
              "<IPython.core.display.Javascript object>"
            ],
            "application/javascript": [
              "\n",
              "    async function download(id, filename, size) {\n",
              "      if (!google.colab.kernel.accessAllowed) {\n",
              "        return;\n",
              "      }\n",
              "      const div = document.createElement('div');\n",
              "      const label = document.createElement('label');\n",
              "      label.textContent = `Downloading \"${filename}\": `;\n",
              "      div.appendChild(label);\n",
              "      const progress = document.createElement('progress');\n",
              "      progress.max = size;\n",
              "      div.appendChild(progress);\n",
              "      document.body.appendChild(div);\n",
              "\n",
              "      const buffers = [];\n",
              "      let downloaded = 0;\n",
              "\n",
              "      const channel = await google.colab.kernel.comms.open(id);\n",
              "      // Send a message to notify the kernel that we're ready.\n",
              "      channel.send({})\n",
              "\n",
              "      for await (const message of channel.messages) {\n",
              "        // Send a message to notify the kernel that we're ready.\n",
              "        channel.send({})\n",
              "        if (message.buffers) {\n",
              "          for (const buffer of message.buffers) {\n",
              "            buffers.push(buffer);\n",
              "            downloaded += buffer.byteLength;\n",
              "            progress.value = downloaded;\n",
              "          }\n",
              "        }\n",
              "      }\n",
              "      const blob = new Blob(buffers, {type: 'application/binary'});\n",
              "      const a = document.createElement('a');\n",
              "      a.href = window.URL.createObjectURL(blob);\n",
              "      a.download = filename;\n",
              "      div.appendChild(a);\n",
              "      a.click();\n",
              "      div.remove();\n",
              "    }\n",
              "  "
            ]
          },
          "metadata": {}
        },
        {
          "output_type": "display_data",
          "data": {
            "text/plain": [
              "<IPython.core.display.Javascript object>"
            ],
            "application/javascript": [
              "download(\"download_a9d8fca5-9ad8-4627-8e24-353fa2806a51\", \"output_error.csv\", 190029)"
            ]
          },
          "metadata": {}
        },
        {
          "output_type": "stream",
          "name": "stdout",
          "text": [
            "Setting PUID (You are a Plus user!): user-iDiqrJR001ZPThV08gh8UosR:1689146961-n1PJdynA25sYzxFKELVsrNwbPSi0kzdLPabPHeeug2Y%3D\n",
            "Ha ocurrido una excepción en la iteración 0: OpenAI: {\"detail\":\"You've reached our limit of messages per 24 hours. Please try again later.\"} (code: 429)\n",
            "Esperando 30 minutos antes de intentarlo de nuevo...\n",
            "Descargando archivo: output_error.csv\n"
          ]
        },
        {
          "output_type": "display_data",
          "data": {
            "text/plain": [
              "<IPython.core.display.Javascript object>"
            ],
            "application/javascript": [
              "\n",
              "    async function download(id, filename, size) {\n",
              "      if (!google.colab.kernel.accessAllowed) {\n",
              "        return;\n",
              "      }\n",
              "      const div = document.createElement('div');\n",
              "      const label = document.createElement('label');\n",
              "      label.textContent = `Downloading \"${filename}\": `;\n",
              "      div.appendChild(label);\n",
              "      const progress = document.createElement('progress');\n",
              "      progress.max = size;\n",
              "      div.appendChild(progress);\n",
              "      document.body.appendChild(div);\n",
              "\n",
              "      const buffers = [];\n",
              "      let downloaded = 0;\n",
              "\n",
              "      const channel = await google.colab.kernel.comms.open(id);\n",
              "      // Send a message to notify the kernel that we're ready.\n",
              "      channel.send({})\n",
              "\n",
              "      for await (const message of channel.messages) {\n",
              "        // Send a message to notify the kernel that we're ready.\n",
              "        channel.send({})\n",
              "        if (message.buffers) {\n",
              "          for (const buffer of message.buffers) {\n",
              "            buffers.push(buffer);\n",
              "            downloaded += buffer.byteLength;\n",
              "            progress.value = downloaded;\n",
              "          }\n",
              "        }\n",
              "      }\n",
              "      const blob = new Blob(buffers, {type: 'application/binary'});\n",
              "      const a = document.createElement('a');\n",
              "      a.href = window.URL.createObjectURL(blob);\n",
              "      a.download = filename;\n",
              "      div.appendChild(a);\n",
              "      a.click();\n",
              "      div.remove();\n",
              "    }\n",
              "  "
            ]
          },
          "metadata": {}
        },
        {
          "output_type": "display_data",
          "data": {
            "text/plain": [
              "<IPython.core.display.Javascript object>"
            ],
            "application/javascript": [
              "download(\"download_1c955cfa-6dd6-4de6-8d0e-61bf2b5be3ad\", \"output_error.csv\", 190029)"
            ]
          },
          "metadata": {}
        },
        {
          "output_type": "stream",
          "name": "stdout",
          "text": [
            "Setting PUID (You are a Plus user!): user-iDiqrJR001ZPThV08gh8UosR:1689146993-h0Pbey%2BIujBbkc9%2BOGnBnn%2BNf3TgMXkbnwtx3ZSKtDI%3D\n",
            "Ha ocurrido una excepción en la iteración 0: OpenAI: {\"detail\":\"You've reached our limit of messages per 24 hours. Please try again later.\"} (code: 429)\n",
            "Esperando 30 minutos antes de intentarlo de nuevo...\n",
            "Descargando archivo: output_error.csv\n"
          ]
        },
        {
          "output_type": "display_data",
          "data": {
            "text/plain": [
              "<IPython.core.display.Javascript object>"
            ],
            "application/javascript": [
              "\n",
              "    async function download(id, filename, size) {\n",
              "      if (!google.colab.kernel.accessAllowed) {\n",
              "        return;\n",
              "      }\n",
              "      const div = document.createElement('div');\n",
              "      const label = document.createElement('label');\n",
              "      label.textContent = `Downloading \"${filename}\": `;\n",
              "      div.appendChild(label);\n",
              "      const progress = document.createElement('progress');\n",
              "      progress.max = size;\n",
              "      div.appendChild(progress);\n",
              "      document.body.appendChild(div);\n",
              "\n",
              "      const buffers = [];\n",
              "      let downloaded = 0;\n",
              "\n",
              "      const channel = await google.colab.kernel.comms.open(id);\n",
              "      // Send a message to notify the kernel that we're ready.\n",
              "      channel.send({})\n",
              "\n",
              "      for await (const message of channel.messages) {\n",
              "        // Send a message to notify the kernel that we're ready.\n",
              "        channel.send({})\n",
              "        if (message.buffers) {\n",
              "          for (const buffer of message.buffers) {\n",
              "            buffers.push(buffer);\n",
              "            downloaded += buffer.byteLength;\n",
              "            progress.value = downloaded;\n",
              "          }\n",
              "        }\n",
              "      }\n",
              "      const blob = new Blob(buffers, {type: 'application/binary'});\n",
              "      const a = document.createElement('a');\n",
              "      a.href = window.URL.createObjectURL(blob);\n",
              "      a.download = filename;\n",
              "      div.appendChild(a);\n",
              "      a.click();\n",
              "      div.remove();\n",
              "    }\n",
              "  "
            ]
          },
          "metadata": {}
        },
        {
          "output_type": "display_data",
          "data": {
            "text/plain": [
              "<IPython.core.display.Javascript object>"
            ],
            "application/javascript": [
              "download(\"download_beabf633-c0c6-466c-8a8b-dd06e48f83bd\", \"output_error.csv\", 190029)"
            ]
          },
          "metadata": {}
        },
        {
          "output_type": "stream",
          "name": "stdout",
          "text": [
            "Setting PUID (You are a Plus user!): user-iDiqrJR001ZPThV08gh8UosR:1689147027-mEtg6PGbQCErlJphjTY3bQzxht3z%2BZ9ATfScqJEpT6s%3D\n",
            "Ha ocurrido una excepción en la iteración 0: OpenAI: {\"detail\":\"You've reached our limit of messages per 24 hours. Please try again later.\"} (code: 429)\n",
            "Esperando 30 minutos antes de intentarlo de nuevo...\n",
            "Descargando archivo: output_error.csv\n"
          ]
        },
        {
          "output_type": "display_data",
          "data": {
            "text/plain": [
              "<IPython.core.display.Javascript object>"
            ],
            "application/javascript": [
              "\n",
              "    async function download(id, filename, size) {\n",
              "      if (!google.colab.kernel.accessAllowed) {\n",
              "        return;\n",
              "      }\n",
              "      const div = document.createElement('div');\n",
              "      const label = document.createElement('label');\n",
              "      label.textContent = `Downloading \"${filename}\": `;\n",
              "      div.appendChild(label);\n",
              "      const progress = document.createElement('progress');\n",
              "      progress.max = size;\n",
              "      div.appendChild(progress);\n",
              "      document.body.appendChild(div);\n",
              "\n",
              "      const buffers = [];\n",
              "      let downloaded = 0;\n",
              "\n",
              "      const channel = await google.colab.kernel.comms.open(id);\n",
              "      // Send a message to notify the kernel that we're ready.\n",
              "      channel.send({})\n",
              "\n",
              "      for await (const message of channel.messages) {\n",
              "        // Send a message to notify the kernel that we're ready.\n",
              "        channel.send({})\n",
              "        if (message.buffers) {\n",
              "          for (const buffer of message.buffers) {\n",
              "            buffers.push(buffer);\n",
              "            downloaded += buffer.byteLength;\n",
              "            progress.value = downloaded;\n",
              "          }\n",
              "        }\n",
              "      }\n",
              "      const blob = new Blob(buffers, {type: 'application/binary'});\n",
              "      const a = document.createElement('a');\n",
              "      a.href = window.URL.createObjectURL(blob);\n",
              "      a.download = filename;\n",
              "      div.appendChild(a);\n",
              "      a.click();\n",
              "      div.remove();\n",
              "    }\n",
              "  "
            ]
          },
          "metadata": {}
        },
        {
          "output_type": "display_data",
          "data": {
            "text/plain": [
              "<IPython.core.display.Javascript object>"
            ],
            "application/javascript": [
              "download(\"download_bda31646-5963-4634-accc-bbd5e07b3234\", \"output_error.csv\", 190029)"
            ]
          },
          "metadata": {}
        },
        {
          "output_type": "stream",
          "name": "stdout",
          "text": [
            "Setting PUID (You are a Plus user!): user-iDiqrJR001ZPThV08gh8UosR:1689147059-hZsHDG4mFLqwjVjpORif%2FUpvGwxOjjxGFxmQETpac5A%3D\n",
            "Ha ocurrido una excepción en la iteración 0: OpenAI: {\"detail\":\"You've reached our limit of messages per 24 hours. Please try again later.\"} (code: 429)\n",
            "Esperando 30 minutos antes de intentarlo de nuevo...\n",
            "Descargando archivo: output_error.csv\n"
          ]
        },
        {
          "output_type": "display_data",
          "data": {
            "text/plain": [
              "<IPython.core.display.Javascript object>"
            ],
            "application/javascript": [
              "\n",
              "    async function download(id, filename, size) {\n",
              "      if (!google.colab.kernel.accessAllowed) {\n",
              "        return;\n",
              "      }\n",
              "      const div = document.createElement('div');\n",
              "      const label = document.createElement('label');\n",
              "      label.textContent = `Downloading \"${filename}\": `;\n",
              "      div.appendChild(label);\n",
              "      const progress = document.createElement('progress');\n",
              "      progress.max = size;\n",
              "      div.appendChild(progress);\n",
              "      document.body.appendChild(div);\n",
              "\n",
              "      const buffers = [];\n",
              "      let downloaded = 0;\n",
              "\n",
              "      const channel = await google.colab.kernel.comms.open(id);\n",
              "      // Send a message to notify the kernel that we're ready.\n",
              "      channel.send({})\n",
              "\n",
              "      for await (const message of channel.messages) {\n",
              "        // Send a message to notify the kernel that we're ready.\n",
              "        channel.send({})\n",
              "        if (message.buffers) {\n",
              "          for (const buffer of message.buffers) {\n",
              "            buffers.push(buffer);\n",
              "            downloaded += buffer.byteLength;\n",
              "            progress.value = downloaded;\n",
              "          }\n",
              "        }\n",
              "      }\n",
              "      const blob = new Blob(buffers, {type: 'application/binary'});\n",
              "      const a = document.createElement('a');\n",
              "      a.href = window.URL.createObjectURL(blob);\n",
              "      a.download = filename;\n",
              "      div.appendChild(a);\n",
              "      a.click();\n",
              "      div.remove();\n",
              "    }\n",
              "  "
            ]
          },
          "metadata": {}
        },
        {
          "output_type": "display_data",
          "data": {
            "text/plain": [
              "<IPython.core.display.Javascript object>"
            ],
            "application/javascript": [
              "download(\"download_90e4892e-d5f6-4efd-8a04-7d6f7f5b5a61\", \"output_error.csv\", 190029)"
            ]
          },
          "metadata": {}
        },
        {
          "output_type": "stream",
          "name": "stdout",
          "text": [
            "Setting PUID (You are a Plus user!): user-iDiqrJR001ZPThV08gh8UosR:1689147091-BBPxQv0q1dD8AUbM16twpeYzsRYOMQGeI7Z%2BpHOh8D4%3D\n",
            "Ha ocurrido una excepción en la iteración 0: OpenAI: {\"detail\":\"You've reached our limit of messages per 24 hours. Please try again later.\"} (code: 429)\n",
            "Esperando 30 minutos antes de intentarlo de nuevo...\n",
            "Descargando archivo: output_error.csv\n"
          ]
        },
        {
          "output_type": "display_data",
          "data": {
            "text/plain": [
              "<IPython.core.display.Javascript object>"
            ],
            "application/javascript": [
              "\n",
              "    async function download(id, filename, size) {\n",
              "      if (!google.colab.kernel.accessAllowed) {\n",
              "        return;\n",
              "      }\n",
              "      const div = document.createElement('div');\n",
              "      const label = document.createElement('label');\n",
              "      label.textContent = `Downloading \"${filename}\": `;\n",
              "      div.appendChild(label);\n",
              "      const progress = document.createElement('progress');\n",
              "      progress.max = size;\n",
              "      div.appendChild(progress);\n",
              "      document.body.appendChild(div);\n",
              "\n",
              "      const buffers = [];\n",
              "      let downloaded = 0;\n",
              "\n",
              "      const channel = await google.colab.kernel.comms.open(id);\n",
              "      // Send a message to notify the kernel that we're ready.\n",
              "      channel.send({})\n",
              "\n",
              "      for await (const message of channel.messages) {\n",
              "        // Send a message to notify the kernel that we're ready.\n",
              "        channel.send({})\n",
              "        if (message.buffers) {\n",
              "          for (const buffer of message.buffers) {\n",
              "            buffers.push(buffer);\n",
              "            downloaded += buffer.byteLength;\n",
              "            progress.value = downloaded;\n",
              "          }\n",
              "        }\n",
              "      }\n",
              "      const blob = new Blob(buffers, {type: 'application/binary'});\n",
              "      const a = document.createElement('a');\n",
              "      a.href = window.URL.createObjectURL(blob);\n",
              "      a.download = filename;\n",
              "      div.appendChild(a);\n",
              "      a.click();\n",
              "      div.remove();\n",
              "    }\n",
              "  "
            ]
          },
          "metadata": {}
        },
        {
          "output_type": "display_data",
          "data": {
            "text/plain": [
              "<IPython.core.display.Javascript object>"
            ],
            "application/javascript": [
              "download(\"download_4cdea8b6-ed81-4229-9ef2-9e0986ac1373\", \"output_error.csv\", 190029)"
            ]
          },
          "metadata": {}
        },
        {
          "output_type": "stream",
          "name": "stdout",
          "text": [
            "Setting PUID (You are a Plus user!): user-iDiqrJR001ZPThV08gh8UosR:1689147123-pfnXD8G4WYBsx3d9yuHEmup7nlJy6KBvD9GH1I4K1v0%3D\n",
            "Ha ocurrido una excepción en la iteración 0: OpenAI: {\"detail\":\"You've reached our limit of messages per 24 hours. Please try again later.\"} (code: 429)\n",
            "Esperando 30 minutos antes de intentarlo de nuevo...\n",
            "Descargando archivo: output_error.csv\n"
          ]
        },
        {
          "output_type": "display_data",
          "data": {
            "text/plain": [
              "<IPython.core.display.Javascript object>"
            ],
            "application/javascript": [
              "\n",
              "    async function download(id, filename, size) {\n",
              "      if (!google.colab.kernel.accessAllowed) {\n",
              "        return;\n",
              "      }\n",
              "      const div = document.createElement('div');\n",
              "      const label = document.createElement('label');\n",
              "      label.textContent = `Downloading \"${filename}\": `;\n",
              "      div.appendChild(label);\n",
              "      const progress = document.createElement('progress');\n",
              "      progress.max = size;\n",
              "      div.appendChild(progress);\n",
              "      document.body.appendChild(div);\n",
              "\n",
              "      const buffers = [];\n",
              "      let downloaded = 0;\n",
              "\n",
              "      const channel = await google.colab.kernel.comms.open(id);\n",
              "      // Send a message to notify the kernel that we're ready.\n",
              "      channel.send({})\n",
              "\n",
              "      for await (const message of channel.messages) {\n",
              "        // Send a message to notify the kernel that we're ready.\n",
              "        channel.send({})\n",
              "        if (message.buffers) {\n",
              "          for (const buffer of message.buffers) {\n",
              "            buffers.push(buffer);\n",
              "            downloaded += buffer.byteLength;\n",
              "            progress.value = downloaded;\n",
              "          }\n",
              "        }\n",
              "      }\n",
              "      const blob = new Blob(buffers, {type: 'application/binary'});\n",
              "      const a = document.createElement('a');\n",
              "      a.href = window.URL.createObjectURL(blob);\n",
              "      a.download = filename;\n",
              "      div.appendChild(a);\n",
              "      a.click();\n",
              "      div.remove();\n",
              "    }\n",
              "  "
            ]
          },
          "metadata": {}
        },
        {
          "output_type": "display_data",
          "data": {
            "text/plain": [
              "<IPython.core.display.Javascript object>"
            ],
            "application/javascript": [
              "download(\"download_67805923-0259-4adf-bf78-d9a6d0013c83\", \"output_error.csv\", 190029)"
            ]
          },
          "metadata": {}
        },
        {
          "output_type": "error",
          "ename": "KeyboardInterrupt",
          "evalue": "ignored",
          "traceback": [
            "\u001b[0;31m---------------------------------------------------------------------------\u001b[0m",
            "\u001b[0;31mHTTPError\u001b[0m                                 Traceback (most recent call last)",
            "\u001b[0;32m/usr/local/lib/python3.10/dist-packages/revChatGPT/V1.py\u001b[0m in \u001b[0;36m__check_response\u001b[0;34m(self, response)\u001b[0m\n\u001b[1;32m    871\u001b[0m         \u001b[0;32mtry\u001b[0m\u001b[0;34m:\u001b[0m\u001b[0;34m\u001b[0m\u001b[0;34m\u001b[0m\u001b[0m\n\u001b[0;32m--> 872\u001b[0;31m             \u001b[0mresponse\u001b[0m\u001b[0;34m.\u001b[0m\u001b[0mraise_for_status\u001b[0m\u001b[0;34m(\u001b[0m\u001b[0;34m)\u001b[0m\u001b[0;34m\u001b[0m\u001b[0;34m\u001b[0m\u001b[0m\n\u001b[0m\u001b[1;32m    873\u001b[0m         \u001b[0;32mexcept\u001b[0m \u001b[0mrequests\u001b[0m\u001b[0;34m.\u001b[0m\u001b[0mexceptions\u001b[0m\u001b[0;34m.\u001b[0m\u001b[0mHTTPError\u001b[0m \u001b[0;32mas\u001b[0m \u001b[0mex\u001b[0m\u001b[0;34m:\u001b[0m\u001b[0;34m\u001b[0m\u001b[0;34m\u001b[0m\u001b[0m\n",
            "\u001b[0;32m/usr/local/lib/python3.10/dist-packages/requests/models.py\u001b[0m in \u001b[0;36mraise_for_status\u001b[0;34m(self)\u001b[0m\n\u001b[1;32m    959\u001b[0m         \u001b[0;32mif\u001b[0m \u001b[0mhttp_error_msg\u001b[0m\u001b[0;34m:\u001b[0m\u001b[0;34m\u001b[0m\u001b[0;34m\u001b[0m\u001b[0m\n\u001b[0;32m--> 960\u001b[0;31m             \u001b[0;32mraise\u001b[0m \u001b[0mHTTPError\u001b[0m\u001b[0;34m(\u001b[0m\u001b[0mhttp_error_msg\u001b[0m\u001b[0;34m,\u001b[0m \u001b[0mresponse\u001b[0m\u001b[0;34m=\u001b[0m\u001b[0mself\u001b[0m\u001b[0;34m)\u001b[0m\u001b[0;34m\u001b[0m\u001b[0;34m\u001b[0m\u001b[0m\n\u001b[0m\u001b[1;32m    961\u001b[0m \u001b[0;34m\u001b[0m\u001b[0m\n",
            "\u001b[0;31mHTTPError\u001b[0m: 429 Client Error: Too Many Requests for url: https://bypass.churchless.tech/conversation",
            "\nThe above exception was the direct cause of the following exception:\n",
            "\u001b[0;31mError\u001b[0m                                     Traceback (most recent call last)",
            "\u001b[0;32m<ipython-input-12-ce6f7781bf6c>\u001b[0m in \u001b[0;36m<cell line: 4>\u001b[0;34m()\u001b[0m\n\u001b[1;32m     14\u001b[0m             \u001b[0msentiments\u001b[0m \u001b[0;34m=\u001b[0m \u001b[0msentiments\u001b[0m\u001b[0;34m[\u001b[0m\u001b[0;36m2\u001b[0m\u001b[0;34m:\u001b[0m\u001b[0;34m]\u001b[0m\u001b[0;34m\u001b[0m\u001b[0;34m\u001b[0m\u001b[0m\n\u001b[0;32m---> 15\u001b[0;31m             \u001b[0mresponse\u001b[0m \u001b[0;34m=\u001b[0m \u001b[0mget_response\u001b[0m\u001b[0;34m(\u001b[0m\u001b[0minput\u001b[0m\u001b[0;34m,\u001b[0m \u001b[0;34m\"text-davinci-002-render-sha\"\u001b[0m\u001b[0;34m)\u001b[0m\u001b[0;34m\u001b[0m\u001b[0;34m\u001b[0m\u001b[0m\n\u001b[0m\u001b[1;32m     16\u001b[0m             \u001b[0msentences\u001b[0m \u001b[0;34m=\u001b[0m \u001b[0mget_sentences\u001b[0m\u001b[0;34m(\u001b[0m\u001b[0mresponse\u001b[0m\u001b[0;34m)\u001b[0m\u001b[0;34m\u001b[0m\u001b[0;34m\u001b[0m\u001b[0m\n",
            "\u001b[0;32m<ipython-input-12-ce6f7781bf6c>\u001b[0m in \u001b[0;36mget_response\u001b[0;34m(prompt, model_version)\u001b[0m\n\u001b[1;32m     58\u001b[0m           \u001b[0mresponse\u001b[0m \u001b[0;34m=\u001b[0m \u001b[0;34m\"\"\u001b[0m\u001b[0;34m\u001b[0m\u001b[0;34m\u001b[0m\u001b[0m\n\u001b[0;32m---> 59\u001b[0;31m           for data in chatbot.ask(\n\u001b[0m\u001b[1;32m     60\u001b[0m               \u001b[0mprompt\u001b[0m\u001b[0;34m,\u001b[0m\u001b[0;34m\u001b[0m\u001b[0;34m\u001b[0m\u001b[0m\n",
            "\u001b[0;32m/usr/local/lib/python3.10/dist-packages/revChatGPT/V1.py\u001b[0m in \u001b[0;36mask\u001b[0;34m(self, prompt, conversation_id, parent_id, model, plugin_ids, auto_continue, timeout, **kwargs)\u001b[0m\n\u001b[1;32m    758\u001b[0m \u001b[0;34m\u001b[0m\u001b[0m\n\u001b[0;32m--> 759\u001b[0;31m         yield from self.post_messages(\n\u001b[0m\u001b[1;32m    760\u001b[0m             \u001b[0mmessages\u001b[0m\u001b[0;34m,\u001b[0m\u001b[0;34m\u001b[0m\u001b[0;34m\u001b[0m\u001b[0m\n",
            "\u001b[0;32m/usr/local/lib/python3.10/dist-packages/revChatGPT/V1.py\u001b[0m in \u001b[0;36mpost_messages\u001b[0;34m(self, messages, conversation_id, parent_id, plugin_ids, model, auto_continue, timeout, **kwargs)\u001b[0m\n\u001b[1;32m    711\u001b[0m \u001b[0;34m\u001b[0m\u001b[0m\n\u001b[0;32m--> 712\u001b[0;31m         yield from self.__send_request(\n\u001b[0m\u001b[1;32m    713\u001b[0m             \u001b[0mdata\u001b[0m\u001b[0;34m,\u001b[0m\u001b[0;34m\u001b[0m\u001b[0;34m\u001b[0m\u001b[0m\n",
            "\u001b[0;32m/usr/local/lib/python3.10/dist-packages/revChatGPT/V1.py\u001b[0m in \u001b[0;36m__send_request\u001b[0;34m(self, data, auto_continue, timeout, **kwargs)\u001b[0m\n\u001b[1;32m    546\u001b[0m         )\n\u001b[0;32m--> 547\u001b[0;31m         \u001b[0mself\u001b[0m\u001b[0;34m.\u001b[0m\u001b[0m__check_response\u001b[0m\u001b[0;34m(\u001b[0m\u001b[0mresponse\u001b[0m\u001b[0;34m)\u001b[0m\u001b[0;34m\u001b[0m\u001b[0;34m\u001b[0m\u001b[0m\n\u001b[0m\u001b[1;32m    548\u001b[0m \u001b[0;34m\u001b[0m\u001b[0m\n",
            "\u001b[0;32m/usr/local/lib/python3.10/dist-packages/revChatGPT/V1.py\u001b[0m in \u001b[0;36mwrapper\u001b[0;34m(*args, **kwargs)\u001b[0m\n\u001b[1;32m    101\u001b[0m             \u001b[0mstart\u001b[0m \u001b[0;34m=\u001b[0m \u001b[0mtime\u001b[0m\u001b[0;34m.\u001b[0m\u001b[0mtime\u001b[0m\u001b[0;34m(\u001b[0m\u001b[0;34m)\u001b[0m\u001b[0;34m\u001b[0m\u001b[0;34m\u001b[0m\u001b[0m\n\u001b[0;32m--> 102\u001b[0;31m             \u001b[0mout\u001b[0m \u001b[0;34m=\u001b[0m \u001b[0mfunc\u001b[0m\u001b[0;34m(\u001b[0m\u001b[0;34m*\u001b[0m\u001b[0margs\u001b[0m\u001b[0;34m,\u001b[0m \u001b[0;34m**\u001b[0m\u001b[0mkwargs\u001b[0m\u001b[0;34m)\u001b[0m\u001b[0;34m\u001b[0m\u001b[0;34m\u001b[0m\u001b[0m\n\u001b[0m\u001b[1;32m    103\u001b[0m             \u001b[0mend\u001b[0m \u001b[0;34m=\u001b[0m \u001b[0mtime\u001b[0m\u001b[0;34m.\u001b[0m\u001b[0mtime\u001b[0m\u001b[0;34m(\u001b[0m\u001b[0;34m)\u001b[0m\u001b[0;34m\u001b[0m\u001b[0;34m\u001b[0m\u001b[0m\n",
            "\u001b[0;32m/usr/local/lib/python3.10/dist-packages/revChatGPT/V1.py\u001b[0m in \u001b[0;36m__check_response\u001b[0;34m(self, response)\u001b[0m\n\u001b[1;32m    878\u001b[0m             )\n\u001b[0;32m--> 879\u001b[0;31m             \u001b[0;32mraise\u001b[0m \u001b[0merror\u001b[0m \u001b[0;32mfrom\u001b[0m \u001b[0mex\u001b[0m\u001b[0;34m\u001b[0m\u001b[0;34m\u001b[0m\u001b[0m\n\u001b[0m\u001b[1;32m    880\u001b[0m \u001b[0;34m\u001b[0m\u001b[0m\n",
            "\u001b[0;31mError\u001b[0m: OpenAI: {\"detail\":\"You've reached our limit of messages per 24 hours. Please try again later.\"} (code: 429)",
            "\nDuring handling of the above exception, another exception occurred:\n",
            "\u001b[0;31mKeyboardInterrupt\u001b[0m                         Traceback (most recent call last)",
            "\u001b[0;32m<ipython-input-12-ce6f7781bf6c>\u001b[0m in \u001b[0;36m<cell line: 4>\u001b[0;34m()\u001b[0m\n\u001b[1;32m     50\u001b[0m                 \u001b[0mprint\u001b[0m\u001b[0;34m(\u001b[0m\u001b[0;34mf\"Descargando archivo: {filename}\"\u001b[0m\u001b[0;34m)\u001b[0m\u001b[0;34m\u001b[0m\u001b[0;34m\u001b[0m\u001b[0m\n\u001b[1;32m     51\u001b[0m                 \u001b[0mfiles\u001b[0m\u001b[0;34m.\u001b[0m\u001b[0mdownload\u001b[0m\u001b[0;34m(\u001b[0m\u001b[0mdir_path\u001b[0m \u001b[0;34m+\u001b[0m \u001b[0mfilename\u001b[0m\u001b[0;34m)\u001b[0m\u001b[0;34m\u001b[0m\u001b[0;34m\u001b[0m\u001b[0m\n\u001b[0;32m---> 52\u001b[0;31m         \u001b[0mtime\u001b[0m\u001b[0;34m.\u001b[0m\u001b[0msleep\u001b[0m\u001b[0;34m(\u001b[0m\u001b[0;36m30\u001b[0m\u001b[0;34m)\u001b[0m\u001b[0;34m\u001b[0m\u001b[0;34m\u001b[0m\u001b[0m\n\u001b[0m\u001b[1;32m     53\u001b[0m \u001b[0;34m\u001b[0m\u001b[0m\n\u001b[1;32m     54\u001b[0m         chatbot = Chatbot(config={\n",
            "\u001b[0;31mKeyboardInterrupt\u001b[0m: "
          ]
        }
      ],
      "source": [
        "import time\n",
        "df_list = []\n",
        "division = 8\n",
        "while True:\n",
        "    try:\n",
        "        for divided in range(0, int(df.shape[0]/division)):\n",
        "            input = header\n",
        "            for sentence in range(0, division):\n",
        "                text = df['Text'][divided*division + sentence]\n",
        "                tag  = df['Emotion'][divided*division + sentence]\n",
        "                input += f'{sentence+1}. Sentece: {text} PROHIBITED WORD: {tag} \\n'\n",
        "\n",
        "            sentiments = extract_prohibited_words(input)\n",
        "            sentiments = sentiments[2:]\n",
        "            response = get_response(input, \"text-davinci-002-render-sha\")\n",
        "            sentences = get_sentences(response)\n",
        "            if len(sentiments) != len(sentences):\n",
        "                print(f\"Number of sentiments ({len(sentiments)}) does not match number of sentences ({len(sentences)}).\")\n",
        "                continue\n",
        "\n",
        "            for i in range(len(sentences)):\n",
        "                df_list.append(pd.DataFrame({\n",
        "                    'Sentence_Number': [sentences[i][0]],\n",
        "                    'Augmented_text': [sentences[i][1]],\n",
        "                    'Sentiment': [sentiments[i]]\n",
        "                }))\n",
        "\n",
        "            if divided == int(df.shape[0]/division*0.25):\n",
        "                pd.concat(df_list).to_csv('output_25.csv', index=False)\n",
        "            elif divided == int(df.shape[0]/division*0.5):\n",
        "                pd.concat(df_list).to_csv('output_50.csv', index=False)\n",
        "            elif divided == int(df.shape[0]/division*0.75):\n",
        "                pd.concat(df_list).to_csv('output_75.csv', index=False)\n",
        "            elif divided == int(df.shape[0]/division):\n",
        "                pd.concat(df_list).to_csv('output_100.csv', index=False)\n",
        "            time.sleep(1)\n",
        "\n",
        "        break  # Si todo el bucle se ejecuta sin errores, salimos del bucle while\n",
        "\n",
        "    except Exception as e:\n",
        "        print(f\"Ha ocurrido una excepción en la iteración {divided}: {e}\")\n",
        "        pd.concat(df_list).to_csv('output_error.csv', index=False)\n",
        "        print(\"Esperando 30 minutos antes de intentarlo de nuevo...\")\n",
        "        # Recorre los archivos en el directorio.\n",
        "        dir_path = '/content/'\n",
        "        name = 'output'\n",
        "        for filename in os.listdir(dir_path):\n",
        "            # Si \"output\" está en el nombre del archivo, descárgalo.\n",
        "            if name in filename:\n",
        "                print(f\"Descargando archivo: {filename}\")\n",
        "                files.download(dir_path + filename)\n",
        "        time.sleep(30)\n",
        "\n",
        "        chatbot = Chatbot(config={\n",
        "                        \"access_token\": \"eyJhbGciOiJSUzI1NiIsInR5cCI6IkpXVCIsImtpZCI6Ik1UaEVOVUpHTkVNMVFURTRNMEZCTWpkQ05UZzVNRFUxUlRVd1FVSkRNRU13UmtGRVFrRXpSZyJ9.eyJodHRwczovL2FwaS5vcGVuYWkuY29tL3Byb2ZpbGUiOnsiZW1haWwiOiJjaGF0Z3B0bGVhbmRyZW1hcmlvQGdtYWlsLmNvbSIsImVtYWlsX3ZlcmlmaWVkIjp0cnVlfSwiaHR0cHM6Ly9hcGkub3BlbmFpLmNvbS9hdXRoIjp7InVzZXJfaWQiOiJ1c2VyLWlEaXFySlIwMDFaUFRoVjA4Z2g4VW9zUiJ9LCJpc3MiOiJodHRwczovL2F1dGgwLm9wZW5haS5jb20vIiwic3ViIjoiZ29vZ2xlLW9hdXRoMnwxMDQ1NjIwMjg5MzIyNzg5MTY0NDYiLCJhdWQiOlsiaHR0cHM6Ly9hcGkub3BlbmFpLmNvbS92MSIsImh0dHBzOi8vb3BlbmFpLm9wZW5haS5hdXRoMGFwcC5jb20vdXNlcmluZm8iXSwiaWF0IjoxNjg4MjA0NzQ3LCJleHAiOjE2ODk0MTQzNDcsImF6cCI6IlRkSkljYmUxNldvVEh0Tjk1bnl5d2g1RTR5T282SXRHIiwic2NvcGUiOiJvcGVuaWQgcHJvZmlsZSBlbWFpbCBtb2RlbC5yZWFkIG1vZGVsLnJlcXVlc3Qgb3JnYW5pemF0aW9uLnJlYWQgb3JnYW5pemF0aW9uLndyaXRlIn0.OtLCcY3M2JdR9pvGZjP56RvD0jZZiqG7iRb900y_hGPccLCNGxe-XRGy9HJpXLaUzEtsO_7BEwnoX1BkvuViBMyJMwbXKDt5dtbfkicfbw_0Y0BpbqA0EwpElaMSsyEuHVz-3PBiKJpTAXlRcspJaF6SGT7-Qu_XPOXvDtp-6ltSu52cEQ9Gi11I5f8ZcCwKES2r4xXAyI-SLH4bzsO-D-4js9645quFnVsb66sD61rP0l12zl4zE7doVkvkzbUmuIN8wzCJscTScn_hHnpwk7NRZ9ndWRHqJe3G5v8fWmpJqfxaD-X2uCtI822AojEIL0yrMKmzPFLsZCZ2ifY4vg\"\n",
        "             })\n",
        "        def get_response(prompt, model_version):\n",
        "          response = \"\"\n",
        "          for data in chatbot.ask(\n",
        "              prompt,\n",
        "              model=model_version,\n",
        "              auto_continue=True\n",
        "          ):\n",
        "              response = data[\"message\"]\n",
        "          return response\n",
        "\n"
      ]
    },
    {
      "cell_type": "code",
      "execution_count": null,
      "metadata": {
        "id": "gMDonz9d9Wz4"
      },
      "outputs": [],
      "source": []
    }
  ],
  "metadata": {
    "colab": {
      "provenance": []
    },
    "kernelspec": {
      "display_name": "Python 3",
      "name": "python3"
    },
    "language_info": {
      "name": "python"
    }
  },
  "nbformat": 4,
  "nbformat_minor": 0
}