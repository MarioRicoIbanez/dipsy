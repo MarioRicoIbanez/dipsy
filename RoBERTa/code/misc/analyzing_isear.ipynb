{
 "cells": [
  {
   "cell_type": "code",
   "execution_count": 1,
   "metadata": {},
   "outputs": [],
   "source": [
    "import pandas as pd \n",
    "import re\n",
    "import string\n",
    "\n",
    "def clean_text(text):\n",
    "    # to lower case\n",
    "    text = text.lower()\n",
    "    # remove links\n",
    "    text = re.sub('https:\\/\\/\\S+', '', text)\n",
    "    # remove punctuation\n",
    "    text = re.sub('[%s]' % re.escape(string.punctuation), '', text)\n",
    "    # remove next line\n",
    "    text = re.sub(r'[^ \\w\\.]', '', text)\n",
    "    # remove words containing numbers\n",
    "    text = re.sub('\\w*\\d\\w*', '', text)\n",
    "\n",
    "    return text\n",
    "def load_and_preprocess_data(file_path):\n",
    "    df = pd.read_csv(file_path, names=['Emotion', 'Text', 'DNTKNOW']).drop(columns=['DNTKNOW']).dropna()\n",
    "    df['Text_processed'] = df.Text.apply(clean_text)\n",
    "    return df\n",
    "\n",
    "\n",
    "df = load_and_preprocess_data('/home/mriciba/Projects/dipsy/RoBERTa/data/ISEAR.csv')\n",
    "\n"
   ]
  },
  {
   "cell_type": "markdown",
   "metadata": {},
   "source": [
    "Debemos arreglar el error de sintaxis con el fin de que no haya problemas a la hora de usar los modelos \n"
   ]
  },
  {
   "cell_type": "code",
   "execution_count": 2,
   "metadata": {},
   "outputs": [],
   "source": [
    "df['Emotion'] = df['Emotion'].replace('guit', 'guilt')"
   ]
  },
  {
   "cell_type": "code",
   "execution_count": 3,
   "metadata": {},
   "outputs": [
    {
     "data": {
      "text/plain": [
       "joy        1092\n",
       "sadness    1082\n",
       "anger      1079\n",
       "fear       1076\n",
       "shame      1071\n",
       "disgust    1066\n",
       "guilt      1050\n",
       "Name: Emotion, dtype: int64"
      ]
     },
     "execution_count": 3,
     "metadata": {},
     "output_type": "execute_result"
    }
   ],
   "source": [
    "df.Emotion.value_counts()"
   ]
  },
  {
   "cell_type": "code",
   "execution_count": 4,
   "metadata": {},
   "outputs": [
    {
     "name": "stdout",
     "output_type": "stream",
     "text": [
      "Hacemos un análisis de la longitud de carácteres más grande ya que en el uso de transformers será necesario conocerla\n",
      "865 Hay 213 frases que superan 280 caracteres\n"
     ]
    }
   ],
   "source": [
    "\n",
    "def clean_text(text):\n",
    "    # to lower case\n",
    "    text = text.lower()\n",
    "    # remove links\n",
    "    text = re.sub('https:\\/\\/\\S+', '', text)\n",
    "    # remove punctuation\n",
    "    text = re.sub('[%s]' % re.escape(string.punctuation), '', text)\n",
    "    # remove next line\n",
    "    text = re.sub(r'[^ \\w\\.]', '', text)\n",
    "    # remove words containing numbers\n",
    "    text = re.sub('\\w*\\d\\w*', '', text)\n",
    "\n",
    "    return text\n",
    "\n",
    "\n",
    "\n",
    "df = pd.read_csv('/home/mriciba/Projects/dipsy/RoBERTa/data/ISEAR.csv', names=['Emotion', 'Text', 'DNTKNOW'])\n",
    "df = df.drop(columns=['DNTKNOW'])\n",
    "df = df.dropna()\n",
    "\n",
    "\n",
    "y = df['Emotion']\n",
    "x = df['Text']\n",
    "# PREPROCESSING DATA\n",
    "df['Text_processed'] = df.Text.apply(lambda x: clean_text(x))\n",
    "x = df['Text_processed']\n",
    "df_processed = df.drop(columns=['Text'])\n",
    "\n",
    "# We check the length of the longest sentence\n",
    "length = 0\n",
    "umbral = 280\n",
    "count = 0\n",
    "for i in range(len(x)):\n",
    "    if len(x[i]) > length:\n",
    "        length = len(x[i])\n",
    "    if len(x[i]) > umbral:\n",
    "        count += 1\n",
    "\n",
    "df_umbral = df_processed[df.Text_processed.str.len() > umbral]\n",
    "\n",
    "\n",
    "print(\n",
    "    f'Hacemos un análisis de la longitud de carácteres más grande ya que en el uso de transformers será necesario conocerla\\n{length} Hay {count} frases que superan {umbral} caracteres')\n",
    "\n"
   ]
  },
  {
   "cell_type": "code",
   "execution_count": null,
   "metadata": {},
   "outputs": [],
   "source": []
  }
 ],
 "metadata": {
  "kernelspec": {
   "display_name": "Python 3 (ipykernel)",
   "language": "python",
   "name": "python3"
  },
  "language_info": {
   "codemirror_mode": {
    "name": "ipython",
    "version": 3
   },
   "file_extension": ".py",
   "mimetype": "text/x-python",
   "name": "python",
   "nbconvert_exporter": "python",
   "pygments_lexer": "ipython3",
   "version": "3.8.10"
  }
 },
 "nbformat": 4,
 "nbformat_minor": 2
}
