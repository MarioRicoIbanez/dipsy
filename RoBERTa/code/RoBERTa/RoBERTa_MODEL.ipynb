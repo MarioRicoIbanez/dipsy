{
 "cells": [
  {
   "cell_type": "markdown",
   "id": "08336b94",
   "metadata": {},
   "source": [
    "# Modelo RoBERTa (Robust BERT)"
   ]
  },
  {
   "cell_type": "markdown",
   "id": "52a4086c",
   "metadata": {},
   "source": [
    "## Importando librerías necesarias y estableciendo parámetros globales"
   ]
  },
  {
   "cell_type": "code",
   "execution_count": 1,
   "id": "148639a4",
   "metadata": {},
   "outputs": [
    {
     "name": "stderr",
     "output_type": "stream",
     "text": [
      "/usr/local/lib/python3.8/dist-packages/tqdm/auto.py:22: TqdmWarning: IProgress not found. Please update jupyter and ipywidgets. See https://ipywidgets.readthedocs.io/en/stable/user_install.html\n",
      "  from .autonotebook import tqdm as notebook_tqdm\n"
     ]
    },
    {
     "data": {
      "text/html": [
       "\n",
       "      <iframe id=\"tensorboard-frame-706daf0160b3861e\" width=\"100%\" height=\"800\" frameborder=\"0\">\n",
       "      </iframe>\n",
       "      <script>\n",
       "        (function() {\n",
       "          const frame = document.getElementById(\"tensorboard-frame-706daf0160b3861e\");\n",
       "          const url = new URL(\"/\", window.location);\n",
       "          const port = 6006;\n",
       "          if (port) {\n",
       "            url.port = port;\n",
       "          }\n",
       "          frame.src = url;\n",
       "        })();\n",
       "      </script>\n",
       "    "
      ],
      "text/plain": [
       "<IPython.core.display.HTML object>"
      ]
     },
     "metadata": {},
     "output_type": "display_data"
    }
   ],
   "source": [
    "#Añadiendo las librerías necesarias para el encoding de los datos. \n",
    "from sklearn.preprocessing import OneHotEncoder\n",
    "from transformers import AutoTokenizer, RobertaModel, get_linear_schedule_with_warmup\n",
    "\n",
    "from utils import *\n",
    "\n",
    "import traceback\n",
    "import asyncio\n",
    "import os\n",
    "import warnings\n",
    "import re\n",
    "os.environ['TOKENIZERS_PARALLELISM'] = 'false'\n",
    "os.environ['TF_CPP_MIN_LOG_LEVEL'] = '2'\n",
    "\n",
    "\"\"\"GLOBAL PARAMS\"\"\"\n",
    "MAX_LEN = 240\n",
    "TEST_SIZE = 0.2\n",
    "RANDOM_STATE = 42\n",
    "EPOCHS_KFOLD_FROZEN = 100\n",
    "LEARNING_RATE_KFOLD_FROZEN = 3e-4\n",
    "K_FOLDS_FROZEN = 2\n",
    "BATCH_SIZE = 16\n",
    "LOSS_FUNCTION = nn.CrossEntropyLoss()\n",
    "\n",
    "\"DIRECTORIES\"\n",
    "SAVE_DIRECTORY_FROZEN = \"./MODELS/RoBERTa_entrenado_kfold\"\n",
    "SAVE_DIRECTORY_UNFROZEN = \"./MODELS/RoBERTa_entrenado_kfold_unfrozen_last_layer\"\n",
    "\n",
    "TYPED_STORAGE_WARNING = re.compile(\".TypedStorage is deprecated.\")\n",
    "FALLBACK_KERNEL_WARNING = re.compile(\".Using FallbackKernel: aten.cumsum.\")\n",
    "TRITON_RANDOM_WARNING = re.compile(\".using triton random, expect difference from eager.\")\n",
    "\n",
    "def warning_filter(message, category, filename, lineno, file=None, line=None):\n",
    "    if category == UserWarning and (TYPED_STORAGE_WARNING.match(str(message)) or FALLBACK_KERNEL_WARNING.match(str(message)) or TRITON_RANDOM_WARNING.match(str(message))):\n",
    "        return False\n",
    "    return True\n",
    "\n",
    "\n",
    "warnings.showwarning = warning_filter\n",
    "warnings.filterwarnings(\"ignore\", category=UserWarning, module=\"torch._inductor.ir\")\n",
    "\n",
    "\n",
    "# Establecer la semilla para PyTorch en las operaciones CPU\n",
    "torch.manual_seed(42)\n",
    "\n",
    "# Establecer la semilla para PyTorch en las operaciones en GPU\n",
    "torch.cuda.manual_seed(42)\n",
    "torch.backends.cudnn.deterministic = True\n",
    "torch.backends.cudnn.benchmark = False\n",
    "\n",
    "np.random.seed(42)\n",
    "%matplotlib inline\n",
    "%load_ext tensorboard\n",
    "%tensorboard --logdir=./runs --host localhost --port 6006\n"
   ]
  },
  {
   "cell_type": "markdown",
   "id": "4129389b",
   "metadata": {},
   "source": [
    "## Inicio entrenamiento\n",
    "Primero comprobamos que la gráfica se encuentra disponible para poder usarla"
   ]
  },
  {
   "cell_type": "code",
   "execution_count": 2,
   "id": "c17ad6c2",
   "metadata": {},
   "outputs": [
    {
     "name": "stdout",
     "output_type": "stream",
     "text": [
      "cuda\n"
     ]
    }
   ],
   "source": [
    "device = torch.device(\"cuda\" if torch.cuda.is_available() else \"cpu\")\n",
    "print(device)"
   ]
  },
  {
   "cell_type": "markdown",
   "id": "187f83ac",
   "metadata": {},
   "source": [
    "Descargamos y procesamos los datos"
   ]
  },
  {
   "cell_type": "code",
   "execution_count": 3,
   "id": "90d4a779",
   "metadata": {},
   "outputs": [],
   "source": [
    "if not os.path.exists('../../data/ISEAR.csv'):\n",
    "    os.system('wget https://raw.githubusercontent.com/PoorvaRane/Emotion-Detector/master/ISEAR.csv -P ../../data')\n",
    "\n",
    "# Load and preprocess the dataset\n",
    "df = load_and_preprocess_data('/home/mriciba/Projects/dipsy/RoBERTa/data/ISEAR.csv')\n",
    "df['Emotion'] = df['Emotion'].replace('guit', 'guilt')"
   ]
  },
  {
   "cell_type": "code",
   "execution_count": 4,
   "id": "c16bf7a0",
   "metadata": {},
   "outputs": [
    {
     "data": {
      "text/html": [
       "<div>\n",
       "<style scoped>\n",
       "    .dataframe tbody tr th:only-of-type {\n",
       "        vertical-align: middle;\n",
       "    }\n",
       "\n",
       "    .dataframe tbody tr th {\n",
       "        vertical-align: top;\n",
       "    }\n",
       "\n",
       "    .dataframe thead th {\n",
       "        text-align: right;\n",
       "    }\n",
       "</style>\n",
       "<table border=\"1\" class=\"dataframe\">\n",
       "  <thead>\n",
       "    <tr style=\"text-align: right;\">\n",
       "      <th></th>\n",
       "      <th>Emotion</th>\n",
       "      <th>Text</th>\n",
       "      <th>Text_processed</th>\n",
       "    </tr>\n",
       "  </thead>\n",
       "  <tbody>\n",
       "    <tr>\n",
       "      <th>0</th>\n",
       "      <td>joy</td>\n",
       "      <td>On days when I feel close to my partner and ot...</td>\n",
       "      <td>on days when i feel close to my partner and ot...</td>\n",
       "    </tr>\n",
       "    <tr>\n",
       "      <th>1</th>\n",
       "      <td>fear</td>\n",
       "      <td>Every time I imagine that someone I love or I ...</td>\n",
       "      <td>every time i imagine that someone i love or i ...</td>\n",
       "    </tr>\n",
       "    <tr>\n",
       "      <th>2</th>\n",
       "      <td>anger</td>\n",
       "      <td>When I had been obviously unjustly treated and...</td>\n",
       "      <td>when i had been obviously unjustly treated and...</td>\n",
       "    </tr>\n",
       "    <tr>\n",
       "      <th>3</th>\n",
       "      <td>sadness</td>\n",
       "      <td>When I think about the short time that we live...</td>\n",
       "      <td>when i think about the short time that we live...</td>\n",
       "    </tr>\n",
       "    <tr>\n",
       "      <th>4</th>\n",
       "      <td>disgust</td>\n",
       "      <td>At a gathering I found myself involuntarily si...</td>\n",
       "      <td>at a gathering i found myself involuntarily si...</td>\n",
       "    </tr>\n",
       "  </tbody>\n",
       "</table>\n",
       "</div>"
      ],
      "text/plain": [
       "   Emotion                                               Text  \\\n",
       "0      joy  On days when I feel close to my partner and ot...   \n",
       "1     fear  Every time I imagine that someone I love or I ...   \n",
       "2    anger  When I had been obviously unjustly treated and...   \n",
       "3  sadness  When I think about the short time that we live...   \n",
       "4  disgust  At a gathering I found myself involuntarily si...   \n",
       "\n",
       "                                      Text_processed  \n",
       "0  on days when i feel close to my partner and ot...  \n",
       "1  every time i imagine that someone i love or i ...  \n",
       "2  when i had been obviously unjustly treated and...  \n",
       "3  when i think about the short time that we live...  \n",
       "4  at a gathering i found myself involuntarily si...  "
      ]
     },
     "execution_count": 4,
     "metadata": {},
     "output_type": "execute_result"
    }
   ],
   "source": [
    "df.head()"
   ]
  },
  {
   "cell_type": "markdown",
   "id": "61b05df2",
   "metadata": {},
   "source": [
    "Cargamos el tokenizador para pasar las frases a tokens (unidad entendible por el modelo que vamos a estudiar)"
   ]
  },
  {
   "cell_type": "code",
   "execution_count": 5,
   "id": "9ae58e00",
   "metadata": {},
   "outputs": [],
   "source": [
    " tokenizer = AutoTokenizer.from_pretrained('roberta-base')\n",
    "\n",
    "# Tokenize and encode the input data\n",
    "tokenized_features = tokenizer.batch_encode_plus(\n",
    "    df['Text_processed'].values.tolist(),\n",
    "    add_special_tokens=True,\n",
    "    padding='max_length',\n",
    "    truncation=True,\n",
    "    max_length=MAX_LEN,\n",
    "    return_attention_mask=True,\n",
    "    return_tensors='pt'\n",
    ")"
   ]
  },
  {
   "cell_type": "code",
   "execution_count": 6,
   "id": "79cfa0ef",
   "metadata": {},
   "outputs": [
    {
     "name": "stdout",
     "output_type": "stream",
     "text": [
      "torch.Size([7516, 240])\n",
      "torch.Size([7516, 240])\n"
     ]
    }
   ],
   "source": [
    "print(tokenized_features.input_ids.shape)\n",
    "print(tokenized_features.attention_mask.shape)"
   ]
  },
  {
   "cell_type": "markdown",
   "id": "2fa2face",
   "metadata": {},
   "source": [
    "Observamos el diccionario en el que se encuentran los input_ids, es decir la codificación de cada palabra y la máscara de atención tan importante en los modelos basados en transformers.\n",
    "\n",
    "Ahora hacemos one hot encoding de cada input_ids"
   ]
  },
  {
   "cell_type": "code",
   "execution_count": 7,
   "id": "8df4645c",
   "metadata": {},
   "outputs": [],
   "source": [
    " one_hot_encoder = OneHotEncoder()\n",
    "target_one_hot = one_hot_encoder.fit_transform(df['Emotion'].values.reshape(-1, 1)).toarray()"
   ]
  },
  {
   "cell_type": "code",
   "execution_count": 8,
   "id": "68f33bfb",
   "metadata": {},
   "outputs": [
    {
     "data": {
      "text/plain": [
       "(7516, 7)"
      ]
     },
     "execution_count": 8,
     "metadata": {},
     "output_type": "execute_result"
    }
   ],
   "source": [
    "target_one_hot.shape"
   ]
  },
  {
   "cell_type": "code",
   "execution_count": 9,
   "id": "5a30b1c1",
   "metadata": {},
   "outputs": [],
   "source": [
    "train_inputs, test_inputs, train_labels, test_labels, train_masks, test_masks = train_test_split(\n",
    "        tokenized_features[\"input_ids\"],\n",
    "        target_one_hot,\n",
    "        tokenized_features[\"attention_mask\"],\n",
    "        test_size=TEST_SIZE,\n",
    "        random_state=RANDOM_STATE,\n",
    "        stratify=target_one_hot,\n",
    "    )"
   ]
  },
  {
   "cell_type": "code",
   "execution_count": 10,
   "id": "e057168d",
   "metadata": {},
   "outputs": [
    {
     "name": "stdout",
     "output_type": "stream",
     "text": [
      "torch.Size([6012, 240]) torch.Size([6012, 240]) (6012, 7)\n",
      "torch.Size([1504, 240]) torch.Size([1504, 240]) (1504, 7)\n"
     ]
    }
   ],
   "source": [
    "print(train_inputs.shape, train_masks.shape, train_labels.shape)\n",
    "print(test_inputs.shape, test_masks.shape, test_labels.shape)"
   ]
  },
  {
   "cell_type": "markdown",
   "id": "450ee921",
   "metadata": {},
   "source": [
    "Cargamos el modelo que vamos a usar"
   ]
  },
  {
   "cell_type": "code",
   "execution_count": 11,
   "id": "3a068915",
   "metadata": {},
   "outputs": [
    {
     "name": "stderr",
     "output_type": "stream",
     "text": [
      "Some weights of RobertaModel were not initialized from the model checkpoint at roberta-base and are newly initialized: ['roberta.pooler.dense.bias', 'roberta.pooler.dense.weight']\n",
      "You should probably TRAIN this model on a down-stream task to be able to use it for predictions and inference.\n"
     ]
    }
   ],
   "source": [
    "base_model = RobertaModel.from_pretrained(\"roberta-base\")"
   ]
  },
  {
   "cell_type": "markdown",
   "id": "1936487c",
   "metadata": {},
   "source": [
    "Ahora congelamos las capas ya que primero vamos a hacer un entrenamiento en el que el modelo estará congelado y actuará como extractor de características. Y añadiremos una última capa de neuronas en las que si que estaremos clasificando aprovechando el token de salida."
   ]
  },
  {
   "cell_type": "code",
   "execution_count": 12,
   "id": "2a1d67fb",
   "metadata": {},
   "outputs": [],
   "source": [
    "for param in base_model.parameters():\n",
    "    param.requires_grad = False\n",
    "\n",
    "    # Initialize the custom RoBERTa model\n",
    "model = CustomRoBERTa(base_model.to(device), num_classes=len(set(df['Emotion'])))"
   ]
  },
  {
   "cell_type": "code",
   "execution_count": 13,
   "id": "0aefd2c6",
   "metadata": {},
   "outputs": [
    {
     "name": "stdout",
     "output_type": "stream",
     "text": [
      "Tue Jun 27 08:23:32 2023       \r\n",
      "+-----------------------------------------------------------------------------+\r\n",
      "| NVIDIA-SMI 525.105.17   Driver Version: 525.105.17   CUDA Version: 12.0     |\r\n",
      "|-------------------------------+----------------------+----------------------+\r\n",
      "| GPU  Name        Persistence-M| Bus-Id        Disp.A | Volatile Uncorr. ECC |\r\n",
      "| Fan  Temp  Perf  Pwr:Usage/Cap|         Memory-Usage | GPU-Util  Compute M. |\r\n",
      "|                               |                      |               MIG M. |\r\n",
      "|===============================+======================+======================|\r\n",
      "|   0  NVIDIA TITAN V      Off  | 00000000:01:00.0 Off |                  N/A |\r\n",
      "| 32%   46C    P2    37W / 250W |    900MiB / 12288MiB |      0%      Default |\r\n",
      "|                               |                      |                  N/A |\r\n",
      "+-------------------------------+----------------------+----------------------+\r\n",
      "                                                                               \r\n",
      "+-----------------------------------------------------------------------------+\r\n",
      "| Processes:                                                                  |\r\n",
      "|  GPU   GI   CI        PID   Type   Process name                  GPU Memory |\r\n",
      "|        ID   ID                                                   Usage      |\r\n",
      "|=============================================================================|\r\n",
      "+-----------------------------------------------------------------------------+\r\n"
     ]
    }
   ],
   "source": [
    "!nvidia-smi"
   ]
  },
  {
   "cell_type": "markdown",
   "id": "94a00c5e",
   "metadata": {},
   "source": [
    "Aprovechamos las ventajas que nos da el torch 2.0, que tiene mejoras en entrenamientos de transformers usando la función compile "
   ]
  },
  {
   "cell_type": "code",
   "execution_count": 14,
   "id": "1bab3194",
   "metadata": {},
   "outputs": [],
   "source": [
    "compiled_model = torch.compile(model)"
   ]
  },
  {
   "cell_type": "raw",
   "id": "cde34c6e",
   "metadata": {},
   "source": [
    "Selección del optimizer"
   ]
  },
  {
   "cell_type": "code",
   "execution_count": 15,
   "id": "9a6657db",
   "metadata": {},
   "outputs": [],
   "source": [
    "optimizer = torch.optim.AdamW(compiled_model.parameters(), LEARNING_RATE_KFOLD_FROZEN)"
   ]
  },
  {
   "cell_type": "markdown",
   "id": "599ab2dc",
   "metadata": {},
   "source": [
    "Ahora vamos a utilizar el warmup, Esta función se utiliza para crear un programador de velocidad de aprendizaje lineal con fase de calentamiento (warm-up) para el entrenamiento del modelo."
   ]
  },
  {
   "cell_type": "code",
   "execution_count": 16,
   "id": "cde3b2bc",
   "metadata": {},
   "outputs": [],
   "source": [
    "total_steps = len(train_inputs) * EPOCHS_KFOLD_FROZEN\n",
    "scheduler = get_linear_schedule_with_warmup(optimizer, num_warmup_steps=0.1 * total_steps,\n",
    "                                               num_training_steps=total_steps)"
   ]
  },
  {
   "cell_type": "markdown",
   "id": "98626ba2",
   "metadata": {},
   "source": [
    "Procedemos a realizar el entrenamiento kfold, técnica utilizada con el fin de comprobar que nuestro modelo funciona bien ante diferentes separaciones de datos. "
   ]
  },
  {
   "cell_type": "code",
   "execution_count": 17,
   "id": "6d0d3944",
   "metadata": {},
   "outputs": [
    {
     "name": "stdout",
     "output_type": "stream",
     "text": [
      "Fold 1\n",
      "Training epoch 1\n"
     ]
    },
    {
     "name": "stderr",
     "output_type": "stream",
     "text": [
      "Iteration:   0%|                                                                                                                    | 0/188 [00:00<?, ?it/s][2023-06-27 08:23:41,097] torch._inductor.utils: [WARNING] using triton random, expect difference from eager\n",
      "Iteration:  99%|█████████████████████████████████████████████████████████████████████████████████████████████████████████▍| 187/188 [00:36<00:00, 14.06it/s][2023-06-27 08:24:15,476] torch._inductor.utils: [WARNING] using triton random, expect difference from eager\n",
      "Iteration: 100%|██████████████████████████████████████████████████████████████████████████████████████████████████████████| 188/188 [00:57<00:00,  3.25it/s]\n"
     ]
    },
    {
     "name": "stdout",
     "output_type": "stream",
     "text": [
      "Epoch 1 - Average training loss: 1.96, Average training accuracy: 0.14\n",
      "Epoch 1 - Average validation loss: 1.95, Average validation accuracy: 0.15\n",
      "Training epoch 2\n"
     ]
    },
    {
     "name": "stderr",
     "output_type": "stream",
     "text": [
      "Iteration: 100%|██████████████████████████████████████████████████████████████████████████████████████████████████████████| 188/188 [00:13<00:00, 14.04it/s]\n"
     ]
    },
    {
     "name": "stdout",
     "output_type": "stream",
     "text": [
      "Epoch 2 - Average training loss: 1.95, Average training accuracy: 0.15\n",
      "Epoch 2 - Average validation loss: 1.95, Average validation accuracy: 0.17\n",
      "Training epoch 3\n"
     ]
    },
    {
     "name": "stderr",
     "output_type": "stream",
     "text": [
      "Iteration: 100%|██████████████████████████████████████████████████████████████████████████████████████████████████████████| 188/188 [00:13<00:00, 14.04it/s]\n"
     ]
    },
    {
     "name": "stdout",
     "output_type": "stream",
     "text": [
      "Epoch 3 - Average training loss: 1.94, Average training accuracy: 0.16\n",
      "Epoch 3 - Average validation loss: 1.94, Average validation accuracy: 0.14\n",
      "Training epoch 4\n"
     ]
    },
    {
     "name": "stderr",
     "output_type": "stream",
     "text": [
      "Iteration: 100%|██████████████████████████████████████████████████████████████████████████████████████████████████████████| 188/188 [00:13<00:00, 14.04it/s]\n"
     ]
    },
    {
     "name": "stdout",
     "output_type": "stream",
     "text": [
      "Epoch 4 - Average training loss: 1.94, Average training accuracy: 0.17\n",
      "Epoch 4 - Average validation loss: 1.94, Average validation accuracy: 0.14\n",
      "Training epoch 5\n"
     ]
    },
    {
     "name": "stderr",
     "output_type": "stream",
     "text": [
      "Iteration: 100%|██████████████████████████████████████████████████████████████████████████████████████████████████████████| 188/188 [00:13<00:00, 13.60it/s]\n"
     ]
    },
    {
     "name": "stdout",
     "output_type": "stream",
     "text": [
      "Epoch 5 - Average training loss: 1.93, Average training accuracy: 0.19\n",
      "Epoch 5 - Average validation loss: 1.93, Average validation accuracy: 0.19\n",
      "Training epoch 6\n"
     ]
    },
    {
     "name": "stderr",
     "output_type": "stream",
     "text": [
      "Iteration: 100%|██████████████████████████████████████████████████████████████████████████████████████████████████████████| 188/188 [00:14<00:00, 12.97it/s]\n"
     ]
    },
    {
     "name": "stdout",
     "output_type": "stream",
     "text": [
      "Epoch 6 - Average training loss: 1.93, Average training accuracy: 0.21\n",
      "Epoch 6 - Average validation loss: 1.93, Average validation accuracy: 0.20\n",
      "Training epoch 7\n"
     ]
    },
    {
     "name": "stderr",
     "output_type": "stream",
     "text": [
      "Iteration: 100%|██████████████████████████████████████████████████████████████████████████████████████████████████████████| 188/188 [00:14<00:00, 12.97it/s]\n"
     ]
    },
    {
     "name": "stdout",
     "output_type": "stream",
     "text": [
      "Epoch 7 - Average training loss: 1.92, Average training accuracy: 0.21\n",
      "Epoch 7 - Average validation loss: 1.92, Average validation accuracy: 0.26\n",
      "Training epoch 8\n"
     ]
    },
    {
     "name": "stderr",
     "output_type": "stream",
     "text": [
      "Iteration: 100%|██████████████████████████████████████████████████████████████████████████████████████████████████████████| 188/188 [00:14<00:00, 12.80it/s]\n"
     ]
    },
    {
     "name": "stdout",
     "output_type": "stream",
     "text": [
      "Epoch 8 - Average training loss: 1.91, Average training accuracy: 0.29\n",
      "Epoch 8 - Average validation loss: 1.91, Average validation accuracy: 0.31\n",
      "Training epoch 9\n"
     ]
    },
    {
     "name": "stderr",
     "output_type": "stream",
     "text": [
      "Iteration: 100%|██████████████████████████████████████████████████████████████████████████████████████████████████████████| 188/188 [00:14<00:00, 12.84it/s]\n"
     ]
    },
    {
     "name": "stdout",
     "output_type": "stream",
     "text": [
      "Epoch 9 - Average training loss: 1.90, Average training accuracy: 0.31\n",
      "Epoch 9 - Average validation loss: 1.90, Average validation accuracy: 0.32\n",
      "Training epoch 10\n"
     ]
    },
    {
     "name": "stderr",
     "output_type": "stream",
     "text": [
      "Iteration: 100%|██████████████████████████████████████████████████████████████████████████████████████████████████████████| 188/188 [00:14<00:00, 12.81it/s]\n"
     ]
    },
    {
     "name": "stdout",
     "output_type": "stream",
     "text": [
      "Epoch 10 - Average training loss: 1.90, Average training accuracy: 0.34\n",
      "Epoch 10 - Average validation loss: 1.89, Average validation accuracy: 0.35\n",
      "Training epoch 11\n"
     ]
    },
    {
     "name": "stderr",
     "output_type": "stream",
     "text": [
      "Iteration: 100%|██████████████████████████████████████████████████████████████████████████████████████████████████████████| 188/188 [00:14<00:00, 12.84it/s]\n"
     ]
    },
    {
     "name": "stdout",
     "output_type": "stream",
     "text": [
      "Epoch 11 - Average training loss: 1.89, Average training accuracy: 0.34\n",
      "Epoch 11 - Average validation loss: 1.88, Average validation accuracy: 0.37\n",
      "Training epoch 12\n"
     ]
    },
    {
     "name": "stderr",
     "output_type": "stream",
     "text": [
      "Iteration: 100%|██████████████████████████████████████████████████████████████████████████████████████████████████████████| 188/188 [00:14<00:00, 12.84it/s]\n"
     ]
    },
    {
     "name": "stdout",
     "output_type": "stream",
     "text": [
      "Epoch 12 - Average training loss: 1.88, Average training accuracy: 0.35\n",
      "Epoch 12 - Average validation loss: 1.88, Average validation accuracy: 0.38\n",
      "Training epoch 13\n"
     ]
    },
    {
     "name": "stderr",
     "output_type": "stream",
     "text": [
      "Iteration: 100%|██████████████████████████████████████████████████████████████████████████████████████████████████████████| 188/188 [00:14<00:00, 12.83it/s]\n"
     ]
    },
    {
     "name": "stdout",
     "output_type": "stream",
     "text": [
      "Epoch 13 - Average training loss: 1.87, Average training accuracy: 0.36\n",
      "Epoch 13 - Average validation loss: 1.87, Average validation accuracy: 0.39\n",
      "Training epoch 14\n"
     ]
    },
    {
     "name": "stderr",
     "output_type": "stream",
     "text": [
      "Iteration: 100%|██████████████████████████████████████████████████████████████████████████████████████████████████████████| 188/188 [00:14<00:00, 12.85it/s]\n"
     ]
    },
    {
     "name": "stdout",
     "output_type": "stream",
     "text": [
      "Epoch 14 - Average training loss: 1.86, Average training accuracy: 0.39\n",
      "Epoch 14 - Average validation loss: 1.86, Average validation accuracy: 0.40\n",
      "Training epoch 15\n"
     ]
    },
    {
     "name": "stderr",
     "output_type": "stream",
     "text": [
      "Iteration: 100%|██████████████████████████████████████████████████████████████████████████████████████████████████████████| 188/188 [00:14<00:00, 12.83it/s]\n"
     ]
    },
    {
     "name": "stdout",
     "output_type": "stream",
     "text": [
      "Epoch 15 - Average training loss: 1.85, Average training accuracy: 0.38\n",
      "Epoch 15 - Average validation loss: 1.85, Average validation accuracy: 0.41\n",
      "Training epoch 16\n"
     ]
    },
    {
     "name": "stderr",
     "output_type": "stream",
     "text": [
      "Iteration: 100%|██████████████████████████████████████████████████████████████████████████████████████████████████████████| 188/188 [00:14<00:00, 12.85it/s]\n"
     ]
    },
    {
     "name": "stdout",
     "output_type": "stream",
     "text": [
      "Epoch 16 - Average training loss: 1.84, Average training accuracy: 0.38\n",
      "Epoch 16 - Average validation loss: 1.84, Average validation accuracy: 0.41\n",
      "Training epoch 17\n"
     ]
    },
    {
     "name": "stderr",
     "output_type": "stream",
     "text": [
      "Iteration: 100%|██████████████████████████████████████████████████████████████████████████████████████████████████████████| 188/188 [00:14<00:00, 12.85it/s]\n"
     ]
    },
    {
     "name": "stdout",
     "output_type": "stream",
     "text": [
      "Epoch 17 - Average training loss: 1.83, Average training accuracy: 0.39\n",
      "Epoch 17 - Average validation loss: 1.83, Average validation accuracy: 0.42\n",
      "Training epoch 18\n"
     ]
    },
    {
     "name": "stderr",
     "output_type": "stream",
     "text": [
      "Iteration: 100%|██████████████████████████████████████████████████████████████████████████████████████████████████████████| 188/188 [00:14<00:00, 12.84it/s]\n"
     ]
    },
    {
     "name": "stdout",
     "output_type": "stream",
     "text": [
      "Epoch 18 - Average training loss: 1.83, Average training accuracy: 0.40\n",
      "Epoch 18 - Average validation loss: 1.83, Average validation accuracy: 0.42\n",
      "Training epoch 19\n"
     ]
    },
    {
     "name": "stderr",
     "output_type": "stream",
     "text": [
      "Iteration: 100%|██████████████████████████████████████████████████████████████████████████████████████████████████████████| 188/188 [00:14<00:00, 12.85it/s]\n"
     ]
    },
    {
     "name": "stdout",
     "output_type": "stream",
     "text": [
      "Epoch 19 - Average training loss: 1.82, Average training accuracy: 0.42\n",
      "Epoch 19 - Average validation loss: 1.82, Average validation accuracy: 0.43\n",
      "Training epoch 20\n"
     ]
    },
    {
     "name": "stderr",
     "output_type": "stream",
     "text": [
      "Iteration: 100%|██████████████████████████████████████████████████████████████████████████████████████████████████████████| 188/188 [00:14<00:00, 12.81it/s]\n"
     ]
    },
    {
     "name": "stdout",
     "output_type": "stream",
     "text": [
      "Epoch 20 - Average training loss: 1.81, Average training accuracy: 0.42\n",
      "Epoch 20 - Average validation loss: 1.81, Average validation accuracy: 0.41\n",
      "Training epoch 21\n"
     ]
    },
    {
     "name": "stderr",
     "output_type": "stream",
     "text": [
      "Iteration: 100%|██████████████████████████████████████████████████████████████████████████████████████████████████████████| 188/188 [00:14<00:00, 12.85it/s]\n"
     ]
    },
    {
     "name": "stdout",
     "output_type": "stream",
     "text": [
      "Epoch 21 - Average training loss: 1.80, Average training accuracy: 0.41\n",
      "Epoch 21 - Average validation loss: 1.81, Average validation accuracy: 0.44\n",
      "Training epoch 22\n"
     ]
    },
    {
     "name": "stderr",
     "output_type": "stream",
     "text": [
      "Iteration: 100%|██████████████████████████████████████████████████████████████████████████████████████████████████████████| 188/188 [00:14<00:00, 12.86it/s]\n"
     ]
    },
    {
     "name": "stdout",
     "output_type": "stream",
     "text": [
      "Epoch 22 - Average training loss: 1.79, Average training accuracy: 0.42\n",
      "Epoch 22 - Average validation loss: 1.80, Average validation accuracy: 0.44\n",
      "Training epoch 23\n"
     ]
    },
    {
     "name": "stderr",
     "output_type": "stream",
     "text": [
      "Iteration: 100%|██████████████████████████████████████████████████████████████████████████████████████████████████████████| 188/188 [00:14<00:00, 12.84it/s]\n"
     ]
    },
    {
     "name": "stdout",
     "output_type": "stream",
     "text": [
      "Epoch 23 - Average training loss: 1.79, Average training accuracy: 0.43\n",
      "Epoch 23 - Average validation loss: 1.79, Average validation accuracy: 0.43\n",
      "Training epoch 24\n"
     ]
    },
    {
     "name": "stderr",
     "output_type": "stream",
     "text": [
      "Iteration: 100%|██████████████████████████████████████████████████████████████████████████████████████████████████████████| 188/188 [00:14<00:00, 12.84it/s]\n"
     ]
    },
    {
     "name": "stdout",
     "output_type": "stream",
     "text": [
      "Epoch 24 - Average training loss: 1.78, Average training accuracy: 0.43\n",
      "Epoch 24 - Average validation loss: 1.79, Average validation accuracy: 0.45\n",
      "Training epoch 25\n"
     ]
    },
    {
     "name": "stderr",
     "output_type": "stream",
     "text": [
      "Iteration: 100%|██████████████████████████████████████████████████████████████████████████████████████████████████████████| 188/188 [00:14<00:00, 12.83it/s]\n"
     ]
    },
    {
     "name": "stdout",
     "output_type": "stream",
     "text": [
      "Epoch 25 - Average training loss: 1.79, Average training accuracy: 0.43\n",
      "Epoch 25 - Average validation loss: 1.78, Average validation accuracy: 0.45\n",
      "Training epoch 26\n"
     ]
    },
    {
     "name": "stderr",
     "output_type": "stream",
     "text": [
      "Iteration: 100%|██████████████████████████████████████████████████████████████████████████████████████████████████████████| 188/188 [00:14<00:00, 12.83it/s]\n"
     ]
    },
    {
     "name": "stdout",
     "output_type": "stream",
     "text": [
      "Epoch 26 - Average training loss: 1.78, Average training accuracy: 0.44\n",
      "Epoch 26 - Average validation loss: 1.78, Average validation accuracy: 0.45\n",
      "Training epoch 27\n"
     ]
    },
    {
     "name": "stderr",
     "output_type": "stream",
     "text": [
      "Iteration: 100%|██████████████████████████████████████████████████████████████████████████████████████████████████████████| 188/188 [00:14<00:00, 12.83it/s]\n"
     ]
    },
    {
     "name": "stdout",
     "output_type": "stream",
     "text": [
      "Epoch 27 - Average training loss: 1.77, Average training accuracy: 0.44\n",
      "Epoch 27 - Average validation loss: 1.77, Average validation accuracy: 0.46\n",
      "Training epoch 28\n"
     ]
    },
    {
     "name": "stderr",
     "output_type": "stream",
     "text": [
      "Iteration: 100%|██████████████████████████████████████████████████████████████████████████████████████████████████████████| 188/188 [00:14<00:00, 12.84it/s]\n"
     ]
    },
    {
     "name": "stdout",
     "output_type": "stream",
     "text": [
      "Epoch 28 - Average training loss: 1.76, Average training accuracy: 0.46\n",
      "Epoch 28 - Average validation loss: 1.77, Average validation accuracy: 0.45\n",
      "Training epoch 29\n"
     ]
    },
    {
     "name": "stderr",
     "output_type": "stream",
     "text": [
      "Iteration: 100%|██████████████████████████████████████████████████████████████████████████████████████████████████████████| 188/188 [00:14<00:00, 12.90it/s]\n"
     ]
    },
    {
     "name": "stdout",
     "output_type": "stream",
     "text": [
      "Epoch 29 - Average training loss: 1.75, Average training accuracy: 0.45\n",
      "Epoch 29 - Average validation loss: 1.76, Average validation accuracy: 0.45\n",
      "Training epoch 30\n"
     ]
    },
    {
     "name": "stderr",
     "output_type": "stream",
     "text": [
      "Iteration: 100%|██████████████████████████████████████████████████████████████████████████████████████████████████████████| 188/188 [00:14<00:00, 12.84it/s]\n"
     ]
    },
    {
     "name": "stdout",
     "output_type": "stream",
     "text": [
      "Epoch 30 - Average training loss: 1.75, Average training accuracy: 0.45\n",
      "Epoch 30 - Average validation loss: 1.75, Average validation accuracy: 0.47\n",
      "Training epoch 31\n"
     ]
    },
    {
     "name": "stderr",
     "output_type": "stream",
     "text": [
      "Iteration: 100%|██████████████████████████████████████████████████████████████████████████████████████████████████████████| 188/188 [00:14<00:00, 12.84it/s]\n"
     ]
    },
    {
     "name": "stdout",
     "output_type": "stream",
     "text": [
      "Epoch 31 - Average training loss: 1.75, Average training accuracy: 0.45\n",
      "Epoch 31 - Average validation loss: 1.75, Average validation accuracy: 0.46\n",
      "Training epoch 32\n"
     ]
    },
    {
     "name": "stderr",
     "output_type": "stream",
     "text": [
      "Iteration: 100%|██████████████████████████████████████████████████████████████████████████████████████████████████████████| 188/188 [00:14<00:00, 12.84it/s]\n"
     ]
    },
    {
     "name": "stdout",
     "output_type": "stream",
     "text": [
      "Epoch 32 - Average training loss: 1.74, Average training accuracy: 0.45\n",
      "Epoch 32 - Average validation loss: 1.74, Average validation accuracy: 0.46\n",
      "Training epoch 33\n"
     ]
    },
    {
     "name": "stderr",
     "output_type": "stream",
     "text": [
      "Iteration: 100%|██████████████████████████████████████████████████████████████████████████████████████████████████████████| 188/188 [00:14<00:00, 12.85it/s]\n"
     ]
    },
    {
     "name": "stdout",
     "output_type": "stream",
     "text": [
      "Epoch 33 - Average training loss: 1.73, Average training accuracy: 0.46\n",
      "Epoch 33 - Average validation loss: 1.74, Average validation accuracy: 0.46\n",
      "Training epoch 34\n"
     ]
    },
    {
     "name": "stderr",
     "output_type": "stream",
     "text": [
      "Iteration: 100%|██████████████████████████████████████████████████████████████████████████████████████████████████████████| 188/188 [00:14<00:00, 12.85it/s]\n"
     ]
    },
    {
     "name": "stdout",
     "output_type": "stream",
     "text": [
      "Epoch 34 - Average training loss: 1.73, Average training accuracy: 0.46\n",
      "Epoch 34 - Average validation loss: 1.73, Average validation accuracy: 0.48\n",
      "Training epoch 35\n"
     ]
    },
    {
     "name": "stderr",
     "output_type": "stream",
     "text": [
      "Iteration: 100%|██████████████████████████████████████████████████████████████████████████████████████████████████████████| 188/188 [00:14<00:00, 12.85it/s]\n"
     ]
    },
    {
     "name": "stdout",
     "output_type": "stream",
     "text": [
      "Epoch 35 - Average training loss: 1.73, Average training accuracy: 0.47\n",
      "Epoch 35 - Average validation loss: 1.73, Average validation accuracy: 0.47\n",
      "Training epoch 36\n"
     ]
    },
    {
     "name": "stderr",
     "output_type": "stream",
     "text": [
      "Iteration: 100%|██████████████████████████████████████████████████████████████████████████████████████████████████████████| 188/188 [00:15<00:00, 12.14it/s]\n"
     ]
    },
    {
     "name": "stdout",
     "output_type": "stream",
     "text": [
      "Epoch 36 - Average training loss: 1.72, Average training accuracy: 0.46\n",
      "Epoch 36 - Average validation loss: 1.72, Average validation accuracy: 0.48\n",
      "Training epoch 37\n"
     ]
    },
    {
     "name": "stderr",
     "output_type": "stream",
     "text": [
      "Iteration: 100%|██████████████████████████████████████████████████████████████████████████████████████████████████████████| 188/188 [00:14<00:00, 12.84it/s]\n"
     ]
    },
    {
     "name": "stdout",
     "output_type": "stream",
     "text": [
      "Epoch 37 - Average training loss: 1.72, Average training accuracy: 0.46\n",
      "Epoch 37 - Average validation loss: 1.72, Average validation accuracy: 0.47\n",
      "Training epoch 38\n"
     ]
    },
    {
     "name": "stderr",
     "output_type": "stream",
     "text": [
      "Iteration: 100%|██████████████████████████████████████████████████████████████████████████████████████████████████████████| 188/188 [00:14<00:00, 12.83it/s]\n"
     ]
    },
    {
     "name": "stdout",
     "output_type": "stream",
     "text": [
      "Epoch 38 - Average training loss: 1.70, Average training accuracy: 0.47\n",
      "Epoch 38 - Average validation loss: 1.72, Average validation accuracy: 0.48\n",
      "Training epoch 39\n"
     ]
    },
    {
     "name": "stderr",
     "output_type": "stream",
     "text": [
      "Iteration: 100%|██████████████████████████████████████████████████████████████████████████████████████████████████████████| 188/188 [00:14<00:00, 12.78it/s]\n"
     ]
    },
    {
     "name": "stdout",
     "output_type": "stream",
     "text": [
      "Epoch 39 - Average training loss: 1.71, Average training accuracy: 0.47\n",
      "Epoch 39 - Average validation loss: 1.71, Average validation accuracy: 0.49\n",
      "Training epoch 40\n"
     ]
    },
    {
     "name": "stderr",
     "output_type": "stream",
     "text": [
      "Iteration: 100%|██████████████████████████████████████████████████████████████████████████████████████████████████████████| 188/188 [00:14<00:00, 12.85it/s]\n"
     ]
    },
    {
     "name": "stdout",
     "output_type": "stream",
     "text": [
      "Epoch 40 - Average training loss: 1.70, Average training accuracy: 0.47\n",
      "Epoch 40 - Average validation loss: 1.71, Average validation accuracy: 0.48\n",
      "Training epoch 41\n"
     ]
    },
    {
     "name": "stderr",
     "output_type": "stream",
     "text": [
      "Iteration: 100%|██████████████████████████████████████████████████████████████████████████████████████████████████████████| 188/188 [00:14<00:00, 12.85it/s]\n"
     ]
    },
    {
     "name": "stdout",
     "output_type": "stream",
     "text": [
      "Epoch 41 - Average training loss: 1.70, Average training accuracy: 0.47\n",
      "Epoch 41 - Average validation loss: 1.71, Average validation accuracy: 0.49\n",
      "Training epoch 42\n"
     ]
    },
    {
     "name": "stderr",
     "output_type": "stream",
     "text": [
      "Iteration: 100%|██████████████████████████████████████████████████████████████████████████████████████████████████████████| 188/188 [00:14<00:00, 12.83it/s]\n"
     ]
    },
    {
     "name": "stdout",
     "output_type": "stream",
     "text": [
      "Epoch 42 - Average training loss: 1.70, Average training accuracy: 0.47\n",
      "Epoch 42 - Average validation loss: 1.70, Average validation accuracy: 0.49\n",
      "Training epoch 43\n"
     ]
    },
    {
     "name": "stderr",
     "output_type": "stream",
     "text": [
      "Iteration: 100%|██████████████████████████████████████████████████████████████████████████████████████████████████████████| 188/188 [00:14<00:00, 12.80it/s]\n"
     ]
    },
    {
     "name": "stdout",
     "output_type": "stream",
     "text": [
      "Epoch 43 - Average training loss: 1.69, Average training accuracy: 0.46\n",
      "Epoch 43 - Average validation loss: 1.70, Average validation accuracy: 0.49\n",
      "Training epoch 44\n"
     ]
    },
    {
     "name": "stderr",
     "output_type": "stream",
     "text": [
      "Iteration: 100%|██████████████████████████████████████████████████████████████████████████████████████████████████████████| 188/188 [00:14<00:00, 12.82it/s]\n"
     ]
    },
    {
     "name": "stdout",
     "output_type": "stream",
     "text": [
      "Epoch 44 - Average training loss: 1.69, Average training accuracy: 0.47\n",
      "Epoch 44 - Average validation loss: 1.69, Average validation accuracy: 0.49\n",
      "Training epoch 45\n"
     ]
    },
    {
     "name": "stderr",
     "output_type": "stream",
     "text": [
      "Iteration: 100%|██████████████████████████████████████████████████████████████████████████████████████████████████████████| 188/188 [00:14<00:00, 12.83it/s]\n"
     ]
    },
    {
     "name": "stdout",
     "output_type": "stream",
     "text": [
      "Epoch 45 - Average training loss: 1.69, Average training accuracy: 0.47\n",
      "Epoch 45 - Average validation loss: 1.69, Average validation accuracy: 0.49\n",
      "Training epoch 46\n"
     ]
    },
    {
     "name": "stderr",
     "output_type": "stream",
     "text": [
      "Iteration: 100%|██████████████████████████████████████████████████████████████████████████████████████████████████████████| 188/188 [00:14<00:00, 12.85it/s]\n"
     ]
    },
    {
     "name": "stdout",
     "output_type": "stream",
     "text": [
      "Epoch 46 - Average training loss: 1.68, Average training accuracy: 0.47\n",
      "Epoch 46 - Average validation loss: 1.69, Average validation accuracy: 0.49\n",
      "Training epoch 47\n"
     ]
    },
    {
     "name": "stderr",
     "output_type": "stream",
     "text": [
      "Iteration: 100%|██████████████████████████████████████████████████████████████████████████████████████████████████████████| 188/188 [00:14<00:00, 12.81it/s]\n"
     ]
    },
    {
     "name": "stdout",
     "output_type": "stream",
     "text": [
      "Epoch 47 - Average training loss: 1.68, Average training accuracy: 0.47\n",
      "Epoch 47 - Average validation loss: 1.68, Average validation accuracy: 0.50\n",
      "Training epoch 48\n"
     ]
    },
    {
     "name": "stderr",
     "output_type": "stream",
     "text": [
      "Iteration: 100%|██████████████████████████████████████████████████████████████████████████████████████████████████████████| 188/188 [00:14<00:00, 12.85it/s]\n"
     ]
    },
    {
     "name": "stdout",
     "output_type": "stream",
     "text": [
      "Epoch 48 - Average training loss: 1.68, Average training accuracy: 0.47\n",
      "Epoch 48 - Average validation loss: 1.68, Average validation accuracy: 0.50\n",
      "Training epoch 49\n"
     ]
    },
    {
     "name": "stderr",
     "output_type": "stream",
     "text": [
      "Iteration: 100%|██████████████████████████████████████████████████████████████████████████████████████████████████████████| 188/188 [00:14<00:00, 12.81it/s]\n"
     ]
    },
    {
     "name": "stdout",
     "output_type": "stream",
     "text": [
      "Epoch 49 - Average training loss: 1.67, Average training accuracy: 0.48\n",
      "Epoch 49 - Average validation loss: 1.68, Average validation accuracy: 0.50\n",
      "Training epoch 50\n"
     ]
    },
    {
     "name": "stderr",
     "output_type": "stream",
     "text": [
      "Iteration: 100%|██████████████████████████████████████████████████████████████████████████████████████████████████████████| 188/188 [00:14<00:00, 12.83it/s]\n"
     ]
    },
    {
     "name": "stdout",
     "output_type": "stream",
     "text": [
      "Epoch 50 - Average training loss: 1.67, Average training accuracy: 0.48\n",
      "Epoch 50 - Average validation loss: 1.68, Average validation accuracy: 0.50\n",
      "Training epoch 51\n"
     ]
    },
    {
     "name": "stderr",
     "output_type": "stream",
     "text": [
      "Iteration: 100%|██████████████████████████████████████████████████████████████████████████████████████████████████████████| 188/188 [00:14<00:00, 12.83it/s]\n"
     ]
    },
    {
     "name": "stdout",
     "output_type": "stream",
     "text": [
      "Epoch 51 - Average training loss: 1.67, Average training accuracy: 0.48\n",
      "Epoch 51 - Average validation loss: 1.67, Average validation accuracy: 0.50\n",
      "Training epoch 52\n"
     ]
    },
    {
     "name": "stderr",
     "output_type": "stream",
     "text": [
      "Iteration: 100%|██████████████████████████████████████████████████████████████████████████████████████████████████████████| 188/188 [00:14<00:00, 12.75it/s]\n"
     ]
    },
    {
     "name": "stdout",
     "output_type": "stream",
     "text": [
      "Epoch 52 - Average training loss: 1.67, Average training accuracy: 0.48\n",
      "Epoch 52 - Average validation loss: 1.67, Average validation accuracy: 0.50\n",
      "Training epoch 53\n"
     ]
    },
    {
     "name": "stderr",
     "output_type": "stream",
     "text": [
      "Iteration: 100%|██████████████████████████████████████████████████████████████████████████████████████████████████████████| 188/188 [00:14<00:00, 12.84it/s]\n"
     ]
    },
    {
     "name": "stdout",
     "output_type": "stream",
     "text": [
      "Epoch 53 - Average training loss: 1.67, Average training accuracy: 0.47\n",
      "Epoch 53 - Average validation loss: 1.67, Average validation accuracy: 0.50\n",
      "Training epoch 54\n"
     ]
    },
    {
     "name": "stderr",
     "output_type": "stream",
     "text": [
      "Iteration: 100%|██████████████████████████████████████████████████████████████████████████████████████████████████████████| 188/188 [00:14<00:00, 12.85it/s]\n"
     ]
    },
    {
     "name": "stdout",
     "output_type": "stream",
     "text": [
      "Epoch 54 - Average training loss: 1.67, Average training accuracy: 0.49\n",
      "Epoch 54 - Average validation loss: 1.66, Average validation accuracy: 0.50\n",
      "Training epoch 55\n"
     ]
    },
    {
     "name": "stderr",
     "output_type": "stream",
     "text": [
      "Iteration: 100%|██████████████████████████████████████████████████████████████████████████████████████████████████████████| 188/188 [00:14<00:00, 12.84it/s]\n"
     ]
    },
    {
     "name": "stdout",
     "output_type": "stream",
     "text": [
      "Epoch 55 - Average training loss: 1.66, Average training accuracy: 0.48\n",
      "Epoch 55 - Average validation loss: 1.66, Average validation accuracy: 0.50\n",
      "Training epoch 56\n"
     ]
    },
    {
     "name": "stderr",
     "output_type": "stream",
     "text": [
      "Iteration: 100%|██████████████████████████████████████████████████████████████████████████████████████████████████████████| 188/188 [00:14<00:00, 12.79it/s]\n"
     ]
    },
    {
     "name": "stdout",
     "output_type": "stream",
     "text": [
      "Epoch 56 - Average training loss: 1.66, Average training accuracy: 0.48\n",
      "Epoch 56 - Average validation loss: 1.66, Average validation accuracy: 0.50\n",
      "Training epoch 57\n"
     ]
    },
    {
     "name": "stderr",
     "output_type": "stream",
     "text": [
      "Iteration: 100%|██████████████████████████████████████████████████████████████████████████████████████████████████████████| 188/188 [00:14<00:00, 12.83it/s]\n"
     ]
    },
    {
     "name": "stdout",
     "output_type": "stream",
     "text": [
      "Epoch 57 - Average training loss: 1.67, Average training accuracy: 0.47\n",
      "Epoch 57 - Average validation loss: 1.66, Average validation accuracy: 0.51\n",
      "Training epoch 58\n"
     ]
    },
    {
     "name": "stderr",
     "output_type": "stream",
     "text": [
      "Iteration: 100%|██████████████████████████████████████████████████████████████████████████████████████████████████████████| 188/188 [00:14<00:00, 12.85it/s]\n"
     ]
    },
    {
     "name": "stdout",
     "output_type": "stream",
     "text": [
      "Epoch 58 - Average training loss: 1.65, Average training accuracy: 0.49\n",
      "Epoch 58 - Average validation loss: 1.65, Average validation accuracy: 0.50\n",
      "Training epoch 59\n"
     ]
    },
    {
     "name": "stderr",
     "output_type": "stream",
     "text": [
      "Iteration: 100%|██████████████████████████████████████████████████████████████████████████████████████████████████████████| 188/188 [00:14<00:00, 12.84it/s]\n"
     ]
    },
    {
     "name": "stdout",
     "output_type": "stream",
     "text": [
      "Epoch 59 - Average training loss: 1.64, Average training accuracy: 0.49\n",
      "Epoch 59 - Average validation loss: 1.65, Average validation accuracy: 0.51\n",
      "Training epoch 60\n"
     ]
    },
    {
     "name": "stderr",
     "output_type": "stream",
     "text": [
      "Iteration: 100%|██████████████████████████████████████████████████████████████████████████████████████████████████████████| 188/188 [00:14<00:00, 12.85it/s]\n"
     ]
    },
    {
     "name": "stdout",
     "output_type": "stream",
     "text": [
      "Epoch 60 - Average training loss: 1.66, Average training accuracy: 0.48\n",
      "Epoch 60 - Average validation loss: 1.65, Average validation accuracy: 0.51\n",
      "Training epoch 61\n"
     ]
    },
    {
     "name": "stderr",
     "output_type": "stream",
     "text": [
      "Iteration: 100%|██████████████████████████████████████████████████████████████████████████████████████████████████████████| 188/188 [00:14<00:00, 12.84it/s]\n"
     ]
    },
    {
     "name": "stdout",
     "output_type": "stream",
     "text": [
      "Epoch 61 - Average training loss: 1.64, Average training accuracy: 0.48\n",
      "Epoch 61 - Average validation loss: 1.65, Average validation accuracy: 0.50\n",
      "Training epoch 62\n"
     ]
    },
    {
     "name": "stderr",
     "output_type": "stream",
     "text": [
      "Iteration: 100%|██████████████████████████████████████████████████████████████████████████████████████████████████████████| 188/188 [00:14<00:00, 12.81it/s]\n"
     ]
    },
    {
     "name": "stdout",
     "output_type": "stream",
     "text": [
      "Epoch 62 - Average training loss: 1.64, Average training accuracy: 0.48\n",
      "Epoch 62 - Average validation loss: 1.65, Average validation accuracy: 0.50\n",
      "Training epoch 63\n"
     ]
    },
    {
     "name": "stderr",
     "output_type": "stream",
     "text": [
      "Iteration: 100%|██████████████████████████████████████████████████████████████████████████████████████████████████████████| 188/188 [00:14<00:00, 12.84it/s]\n"
     ]
    },
    {
     "name": "stdout",
     "output_type": "stream",
     "text": [
      "Epoch 63 - Average training loss: 1.64, Average training accuracy: 0.48\n",
      "Epoch 63 - Average validation loss: 1.64, Average validation accuracy: 0.50\n",
      "Training epoch 64\n"
     ]
    },
    {
     "name": "stderr",
     "output_type": "stream",
     "text": [
      "Iteration: 100%|██████████████████████████████████████████████████████████████████████████████████████████████████████████| 188/188 [00:14<00:00, 12.84it/s]\n"
     ]
    },
    {
     "name": "stdout",
     "output_type": "stream",
     "text": [
      "Epoch 64 - Average training loss: 1.64, Average training accuracy: 0.48\n",
      "Epoch 64 - Average validation loss: 1.64, Average validation accuracy: 0.50\n",
      "Training epoch 65\n"
     ]
    },
    {
     "name": "stderr",
     "output_type": "stream",
     "text": [
      "Iteration: 100%|██████████████████████████████████████████████████████████████████████████████████████████████████████████| 188/188 [00:14<00:00, 12.84it/s]\n"
     ]
    },
    {
     "name": "stdout",
     "output_type": "stream",
     "text": [
      "Epoch 65 - Average training loss: 1.64, Average training accuracy: 0.48\n",
      "Epoch 65 - Average validation loss: 1.64, Average validation accuracy: 0.51\n",
      "Training epoch 66\n"
     ]
    },
    {
     "name": "stderr",
     "output_type": "stream",
     "text": [
      "Iteration: 100%|██████████████████████████████████████████████████████████████████████████████████████████████████████████| 188/188 [00:14<00:00, 12.84it/s]\n"
     ]
    },
    {
     "name": "stdout",
     "output_type": "stream",
     "text": [
      "Epoch 66 - Average training loss: 1.63, Average training accuracy: 0.49\n",
      "Epoch 66 - Average validation loss: 1.64, Average validation accuracy: 0.51\n",
      "Training epoch 67\n"
     ]
    },
    {
     "name": "stderr",
     "output_type": "stream",
     "text": [
      "Iteration: 100%|██████████████████████████████████████████████████████████████████████████████████████████████████████████| 188/188 [00:14<00:00, 12.85it/s]\n"
     ]
    },
    {
     "name": "stdout",
     "output_type": "stream",
     "text": [
      "Epoch 67 - Average training loss: 1.64, Average training accuracy: 0.48\n",
      "Epoch 67 - Average validation loss: 1.64, Average validation accuracy: 0.51\n",
      "Training epoch 68\n"
     ]
    },
    {
     "name": "stderr",
     "output_type": "stream",
     "text": [
      "Iteration: 100%|██████████████████████████████████████████████████████████████████████████████████████████████████████████| 188/188 [00:14<00:00, 12.85it/s]\n"
     ]
    },
    {
     "name": "stdout",
     "output_type": "stream",
     "text": [
      "Epoch 68 - Average training loss: 1.63, Average training accuracy: 0.49\n",
      "Epoch 68 - Average validation loss: 1.64, Average validation accuracy: 0.51\n",
      "Training epoch 69\n"
     ]
    },
    {
     "name": "stderr",
     "output_type": "stream",
     "text": [
      "Iteration: 100%|██████████████████████████████████████████████████████████████████████████████████████████████████████████| 188/188 [00:14<00:00, 12.84it/s]\n"
     ]
    },
    {
     "name": "stdout",
     "output_type": "stream",
     "text": [
      "Epoch 69 - Average training loss: 1.63, Average training accuracy: 0.50\n",
      "Epoch 69 - Average validation loss: 1.63, Average validation accuracy: 0.51\n",
      "Training epoch 70\n"
     ]
    },
    {
     "name": "stderr",
     "output_type": "stream",
     "text": [
      "Iteration: 100%|██████████████████████████████████████████████████████████████████████████████████████████████████████████| 188/188 [00:14<00:00, 12.84it/s]\n"
     ]
    },
    {
     "name": "stdout",
     "output_type": "stream",
     "text": [
      "Epoch 70 - Average training loss: 1.63, Average training accuracy: 0.49\n",
      "Epoch 70 - Average validation loss: 1.63, Average validation accuracy: 0.50\n",
      "Training epoch 71\n"
     ]
    },
    {
     "name": "stderr",
     "output_type": "stream",
     "text": [
      "Iteration: 100%|██████████████████████████████████████████████████████████████████████████████████████████████████████████| 188/188 [00:14<00:00, 12.86it/s]\n"
     ]
    },
    {
     "name": "stdout",
     "output_type": "stream",
     "text": [
      "Epoch 71 - Average training loss: 1.63, Average training accuracy: 0.49\n",
      "Epoch 71 - Average validation loss: 1.63, Average validation accuracy: 0.51\n",
      "Training epoch 72\n"
     ]
    },
    {
     "name": "stderr",
     "output_type": "stream",
     "text": [
      "Iteration: 100%|██████████████████████████████████████████████████████████████████████████████████████████████████████████| 188/188 [00:14<00:00, 12.85it/s]\n"
     ]
    },
    {
     "name": "stdout",
     "output_type": "stream",
     "text": [
      "Epoch 72 - Average training loss: 1.63, Average training accuracy: 0.49\n",
      "Epoch 72 - Average validation loss: 1.63, Average validation accuracy: 0.51\n",
      "Training epoch 73\n"
     ]
    },
    {
     "name": "stderr",
     "output_type": "stream",
     "text": [
      "Iteration: 100%|██████████████████████████████████████████████████████████████████████████████████████████████████████████| 188/188 [00:14<00:00, 12.80it/s]\n"
     ]
    },
    {
     "name": "stdout",
     "output_type": "stream",
     "text": [
      "Epoch 73 - Average training loss: 1.62, Average training accuracy: 0.49\n",
      "Epoch 73 - Average validation loss: 1.63, Average validation accuracy: 0.51\n",
      "Training epoch 74\n"
     ]
    },
    {
     "name": "stderr",
     "output_type": "stream",
     "text": [
      "Iteration: 100%|██████████████████████████████████████████████████████████████████████████████████████████████████████████| 188/188 [00:14<00:00, 12.85it/s]\n"
     ]
    },
    {
     "name": "stdout",
     "output_type": "stream",
     "text": [
      "Epoch 74 - Average training loss: 1.63, Average training accuracy: 0.49\n",
      "Epoch 74 - Average validation loss: 1.63, Average validation accuracy: 0.51\n",
      "Training epoch 75\n"
     ]
    },
    {
     "name": "stderr",
     "output_type": "stream",
     "text": [
      "Iteration: 100%|██████████████████████████████████████████████████████████████████████████████████████████████████████████| 188/188 [00:14<00:00, 12.84it/s]\n"
     ]
    },
    {
     "name": "stdout",
     "output_type": "stream",
     "text": [
      "Epoch 75 - Average training loss: 1.62, Average training accuracy: 0.50\n",
      "Epoch 75 - Average validation loss: 1.62, Average validation accuracy: 0.51\n",
      "Training epoch 76\n"
     ]
    },
    {
     "name": "stderr",
     "output_type": "stream",
     "text": [
      "Iteration: 100%|██████████████████████████████████████████████████████████████████████████████████████████████████████████| 188/188 [00:14<00:00, 12.84it/s]\n"
     ]
    },
    {
     "name": "stdout",
     "output_type": "stream",
     "text": [
      "Epoch 76 - Average training loss: 1.62, Average training accuracy: 0.49\n",
      "Epoch 76 - Average validation loss: 1.62, Average validation accuracy: 0.51\n",
      "Training epoch 77\n"
     ]
    },
    {
     "name": "stderr",
     "output_type": "stream",
     "text": [
      "Iteration: 100%|██████████████████████████████████████████████████████████████████████████████████████████████████████████| 188/188 [00:14<00:00, 12.85it/s]\n"
     ]
    },
    {
     "name": "stdout",
     "output_type": "stream",
     "text": [
      "Epoch 77 - Average training loss: 1.61, Average training accuracy: 0.49\n",
      "Epoch 77 - Average validation loss: 1.62, Average validation accuracy: 0.51\n",
      "Training epoch 78\n"
     ]
    },
    {
     "name": "stderr",
     "output_type": "stream",
     "text": [
      "Iteration: 100%|██████████████████████████████████████████████████████████████████████████████████████████████████████████| 188/188 [00:14<00:00, 12.85it/s]\n"
     ]
    },
    {
     "name": "stdout",
     "output_type": "stream",
     "text": [
      "Epoch 78 - Average training loss: 1.62, Average training accuracy: 0.49\n",
      "Epoch 78 - Average validation loss: 1.62, Average validation accuracy: 0.51\n",
      "Training epoch 79\n"
     ]
    },
    {
     "name": "stderr",
     "output_type": "stream",
     "text": [
      "Iteration: 100%|██████████████████████████████████████████████████████████████████████████████████████████████████████████| 188/188 [00:15<00:00, 11.96it/s]\n"
     ]
    },
    {
     "name": "stdout",
     "output_type": "stream",
     "text": [
      "Epoch 79 - Average training loss: 1.62, Average training accuracy: 0.49\n",
      "Epoch 79 - Average validation loss: 1.62, Average validation accuracy: 0.51\n",
      "Training epoch 80\n"
     ]
    },
    {
     "name": "stderr",
     "output_type": "stream",
     "text": [
      "Iteration: 100%|██████████████████████████████████████████████████████████████████████████████████████████████████████████| 188/188 [00:14<00:00, 12.84it/s]\n"
     ]
    },
    {
     "name": "stdout",
     "output_type": "stream",
     "text": [
      "Epoch 80 - Average training loss: 1.61, Average training accuracy: 0.49\n",
      "Epoch 80 - Average validation loss: 1.62, Average validation accuracy: 0.51\n",
      "Training epoch 81\n"
     ]
    },
    {
     "name": "stderr",
     "output_type": "stream",
     "text": [
      "Iteration: 100%|██████████████████████████████████████████████████████████████████████████████████████████████████████████| 188/188 [00:14<00:00, 12.84it/s]\n"
     ]
    },
    {
     "name": "stdout",
     "output_type": "stream",
     "text": [
      "Epoch 81 - Average training loss: 1.61, Average training accuracy: 0.49\n",
      "Epoch 81 - Average validation loss: 1.62, Average validation accuracy: 0.51\n",
      "Training epoch 82\n"
     ]
    },
    {
     "name": "stderr",
     "output_type": "stream",
     "text": [
      "Iteration: 100%|██████████████████████████████████████████████████████████████████████████████████████████████████████████| 188/188 [00:14<00:00, 12.83it/s]\n"
     ]
    },
    {
     "name": "stdout",
     "output_type": "stream",
     "text": [
      "Epoch 82 - Average training loss: 1.62, Average training accuracy: 0.49\n",
      "Epoch 82 - Average validation loss: 1.62, Average validation accuracy: 0.51\n",
      "Training epoch 83\n"
     ]
    },
    {
     "name": "stderr",
     "output_type": "stream",
     "text": [
      "Iteration: 100%|██████████████████████████████████████████████████████████████████████████████████████████████████████████| 188/188 [00:14<00:00, 12.85it/s]\n"
     ]
    },
    {
     "name": "stdout",
     "output_type": "stream",
     "text": [
      "Epoch 83 - Average training loss: 1.61, Average training accuracy: 0.49\n",
      "Epoch 83 - Average validation loss: 1.62, Average validation accuracy: 0.51\n",
      "Training epoch 84\n"
     ]
    },
    {
     "name": "stderr",
     "output_type": "stream",
     "text": [
      "Iteration: 100%|██████████████████████████████████████████████████████████████████████████████████████████████████████████| 188/188 [00:14<00:00, 12.82it/s]\n"
     ]
    },
    {
     "name": "stdout",
     "output_type": "stream",
     "text": [
      "Epoch 84 - Average training loss: 1.62, Average training accuracy: 0.50\n",
      "Epoch 84 - Average validation loss: 1.62, Average validation accuracy: 0.51\n",
      "Training epoch 85\n"
     ]
    },
    {
     "name": "stderr",
     "output_type": "stream",
     "text": [
      "Iteration: 100%|██████████████████████████████████████████████████████████████████████████████████████████████████████████| 188/188 [00:14<00:00, 12.82it/s]\n"
     ]
    },
    {
     "name": "stdout",
     "output_type": "stream",
     "text": [
      "Epoch 85 - Average training loss: 1.62, Average training accuracy: 0.49\n",
      "Epoch 85 - Average validation loss: 1.61, Average validation accuracy: 0.52\n",
      "Training epoch 86\n"
     ]
    },
    {
     "name": "stderr",
     "output_type": "stream",
     "text": [
      "Iteration: 100%|██████████████████████████████████████████████████████████████████████████████████████████████████████████| 188/188 [00:14<00:00, 12.84it/s]\n"
     ]
    },
    {
     "name": "stdout",
     "output_type": "stream",
     "text": [
      "Epoch 86 - Average training loss: 1.62, Average training accuracy: 0.49\n",
      "Epoch 86 - Average validation loss: 1.61, Average validation accuracy: 0.51\n",
      "Training epoch 87\n"
     ]
    },
    {
     "name": "stderr",
     "output_type": "stream",
     "text": [
      "Iteration: 100%|██████████████████████████████████████████████████████████████████████████████████████████████████████████| 188/188 [00:14<00:00, 12.84it/s]\n"
     ]
    },
    {
     "name": "stdout",
     "output_type": "stream",
     "text": [
      "Epoch 87 - Average training loss: 1.62, Average training accuracy: 0.50\n",
      "Epoch 87 - Average validation loss: 1.61, Average validation accuracy: 0.51\n",
      "Training epoch 88\n"
     ]
    },
    {
     "name": "stderr",
     "output_type": "stream",
     "text": [
      "Iteration: 100%|██████████████████████████████████████████████████████████████████████████████████████████████████████████| 188/188 [00:14<00:00, 12.84it/s]\n"
     ]
    },
    {
     "name": "stdout",
     "output_type": "stream",
     "text": [
      "Epoch 88 - Average training loss: 1.61, Average training accuracy: 0.50\n",
      "Epoch 88 - Average validation loss: 1.61, Average validation accuracy: 0.51\n",
      "Training epoch 89\n"
     ]
    },
    {
     "name": "stderr",
     "output_type": "stream",
     "text": [
      "Iteration: 100%|██████████████████████████████████████████████████████████████████████████████████████████████████████████| 188/188 [00:14<00:00, 12.84it/s]\n"
     ]
    },
    {
     "name": "stdout",
     "output_type": "stream",
     "text": [
      "Epoch 89 - Average training loss: 1.61, Average training accuracy: 0.49\n",
      "Epoch 89 - Average validation loss: 1.61, Average validation accuracy: 0.51\n",
      "Training epoch 90\n"
     ]
    },
    {
     "name": "stderr",
     "output_type": "stream",
     "text": [
      "Iteration: 100%|██████████████████████████████████████████████████████████████████████████████████████████████████████████| 188/188 [00:14<00:00, 12.84it/s]\n"
     ]
    },
    {
     "name": "stdout",
     "output_type": "stream",
     "text": [
      "Epoch 90 - Average training loss: 1.61, Average training accuracy: 0.50\n",
      "Epoch 90 - Average validation loss: 1.61, Average validation accuracy: 0.51\n",
      "Training epoch 91\n"
     ]
    },
    {
     "name": "stderr",
     "output_type": "stream",
     "text": [
      "Iteration: 100%|██████████████████████████████████████████████████████████████████████████████████████████████████████████| 188/188 [00:14<00:00, 12.84it/s]\n"
     ]
    },
    {
     "name": "stdout",
     "output_type": "stream",
     "text": [
      "Epoch 91 - Average training loss: 1.62, Average training accuracy: 0.50\n",
      "Epoch 91 - Average validation loss: 1.61, Average validation accuracy: 0.52\n",
      "Training epoch 92\n"
     ]
    },
    {
     "name": "stderr",
     "output_type": "stream",
     "text": [
      "Iteration: 100%|██████████████████████████████████████████████████████████████████████████████████████████████████████████| 188/188 [00:14<00:00, 12.84it/s]\n"
     ]
    },
    {
     "name": "stdout",
     "output_type": "stream",
     "text": [
      "Epoch 92 - Average training loss: 1.61, Average training accuracy: 0.50\n",
      "Epoch 92 - Average validation loss: 1.61, Average validation accuracy: 0.52\n",
      "Training epoch 93\n"
     ]
    },
    {
     "name": "stderr",
     "output_type": "stream",
     "text": [
      "Iteration: 100%|██████████████████████████████████████████████████████████████████████████████████████████████████████████| 188/188 [00:14<00:00, 12.82it/s]\n"
     ]
    },
    {
     "name": "stdout",
     "output_type": "stream",
     "text": [
      "Epoch 93 - Average training loss: 1.61, Average training accuracy: 0.49\n",
      "Epoch 93 - Average validation loss: 1.61, Average validation accuracy: 0.52\n",
      "Training epoch 94\n"
     ]
    },
    {
     "name": "stderr",
     "output_type": "stream",
     "text": [
      "Iteration: 100%|██████████████████████████████████████████████████████████████████████████████████████████████████████████| 188/188 [00:14<00:00, 12.83it/s]\n"
     ]
    },
    {
     "name": "stdout",
     "output_type": "stream",
     "text": [
      "Epoch 94 - Average training loss: 1.61, Average training accuracy: 0.49\n",
      "Epoch 94 - Average validation loss: 1.61, Average validation accuracy: 0.52\n",
      "Training epoch 95\n"
     ]
    },
    {
     "name": "stderr",
     "output_type": "stream",
     "text": [
      "Iteration: 100%|██████████████████████████████████████████████████████████████████████████████████████████████████████████| 188/188 [00:14<00:00, 12.85it/s]\n"
     ]
    },
    {
     "name": "stdout",
     "output_type": "stream",
     "text": [
      "Epoch 95 - Average training loss: 1.60, Average training accuracy: 0.50\n",
      "Epoch 95 - Average validation loss: 1.61, Average validation accuracy: 0.52\n",
      "Training epoch 96\n"
     ]
    },
    {
     "name": "stderr",
     "output_type": "stream",
     "text": [
      "Iteration: 100%|██████████████████████████████████████████████████████████████████████████████████████████████████████████| 188/188 [00:14<00:00, 12.85it/s]\n"
     ]
    },
    {
     "name": "stdout",
     "output_type": "stream",
     "text": [
      "Epoch 96 - Average training loss: 1.61, Average training accuracy: 0.49\n",
      "Epoch 96 - Average validation loss: 1.61, Average validation accuracy: 0.52\n",
      "Training epoch 97\n"
     ]
    },
    {
     "name": "stderr",
     "output_type": "stream",
     "text": [
      "Iteration: 100%|██████████████████████████████████████████████████████████████████████████████████████████████████████████| 188/188 [00:14<00:00, 12.85it/s]\n"
     ]
    },
    {
     "name": "stdout",
     "output_type": "stream",
     "text": [
      "Epoch 97 - Average training loss: 1.61, Average training accuracy: 0.49\n",
      "Epoch 97 - Average validation loss: 1.61, Average validation accuracy: 0.52\n",
      "Training epoch 98\n"
     ]
    },
    {
     "name": "stderr",
     "output_type": "stream",
     "text": [
      "Iteration: 100%|██████████████████████████████████████████████████████████████████████████████████████████████████████████| 188/188 [00:14<00:00, 12.84it/s]\n"
     ]
    },
    {
     "name": "stdout",
     "output_type": "stream",
     "text": [
      "Epoch 98 - Average training loss: 1.61, Average training accuracy: 0.50\n",
      "Epoch 98 - Average validation loss: 1.61, Average validation accuracy: 0.52\n",
      "Training epoch 99\n"
     ]
    },
    {
     "name": "stderr",
     "output_type": "stream",
     "text": [
      "Iteration: 100%|██████████████████████████████████████████████████████████████████████████████████████████████████████████| 188/188 [00:14<00:00, 12.85it/s]\n"
     ]
    },
    {
     "name": "stdout",
     "output_type": "stream",
     "text": [
      "Epoch 99 - Average training loss: 1.61, Average training accuracy: 0.49\n",
      "Epoch 99 - Average validation loss: 1.61, Average validation accuracy: 0.52\n",
      "Training epoch 100\n"
     ]
    },
    {
     "name": "stderr",
     "output_type": "stream",
     "text": [
      "Iteration: 100%|██████████████████████████████████████████████████████████████████████████████████████████████████████████| 188/188 [00:14<00:00, 12.85it/s]\n"
     ]
    },
    {
     "name": "stdout",
     "output_type": "stream",
     "text": [
      "Epoch 100 - Average training loss: 1.62, Average training accuracy: 0.49\n",
      "Epoch 100 - Average validation loss: 1.61, Average validation accuracy: 0.52\n",
      "Fold 2\n",
      "Training epoch 1\n"
     ]
    },
    {
     "name": "stderr",
     "output_type": "stream",
     "text": [
      "Iteration:   0%|                                                                                                                    | 0/188 [00:00<?, ?it/s][2023-06-27 09:11:44,500] torch._inductor.utils: [WARNING] using triton random, expect difference from eager\n",
      "Iteration:  99%|█████████████████████████████████████████████████████████████████████████████████████████████████████████▍| 187/188 [00:22<00:00, 14.07it/s][2023-06-27 09:12:07,121] torch._inductor.utils: [WARNING] using triton random, expect difference from eager\n",
      "Iteration: 100%|██████████████████████████████████████████████████████████████████████████████████████████████████████████| 188/188 [00:31<00:00,  5.91it/s]\n"
     ]
    },
    {
     "name": "stdout",
     "output_type": "stream",
     "text": [
      "Epoch 1 - Average training loss: 1.96, Average training accuracy: 0.15\n",
      "Epoch 1 - Average validation loss: 1.95, Average validation accuracy: 0.14\n",
      "Training epoch 2\n"
     ]
    },
    {
     "name": "stderr",
     "output_type": "stream",
     "text": [
      "Iteration: 100%|██████████████████████████████████████████████████████████████████████████████████████████████████████████| 188/188 [00:13<00:00, 14.07it/s]\n"
     ]
    },
    {
     "name": "stdout",
     "output_type": "stream",
     "text": [
      "Epoch 2 - Average training loss: 1.95, Average training accuracy: 0.15\n",
      "Epoch 2 - Average validation loss: 1.94, Average validation accuracy: 0.14\n",
      "Training epoch 3\n"
     ]
    },
    {
     "name": "stderr",
     "output_type": "stream",
     "text": [
      "Iteration: 100%|██████████████████████████████████████████████████████████████████████████████████████████████████████████| 188/188 [00:13<00:00, 13.62it/s]\n"
     ]
    },
    {
     "name": "stdout",
     "output_type": "stream",
     "text": [
      "Epoch 3 - Average training loss: 1.95, Average training accuracy: 0.16\n",
      "Epoch 3 - Average validation loss: 1.94, Average validation accuracy: 0.16\n",
      "Training epoch 4\n"
     ]
    },
    {
     "name": "stderr",
     "output_type": "stream",
     "text": [
      "Iteration: 100%|██████████████████████████████████████████████████████████████████████████████████████████████████████████| 188/188 [00:14<00:00, 12.87it/s]\n"
     ]
    },
    {
     "name": "stdout",
     "output_type": "stream",
     "text": [
      "Epoch 4 - Average training loss: 1.94, Average training accuracy: 0.19\n",
      "Epoch 4 - Average validation loss: 1.94, Average validation accuracy: 0.23\n",
      "Training epoch 5\n"
     ]
    },
    {
     "name": "stderr",
     "output_type": "stream",
     "text": [
      "Iteration: 100%|██████████████████████████████████████████████████████████████████████████████████████████████████████████| 188/188 [00:14<00:00, 12.87it/s]\n"
     ]
    },
    {
     "name": "stdout",
     "output_type": "stream",
     "text": [
      "Epoch 5 - Average training loss: 1.93, Average training accuracy: 0.23\n",
      "Epoch 5 - Average validation loss: 1.93, Average validation accuracy: 0.24\n",
      "Training epoch 6\n"
     ]
    },
    {
     "name": "stderr",
     "output_type": "stream",
     "text": [
      "Iteration: 100%|██████████████████████████████████████████████████████████████████████████████████████████████████████████| 188/188 [00:14<00:00, 12.86it/s]\n"
     ]
    },
    {
     "name": "stdout",
     "output_type": "stream",
     "text": [
      "Epoch 6 - Average training loss: 1.93, Average training accuracy: 0.24\n",
      "Epoch 6 - Average validation loss: 1.93, Average validation accuracy: 0.25\n",
      "Training epoch 7\n"
     ]
    },
    {
     "name": "stderr",
     "output_type": "stream",
     "text": [
      "Iteration: 100%|██████████████████████████████████████████████████████████████████████████████████████████████████████████| 188/188 [00:14<00:00, 12.86it/s]\n"
     ]
    },
    {
     "name": "stdout",
     "output_type": "stream",
     "text": [
      "Epoch 7 - Average training loss: 1.92, Average training accuracy: 0.28\n",
      "Epoch 7 - Average validation loss: 1.92, Average validation accuracy: 0.30\n",
      "Training epoch 8\n"
     ]
    },
    {
     "name": "stderr",
     "output_type": "stream",
     "text": [
      "Iteration: 100%|██████████████████████████████████████████████████████████████████████████████████████████████████████████| 188/188 [00:14<00:00, 12.87it/s]\n"
     ]
    },
    {
     "name": "stdout",
     "output_type": "stream",
     "text": [
      "Epoch 8 - Average training loss: 1.91, Average training accuracy: 0.30\n",
      "Epoch 8 - Average validation loss: 1.91, Average validation accuracy: 0.33\n",
      "Training epoch 9\n"
     ]
    },
    {
     "name": "stderr",
     "output_type": "stream",
     "text": [
      "Iteration: 100%|██████████████████████████████████████████████████████████████████████████████████████████████████████████| 188/188 [00:14<00:00, 12.86it/s]\n"
     ]
    },
    {
     "name": "stdout",
     "output_type": "stream",
     "text": [
      "Epoch 9 - Average training loss: 1.90, Average training accuracy: 0.32\n",
      "Epoch 9 - Average validation loss: 1.90, Average validation accuracy: 0.29\n",
      "Training epoch 10\n"
     ]
    },
    {
     "name": "stderr",
     "output_type": "stream",
     "text": [
      "Iteration: 100%|██████████████████████████████████████████████████████████████████████████████████████████████████████████| 188/188 [00:14<00:00, 12.86it/s]\n"
     ]
    },
    {
     "name": "stdout",
     "output_type": "stream",
     "text": [
      "Epoch 10 - Average training loss: 1.89, Average training accuracy: 0.33\n",
      "Epoch 10 - Average validation loss: 1.89, Average validation accuracy: 0.35\n",
      "Training epoch 11\n"
     ]
    },
    {
     "name": "stderr",
     "output_type": "stream",
     "text": [
      "Iteration: 100%|██████████████████████████████████████████████████████████████████████████████████████████████████████████| 188/188 [00:14<00:00, 12.86it/s]\n"
     ]
    },
    {
     "name": "stdout",
     "output_type": "stream",
     "text": [
      "Epoch 11 - Average training loss: 1.88, Average training accuracy: 0.37\n",
      "Epoch 11 - Average validation loss: 1.88, Average validation accuracy: 0.39\n",
      "Training epoch 12\n"
     ]
    },
    {
     "name": "stderr",
     "output_type": "stream",
     "text": [
      "Iteration: 100%|██████████████████████████████████████████████████████████████████████████████████████████████████████████| 188/188 [00:14<00:00, 12.86it/s]\n"
     ]
    },
    {
     "name": "stdout",
     "output_type": "stream",
     "text": [
      "Epoch 12 - Average training loss: 1.87, Average training accuracy: 0.38\n",
      "Epoch 12 - Average validation loss: 1.87, Average validation accuracy: 0.43\n",
      "Training epoch 13\n"
     ]
    },
    {
     "name": "stderr",
     "output_type": "stream",
     "text": [
      "Iteration: 100%|██████████████████████████████████████████████████████████████████████████████████████████████████████████| 188/188 [00:14<00:00, 12.86it/s]\n"
     ]
    },
    {
     "name": "stdout",
     "output_type": "stream",
     "text": [
      "Epoch 13 - Average training loss: 1.86, Average training accuracy: 0.41\n",
      "Epoch 13 - Average validation loss: 1.86, Average validation accuracy: 0.44\n",
      "Training epoch 14\n"
     ]
    },
    {
     "name": "stderr",
     "output_type": "stream",
     "text": [
      "Iteration: 100%|██████████████████████████████████████████████████████████████████████████████████████████████████████████| 188/188 [00:14<00:00, 12.87it/s]\n"
     ]
    },
    {
     "name": "stdout",
     "output_type": "stream",
     "text": [
      "Epoch 14 - Average training loss: 1.85, Average training accuracy: 0.41\n",
      "Epoch 14 - Average validation loss: 1.86, Average validation accuracy: 0.46\n",
      "Training epoch 15\n"
     ]
    },
    {
     "name": "stderr",
     "output_type": "stream",
     "text": [
      "Iteration: 100%|██████████████████████████████████████████████████████████████████████████████████████████████████████████| 188/188 [00:14<00:00, 12.87it/s]\n"
     ]
    },
    {
     "name": "stdout",
     "output_type": "stream",
     "text": [
      "Epoch 15 - Average training loss: 1.84, Average training accuracy: 0.42\n",
      "Epoch 15 - Average validation loss: 1.85, Average validation accuracy: 0.44\n",
      "Training epoch 16\n"
     ]
    },
    {
     "name": "stderr",
     "output_type": "stream",
     "text": [
      "Iteration: 100%|██████████████████████████████████████████████████████████████████████████████████████████████████████████| 188/188 [00:14<00:00, 12.86it/s]\n"
     ]
    },
    {
     "name": "stdout",
     "output_type": "stream",
     "text": [
      "Epoch 16 - Average training loss: 1.83, Average training accuracy: 0.44\n",
      "Epoch 16 - Average validation loss: 1.84, Average validation accuracy: 0.47\n",
      "Training epoch 17\n"
     ]
    },
    {
     "name": "stderr",
     "output_type": "stream",
     "text": [
      "Iteration: 100%|██████████████████████████████████████████████████████████████████████████████████████████████████████████| 188/188 [00:14<00:00, 12.86it/s]\n"
     ]
    },
    {
     "name": "stdout",
     "output_type": "stream",
     "text": [
      "Epoch 17 - Average training loss: 1.82, Average training accuracy: 0.42\n",
      "Epoch 17 - Average validation loss: 1.83, Average validation accuracy: 0.46\n",
      "Training epoch 18\n"
     ]
    },
    {
     "name": "stderr",
     "output_type": "stream",
     "text": [
      "Iteration: 100%|██████████████████████████████████████████████████████████████████████████████████████████████████████████| 188/188 [00:14<00:00, 12.86it/s]\n"
     ]
    },
    {
     "name": "stdout",
     "output_type": "stream",
     "text": [
      "Epoch 18 - Average training loss: 1.81, Average training accuracy: 0.44\n",
      "Epoch 18 - Average validation loss: 1.82, Average validation accuracy: 0.46\n",
      "Training epoch 19\n"
     ]
    },
    {
     "name": "stderr",
     "output_type": "stream",
     "text": [
      "Iteration: 100%|██████████████████████████████████████████████████████████████████████████████████████████████████████████| 188/188 [00:14<00:00, 12.86it/s]\n"
     ]
    },
    {
     "name": "stdout",
     "output_type": "stream",
     "text": [
      "Epoch 19 - Average training loss: 1.81, Average training accuracy: 0.44\n",
      "Epoch 19 - Average validation loss: 1.82, Average validation accuracy: 0.48\n",
      "Training epoch 20\n"
     ]
    },
    {
     "name": "stderr",
     "output_type": "stream",
     "text": [
      "Iteration: 100%|██████████████████████████████████████████████████████████████████████████████████████████████████████████| 188/188 [00:14<00:00, 12.86it/s]\n"
     ]
    },
    {
     "name": "stdout",
     "output_type": "stream",
     "text": [
      "Epoch 20 - Average training loss: 1.80, Average training accuracy: 0.44\n",
      "Epoch 20 - Average validation loss: 1.81, Average validation accuracy: 0.47\n",
      "Training epoch 21\n"
     ]
    },
    {
     "name": "stderr",
     "output_type": "stream",
     "text": [
      "Iteration: 100%|██████████████████████████████████████████████████████████████████████████████████████████████████████████| 188/188 [00:14<00:00, 12.87it/s]\n"
     ]
    },
    {
     "name": "stdout",
     "output_type": "stream",
     "text": [
      "Epoch 21 - Average training loss: 1.79, Average training accuracy: 0.45\n",
      "Epoch 21 - Average validation loss: 1.80, Average validation accuracy: 0.48\n",
      "Training epoch 22\n"
     ]
    },
    {
     "name": "stderr",
     "output_type": "stream",
     "text": [
      "Iteration: 100%|██████████████████████████████████████████████████████████████████████████████████████████████████████████| 188/188 [00:14<00:00, 12.87it/s]\n"
     ]
    },
    {
     "name": "stdout",
     "output_type": "stream",
     "text": [
      "Epoch 22 - Average training loss: 1.78, Average training accuracy: 0.45\n",
      "Epoch 22 - Average validation loss: 1.80, Average validation accuracy: 0.48\n",
      "Training epoch 23\n"
     ]
    },
    {
     "name": "stderr",
     "output_type": "stream",
     "text": [
      "Iteration: 100%|██████████████████████████████████████████████████████████████████████████████████████████████████████████| 188/188 [00:14<00:00, 12.87it/s]\n"
     ]
    },
    {
     "name": "stdout",
     "output_type": "stream",
     "text": [
      "Epoch 23 - Average training loss: 1.77, Average training accuracy: 0.45\n",
      "Epoch 23 - Average validation loss: 1.79, Average validation accuracy: 0.48\n",
      "Training epoch 24\n"
     ]
    },
    {
     "name": "stderr",
     "output_type": "stream",
     "text": [
      "Iteration: 100%|██████████████████████████████████████████████████████████████████████████████████████████████████████████| 188/188 [00:14<00:00, 12.87it/s]\n"
     ]
    },
    {
     "name": "stdout",
     "output_type": "stream",
     "text": [
      "Epoch 24 - Average training loss: 1.77, Average training accuracy: 0.44\n",
      "Epoch 24 - Average validation loss: 1.78, Average validation accuracy: 0.48\n",
      "Training epoch 25\n"
     ]
    },
    {
     "name": "stderr",
     "output_type": "stream",
     "text": [
      "Iteration: 100%|██████████████████████████████████████████████████████████████████████████████████████████████████████████| 188/188 [00:14<00:00, 12.87it/s]\n"
     ]
    },
    {
     "name": "stdout",
     "output_type": "stream",
     "text": [
      "Epoch 25 - Average training loss: 1.76, Average training accuracy: 0.45\n",
      "Epoch 25 - Average validation loss: 1.78, Average validation accuracy: 0.48\n",
      "Training epoch 26\n"
     ]
    },
    {
     "name": "stderr",
     "output_type": "stream",
     "text": [
      "Iteration: 100%|██████████████████████████████████████████████████████████████████████████████████████████████████████████| 188/188 [00:14<00:00, 12.86it/s]\n"
     ]
    },
    {
     "name": "stdout",
     "output_type": "stream",
     "text": [
      "Epoch 26 - Average training loss: 1.75, Average training accuracy: 0.45\n",
      "Epoch 26 - Average validation loss: 1.77, Average validation accuracy: 0.48\n",
      "Training epoch 27\n"
     ]
    },
    {
     "name": "stderr",
     "output_type": "stream",
     "text": [
      "Iteration: 100%|██████████████████████████████████████████████████████████████████████████████████████████████████████████| 188/188 [00:14<00:00, 12.87it/s]\n"
     ]
    },
    {
     "name": "stdout",
     "output_type": "stream",
     "text": [
      "Epoch 27 - Average training loss: 1.75, Average training accuracy: 0.46\n",
      "Epoch 27 - Average validation loss: 1.77, Average validation accuracy: 0.49\n",
      "Training epoch 28\n"
     ]
    },
    {
     "name": "stderr",
     "output_type": "stream",
     "text": [
      "Iteration: 100%|██████████████████████████████████████████████████████████████████████████████████████████████████████████| 188/188 [00:14<00:00, 12.86it/s]\n"
     ]
    },
    {
     "name": "stdout",
     "output_type": "stream",
     "text": [
      "Epoch 28 - Average training loss: 1.74, Average training accuracy: 0.47\n",
      "Epoch 28 - Average validation loss: 1.76, Average validation accuracy: 0.48\n",
      "Training epoch 29\n"
     ]
    },
    {
     "name": "stderr",
     "output_type": "stream",
     "text": [
      "Iteration: 100%|██████████████████████████████████████████████████████████████████████████████████████████████████████████| 188/188 [00:14<00:00, 12.86it/s]\n"
     ]
    },
    {
     "name": "stdout",
     "output_type": "stream",
     "text": [
      "Epoch 29 - Average training loss: 1.73, Average training accuracy: 0.47\n",
      "Epoch 29 - Average validation loss: 1.76, Average validation accuracy: 0.50\n",
      "Training epoch 30\n"
     ]
    },
    {
     "name": "stderr",
     "output_type": "stream",
     "text": [
      "Iteration: 100%|██████████████████████████████████████████████████████████████████████████████████████████████████████████| 188/188 [00:14<00:00, 12.87it/s]\n"
     ]
    },
    {
     "name": "stdout",
     "output_type": "stream",
     "text": [
      "Epoch 30 - Average training loss: 1.73, Average training accuracy: 0.47\n",
      "Epoch 30 - Average validation loss: 1.75, Average validation accuracy: 0.49\n",
      "Training epoch 31\n"
     ]
    },
    {
     "name": "stderr",
     "output_type": "stream",
     "text": [
      "Iteration: 100%|██████████████████████████████████████████████████████████████████████████████████████████████████████████| 188/188 [00:14<00:00, 12.87it/s]\n"
     ]
    },
    {
     "name": "stdout",
     "output_type": "stream",
     "text": [
      "Epoch 31 - Average training loss: 1.73, Average training accuracy: 0.46\n",
      "Epoch 31 - Average validation loss: 1.75, Average validation accuracy: 0.50\n",
      "Training epoch 32\n"
     ]
    },
    {
     "name": "stderr",
     "output_type": "stream",
     "text": [
      "Iteration: 100%|██████████████████████████████████████████████████████████████████████████████████████████████████████████| 188/188 [00:14<00:00, 12.87it/s]\n"
     ]
    },
    {
     "name": "stdout",
     "output_type": "stream",
     "text": [
      "Epoch 32 - Average training loss: 1.72, Average training accuracy: 0.46\n",
      "Epoch 32 - Average validation loss: 1.74, Average validation accuracy: 0.49\n",
      "Training epoch 33\n"
     ]
    },
    {
     "name": "stderr",
     "output_type": "stream",
     "text": [
      "Iteration: 100%|██████████████████████████████████████████████████████████████████████████████████████████████████████████| 188/188 [00:14<00:00, 12.87it/s]\n"
     ]
    },
    {
     "name": "stdout",
     "output_type": "stream",
     "text": [
      "Epoch 33 - Average training loss: 1.71, Average training accuracy: 0.47\n",
      "Epoch 33 - Average validation loss: 1.74, Average validation accuracy: 0.49\n",
      "Training epoch 34\n"
     ]
    },
    {
     "name": "stderr",
     "output_type": "stream",
     "text": [
      "Iteration: 100%|██████████████████████████████████████████████████████████████████████████████████████████████████████████| 188/188 [00:14<00:00, 12.88it/s]\n"
     ]
    },
    {
     "name": "stdout",
     "output_type": "stream",
     "text": [
      "Epoch 34 - Average training loss: 1.71, Average training accuracy: 0.48\n",
      "Epoch 34 - Average validation loss: 1.73, Average validation accuracy: 0.50\n",
      "Training epoch 35\n"
     ]
    },
    {
     "name": "stderr",
     "output_type": "stream",
     "text": [
      "Iteration: 100%|██████████████████████████████████████████████████████████████████████████████████████████████████████████| 188/188 [00:14<00:00, 12.87it/s]\n"
     ]
    },
    {
     "name": "stdout",
     "output_type": "stream",
     "text": [
      "Epoch 35 - Average training loss: 1.71, Average training accuracy: 0.48\n",
      "Epoch 35 - Average validation loss: 1.73, Average validation accuracy: 0.50\n",
      "Training epoch 36\n"
     ]
    },
    {
     "name": "stderr",
     "output_type": "stream",
     "text": [
      "Iteration: 100%|██████████████████████████████████████████████████████████████████████████████████████████████████████████| 188/188 [00:14<00:00, 12.87it/s]\n"
     ]
    },
    {
     "name": "stdout",
     "output_type": "stream",
     "text": [
      "Epoch 36 - Average training loss: 1.70, Average training accuracy: 0.47\n",
      "Epoch 36 - Average validation loss: 1.72, Average validation accuracy: 0.50\n",
      "Training epoch 37\n"
     ]
    },
    {
     "name": "stderr",
     "output_type": "stream",
     "text": [
      "Iteration: 100%|██████████████████████████████████████████████████████████████████████████████████████████████████████████| 188/188 [00:14<00:00, 12.87it/s]\n"
     ]
    },
    {
     "name": "stdout",
     "output_type": "stream",
     "text": [
      "Epoch 37 - Average training loss: 1.69, Average training accuracy: 0.49\n",
      "Epoch 37 - Average validation loss: 1.72, Average validation accuracy: 0.50\n",
      "Training epoch 38\n"
     ]
    },
    {
     "name": "stderr",
     "output_type": "stream",
     "text": [
      "Iteration: 100%|██████████████████████████████████████████████████████████████████████████████████████████████████████████| 188/188 [00:14<00:00, 12.85it/s]\n"
     ]
    },
    {
     "name": "stdout",
     "output_type": "stream",
     "text": [
      "Epoch 38 - Average training loss: 1.69, Average training accuracy: 0.47\n",
      "Epoch 38 - Average validation loss: 1.71, Average validation accuracy: 0.50\n",
      "Training epoch 39\n"
     ]
    },
    {
     "name": "stderr",
     "output_type": "stream",
     "text": [
      "Iteration: 100%|██████████████████████████████████████████████████████████████████████████████████████████████████████████| 188/188 [00:14<00:00, 12.87it/s]\n"
     ]
    },
    {
     "name": "stdout",
     "output_type": "stream",
     "text": [
      "Epoch 39 - Average training loss: 1.69, Average training accuracy: 0.48\n",
      "Epoch 39 - Average validation loss: 1.71, Average validation accuracy: 0.51\n",
      "Training epoch 40\n"
     ]
    },
    {
     "name": "stderr",
     "output_type": "stream",
     "text": [
      "Iteration: 100%|██████████████████████████████████████████████████████████████████████████████████████████████████████████| 188/188 [00:14<00:00, 12.87it/s]\n"
     ]
    },
    {
     "name": "stdout",
     "output_type": "stream",
     "text": [
      "Epoch 40 - Average training loss: 1.69, Average training accuracy: 0.48\n",
      "Epoch 40 - Average validation loss: 1.71, Average validation accuracy: 0.51\n",
      "Training epoch 41\n"
     ]
    },
    {
     "name": "stderr",
     "output_type": "stream",
     "text": [
      "Iteration: 100%|██████████████████████████████████████████████████████████████████████████████████████████████████████████| 188/188 [00:14<00:00, 12.87it/s]\n"
     ]
    },
    {
     "name": "stdout",
     "output_type": "stream",
     "text": [
      "Epoch 41 - Average training loss: 1.68, Average training accuracy: 0.49\n",
      "Epoch 41 - Average validation loss: 1.70, Average validation accuracy: 0.51\n",
      "Training epoch 42\n"
     ]
    },
    {
     "name": "stderr",
     "output_type": "stream",
     "text": [
      "Iteration: 100%|██████████████████████████████████████████████████████████████████████████████████████████████████████████| 188/188 [00:14<00:00, 12.87it/s]\n"
     ]
    },
    {
     "name": "stdout",
     "output_type": "stream",
     "text": [
      "Epoch 42 - Average training loss: 1.67, Average training accuracy: 0.48\n",
      "Epoch 42 - Average validation loss: 1.70, Average validation accuracy: 0.51\n",
      "Training epoch 43\n"
     ]
    },
    {
     "name": "stderr",
     "output_type": "stream",
     "text": [
      "Iteration: 100%|██████████████████████████████████████████████████████████████████████████████████████████████████████████| 188/188 [00:14<00:00, 12.86it/s]\n"
     ]
    },
    {
     "name": "stdout",
     "output_type": "stream",
     "text": [
      "Epoch 43 - Average training loss: 1.67, Average training accuracy: 0.47\n",
      "Epoch 43 - Average validation loss: 1.70, Average validation accuracy: 0.51\n",
      "Training epoch 44\n"
     ]
    },
    {
     "name": "stderr",
     "output_type": "stream",
     "text": [
      "Iteration: 100%|██████████████████████████████████████████████████████████████████████████████████████████████████████████| 188/188 [00:14<00:00, 12.86it/s]\n"
     ]
    },
    {
     "name": "stdout",
     "output_type": "stream",
     "text": [
      "Epoch 44 - Average training loss: 1.67, Average training accuracy: 0.49\n",
      "Epoch 44 - Average validation loss: 1.69, Average validation accuracy: 0.51\n",
      "Training epoch 45\n"
     ]
    },
    {
     "name": "stderr",
     "output_type": "stream",
     "text": [
      "Iteration: 100%|██████████████████████████████████████████████████████████████████████████████████████████████████████████| 188/188 [00:14<00:00, 12.87it/s]\n"
     ]
    },
    {
     "name": "stdout",
     "output_type": "stream",
     "text": [
      "Epoch 45 - Average training loss: 1.67, Average training accuracy: 0.48\n",
      "Epoch 45 - Average validation loss: 1.69, Average validation accuracy: 0.51\n",
      "Training epoch 46\n"
     ]
    },
    {
     "name": "stderr",
     "output_type": "stream",
     "text": [
      "Iteration: 100%|██████████████████████████████████████████████████████████████████████████████████████████████████████████| 188/188 [00:14<00:00, 12.87it/s]\n"
     ]
    },
    {
     "name": "stdout",
     "output_type": "stream",
     "text": [
      "Epoch 46 - Average training loss: 1.66, Average training accuracy: 0.48\n",
      "Epoch 46 - Average validation loss: 1.69, Average validation accuracy: 0.51\n",
      "Training epoch 47\n"
     ]
    },
    {
     "name": "stderr",
     "output_type": "stream",
     "text": [
      "Iteration: 100%|██████████████████████████████████████████████████████████████████████████████████████████████████████████| 188/188 [00:14<00:00, 12.87it/s]\n"
     ]
    },
    {
     "name": "stdout",
     "output_type": "stream",
     "text": [
      "Epoch 47 - Average training loss: 1.66, Average training accuracy: 0.48\n",
      "Epoch 47 - Average validation loss: 1.68, Average validation accuracy: 0.51\n",
      "Training epoch 48\n"
     ]
    },
    {
     "name": "stderr",
     "output_type": "stream",
     "text": [
      "Iteration: 100%|██████████████████████████████████████████████████████████████████████████████████████████████████████████| 188/188 [00:14<00:00, 12.88it/s]\n"
     ]
    },
    {
     "name": "stdout",
     "output_type": "stream",
     "text": [
      "Epoch 48 - Average training loss: 1.65, Average training accuracy: 0.50\n",
      "Epoch 48 - Average validation loss: 1.68, Average validation accuracy: 0.52\n",
      "Training epoch 49\n"
     ]
    },
    {
     "name": "stderr",
     "output_type": "stream",
     "text": [
      "Iteration: 100%|██████████████████████████████████████████████████████████████████████████████████████████████████████████| 188/188 [00:14<00:00, 12.87it/s]\n"
     ]
    },
    {
     "name": "stdout",
     "output_type": "stream",
     "text": [
      "Epoch 49 - Average training loss: 1.66, Average training accuracy: 0.48\n",
      "Epoch 49 - Average validation loss: 1.68, Average validation accuracy: 0.52\n",
      "Training epoch 50\n"
     ]
    },
    {
     "name": "stderr",
     "output_type": "stream",
     "text": [
      "Iteration: 100%|██████████████████████████████████████████████████████████████████████████████████████████████████████████| 188/188 [00:14<00:00, 12.87it/s]\n"
     ]
    },
    {
     "name": "stdout",
     "output_type": "stream",
     "text": [
      "Epoch 50 - Average training loss: 1.65, Average training accuracy: 0.49\n",
      "Epoch 50 - Average validation loss: 1.68, Average validation accuracy: 0.52\n",
      "Training epoch 51\n"
     ]
    },
    {
     "name": "stderr",
     "output_type": "stream",
     "text": [
      "Iteration: 100%|██████████████████████████████████████████████████████████████████████████████████████████████████████████| 188/188 [00:14<00:00, 12.87it/s]\n"
     ]
    },
    {
     "name": "stdout",
     "output_type": "stream",
     "text": [
      "Epoch 51 - Average training loss: 1.64, Average training accuracy: 0.49\n",
      "Epoch 51 - Average validation loss: 1.67, Average validation accuracy: 0.52\n",
      "Training epoch 52\n"
     ]
    },
    {
     "name": "stderr",
     "output_type": "stream",
     "text": [
      "Iteration: 100%|██████████████████████████████████████████████████████████████████████████████████████████████████████████| 188/188 [00:14<00:00, 12.86it/s]\n"
     ]
    },
    {
     "name": "stdout",
     "output_type": "stream",
     "text": [
      "Epoch 52 - Average training loss: 1.65, Average training accuracy: 0.50\n",
      "Epoch 52 - Average validation loss: 1.67, Average validation accuracy: 0.52\n",
      "Training epoch 53\n"
     ]
    },
    {
     "name": "stderr",
     "output_type": "stream",
     "text": [
      "Iteration: 100%|██████████████████████████████████████████████████████████████████████████████████████████████████████████| 188/188 [00:14<00:00, 12.87it/s]\n"
     ]
    },
    {
     "name": "stdout",
     "output_type": "stream",
     "text": [
      "Epoch 53 - Average training loss: 1.64, Average training accuracy: 0.49\n",
      "Epoch 53 - Average validation loss: 1.67, Average validation accuracy: 0.52\n",
      "Training epoch 54\n"
     ]
    },
    {
     "name": "stderr",
     "output_type": "stream",
     "text": [
      "Iteration: 100%|██████████████████████████████████████████████████████████████████████████████████████████████████████████| 188/188 [00:14<00:00, 12.87it/s]\n"
     ]
    },
    {
     "name": "stdout",
     "output_type": "stream",
     "text": [
      "Epoch 54 - Average training loss: 1.64, Average training accuracy: 0.50\n",
      "Epoch 54 - Average validation loss: 1.66, Average validation accuracy: 0.52\n",
      "Training epoch 55\n"
     ]
    },
    {
     "name": "stderr",
     "output_type": "stream",
     "text": [
      "Iteration: 100%|██████████████████████████████████████████████████████████████████████████████████████████████████████████| 188/188 [00:14<00:00, 12.87it/s]\n"
     ]
    },
    {
     "name": "stdout",
     "output_type": "stream",
     "text": [
      "Epoch 55 - Average training loss: 1.64, Average training accuracy: 0.49\n",
      "Epoch 55 - Average validation loss: 1.66, Average validation accuracy: 0.52\n",
      "Training epoch 56\n"
     ]
    },
    {
     "name": "stderr",
     "output_type": "stream",
     "text": [
      "Iteration: 100%|██████████████████████████████████████████████████████████████████████████████████████████████████████████| 188/188 [00:14<00:00, 12.87it/s]\n"
     ]
    },
    {
     "name": "stdout",
     "output_type": "stream",
     "text": [
      "Epoch 56 - Average training loss: 1.63, Average training accuracy: 0.50\n",
      "Epoch 56 - Average validation loss: 1.66, Average validation accuracy: 0.52\n",
      "Training epoch 57\n"
     ]
    },
    {
     "name": "stderr",
     "output_type": "stream",
     "text": [
      "Iteration: 100%|██████████████████████████████████████████████████████████████████████████████████████████████████████████| 188/188 [00:14<00:00, 12.87it/s]\n"
     ]
    },
    {
     "name": "stdout",
     "output_type": "stream",
     "text": [
      "Epoch 57 - Average training loss: 1.64, Average training accuracy: 0.49\n",
      "Epoch 57 - Average validation loss: 1.66, Average validation accuracy: 0.52\n",
      "Training epoch 58\n"
     ]
    },
    {
     "name": "stderr",
     "output_type": "stream",
     "text": [
      "Iteration: 100%|██████████████████████████████████████████████████████████████████████████████████████████████████████████| 188/188 [00:14<00:00, 12.87it/s]\n"
     ]
    },
    {
     "name": "stdout",
     "output_type": "stream",
     "text": [
      "Epoch 58 - Average training loss: 1.63, Average training accuracy: 0.50\n",
      "Epoch 58 - Average validation loss: 1.65, Average validation accuracy: 0.52\n",
      "Training epoch 59\n"
     ]
    },
    {
     "name": "stderr",
     "output_type": "stream",
     "text": [
      "Iteration: 100%|██████████████████████████████████████████████████████████████████████████████████████████████████████████| 188/188 [00:14<00:00, 12.86it/s]\n"
     ]
    },
    {
     "name": "stdout",
     "output_type": "stream",
     "text": [
      "Epoch 59 - Average training loss: 1.63, Average training accuracy: 0.49\n",
      "Epoch 59 - Average validation loss: 1.65, Average validation accuracy: 0.52\n",
      "Training epoch 60\n"
     ]
    },
    {
     "name": "stderr",
     "output_type": "stream",
     "text": [
      "Iteration: 100%|██████████████████████████████████████████████████████████████████████████████████████████████████████████| 188/188 [00:14<00:00, 12.87it/s]\n"
     ]
    },
    {
     "name": "stdout",
     "output_type": "stream",
     "text": [
      "Epoch 60 - Average training loss: 1.62, Average training accuracy: 0.51\n",
      "Epoch 60 - Average validation loss: 1.65, Average validation accuracy: 0.52\n",
      "Training epoch 61\n"
     ]
    },
    {
     "name": "stderr",
     "output_type": "stream",
     "text": [
      "Iteration: 100%|██████████████████████████████████████████████████████████████████████████████████████████████████████████| 188/188 [00:14<00:00, 12.86it/s]\n"
     ]
    },
    {
     "name": "stdout",
     "output_type": "stream",
     "text": [
      "Epoch 61 - Average training loss: 1.63, Average training accuracy: 0.49\n",
      "Epoch 61 - Average validation loss: 1.65, Average validation accuracy: 0.52\n",
      "Training epoch 62\n"
     ]
    },
    {
     "name": "stderr",
     "output_type": "stream",
     "text": [
      "Iteration: 100%|██████████████████████████████████████████████████████████████████████████████████████████████████████████| 188/188 [00:14<00:00, 12.87it/s]\n"
     ]
    },
    {
     "name": "stdout",
     "output_type": "stream",
     "text": [
      "Epoch 62 - Average training loss: 1.63, Average training accuracy: 0.49\n",
      "Epoch 62 - Average validation loss: 1.65, Average validation accuracy: 0.52\n",
      "Training epoch 63\n"
     ]
    },
    {
     "name": "stderr",
     "output_type": "stream",
     "text": [
      "Iteration: 100%|██████████████████████████████████████████████████████████████████████████████████████████████████████████| 188/188 [00:14<00:00, 12.87it/s]\n"
     ]
    },
    {
     "name": "stdout",
     "output_type": "stream",
     "text": [
      "Epoch 63 - Average training loss: 1.62, Average training accuracy: 0.49\n",
      "Epoch 63 - Average validation loss: 1.64, Average validation accuracy: 0.52\n",
      "Training epoch 64\n"
     ]
    },
    {
     "name": "stderr",
     "output_type": "stream",
     "text": [
      "Iteration: 100%|██████████████████████████████████████████████████████████████████████████████████████████████████████████| 188/188 [00:14<00:00, 12.87it/s]\n"
     ]
    },
    {
     "name": "stdout",
     "output_type": "stream",
     "text": [
      "Epoch 64 - Average training loss: 1.62, Average training accuracy: 0.50\n",
      "Epoch 64 - Average validation loss: 1.64, Average validation accuracy: 0.52\n",
      "Training epoch 65\n"
     ]
    },
    {
     "name": "stderr",
     "output_type": "stream",
     "text": [
      "Iteration: 100%|██████████████████████████████████████████████████████████████████████████████████████████████████████████| 188/188 [00:14<00:00, 12.87it/s]\n"
     ]
    },
    {
     "name": "stdout",
     "output_type": "stream",
     "text": [
      "Epoch 65 - Average training loss: 1.62, Average training accuracy: 0.50\n",
      "Epoch 65 - Average validation loss: 1.64, Average validation accuracy: 0.52\n",
      "Training epoch 66\n"
     ]
    },
    {
     "name": "stderr",
     "output_type": "stream",
     "text": [
      "Iteration: 100%|██████████████████████████████████████████████████████████████████████████████████████████████████████████| 188/188 [00:14<00:00, 12.87it/s]\n"
     ]
    },
    {
     "name": "stdout",
     "output_type": "stream",
     "text": [
      "Epoch 66 - Average training loss: 1.61, Average training accuracy: 0.50\n",
      "Epoch 66 - Average validation loss: 1.64, Average validation accuracy: 0.52\n",
      "Training epoch 67\n"
     ]
    },
    {
     "name": "stderr",
     "output_type": "stream",
     "text": [
      "Iteration: 100%|██████████████████████████████████████████████████████████████████████████████████████████████████████████| 188/188 [00:14<00:00, 12.87it/s]\n"
     ]
    },
    {
     "name": "stdout",
     "output_type": "stream",
     "text": [
      "Epoch 67 - Average training loss: 1.61, Average training accuracy: 0.49\n",
      "Epoch 67 - Average validation loss: 1.64, Average validation accuracy: 0.53\n",
      "Training epoch 68\n"
     ]
    },
    {
     "name": "stderr",
     "output_type": "stream",
     "text": [
      "Iteration: 100%|██████████████████████████████████████████████████████████████████████████████████████████████████████████| 188/188 [00:14<00:00, 12.87it/s]\n"
     ]
    },
    {
     "name": "stdout",
     "output_type": "stream",
     "text": [
      "Epoch 68 - Average training loss: 1.61, Average training accuracy: 0.50\n",
      "Epoch 68 - Average validation loss: 1.64, Average validation accuracy: 0.53\n",
      "Training epoch 69\n"
     ]
    },
    {
     "name": "stderr",
     "output_type": "stream",
     "text": [
      "Iteration: 100%|██████████████████████████████████████████████████████████████████████████████████████████████████████████| 188/188 [00:14<00:00, 12.86it/s]\n"
     ]
    },
    {
     "name": "stdout",
     "output_type": "stream",
     "text": [
      "Epoch 69 - Average training loss: 1.61, Average training accuracy: 0.50\n",
      "Epoch 69 - Average validation loss: 1.63, Average validation accuracy: 0.53\n",
      "Training epoch 70\n"
     ]
    },
    {
     "name": "stderr",
     "output_type": "stream",
     "text": [
      "Iteration: 100%|██████████████████████████████████████████████████████████████████████████████████████████████████████████| 188/188 [00:14<00:00, 12.85it/s]\n"
     ]
    },
    {
     "name": "stdout",
     "output_type": "stream",
     "text": [
      "Epoch 70 - Average training loss: 1.60, Average training accuracy: 0.50\n",
      "Epoch 70 - Average validation loss: 1.63, Average validation accuracy: 0.52\n",
      "Training epoch 71\n"
     ]
    },
    {
     "name": "stderr",
     "output_type": "stream",
     "text": [
      "Iteration: 100%|██████████████████████████████████████████████████████████████████████████████████████████████████████████| 188/188 [00:14<00:00, 12.87it/s]\n"
     ]
    },
    {
     "name": "stdout",
     "output_type": "stream",
     "text": [
      "Epoch 71 - Average training loss: 1.61, Average training accuracy: 0.50\n",
      "Epoch 71 - Average validation loss: 1.63, Average validation accuracy: 0.53\n",
      "Training epoch 72\n"
     ]
    },
    {
     "name": "stderr",
     "output_type": "stream",
     "text": [
      "Iteration: 100%|██████████████████████████████████████████████████████████████████████████████████████████████████████████| 188/188 [00:14<00:00, 12.86it/s]\n"
     ]
    },
    {
     "name": "stdout",
     "output_type": "stream",
     "text": [
      "Epoch 72 - Average training loss: 1.60, Average training accuracy: 0.49\n",
      "Epoch 72 - Average validation loss: 1.63, Average validation accuracy: 0.53\n",
      "Training epoch 73\n"
     ]
    },
    {
     "name": "stderr",
     "output_type": "stream",
     "text": [
      "Iteration: 100%|██████████████████████████████████████████████████████████████████████████████████████████████████████████| 188/188 [00:14<00:00, 12.86it/s]\n"
     ]
    },
    {
     "name": "stdout",
     "output_type": "stream",
     "text": [
      "Epoch 73 - Average training loss: 1.60, Average training accuracy: 0.49\n",
      "Epoch 73 - Average validation loss: 1.63, Average validation accuracy: 0.53\n",
      "Training epoch 74\n"
     ]
    },
    {
     "name": "stderr",
     "output_type": "stream",
     "text": [
      "Iteration: 100%|██████████████████████████████████████████████████████████████████████████████████████████████████████████| 188/188 [00:14<00:00, 12.85it/s]\n"
     ]
    },
    {
     "name": "stdout",
     "output_type": "stream",
     "text": [
      "Epoch 74 - Average training loss: 1.59, Average training accuracy: 0.50\n",
      "Epoch 74 - Average validation loss: 1.63, Average validation accuracy: 0.52\n",
      "Training epoch 75\n"
     ]
    },
    {
     "name": "stderr",
     "output_type": "stream",
     "text": [
      "Iteration: 100%|██████████████████████████████████████████████████████████████████████████████████████████████████████████| 188/188 [00:14<00:00, 12.88it/s]\n"
     ]
    },
    {
     "name": "stdout",
     "output_type": "stream",
     "text": [
      "Epoch 75 - Average training loss: 1.61, Average training accuracy: 0.50\n",
      "Epoch 75 - Average validation loss: 1.63, Average validation accuracy: 0.52\n",
      "Training epoch 76\n"
     ]
    },
    {
     "name": "stderr",
     "output_type": "stream",
     "text": [
      "Iteration: 100%|██████████████████████████████████████████████████████████████████████████████████████████████████████████| 188/188 [00:14<00:00, 12.86it/s]\n"
     ]
    },
    {
     "name": "stdout",
     "output_type": "stream",
     "text": [
      "Epoch 76 - Average training loss: 1.59, Average training accuracy: 0.51\n",
      "Epoch 76 - Average validation loss: 1.63, Average validation accuracy: 0.53\n",
      "Training epoch 77\n"
     ]
    },
    {
     "name": "stderr",
     "output_type": "stream",
     "text": [
      "Iteration: 100%|██████████████████████████████████████████████████████████████████████████████████████████████████████████| 188/188 [00:14<00:00, 12.87it/s]\n"
     ]
    },
    {
     "name": "stdout",
     "output_type": "stream",
     "text": [
      "Epoch 77 - Average training loss: 1.59, Average training accuracy: 0.51\n",
      "Epoch 77 - Average validation loss: 1.62, Average validation accuracy: 0.53\n",
      "Training epoch 78\n"
     ]
    },
    {
     "name": "stderr",
     "output_type": "stream",
     "text": [
      "Iteration: 100%|██████████████████████████████████████████████████████████████████████████████████████████████████████████| 188/188 [00:14<00:00, 12.87it/s]\n"
     ]
    },
    {
     "name": "stdout",
     "output_type": "stream",
     "text": [
      "Epoch 78 - Average training loss: 1.59, Average training accuracy: 0.51\n",
      "Epoch 78 - Average validation loss: 1.62, Average validation accuracy: 0.53\n",
      "Training epoch 79\n"
     ]
    },
    {
     "name": "stderr",
     "output_type": "stream",
     "text": [
      "Iteration: 100%|██████████████████████████████████████████████████████████████████████████████████████████████████████████| 188/188 [00:14<00:00, 12.87it/s]\n"
     ]
    },
    {
     "name": "stdout",
     "output_type": "stream",
     "text": [
      "Epoch 79 - Average training loss: 1.60, Average training accuracy: 0.50\n",
      "Epoch 79 - Average validation loss: 1.62, Average validation accuracy: 0.53\n",
      "Training epoch 80\n"
     ]
    },
    {
     "name": "stderr",
     "output_type": "stream",
     "text": [
      "Iteration: 100%|██████████████████████████████████████████████████████████████████████████████████████████████████████████| 188/188 [00:14<00:00, 12.87it/s]\n"
     ]
    },
    {
     "name": "stdout",
     "output_type": "stream",
     "text": [
      "Epoch 80 - Average training loss: 1.60, Average training accuracy: 0.51\n",
      "Epoch 80 - Average validation loss: 1.62, Average validation accuracy: 0.53\n",
      "Training epoch 81\n"
     ]
    },
    {
     "name": "stderr",
     "output_type": "stream",
     "text": [
      "Iteration: 100%|██████████████████████████████████████████████████████████████████████████████████████████████████████████| 188/188 [00:14<00:00, 12.87it/s]\n"
     ]
    },
    {
     "name": "stdout",
     "output_type": "stream",
     "text": [
      "Epoch 81 - Average training loss: 1.59, Average training accuracy: 0.50\n",
      "Epoch 81 - Average validation loss: 1.62, Average validation accuracy: 0.53\n",
      "Training epoch 82\n"
     ]
    },
    {
     "name": "stderr",
     "output_type": "stream",
     "text": [
      "Iteration: 100%|██████████████████████████████████████████████████████████████████████████████████████████████████████████| 188/188 [00:14<00:00, 12.87it/s]\n"
     ]
    },
    {
     "name": "stdout",
     "output_type": "stream",
     "text": [
      "Epoch 82 - Average training loss: 1.59, Average training accuracy: 0.50\n",
      "Epoch 82 - Average validation loss: 1.62, Average validation accuracy: 0.53\n",
      "Training epoch 83\n"
     ]
    },
    {
     "name": "stderr",
     "output_type": "stream",
     "text": [
      "Iteration: 100%|██████████████████████████████████████████████████████████████████████████████████████████████████████████| 188/188 [00:14<00:00, 12.86it/s]\n"
     ]
    },
    {
     "name": "stdout",
     "output_type": "stream",
     "text": [
      "Epoch 83 - Average training loss: 1.60, Average training accuracy: 0.50\n",
      "Epoch 83 - Average validation loss: 1.62, Average validation accuracy: 0.53\n",
      "Training epoch 84\n"
     ]
    },
    {
     "name": "stderr",
     "output_type": "stream",
     "text": [
      "Iteration: 100%|██████████████████████████████████████████████████████████████████████████████████████████████████████████| 188/188 [00:14<00:00, 12.86it/s]\n"
     ]
    },
    {
     "name": "stdout",
     "output_type": "stream",
     "text": [
      "Epoch 84 - Average training loss: 1.60, Average training accuracy: 0.50\n",
      "Epoch 84 - Average validation loss: 1.62, Average validation accuracy: 0.53\n",
      "Training epoch 85\n"
     ]
    },
    {
     "name": "stderr",
     "output_type": "stream",
     "text": [
      "Iteration: 100%|██████████████████████████████████████████████████████████████████████████████████████████████████████████| 188/188 [00:14<00:00, 12.87it/s]\n"
     ]
    },
    {
     "name": "stdout",
     "output_type": "stream",
     "text": [
      "Epoch 85 - Average training loss: 1.59, Average training accuracy: 0.50\n",
      "Epoch 85 - Average validation loss: 1.62, Average validation accuracy: 0.53\n",
      "Training epoch 86\n"
     ]
    },
    {
     "name": "stderr",
     "output_type": "stream",
     "text": [
      "Iteration: 100%|██████████████████████████████████████████████████████████████████████████████████████████████████████████| 188/188 [00:14<00:00, 12.87it/s]\n"
     ]
    },
    {
     "name": "stdout",
     "output_type": "stream",
     "text": [
      "Epoch 86 - Average training loss: 1.60, Average training accuracy: 0.50\n",
      "Epoch 86 - Average validation loss: 1.62, Average validation accuracy: 0.53\n",
      "Training epoch 87\n"
     ]
    },
    {
     "name": "stderr",
     "output_type": "stream",
     "text": [
      "Iteration: 100%|██████████████████████████████████████████████████████████████████████████████████████████████████████████| 188/188 [00:14<00:00, 12.87it/s]\n"
     ]
    },
    {
     "name": "stdout",
     "output_type": "stream",
     "text": [
      "Epoch 87 - Average training loss: 1.60, Average training accuracy: 0.50\n",
      "Epoch 87 - Average validation loss: 1.62, Average validation accuracy: 0.53\n",
      "Training epoch 88\n"
     ]
    },
    {
     "name": "stderr",
     "output_type": "stream",
     "text": [
      "Iteration: 100%|██████████████████████████████████████████████████████████████████████████████████████████████████████████| 188/188 [00:14<00:00, 12.87it/s]\n"
     ]
    },
    {
     "name": "stdout",
     "output_type": "stream",
     "text": [
      "Epoch 88 - Average training loss: 1.59, Average training accuracy: 0.50\n",
      "Epoch 88 - Average validation loss: 1.62, Average validation accuracy: 0.53\n",
      "Training epoch 89\n"
     ]
    },
    {
     "name": "stderr",
     "output_type": "stream",
     "text": [
      "Iteration: 100%|██████████████████████████████████████████████████████████████████████████████████████████████████████████| 188/188 [00:14<00:00, 12.87it/s]\n"
     ]
    },
    {
     "name": "stdout",
     "output_type": "stream",
     "text": [
      "Epoch 89 - Average training loss: 1.59, Average training accuracy: 0.50\n",
      "Epoch 89 - Average validation loss: 1.62, Average validation accuracy: 0.53\n",
      "Training epoch 90\n"
     ]
    },
    {
     "name": "stderr",
     "output_type": "stream",
     "text": [
      "Iteration: 100%|██████████████████████████████████████████████████████████████████████████████████████████████████████████| 188/188 [00:14<00:00, 12.87it/s]\n"
     ]
    },
    {
     "name": "stdout",
     "output_type": "stream",
     "text": [
      "Epoch 90 - Average training loss: 1.58, Average training accuracy: 0.50\n",
      "Epoch 90 - Average validation loss: 1.61, Average validation accuracy: 0.53\n",
      "Training epoch 91\n"
     ]
    },
    {
     "name": "stderr",
     "output_type": "stream",
     "text": [
      "Iteration: 100%|██████████████████████████████████████████████████████████████████████████████████████████████████████████| 188/188 [00:14<00:00, 12.87it/s]\n"
     ]
    },
    {
     "name": "stdout",
     "output_type": "stream",
     "text": [
      "Epoch 91 - Average training loss: 1.59, Average training accuracy: 0.50\n",
      "Epoch 91 - Average validation loss: 1.61, Average validation accuracy: 0.53\n",
      "Training epoch 92\n"
     ]
    },
    {
     "name": "stderr",
     "output_type": "stream",
     "text": [
      "Iteration: 100%|██████████████████████████████████████████████████████████████████████████████████████████████████████████| 188/188 [00:14<00:00, 12.88it/s]\n"
     ]
    },
    {
     "name": "stdout",
     "output_type": "stream",
     "text": [
      "Epoch 92 - Average training loss: 1.59, Average training accuracy: 0.52\n",
      "Epoch 92 - Average validation loss: 1.61, Average validation accuracy: 0.53\n",
      "Training epoch 93\n"
     ]
    },
    {
     "name": "stderr",
     "output_type": "stream",
     "text": [
      "Iteration: 100%|██████████████████████████████████████████████████████████████████████████████████████████████████████████| 188/188 [00:14<00:00, 12.88it/s]\n"
     ]
    },
    {
     "name": "stdout",
     "output_type": "stream",
     "text": [
      "Epoch 93 - Average training loss: 1.59, Average training accuracy: 0.51\n",
      "Epoch 93 - Average validation loss: 1.61, Average validation accuracy: 0.53\n",
      "Training epoch 94\n"
     ]
    },
    {
     "name": "stderr",
     "output_type": "stream",
     "text": [
      "Iteration: 100%|██████████████████████████████████████████████████████████████████████████████████████████████████████████| 188/188 [00:14<00:00, 12.87it/s]\n"
     ]
    },
    {
     "name": "stdout",
     "output_type": "stream",
     "text": [
      "Epoch 94 - Average training loss: 1.59, Average training accuracy: 0.51\n",
      "Epoch 94 - Average validation loss: 1.61, Average validation accuracy: 0.53\n",
      "Training epoch 95\n"
     ]
    },
    {
     "name": "stderr",
     "output_type": "stream",
     "text": [
      "Iteration: 100%|██████████████████████████████████████████████████████████████████████████████████████████████████████████| 188/188 [00:14<00:00, 12.88it/s]\n"
     ]
    },
    {
     "name": "stdout",
     "output_type": "stream",
     "text": [
      "Epoch 95 - Average training loss: 1.59, Average training accuracy: 0.51\n",
      "Epoch 95 - Average validation loss: 1.61, Average validation accuracy: 0.53\n",
      "Training epoch 96\n"
     ]
    },
    {
     "name": "stderr",
     "output_type": "stream",
     "text": [
      "Iteration: 100%|██████████████████████████████████████████████████████████████████████████████████████████████████████████| 188/188 [00:14<00:00, 12.87it/s]\n"
     ]
    },
    {
     "name": "stdout",
     "output_type": "stream",
     "text": [
      "Epoch 96 - Average training loss: 1.59, Average training accuracy: 0.50\n",
      "Epoch 96 - Average validation loss: 1.61, Average validation accuracy: 0.53\n",
      "Training epoch 97\n"
     ]
    },
    {
     "name": "stderr",
     "output_type": "stream",
     "text": [
      "Iteration: 100%|██████████████████████████████████████████████████████████████████████████████████████████████████████████| 188/188 [00:14<00:00, 12.88it/s]\n"
     ]
    },
    {
     "name": "stdout",
     "output_type": "stream",
     "text": [
      "Epoch 97 - Average training loss: 1.58, Average training accuracy: 0.50\n",
      "Epoch 97 - Average validation loss: 1.61, Average validation accuracy: 0.53\n",
      "Training epoch 98\n"
     ]
    },
    {
     "name": "stderr",
     "output_type": "stream",
     "text": [
      "Iteration: 100%|██████████████████████████████████████████████████████████████████████████████████████████████████████████| 188/188 [00:14<00:00, 12.88it/s]\n"
     ]
    },
    {
     "name": "stdout",
     "output_type": "stream",
     "text": [
      "Epoch 98 - Average training loss: 1.58, Average training accuracy: 0.51\n",
      "Epoch 98 - Average validation loss: 1.61, Average validation accuracy: 0.53\n",
      "Training epoch 99\n"
     ]
    },
    {
     "name": "stderr",
     "output_type": "stream",
     "text": [
      "Iteration: 100%|██████████████████████████████████████████████████████████████████████████████████████████████████████████| 188/188 [00:14<00:00, 12.87it/s]\n"
     ]
    },
    {
     "name": "stdout",
     "output_type": "stream",
     "text": [
      "Epoch 99 - Average training loss: 1.59, Average training accuracy: 0.50\n",
      "Epoch 99 - Average validation loss: 1.61, Average validation accuracy: 0.53\n",
      "Training epoch 100\n"
     ]
    },
    {
     "name": "stderr",
     "output_type": "stream",
     "text": [
      "Iteration: 100%|██████████████████████████████████████████████████████████████████████████████████████████████████████████| 188/188 [00:14<00:00, 12.85it/s]\n"
     ]
    },
    {
     "name": "stdout",
     "output_type": "stream",
     "text": [
      "Epoch 100 - Average training loss: 1.59, Average training accuracy: 0.51\n",
      "Epoch 100 - Average validation loss: 1.61, Average validation accuracy: 0.53\n",
      "Final Training with all data\n",
      "Training epoch 1\n"
     ]
    },
    {
     "name": "stderr",
     "output_type": "stream",
     "text": [
      "Iteration:   0%|                                                                                                                    | 0/376 [00:00<?, ?it/s][2023-06-27 09:59:15,339] torch._inductor.utils: [WARNING] using triton random, expect difference from eager\n",
      "Iteration: 100%|█████████████████████████████████████████████████████████████████████████████████████████████████████████▋| 375/376 [00:36<00:00, 13.00it/s][2023-06-27 09:59:52,160] torch._inductor.utils: [WARNING] using triton random, expect difference from eager\n",
      "Iteration: 100%|██████████████████████████████████████████████████████████████████████████████████████████████████████████| 376/376 [00:58<00:00,  6.41it/s]\n"
     ]
    },
    {
     "name": "stdout",
     "output_type": "stream",
     "text": [
      "Epoch 1 - Average training loss: 1.96, Average training accuracy: 0.15\n",
      "Training epoch 2\n"
     ]
    },
    {
     "name": "stderr",
     "output_type": "stream",
     "text": [
      "Iteration: 100%|██████████████████████████████████████████████████████████████████████████████████████████████████████████| 376/376 [00:26<00:00, 13.98it/s]\n"
     ]
    },
    {
     "name": "stdout",
     "output_type": "stream",
     "text": [
      "Epoch 2 - Average training loss: 1.96, Average training accuracy: 0.15\n",
      "Training epoch 3\n"
     ]
    },
    {
     "name": "stderr",
     "output_type": "stream",
     "text": [
      "Iteration: 100%|██████████████████████████████████████████████████████████████████████████████████████████████████████████| 376/376 [00:29<00:00, 12.93it/s]\n"
     ]
    },
    {
     "name": "stdout",
     "output_type": "stream",
     "text": [
      "Epoch 3 - Average training loss: 1.96, Average training accuracy: 0.15\n",
      "Training epoch 4\n"
     ]
    },
    {
     "name": "stderr",
     "output_type": "stream",
     "text": [
      "Iteration: 100%|██████████████████████████████████████████████████████████████████████████████████████████████████████████| 376/376 [00:29<00:00, 12.83it/s]\n"
     ]
    },
    {
     "name": "stdout",
     "output_type": "stream",
     "text": [
      "Epoch 4 - Average training loss: 1.95, Average training accuracy: 0.15\n",
      "Training epoch 5\n"
     ]
    },
    {
     "name": "stderr",
     "output_type": "stream",
     "text": [
      "Iteration: 100%|██████████████████████████████████████████████████████████████████████████████████████████████████████████| 376/376 [00:29<00:00, 12.84it/s]\n"
     ]
    },
    {
     "name": "stdout",
     "output_type": "stream",
     "text": [
      "Epoch 5 - Average training loss: 1.95, Average training accuracy: 0.15\n",
      "Training epoch 6\n"
     ]
    },
    {
     "name": "stderr",
     "output_type": "stream",
     "text": [
      "Iteration: 100%|██████████████████████████████████████████████████████████████████████████████████████████████████████████| 376/376 [00:29<00:00, 12.87it/s]\n"
     ]
    },
    {
     "name": "stdout",
     "output_type": "stream",
     "text": [
      "Epoch 6 - Average training loss: 1.95, Average training accuracy: 0.16\n",
      "Training epoch 7\n"
     ]
    },
    {
     "name": "stderr",
     "output_type": "stream",
     "text": [
      "Iteration: 100%|██████████████████████████████████████████████████████████████████████████████████████████████████████████| 376/376 [00:29<00:00, 12.86it/s]\n"
     ]
    },
    {
     "name": "stdout",
     "output_type": "stream",
     "text": [
      "Epoch 7 - Average training loss: 1.95, Average training accuracy: 0.17\n",
      "Training epoch 8\n"
     ]
    },
    {
     "name": "stderr",
     "output_type": "stream",
     "text": [
      "Iteration: 100%|██████████████████████████████████████████████████████████████████████████████████████████████████████████| 376/376 [00:29<00:00, 12.85it/s]\n"
     ]
    },
    {
     "name": "stdout",
     "output_type": "stream",
     "text": [
      "Epoch 8 - Average training loss: 1.94, Average training accuracy: 0.18\n",
      "Training epoch 9\n"
     ]
    },
    {
     "name": "stderr",
     "output_type": "stream",
     "text": [
      "Iteration: 100%|██████████████████████████████████████████████████████████████████████████████████████████████████████████| 376/376 [00:29<00:00, 12.85it/s]\n"
     ]
    },
    {
     "name": "stdout",
     "output_type": "stream",
     "text": [
      "Epoch 9 - Average training loss: 1.94, Average training accuracy: 0.19\n",
      "Training epoch 10\n"
     ]
    },
    {
     "name": "stderr",
     "output_type": "stream",
     "text": [
      "Iteration: 100%|██████████████████████████████████████████████████████████████████████████████████████████████████████████| 376/376 [00:29<00:00, 12.84it/s]\n"
     ]
    },
    {
     "name": "stdout",
     "output_type": "stream",
     "text": [
      "Epoch 10 - Average training loss: 1.94, Average training accuracy: 0.20\n",
      "Training epoch 11\n"
     ]
    },
    {
     "name": "stderr",
     "output_type": "stream",
     "text": [
      "Iteration: 100%|██████████████████████████████████████████████████████████████████████████████████████████████████████████| 376/376 [00:29<00:00, 12.78it/s]\n"
     ]
    },
    {
     "name": "stdout",
     "output_type": "stream",
     "text": [
      "Epoch 11 - Average training loss: 1.94, Average training accuracy: 0.22\n",
      "Training epoch 12\n"
     ]
    },
    {
     "name": "stderr",
     "output_type": "stream",
     "text": [
      "Iteration: 100%|██████████████████████████████████████████████████████████████████████████████████████████████████████████| 376/376 [00:29<00:00, 12.78it/s]\n"
     ]
    },
    {
     "name": "stdout",
     "output_type": "stream",
     "text": [
      "Epoch 12 - Average training loss: 1.94, Average training accuracy: 0.23\n",
      "Training epoch 13\n"
     ]
    },
    {
     "name": "stderr",
     "output_type": "stream",
     "text": [
      "Iteration: 100%|██████████████████████████████████████████████████████████████████████████████████████████████████████████| 376/376 [00:29<00:00, 12.79it/s]\n"
     ]
    },
    {
     "name": "stdout",
     "output_type": "stream",
     "text": [
      "Epoch 13 - Average training loss: 1.93, Average training accuracy: 0.24\n",
      "Training epoch 14\n"
     ]
    },
    {
     "name": "stderr",
     "output_type": "stream",
     "text": [
      "Iteration: 100%|██████████████████████████████████████████████████████████████████████████████████████████████████████████| 376/376 [00:29<00:00, 12.78it/s]\n"
     ]
    },
    {
     "name": "stdout",
     "output_type": "stream",
     "text": [
      "Epoch 14 - Average training loss: 1.93, Average training accuracy: 0.26\n",
      "Training epoch 15\n"
     ]
    },
    {
     "name": "stderr",
     "output_type": "stream",
     "text": [
      "Iteration: 100%|██████████████████████████████████████████████████████████████████████████████████████████████████████████| 376/376 [00:29<00:00, 12.79it/s]\n"
     ]
    },
    {
     "name": "stdout",
     "output_type": "stream",
     "text": [
      "Epoch 15 - Average training loss: 1.93, Average training accuracy: 0.26\n",
      "Training epoch 16\n"
     ]
    },
    {
     "name": "stderr",
     "output_type": "stream",
     "text": [
      "Iteration: 100%|██████████████████████████████████████████████████████████████████████████████████████████████████████████| 376/376 [00:29<00:00, 12.80it/s]\n"
     ]
    },
    {
     "name": "stdout",
     "output_type": "stream",
     "text": [
      "Epoch 16 - Average training loss: 1.93, Average training accuracy: 0.28\n",
      "Training epoch 17\n"
     ]
    },
    {
     "name": "stderr",
     "output_type": "stream",
     "text": [
      "Iteration: 100%|██████████████████████████████████████████████████████████████████████████████████████████████████████████| 376/376 [00:29<00:00, 12.81it/s]\n"
     ]
    },
    {
     "name": "stdout",
     "output_type": "stream",
     "text": [
      "Epoch 17 - Average training loss: 1.93, Average training accuracy: 0.29\n",
      "Training epoch 18\n"
     ]
    },
    {
     "name": "stderr",
     "output_type": "stream",
     "text": [
      "Iteration: 100%|██████████████████████████████████████████████████████████████████████████████████████████████████████████| 376/376 [00:29<00:00, 12.81it/s]\n"
     ]
    },
    {
     "name": "stdout",
     "output_type": "stream",
     "text": [
      "Epoch 18 - Average training loss: 1.93, Average training accuracy: 0.30\n",
      "Training epoch 19\n"
     ]
    },
    {
     "name": "stderr",
     "output_type": "stream",
     "text": [
      "Iteration: 100%|██████████████████████████████████████████████████████████████████████████████████████████████████████████| 376/376 [00:29<00:00, 12.81it/s]\n"
     ]
    },
    {
     "name": "stdout",
     "output_type": "stream",
     "text": [
      "Epoch 19 - Average training loss: 1.92, Average training accuracy: 0.31\n",
      "Training epoch 20\n"
     ]
    },
    {
     "name": "stderr",
     "output_type": "stream",
     "text": [
      "Iteration: 100%|██████████████████████████████████████████████████████████████████████████████████████████████████████████| 376/376 [00:29<00:00, 12.80it/s]\n"
     ]
    },
    {
     "name": "stdout",
     "output_type": "stream",
     "text": [
      "Epoch 20 - Average training loss: 1.92, Average training accuracy: 0.31\n",
      "Training epoch 21\n"
     ]
    },
    {
     "name": "stderr",
     "output_type": "stream",
     "text": [
      "Iteration: 100%|██████████████████████████████████████████████████████████████████████████████████████████████████████████| 376/376 [00:29<00:00, 12.81it/s]\n"
     ]
    },
    {
     "name": "stdout",
     "output_type": "stream",
     "text": [
      "Epoch 21 - Average training loss: 1.92, Average training accuracy: 0.31\n",
      "Training epoch 22\n"
     ]
    },
    {
     "name": "stderr",
     "output_type": "stream",
     "text": [
      "Iteration: 100%|██████████████████████████████████████████████████████████████████████████████████████████████████████████| 376/376 [00:29<00:00, 12.81it/s]\n"
     ]
    },
    {
     "name": "stdout",
     "output_type": "stream",
     "text": [
      "Epoch 22 - Average training loss: 1.92, Average training accuracy: 0.31\n",
      "Training epoch 23\n"
     ]
    },
    {
     "name": "stderr",
     "output_type": "stream",
     "text": [
      "Iteration: 100%|██████████████████████████████████████████████████████████████████████████████████████████████████████████| 376/376 [00:29<00:00, 12.78it/s]\n"
     ]
    },
    {
     "name": "stdout",
     "output_type": "stream",
     "text": [
      "Epoch 23 - Average training loss: 1.92, Average training accuracy: 0.32\n",
      "Training epoch 24\n"
     ]
    },
    {
     "name": "stderr",
     "output_type": "stream",
     "text": [
      "Iteration: 100%|██████████████████████████████████████████████████████████████████████████████████████████████████████████| 376/376 [00:29<00:00, 12.80it/s]\n"
     ]
    },
    {
     "name": "stdout",
     "output_type": "stream",
     "text": [
      "Epoch 24 - Average training loss: 1.92, Average training accuracy: 0.32\n",
      "Training epoch 25\n"
     ]
    },
    {
     "name": "stderr",
     "output_type": "stream",
     "text": [
      "Iteration: 100%|██████████████████████████████████████████████████████████████████████████████████████████████████████████| 376/376 [00:29<00:00, 12.81it/s]\n"
     ]
    },
    {
     "name": "stdout",
     "output_type": "stream",
     "text": [
      "Epoch 25 - Average training loss: 1.92, Average training accuracy: 0.34\n",
      "Training epoch 26\n"
     ]
    },
    {
     "name": "stderr",
     "output_type": "stream",
     "text": [
      "Iteration: 100%|██████████████████████████████████████████████████████████████████████████████████████████████████████████| 376/376 [00:29<00:00, 12.81it/s]\n"
     ]
    },
    {
     "name": "stdout",
     "output_type": "stream",
     "text": [
      "Epoch 26 - Average training loss: 1.91, Average training accuracy: 0.33\n",
      "Training epoch 27\n"
     ]
    },
    {
     "name": "stderr",
     "output_type": "stream",
     "text": [
      "Iteration: 100%|██████████████████████████████████████████████████████████████████████████████████████████████████████████| 376/376 [00:29<00:00, 12.80it/s]\n"
     ]
    },
    {
     "name": "stdout",
     "output_type": "stream",
     "text": [
      "Epoch 27 - Average training loss: 1.91, Average training accuracy: 0.34\n",
      "Training epoch 28\n"
     ]
    },
    {
     "name": "stderr",
     "output_type": "stream",
     "text": [
      "Iteration: 100%|██████████████████████████████████████████████████████████████████████████████████████████████████████████| 376/376 [00:29<00:00, 12.81it/s]\n"
     ]
    },
    {
     "name": "stdout",
     "output_type": "stream",
     "text": [
      "Epoch 28 - Average training loss: 1.91, Average training accuracy: 0.35\n",
      "Training epoch 29\n"
     ]
    },
    {
     "name": "stderr",
     "output_type": "stream",
     "text": [
      "Iteration: 100%|██████████████████████████████████████████████████████████████████████████████████████████████████████████| 376/376 [00:29<00:00, 12.81it/s]\n"
     ]
    },
    {
     "name": "stdout",
     "output_type": "stream",
     "text": [
      "Epoch 29 - Average training loss: 1.91, Average training accuracy: 0.35\n",
      "Training epoch 30\n"
     ]
    },
    {
     "name": "stderr",
     "output_type": "stream",
     "text": [
      "Iteration: 100%|██████████████████████████████████████████████████████████████████████████████████████████████████████████| 376/376 [00:29<00:00, 12.81it/s]\n"
     ]
    },
    {
     "name": "stdout",
     "output_type": "stream",
     "text": [
      "Epoch 30 - Average training loss: 1.91, Average training accuracy: 0.35\n",
      "Training epoch 31\n"
     ]
    },
    {
     "name": "stderr",
     "output_type": "stream",
     "text": [
      "Iteration: 100%|██████████████████████████████████████████████████████████████████████████████████████████████████████████| 376/376 [00:29<00:00, 12.81it/s]\n"
     ]
    },
    {
     "name": "stdout",
     "output_type": "stream",
     "text": [
      "Epoch 31 - Average training loss: 1.91, Average training accuracy: 0.35\n",
      "Training epoch 32\n"
     ]
    },
    {
     "name": "stderr",
     "output_type": "stream",
     "text": [
      "Iteration: 100%|██████████████████████████████████████████████████████████████████████████████████████████████████████████| 376/376 [00:29<00:00, 12.81it/s]\n"
     ]
    },
    {
     "name": "stdout",
     "output_type": "stream",
     "text": [
      "Epoch 32 - Average training loss: 1.91, Average training accuracy: 0.35\n",
      "Training epoch 33\n"
     ]
    },
    {
     "name": "stderr",
     "output_type": "stream",
     "text": [
      "Iteration: 100%|██████████████████████████████████████████████████████████████████████████████████████████████████████████| 376/376 [00:29<00:00, 12.81it/s]\n"
     ]
    },
    {
     "name": "stdout",
     "output_type": "stream",
     "text": [
      "Epoch 33 - Average training loss: 1.91, Average training accuracy: 0.36\n",
      "Training epoch 34\n"
     ]
    },
    {
     "name": "stderr",
     "output_type": "stream",
     "text": [
      "Iteration: 100%|██████████████████████████████████████████████████████████████████████████████████████████████████████████| 376/376 [00:29<00:00, 12.81it/s]\n"
     ]
    },
    {
     "name": "stdout",
     "output_type": "stream",
     "text": [
      "Epoch 34 - Average training loss: 1.90, Average training accuracy: 0.36\n",
      "Training epoch 35\n"
     ]
    },
    {
     "name": "stderr",
     "output_type": "stream",
     "text": [
      "Iteration: 100%|██████████████████████████████████████████████████████████████████████████████████████████████████████████| 376/376 [00:29<00:00, 12.82it/s]\n"
     ]
    },
    {
     "name": "stdout",
     "output_type": "stream",
     "text": [
      "Epoch 35 - Average training loss: 1.90, Average training accuracy: 0.36\n",
      "Training epoch 36\n"
     ]
    },
    {
     "name": "stderr",
     "output_type": "stream",
     "text": [
      "Iteration: 100%|██████████████████████████████████████████████████████████████████████████████████████████████████████████| 376/376 [00:29<00:00, 12.81it/s]\n"
     ]
    },
    {
     "name": "stdout",
     "output_type": "stream",
     "text": [
      "Epoch 36 - Average training loss: 1.90, Average training accuracy: 0.37\n",
      "Training epoch 37\n"
     ]
    },
    {
     "name": "stderr",
     "output_type": "stream",
     "text": [
      "Iteration: 100%|██████████████████████████████████████████████████████████████████████████████████████████████████████████| 376/376 [00:29<00:00, 12.81it/s]\n"
     ]
    },
    {
     "name": "stdout",
     "output_type": "stream",
     "text": [
      "Epoch 37 - Average training loss: 1.90, Average training accuracy: 0.37\n",
      "Training epoch 38\n"
     ]
    },
    {
     "name": "stderr",
     "output_type": "stream",
     "text": [
      "Iteration: 100%|██████████████████████████████████████████████████████████████████████████████████████████████████████████| 376/376 [00:29<00:00, 12.81it/s]\n"
     ]
    },
    {
     "name": "stdout",
     "output_type": "stream",
     "text": [
      "Epoch 38 - Average training loss: 1.90, Average training accuracy: 0.37\n",
      "Training epoch 39\n"
     ]
    },
    {
     "name": "stderr",
     "output_type": "stream",
     "text": [
      "Iteration: 100%|██████████████████████████████████████████████████████████████████████████████████████████████████████████| 376/376 [00:29<00:00, 12.82it/s]\n"
     ]
    },
    {
     "name": "stdout",
     "output_type": "stream",
     "text": [
      "Epoch 39 - Average training loss: 1.90, Average training accuracy: 0.38\n",
      "Training epoch 40\n"
     ]
    },
    {
     "name": "stderr",
     "output_type": "stream",
     "text": [
      "Iteration: 100%|██████████████████████████████████████████████████████████████████████████████████████████████████████████| 376/376 [00:29<00:00, 12.82it/s]\n"
     ]
    },
    {
     "name": "stdout",
     "output_type": "stream",
     "text": [
      "Epoch 40 - Average training loss: 1.90, Average training accuracy: 0.37\n",
      "Training epoch 41\n"
     ]
    },
    {
     "name": "stderr",
     "output_type": "stream",
     "text": [
      "Iteration: 100%|██████████████████████████████████████████████████████████████████████████████████████████████████████████| 376/376 [00:29<00:00, 12.81it/s]\n"
     ]
    },
    {
     "name": "stdout",
     "output_type": "stream",
     "text": [
      "Epoch 41 - Average training loss: 1.90, Average training accuracy: 0.37\n",
      "Training epoch 42\n"
     ]
    },
    {
     "name": "stderr",
     "output_type": "stream",
     "text": [
      "Iteration: 100%|██████████████████████████████████████████████████████████████████████████████████████████████████████████| 376/376 [00:29<00:00, 12.77it/s]\n"
     ]
    },
    {
     "name": "stdout",
     "output_type": "stream",
     "text": [
      "Epoch 42 - Average training loss: 1.90, Average training accuracy: 0.38\n",
      "Training epoch 43\n"
     ]
    },
    {
     "name": "stderr",
     "output_type": "stream",
     "text": [
      "Iteration: 100%|██████████████████████████████████████████████████████████████████████████████████████████████████████████| 376/376 [00:33<00:00, 11.20it/s]\n"
     ]
    },
    {
     "name": "stdout",
     "output_type": "stream",
     "text": [
      "Epoch 43 - Average training loss: 1.90, Average training accuracy: 0.38\n",
      "Training epoch 44\n"
     ]
    },
    {
     "name": "stderr",
     "output_type": "stream",
     "text": [
      "Iteration: 100%|██████████████████████████████████████████████████████████████████████████████████████████████████████████| 376/376 [00:39<00:00,  9.59it/s]\n"
     ]
    },
    {
     "name": "stdout",
     "output_type": "stream",
     "text": [
      "Epoch 44 - Average training loss: 1.90, Average training accuracy: 0.39\n",
      "Training epoch 45\n"
     ]
    },
    {
     "name": "stderr",
     "output_type": "stream",
     "text": [
      "Iteration: 100%|██████████████████████████████████████████████████████████████████████████████████████████████████████████| 376/376 [00:29<00:00, 12.95it/s]\n"
     ]
    },
    {
     "name": "stdout",
     "output_type": "stream",
     "text": [
      "Epoch 45 - Average training loss: 1.89, Average training accuracy: 0.39\n",
      "Training epoch 46\n"
     ]
    },
    {
     "name": "stderr",
     "output_type": "stream",
     "text": [
      "Iteration: 100%|██████████████████████████████████████████████████████████████████████████████████████████████████████████| 376/376 [00:29<00:00, 12.85it/s]\n"
     ]
    },
    {
     "name": "stdout",
     "output_type": "stream",
     "text": [
      "Epoch 46 - Average training loss: 1.89, Average training accuracy: 0.39\n",
      "Training epoch 47\n"
     ]
    },
    {
     "name": "stderr",
     "output_type": "stream",
     "text": [
      "Iteration: 100%|██████████████████████████████████████████████████████████████████████████████████████████████████████████| 376/376 [00:29<00:00, 12.85it/s]\n"
     ]
    },
    {
     "name": "stdout",
     "output_type": "stream",
     "text": [
      "Epoch 47 - Average training loss: 1.89, Average training accuracy: 0.39\n",
      "Training epoch 48\n"
     ]
    },
    {
     "name": "stderr",
     "output_type": "stream",
     "text": [
      "Iteration: 100%|██████████████████████████████████████████████████████████████████████████████████████████████████████████| 376/376 [00:29<00:00, 12.84it/s]\n"
     ]
    },
    {
     "name": "stdout",
     "output_type": "stream",
     "text": [
      "Epoch 48 - Average training loss: 1.89, Average training accuracy: 0.38\n",
      "Training epoch 49\n"
     ]
    },
    {
     "name": "stderr",
     "output_type": "stream",
     "text": [
      "Iteration: 100%|██████████████████████████████████████████████████████████████████████████████████████████████████████████| 376/376 [00:29<00:00, 12.85it/s]\n"
     ]
    },
    {
     "name": "stdout",
     "output_type": "stream",
     "text": [
      "Epoch 49 - Average training loss: 1.89, Average training accuracy: 0.38\n",
      "Training epoch 50\n"
     ]
    },
    {
     "name": "stderr",
     "output_type": "stream",
     "text": [
      "Iteration: 100%|██████████████████████████████████████████████████████████████████████████████████████████████████████████| 376/376 [00:29<00:00, 12.85it/s]\n"
     ]
    },
    {
     "name": "stdout",
     "output_type": "stream",
     "text": [
      "Epoch 50 - Average training loss: 1.89, Average training accuracy: 0.39\n",
      "Training epoch 51\n"
     ]
    },
    {
     "name": "stderr",
     "output_type": "stream",
     "text": [
      "Iteration: 100%|██████████████████████████████████████████████████████████████████████████████████████████████████████████| 376/376 [00:29<00:00, 12.85it/s]\n"
     ]
    },
    {
     "name": "stdout",
     "output_type": "stream",
     "text": [
      "Epoch 51 - Average training loss: 1.89, Average training accuracy: 0.39\n",
      "Training epoch 52\n"
     ]
    },
    {
     "name": "stderr",
     "output_type": "stream",
     "text": [
      "Iteration: 100%|██████████████████████████████████████████████████████████████████████████████████████████████████████████| 376/376 [00:29<00:00, 12.85it/s]\n"
     ]
    },
    {
     "name": "stdout",
     "output_type": "stream",
     "text": [
      "Epoch 52 - Average training loss: 1.89, Average training accuracy: 0.38\n",
      "Training epoch 53\n"
     ]
    },
    {
     "name": "stderr",
     "output_type": "stream",
     "text": [
      "Iteration: 100%|██████████████████████████████████████████████████████████████████████████████████████████████████████████| 376/376 [00:29<00:00, 12.85it/s]\n"
     ]
    },
    {
     "name": "stdout",
     "output_type": "stream",
     "text": [
      "Epoch 53 - Average training loss: 1.89, Average training accuracy: 0.39\n",
      "Training epoch 54\n"
     ]
    },
    {
     "name": "stderr",
     "output_type": "stream",
     "text": [
      "Iteration: 100%|██████████████████████████████████████████████████████████████████████████████████████████████████████████| 376/376 [00:29<00:00, 12.85it/s]\n"
     ]
    },
    {
     "name": "stdout",
     "output_type": "stream",
     "text": [
      "Epoch 54 - Average training loss: 1.89, Average training accuracy: 0.39\n",
      "Training epoch 55\n"
     ]
    },
    {
     "name": "stderr",
     "output_type": "stream",
     "text": [
      "Iteration: 100%|██████████████████████████████████████████████████████████████████████████████████████████████████████████| 376/376 [00:29<00:00, 12.84it/s]\n"
     ]
    },
    {
     "name": "stdout",
     "output_type": "stream",
     "text": [
      "Epoch 55 - Average training loss: 1.89, Average training accuracy: 0.40\n",
      "Training epoch 56\n"
     ]
    },
    {
     "name": "stderr",
     "output_type": "stream",
     "text": [
      "Iteration: 100%|██████████████████████████████████████████████████████████████████████████████████████████████████████████| 376/376 [00:29<00:00, 12.85it/s]\n"
     ]
    },
    {
     "name": "stdout",
     "output_type": "stream",
     "text": [
      "Epoch 56 - Average training loss: 1.89, Average training accuracy: 0.39\n",
      "Training epoch 57\n"
     ]
    },
    {
     "name": "stderr",
     "output_type": "stream",
     "text": [
      "Iteration: 100%|██████████████████████████████████████████████████████████████████████████████████████████████████████████| 376/376 [00:29<00:00, 12.85it/s]\n"
     ]
    },
    {
     "name": "stdout",
     "output_type": "stream",
     "text": [
      "Epoch 57 - Average training loss: 1.89, Average training accuracy: 0.40\n",
      "Training epoch 58\n"
     ]
    },
    {
     "name": "stderr",
     "output_type": "stream",
     "text": [
      "Iteration: 100%|██████████████████████████████████████████████████████████████████████████████████████████████████████████| 376/376 [00:29<00:00, 12.85it/s]\n"
     ]
    },
    {
     "name": "stdout",
     "output_type": "stream",
     "text": [
      "Epoch 58 - Average training loss: 1.88, Average training accuracy: 0.40\n",
      "Training epoch 59\n"
     ]
    },
    {
     "name": "stderr",
     "output_type": "stream",
     "text": [
      "Iteration: 100%|██████████████████████████████████████████████████████████████████████████████████████████████████████████| 376/376 [00:29<00:00, 12.86it/s]\n"
     ]
    },
    {
     "name": "stdout",
     "output_type": "stream",
     "text": [
      "Epoch 59 - Average training loss: 1.88, Average training accuracy: 0.39\n",
      "Training epoch 60\n"
     ]
    },
    {
     "name": "stderr",
     "output_type": "stream",
     "text": [
      "Iteration: 100%|██████████████████████████████████████████████████████████████████████████████████████████████████████████| 376/376 [00:29<00:00, 12.84it/s]\n"
     ]
    },
    {
     "name": "stdout",
     "output_type": "stream",
     "text": [
      "Epoch 60 - Average training loss: 1.88, Average training accuracy: 0.40\n",
      "Training epoch 61\n"
     ]
    },
    {
     "name": "stderr",
     "output_type": "stream",
     "text": [
      "Iteration: 100%|██████████████████████████████████████████████████████████████████████████████████████████████████████████| 376/376 [00:29<00:00, 12.84it/s]\n"
     ]
    },
    {
     "name": "stdout",
     "output_type": "stream",
     "text": [
      "Epoch 61 - Average training loss: 1.88, Average training accuracy: 0.39\n",
      "Training epoch 62\n"
     ]
    },
    {
     "name": "stderr",
     "output_type": "stream",
     "text": [
      "Iteration: 100%|██████████████████████████████████████████████████████████████████████████████████████████████████████████| 376/376 [00:29<00:00, 12.86it/s]\n"
     ]
    },
    {
     "name": "stdout",
     "output_type": "stream",
     "text": [
      "Epoch 62 - Average training loss: 1.88, Average training accuracy: 0.39\n",
      "Training epoch 63\n"
     ]
    },
    {
     "name": "stderr",
     "output_type": "stream",
     "text": [
      "Iteration: 100%|██████████████████████████████████████████████████████████████████████████████████████████████████████████| 376/376 [00:29<00:00, 12.87it/s]\n"
     ]
    },
    {
     "name": "stdout",
     "output_type": "stream",
     "text": [
      "Epoch 63 - Average training loss: 1.88, Average training accuracy: 0.40\n",
      "Training epoch 64\n"
     ]
    },
    {
     "name": "stderr",
     "output_type": "stream",
     "text": [
      "Iteration: 100%|██████████████████████████████████████████████████████████████████████████████████████████████████████████| 376/376 [00:29<00:00, 12.86it/s]\n"
     ]
    },
    {
     "name": "stdout",
     "output_type": "stream",
     "text": [
      "Epoch 64 - Average training loss: 1.88, Average training accuracy: 0.40\n",
      "Training epoch 65\n"
     ]
    },
    {
     "name": "stderr",
     "output_type": "stream",
     "text": [
      "Iteration: 100%|██████████████████████████████████████████████████████████████████████████████████████████████████████████| 376/376 [00:30<00:00, 12.41it/s]\n"
     ]
    },
    {
     "name": "stdout",
     "output_type": "stream",
     "text": [
      "Epoch 65 - Average training loss: 1.88, Average training accuracy: 0.40\n",
      "Training epoch 66\n"
     ]
    },
    {
     "name": "stderr",
     "output_type": "stream",
     "text": [
      "Iteration: 100%|██████████████████████████████████████████████████████████████████████████████████████████████████████████| 376/376 [00:41<00:00,  9.12it/s]\n"
     ]
    },
    {
     "name": "stdout",
     "output_type": "stream",
     "text": [
      "Epoch 66 - Average training loss: 1.88, Average training accuracy: 0.40\n",
      "Training epoch 67\n"
     ]
    },
    {
     "name": "stderr",
     "output_type": "stream",
     "text": [
      "Iteration: 100%|██████████████████████████████████████████████████████████████████████████████████████████████████████████| 376/376 [00:28<00:00, 12.97it/s]\n"
     ]
    },
    {
     "name": "stdout",
     "output_type": "stream",
     "text": [
      "Epoch 67 - Average training loss: 1.88, Average training accuracy: 0.41\n",
      "Training epoch 68\n"
     ]
    },
    {
     "name": "stderr",
     "output_type": "stream",
     "text": [
      "Iteration: 100%|██████████████████████████████████████████████████████████████████████████████████████████████████████████| 376/376 [00:29<00:00, 12.84it/s]\n"
     ]
    },
    {
     "name": "stdout",
     "output_type": "stream",
     "text": [
      "Epoch 68 - Average training loss: 1.88, Average training accuracy: 0.39\n",
      "Training epoch 69\n"
     ]
    },
    {
     "name": "stderr",
     "output_type": "stream",
     "text": [
      "Iteration: 100%|██████████████████████████████████████████████████████████████████████████████████████████████████████████| 376/376 [00:29<00:00, 12.85it/s]\n"
     ]
    },
    {
     "name": "stdout",
     "output_type": "stream",
     "text": [
      "Epoch 69 - Average training loss: 1.88, Average training accuracy: 0.39\n",
      "Training epoch 70\n"
     ]
    },
    {
     "name": "stderr",
     "output_type": "stream",
     "text": [
      "Iteration: 100%|██████████████████████████████████████████████████████████████████████████████████████████████████████████| 376/376 [00:29<00:00, 12.85it/s]\n"
     ]
    },
    {
     "name": "stdout",
     "output_type": "stream",
     "text": [
      "Epoch 70 - Average training loss: 1.87, Average training accuracy: 0.41\n",
      "Training epoch 71\n"
     ]
    },
    {
     "name": "stderr",
     "output_type": "stream",
     "text": [
      "Iteration: 100%|██████████████████████████████████████████████████████████████████████████████████████████████████████████| 376/376 [00:29<00:00, 12.84it/s]\n"
     ]
    },
    {
     "name": "stdout",
     "output_type": "stream",
     "text": [
      "Epoch 71 - Average training loss: 1.88, Average training accuracy: 0.40\n",
      "Training epoch 72\n"
     ]
    },
    {
     "name": "stderr",
     "output_type": "stream",
     "text": [
      "Iteration: 100%|██████████████████████████████████████████████████████████████████████████████████████████████████████████| 376/376 [00:29<00:00, 12.84it/s]\n"
     ]
    },
    {
     "name": "stdout",
     "output_type": "stream",
     "text": [
      "Epoch 72 - Average training loss: 1.88, Average training accuracy: 0.41\n",
      "Training epoch 73\n"
     ]
    },
    {
     "name": "stderr",
     "output_type": "stream",
     "text": [
      "Iteration: 100%|██████████████████████████████████████████████████████████████████████████████████████████████████████████| 376/376 [00:29<00:00, 12.79it/s]\n"
     ]
    },
    {
     "name": "stdout",
     "output_type": "stream",
     "text": [
      "Epoch 73 - Average training loss: 1.88, Average training accuracy: 0.40\n",
      "Training epoch 74\n"
     ]
    },
    {
     "name": "stderr",
     "output_type": "stream",
     "text": [
      "Iteration: 100%|██████████████████████████████████████████████████████████████████████████████████████████████████████████| 376/376 [00:29<00:00, 12.79it/s]\n"
     ]
    },
    {
     "name": "stdout",
     "output_type": "stream",
     "text": [
      "Epoch 74 - Average training loss: 1.87, Average training accuracy: 0.40\n",
      "Training epoch 75\n"
     ]
    },
    {
     "name": "stderr",
     "output_type": "stream",
     "text": [
      "Iteration: 100%|██████████████████████████████████████████████████████████████████████████████████████████████████████████| 376/376 [00:29<00:00, 12.79it/s]\n"
     ]
    },
    {
     "name": "stdout",
     "output_type": "stream",
     "text": [
      "Epoch 75 - Average training loss: 1.87, Average training accuracy: 0.40\n",
      "Training epoch 76\n"
     ]
    },
    {
     "name": "stderr",
     "output_type": "stream",
     "text": [
      "Iteration: 100%|██████████████████████████████████████████████████████████████████████████████████████████████████████████| 376/376 [00:29<00:00, 12.81it/s]\n"
     ]
    },
    {
     "name": "stdout",
     "output_type": "stream",
     "text": [
      "Epoch 76 - Average training loss: 1.87, Average training accuracy: 0.40\n",
      "Training epoch 77\n"
     ]
    },
    {
     "name": "stderr",
     "output_type": "stream",
     "text": [
      "Iteration: 100%|██████████████████████████████████████████████████████████████████████████████████████████████████████████| 376/376 [00:29<00:00, 12.81it/s]\n"
     ]
    },
    {
     "name": "stdout",
     "output_type": "stream",
     "text": [
      "Epoch 77 - Average training loss: 1.87, Average training accuracy: 0.41\n",
      "Training epoch 78\n"
     ]
    },
    {
     "name": "stderr",
     "output_type": "stream",
     "text": [
      "Iteration: 100%|██████████████████████████████████████████████████████████████████████████████████████████████████████████| 376/376 [00:29<00:00, 12.81it/s]\n"
     ]
    },
    {
     "name": "stdout",
     "output_type": "stream",
     "text": [
      "Epoch 78 - Average training loss: 1.87, Average training accuracy: 0.41\n",
      "Training epoch 79\n"
     ]
    },
    {
     "name": "stderr",
     "output_type": "stream",
     "text": [
      "Iteration: 100%|██████████████████████████████████████████████████████████████████████████████████████████████████████████| 376/376 [00:29<00:00, 12.80it/s]\n"
     ]
    },
    {
     "name": "stdout",
     "output_type": "stream",
     "text": [
      "Epoch 79 - Average training loss: 1.87, Average training accuracy: 0.40\n",
      "Training epoch 80\n"
     ]
    },
    {
     "name": "stderr",
     "output_type": "stream",
     "text": [
      "Iteration: 100%|██████████████████████████████████████████████████████████████████████████████████████████████████████████| 376/376 [00:29<00:00, 12.79it/s]\n"
     ]
    },
    {
     "name": "stdout",
     "output_type": "stream",
     "text": [
      "Epoch 80 - Average training loss: 1.87, Average training accuracy: 0.40\n",
      "Training epoch 81\n"
     ]
    },
    {
     "name": "stderr",
     "output_type": "stream",
     "text": [
      "Iteration: 100%|██████████████████████████████████████████████████████████████████████████████████████████████████████████| 376/376 [00:29<00:00, 12.78it/s]\n"
     ]
    },
    {
     "name": "stdout",
     "output_type": "stream",
     "text": [
      "Epoch 81 - Average training loss: 1.87, Average training accuracy: 0.40\n",
      "Training epoch 82\n"
     ]
    },
    {
     "name": "stderr",
     "output_type": "stream",
     "text": [
      "Iteration: 100%|██████████████████████████████████████████████████████████████████████████████████████████████████████████| 376/376 [00:29<00:00, 12.78it/s]\n"
     ]
    },
    {
     "name": "stdout",
     "output_type": "stream",
     "text": [
      "Epoch 82 - Average training loss: 1.87, Average training accuracy: 0.41\n",
      "Training epoch 83\n"
     ]
    },
    {
     "name": "stderr",
     "output_type": "stream",
     "text": [
      "Iteration: 100%|██████████████████████████████████████████████████████████████████████████████████████████████████████████| 376/376 [00:29<00:00, 12.82it/s]\n"
     ]
    },
    {
     "name": "stdout",
     "output_type": "stream",
     "text": [
      "Epoch 83 - Average training loss: 1.87, Average training accuracy: 0.40\n",
      "Training epoch 84\n"
     ]
    },
    {
     "name": "stderr",
     "output_type": "stream",
     "text": [
      "Iteration: 100%|██████████████████████████████████████████████████████████████████████████████████████████████████████████| 376/376 [00:29<00:00, 12.82it/s]\n"
     ]
    },
    {
     "name": "stdout",
     "output_type": "stream",
     "text": [
      "Epoch 84 - Average training loss: 1.87, Average training accuracy: 0.40\n",
      "Training epoch 85\n"
     ]
    },
    {
     "name": "stderr",
     "output_type": "stream",
     "text": [
      "Iteration: 100%|██████████████████████████████████████████████████████████████████████████████████████████████████████████| 376/376 [00:29<00:00, 12.79it/s]\n"
     ]
    },
    {
     "name": "stdout",
     "output_type": "stream",
     "text": [
      "Epoch 85 - Average training loss: 1.87, Average training accuracy: 0.40\n",
      "Training epoch 86\n"
     ]
    },
    {
     "name": "stderr",
     "output_type": "stream",
     "text": [
      "Iteration: 100%|██████████████████████████████████████████████████████████████████████████████████████████████████████████| 376/376 [00:29<00:00, 12.80it/s]\n"
     ]
    },
    {
     "name": "stdout",
     "output_type": "stream",
     "text": [
      "Epoch 86 - Average training loss: 1.87, Average training accuracy: 0.41\n",
      "Training epoch 87\n"
     ]
    },
    {
     "name": "stderr",
     "output_type": "stream",
     "text": [
      "Iteration: 100%|██████████████████████████████████████████████████████████████████████████████████████████████████████████| 376/376 [00:29<00:00, 12.78it/s]\n"
     ]
    },
    {
     "name": "stdout",
     "output_type": "stream",
     "text": [
      "Epoch 87 - Average training loss: 1.87, Average training accuracy: 0.41\n",
      "Training epoch 88\n"
     ]
    },
    {
     "name": "stderr",
     "output_type": "stream",
     "text": [
      "Iteration: 100%|██████████████████████████████████████████████████████████████████████████████████████████████████████████| 376/376 [00:29<00:00, 12.81it/s]\n"
     ]
    },
    {
     "name": "stdout",
     "output_type": "stream",
     "text": [
      "Epoch 88 - Average training loss: 1.87, Average training accuracy: 0.41\n",
      "Training epoch 89\n"
     ]
    },
    {
     "name": "stderr",
     "output_type": "stream",
     "text": [
      "Iteration: 100%|██████████████████████████████████████████████████████████████████████████████████████████████████████████| 376/376 [00:29<00:00, 12.80it/s]\n"
     ]
    },
    {
     "name": "stdout",
     "output_type": "stream",
     "text": [
      "Epoch 89 - Average training loss: 1.87, Average training accuracy: 0.40\n",
      "Training epoch 90\n"
     ]
    },
    {
     "name": "stderr",
     "output_type": "stream",
     "text": [
      "Iteration: 100%|██████████████████████████████████████████████████████████████████████████████████████████████████████████| 376/376 [00:29<00:00, 12.80it/s]\n"
     ]
    },
    {
     "name": "stdout",
     "output_type": "stream",
     "text": [
      "Epoch 90 - Average training loss: 1.87, Average training accuracy: 0.40\n",
      "Training epoch 91\n"
     ]
    },
    {
     "name": "stderr",
     "output_type": "stream",
     "text": [
      "Iteration: 100%|██████████████████████████████████████████████████████████████████████████| 376/376 [00:29<00:00, 12.81it/s]\n"
     ]
    },
    {
     "name": "stdout",
     "output_type": "stream",
     "text": [
      "Epoch 91 - Average training loss: 1.87, Average training accuracy: 0.41\n",
      "Training epoch 92\n"
     ]
    },
    {
     "name": "stderr",
     "output_type": "stream",
     "text": [
      "Iteration: 100%|██████████████████████████████████████████████████████████████████████████| 376/376 [00:29<00:00, 12.81it/s]\n"
     ]
    },
    {
     "name": "stdout",
     "output_type": "stream",
     "text": [
      "Epoch 92 - Average training loss: 1.87, Average training accuracy: 0.40\n",
      "Training epoch 93\n"
     ]
    },
    {
     "name": "stderr",
     "output_type": "stream",
     "text": [
      "Iteration: 100%|██████████████████████████████████████████████████████████████████████████| 376/376 [00:29<00:00, 12.81it/s]\n"
     ]
    },
    {
     "name": "stdout",
     "output_type": "stream",
     "text": [
      "Epoch 93 - Average training loss: 1.87, Average training accuracy: 0.40\n",
      "Training epoch 94\n"
     ]
    },
    {
     "name": "stderr",
     "output_type": "stream",
     "text": [
      "Iteration: 100%|██████████████████████████████████████████████████████████████████████████| 376/376 [00:29<00:00, 12.81it/s]\n"
     ]
    },
    {
     "name": "stdout",
     "output_type": "stream",
     "text": [
      "Epoch 94 - Average training loss: 1.87, Average training accuracy: 0.40\n",
      "Training epoch 95\n"
     ]
    },
    {
     "name": "stderr",
     "output_type": "stream",
     "text": [
      "Iteration: 100%|██████████████████████████████████████████████████████████████████████████| 376/376 [00:29<00:00, 12.80it/s]\n"
     ]
    },
    {
     "name": "stdout",
     "output_type": "stream",
     "text": [
      "Epoch 95 - Average training loss: 1.87, Average training accuracy: 0.42\n",
      "Training epoch 96\n"
     ]
    },
    {
     "name": "stderr",
     "output_type": "stream",
     "text": [
      "Iteration: 100%|██████████████████████████████████████████████████████████████████████████| 376/376 [00:29<00:00, 12.80it/s]\n"
     ]
    },
    {
     "name": "stdout",
     "output_type": "stream",
     "text": [
      "Epoch 96 - Average training loss: 1.87, Average training accuracy: 0.40\n",
      "Training epoch 97\n"
     ]
    },
    {
     "name": "stderr",
     "output_type": "stream",
     "text": [
      "Iteration: 100%|██████████████████████████████████████████████████████████████████████████| 376/376 [00:29<00:00, 12.80it/s]\n"
     ]
    },
    {
     "name": "stdout",
     "output_type": "stream",
     "text": [
      "Epoch 97 - Average training loss: 1.87, Average training accuracy: 0.41\n",
      "Training epoch 98\n"
     ]
    },
    {
     "name": "stderr",
     "output_type": "stream",
     "text": [
      "Iteration: 100%|██████████████████████████████████████████████████████████████████████████| 376/376 [00:29<00:00, 12.80it/s]\n"
     ]
    },
    {
     "name": "stdout",
     "output_type": "stream",
     "text": [
      "Epoch 98 - Average training loss: 1.87, Average training accuracy: 0.41\n",
      "Training epoch 99\n"
     ]
    },
    {
     "name": "stderr",
     "output_type": "stream",
     "text": [
      "Iteration: 100%|██████████████████████████████████████████████████████████████████████████| 376/376 [00:29<00:00, 12.78it/s]\n"
     ]
    },
    {
     "name": "stdout",
     "output_type": "stream",
     "text": [
      "Epoch 99 - Average training loss: 1.87, Average training accuracy: 0.41\n",
      "Training epoch 100\n"
     ]
    },
    {
     "name": "stderr",
     "output_type": "stream",
     "text": [
      "Iteration: 100%|██████████████████████████████████████████████████████████████████████████| 376/376 [00:29<00:00, 12.80it/s]"
     ]
    },
    {
     "name": "stdout",
     "output_type": "stream",
     "text": [
      "Epoch 100 - Average training loss: 1.87, Average training accuracy: 0.41\n"
     ]
    },
    {
     "name": "stderr",
     "output_type": "stream",
     "text": [
      "\n"
     ]
    }
   ],
   "source": [
    "kfold_results, model_frozen = kfold_cross_validation(train_inputs, train_labels, train_masks, compiled_model, device, EPOCHS_KFOLD_FROZEN, lr=LEARNING_RATE_KFOLD_FROZEN,\n",
    "                                                        k_folds=K_FOLDS_FROZEN,\n",
    "                                                        batch_size=BATCH_SIZE)"
   ]
  },
  {
   "cell_type": "code",
   "execution_count": 18,
   "id": "693adc94",
   "metadata": {},
   "outputs": [
    {
     "name": "stdout",
     "output_type": "stream",
     "text": [
      "Fold 2 results (frozen model):\n",
      "Accuracy: 0.5302\n",
      "Loss: 1.6125\n"
     ]
    }
   ],
   "source": [
    "for i, fold_result in enumerate(kfold_results[:-1]):\n",
    "        message = f\"Fold {i + 1} results (frozen model):\\nAccuracy: {fold_result['validation_accuracies'][-1]:.4f}\\nLoss: {fold_result['validation_losses'][-1]:.4f}\"\n",
    "print(message)       \n"
   ]
  },
  {
   "cell_type": "code",
   "execution_count": 20,
   "id": "38b95762",
   "metadata": {},
   "outputs": [],
   "source": [
    "all_training_losses_frozen = []\n",
    "all_training_accuracies_frozen = []\n",
    "all_validation_losses_frozen = []\n",
    "all_validation_accuracies_frozen = []\n",
    "\n",
    "# Iterate through the results of each fold\n",
    "for fold_result in kfold_results:\n",
    "    all_training_losses_frozen.append(fold_result['training_losses'])\n",
    "    all_training_accuracies_frozen.append(fold_result['training_accuracies'])\n",
    "    all_validation_losses_frozen.append(fold_result['validation_losses'])\n",
    "    all_validation_accuracies_frozen.append(fold_result['validation_accuracies'])"
   ]
  },
  {
   "cell_type": "code",
   "execution_count": 29,
   "id": "96682db2",
   "metadata": {},
   "outputs": [],
   "source": [
    "def plot_results(training_losses, validation_losses, loss_or_accuracy, title):\n",
    "    import matplotlib.pyplot as plt\n",
    "\n",
    "    for i, (t_loss, v_loss) in enumerate(zip(training_losses, validation_losses)):\n",
    "        plt.plot(t_loss, label=f'Fold {i + 1} - Training ' + loss_or_accuracy)\n",
    "        if v_loss is not None:\n",
    "            plt.plot(v_loss, label=f'Fold {i + 1} - Validation ' + loss_or_accuracy)\n",
    "\n",
    "    plt.xlabel('Epochs')\n",
    "    plt.ylabel(loss_or_accuracy)\n",
    "    plt.legend()\n",
    "    plt.title(title)\n",
    "    "
   ]
  },
  {
   "cell_type": "code",
   "execution_count": 30,
   "id": "4c18d759",
   "metadata": {},
   "outputs": [
    {
     "data": {
      "image/png": "[encoded data removed]",
      "text/plain": [
       "<Figure size 640x480 with 1 Axes>"
      ]
     },
     "metadata": {},
     "output_type": "display_data"
    }
   ],
   "source": [
    "plot_results(all_training_losses_frozen, all_validation_losses_frozen, 'Loss', 'Trainning and Validation Losses for each fold')"
   ]
  },
  {
   "cell_type": "code",
   "execution_count": 31,
   "id": "ca583210",
   "metadata": {},
   "outputs": [
    {
     "data": {
      "image/png": "[encoded data removed]",
      "text/plain": [
       "<Figure size 640x480 with 1 Axes>"
      ]
     },
     "metadata": {},
     "output_type": "display_data"
    }
   ],
   "source": [
    "plot_results(all_training_accuracies_frozen, all_validation_accuracies_frozen, 'Accuracy', 'Trainning and Validation Accuracies for each fold')"
   ]
  },
  {
   "cell_type": "code",
   "execution_count": null,
   "id": "15d9e7ef",
   "metadata": {},
   "outputs": [],
   "source": []
  },
  {
   "cell_type": "markdown",
   "id": "940eb385",
   "metadata": {},
   "source": [
    "Guardamos el modelo para posteriormente hacer un entrenamiento en el que tengamos la última capa del mismo descongelado"
   ]
  },
  {
   "cell_type": "code",
   "execution_count": 32,
   "id": "ded34102",
   "metadata": {},
   "outputs": [],
   "source": [
    "model_frozen.base_model.save_pretrained(SAVE_DIRECTORY_FROZEN)"
   ]
  },
  {
   "cell_type": "code",
   "execution_count": 33,
   "id": "6dbf3836",
   "metadata": {},
   "outputs": [],
   "source": [
    "classifier_state_dict_path = os.path.join(SAVE_DIRECTORY_FROZEN, \"classifier_state_dict.pt\")\n",
    "torch.save(model_frozen.classifier.state_dict(), classifier_state_dict_path)"
   ]
  },
  {
   "cell_type": "markdown",
   "id": "a512e91d",
   "metadata": {},
   "source": [
    "Comprobamos los datos con el dataset de test para verificar divergencias"
   ]
  },
  {
   "cell_type": "code",
   "execution_count": 34,
   "id": "97fd3c57",
   "metadata": {},
   "outputs": [],
   "source": [
    "test_dataloader = create_dataloader(torch.tensor(test_inputs), torch.tensor(test_masks), torch.tensor(test_labels),\n",
    "                                        BATCH_SIZE, device)"
   ]
  },
  {
   "cell_type": "code",
   "execution_count": 36,
   "id": "9cca716f",
   "metadata": {},
   "outputs": [
    {
     "name": "stdout",
     "output_type": "stream",
     "text": [
      "Average test loss: 1.88, Average test accuracy: 0.42\n"
     ]
    }
   ],
   "source": [
    "test_losses_frozen, test_accuracy_frozen, _, _ = test_model(model_frozen, test_dataloader, LOSS_FUNCTION)"
   ]
  },
  {
   "cell_type": "markdown",
   "id": "0e17ac83",
   "metadata": {},
   "source": [
    "## Ahora realizamos el entrenamiento descongelando etapas del modelo RoBERTa "
   ]
  },
  {
   "cell_type": "code",
   "execution_count": 11,
   "id": "3934344e",
   "metadata": {},
   "outputs": [],
   "source": [
    "EPOCHS_KFOLD_UNFROZEN = 5\n",
    "LEARNING_RATE_KFOLD_UNFROZEN = 5e-5\n",
    "K_FOLDS_UNFROZEN = 5\n",
    "LAYERS_TO_UNFREEZE = -1"
   ]
  },
  {
   "cell_type": "code",
   "execution_count": 12,
   "id": "8cb2c101",
   "metadata": {},
   "outputs": [
    {
     "name": "stderr",
     "output_type": "stream",
     "text": [
      "Some weights of RobertaModel were not initialized from the model checkpoint at roberta-base and are newly initialized: ['roberta.pooler.dense.weight', 'roberta.pooler.dense.bias']\n",
      "You should probably TRAIN this model on a down-stream task to be able to use it for predictions and inference.\n"
     ]
    }
   ],
   "source": [
    "classifier_state_dict_path = os.path.join(SAVE_DIRECTORY_FROZEN, \"classifier_state_dict.pt\")\n",
    "classifier_state_dict = torch.load(classifier_state_dict_path)\n",
    "\n",
    "base_model = RobertaModel.from_pretrained(\"roberta-base\")\n",
    "for param in base_model.encoder.layer[:LAYERS_TO_UNFREEZE].parameters():\n",
    "    param.requires_grad = True"
   ]
  },
  {
   "cell_type": "code",
   "execution_count": null,
   "id": "18812a8c",
   "metadata": {},
   "outputs": [
    {
     "name": "stdout",
     "output_type": "stream",
     "text": [
      "Fold 1\n",
      "Training epoch 1\n"
     ]
    },
    {
     "name": "stderr",
     "output_type": "stream",
     "text": [
      "\r",
      "Iteration:   0%|                                                                                    | 0/301 [00:00<?, ?it/s]"
     ]
    }
   ],
   "source": [
    "unfrozen_model = CustomRoBERTa(base_model.to(device), num_classes=len(set(df['Emotion'])))\n",
    "# Load the frozen classifier state dict into the unfrozen model\n",
    "unfrozen_model.classifier.load_state_dict(classifier_state_dict)\n",
    "# Set the optimizer and scheduler\n",
    "optimizer = torch.optim.AdamW(unfrozen_model.parameters(), lr=LEARNING_RATE_KFOLD_UNFROZEN)\n",
    "total_steps = len(train_inputs) * EPOCHS_KFOLD_UNFROZEN\n",
    "scheduler = get_linear_schedule_with_warmup(optimizer, num_warmup_steps=0.1 * total_steps,\n",
    "                                            num_training_steps=total_steps)\n",
    "\n",
    "compiled_model = torch.compile(unfrozen_model)\n",
    "# Perform k-fold cross-validation on the unfrozen model\n",
    "kfold_results_unfrozen, model_unfrozen_last_layer = kfold_cross_validation(train_inputs, train_labels, train_masks,\n",
    "                                                                           compiled_model, device,\n",
    "                                                                           EPOCHS_KFOLD_UNFROZEN,\n",
    "                                                                           lr=LEARNING_RATE_KFOLD_UNFROZEN,\n",
    "                                                                           k_folds=K_FOLDS_UNFROZEN,\n",
    "                                                                           batch_size=BATCH_SIZE,\n",
    "                                                                           patience=2)\n",
    "\n",
    "# Clear unused objects and free up memory\n",
    "del unfrozen_model\n",
    "torch.cuda.empty_cache()"
   ]
  },
  {
   "cell_type": "code",
   "execution_count": 16,
   "id": "692b7e07",
   "metadata": {},
   "outputs": [],
   "source": [
    "model_unfrozen_last_layer.base_model.save_pretrained(SAVE_DIRECTORY_UNFROZEN)\n",
    "classifier_state_dict_path = os.path.join(SAVE_DIRECTORY_UNFROZEN, \"classifier_state_dict.pt\")\n",
    "torch.save(model_unfrozen_last_layer.classifier.state_dict(), classifier_state_dict_path)"
   ]
  },
  {
   "cell_type": "markdown",
   "id": "a8729ac5",
   "metadata": {},
   "source": [
    "### Generación de la matriz de confusión, primero cargamos el modelo necesario vram muy ocupada "
   ]
  },
  {
   "cell_type": "code",
   "execution_count": 11,
   "id": "1beb2149",
   "metadata": {},
   "outputs": [
    {
     "name": "stderr",
     "output_type": "stream",
     "text": [
      "Some weights of RobertaModel were not initialized from the model checkpoint at roberta-base and are newly initialized: ['roberta.pooler.dense.weight', 'roberta.pooler.dense.bias']\n",
      "You should probably TRAIN this model on a down-stream task to be able to use it for predictions and inference.\n"
     ]
    }
   ],
   "source": [
    "classifier_state_dict_path = os.path.join(SAVE_DIRECTORY_UNFROZEN, \"classifier_state_dict.pt\")\n",
    "classifier_state_dict = torch.load(classifier_state_dict_path)\n",
    "\n",
    "base_model = RobertaModel.from_pretrained(\"roberta-base\")\n",
    "\n",
    "model_unfrozen_last_layer = CustomRoBERTa(base_model.to(device), num_classes=len(set(df['Emotion'])))\n",
    "# Load the frozen classifier state dict into the unfrozen model\n",
    "model_unfrozen_last_layer.classifier.load_state_dict(classifier_state_dict)\n",
    "\n",
    "\n",
    "model_unfrozen_last_layer = model_unfrozen_last_layer.to(device)\n",
    "model_unfrozen_last_layer = torch.compile(model_unfrozen_last_layer)\n"
   ]
  },
  {
   "cell_type": "code",
   "execution_count": 89,
   "id": "528644ad",
   "metadata": {},
   "outputs": [
    {
     "name": "stdout",
     "output_type": "stream",
     "text": [
      "[[ 62  23  18  25  18  41  29]\n",
      " [ 32  87  21  10  16  33  14]\n",
      " [  4  17 125   3  31  34   1]\n",
      " [ 23  11  14  64  21  41  36]\n",
      " [ 14   9  14  12 141  25   4]\n",
      " [ 12   7  17  27  33 114   7]\n",
      " [ 25  23  18  38  42  22  46]]\n"
     ]
    }
   ],
   "source": [
    "from torch.utils.data import TensorDataset, DataLoader\n",
    "\n",
    "# Define el tamaño del batch\n",
    "batch_size = 16\n",
    "\n",
    "# Crea un DataLoader para el conjunto de prueba\n",
    "test_dataloader = create_dataloader(torch.tensor(test_inputs), torch.tensor(test_masks), torch.tensor(test_labels),\n",
    "                                        BATCH_SIZE, device)\n",
    "# Haz predicciones en mini-batches\n",
    "preds = []\n",
    "true_labels = []\n",
    "model_unfrozen_last_layer.eval()\n",
    "for batch in test_dataloader:\n",
    "    b_input_ids, b_input_mask, b_labels = batch\n",
    "\n",
    "    # Mueve los tensores al dispositivo correcto\n",
    "    b_input_ids = b_input_ids\n",
    "    b_input_mask = b_input_mask\n",
    "    b_labels = b_labels\n",
    "\n",
    "    with torch.no_grad():\n",
    "        outputs = model_unfrozen_last_layer(b_input_ids, b_input_mask)\n",
    "        logits = outputs.logits\n",
    "        \n",
    "        _, batch_preds = torch.max(logits, dim=1)\n",
    "\n",
    "    \n",
    "    preds.extend(batch_preds.cpu().numpy())\n",
    "    true_labels.extend(b_labels.cpu().numpy())\n",
    "\n",
    "    \n",
    "    \n",
    "\n",
    "# Obtén las categorías de tu objeto OneHotEncoder\n",
    "categories = one_hot_encoder.categories_[0]\n",
    "\n",
    "# Utiliza estas categorías para decodificar tus predicciones\n",
    "preds_labels = categories[preds].reshape(-1,1)\n",
    "\n",
    "true_labels = one_hot_encoder.inverse_transform(true_labels)\n",
    "\n",
    "conf_matrix = confusion_matrix(true_labels, preds_labels\n",
    ")\n",
    "\n",
    "print(conf_matrix)"
   ]
  },
  {
   "cell_type": "code",
   "execution_count": 90,
   "id": "1369d989",
   "metadata": {},
   "outputs": [
    {
     "data": {
      "image/png": "[encoded data removed]",
      "text/plain": [
       "<Figure size 1000x800 with 2 Axes>"
      ]
     },
     "metadata": {},
     "output_type": "display_data"
    }
   ],
   "source": [
    "import seaborn as sns\n",
    "import matplotlib.pyplot as plt\n",
    "import pandas as pd\n",
    "\n",
    "# Crear el dataframe para seaborn.\n",
    "confusion_df = pd.DataFrame(conf_matrix, index=categories, columns=categories)\n",
    "\n",
    "plt.figure(figsize=(10,8))\n",
    "sns.heatmap(confusion_df, annot=True, fmt='d', cmap='Blues')\n",
    "plt.xlabel('Predicted Label')\n",
    "plt.ylabel('True Label')\n",
    "plt.title('Confusion Matrix')\n",
    "plt.show()\n"
   ]
  },
  {
   "cell_type": "code",
   "execution_count": 94,
   "id": "95a48d83",
   "metadata": {},
   "outputs": [],
   "source": [
    "def predict_emotion(sequence):\n",
    "    # Tokeniza la secuencia\n",
    "    inputs = tokenizer.encode_plus(\n",
    "        sequence,\n",
    "        add_special_tokens=True,\n",
    "        max_length=MAX_LEN,\n",
    "        return_token_type_ids=False,\n",
    "        pad_to_max_length=True,\n",
    "        return_attention_mask=True,\n",
    "        return_tensors='pt',\n",
    "    )\n",
    "\n",
    "    # Obtiene los tensores de entrada y máscara de atención\n",
    "    input_ids = inputs['input_ids'].to(device)\n",
    "    attention_mask = inputs['attention_mask'].to(device)\n",
    "\n",
    "    # Evalúa la secuencia con el modelo\n",
    "    with torch.no_grad():\n",
    "        outputs = model_unfrozen_last_layer(input_ids, attention_mask)\n",
    "        logits = outputs.logits\n",
    "        _, preds = torch.max(logits, dim=1)\n",
    "\n",
    "    # Decodifica las predicciones\n",
    "    preds_labels = np.array(categories[preds]).reshape(-1,1)\n",
    "\n",
    "    return preds_labels[0][0]\n"
   ]
  },
  {
   "cell_type": "code",
   "execution_count": 108,
   "id": "c9101ed3",
   "metadata": {},
   "outputs": [
    {
     "name": "stdout",
     "output_type": "stream",
     "text": [
      "The predicted emotion for \"\" is sadness.\n"
     ]
    }
   ],
   "source": [
    "sequence = \"\"\n",
    "emotion = predict_emotion(sequence)\n",
    "print(f'The predicted emotion for \"{sequence}\" is {emotion}.')\n"
   ]
  }
 ],
 "metadata": {
  "kernelspec": {
   "display_name": "Python 3 (ipykernel)",
   "language": "python",
   "name": "python3"
  },
  "language_info": {
   "codemirror_mode": {
    "name": "ipython",
    "version": 3
   },
   "file_extension": ".py",
   "mimetype": "text/x-python",
   "name": "python",
   "nbconvert_exporter": "python",
   "pygments_lexer": "ipython3",
   "version": "3.8.10"
  },
  "toc": {
   "base_numbering": 1,
   "nav_menu": {},
   "number_sections": true,
   "sideBar": true,
   "skip_h1_title": false,
   "title_cell": "Table of Contents",
   "title_sidebar": "Contents",
   "toc_cell": false,
   "toc_position": {
    "height": "calc(100% - 180px)",
    "left": "10px",
    "top": "150px",
    "width": "327.161px"
   },
   "toc_section_display": true,
   "toc_window_display": false
  }
 },
 "nbformat": 4,
 "nbformat_minor": 5
}
